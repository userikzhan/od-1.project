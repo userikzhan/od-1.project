{
 "cells": [
  {
   "cell_type": "markdown",
   "metadata": {},
   "source": [
    "# 6. Практика 1"
   ]
  },
  {
   "cell_type": "markdown",
   "metadata": {},
   "source": [
    "## РАЗБИРАЕМ ПРАКТИЧЕСКИЙ ПРИМЕР RFM-АНАЛИЗА\n",
    "\n",
    "Как проводить RFM-анализ, мы будем с вами разбирать сразу на практическом примере. \n",
    "\n",
    "Скачайте таблицу data.csv. >>> https://lms.skillfactory.ru/assets/courseware/v1/971a674c1d7b550ec5d82b4e98eb93b5/asset-v1:SkillFactory+DAPR-PA+14FEB2020+type@asset+block/data.csv\n",
    "\n",
    "Один из самых удобных способов работы с такими данными — создание скриптов для Python.\n",
    "\n",
    "Удобство заключается ещё и в том, что алгоритм для различных данных будет похож, поэтому даже если вы не очень сильны в Python, вы сможете осуществить такую работу.\n",
    "\n",
    "### 1 Загружаем данные.\n",
    "\n",
    "Первое, что нужно сделать — это загрузить данные, чтобы увидеть, на основании чего мы можем сделать градацию каждого признака.\n",
    "\n",
    "1. Открываем Anaconda, заходим в Jupyter.\n",
    "2. Добавляем скачанную таблицу в папку для анализа.\n",
    "3. Создаем файл python.\n",
    "4. Подключаем модуль, который позволит работать с данными, — это pandas. Импортируем данные, формируем датафрейм, с которым дальше можно продолжать работу."
   ]
  },
  {
   "cell_type": "code",
   "execution_count": 1,
   "metadata": {},
   "outputs": [
    {
     "data": {
      "text/html": [
       "<div>\n",
       "<style scoped>\n",
       "    .dataframe tbody tr th:only-of-type {\n",
       "        vertical-align: middle;\n",
       "    }\n",
       "\n",
       "    .dataframe tbody tr th {\n",
       "        vertical-align: top;\n",
       "    }\n",
       "\n",
       "    .dataframe thead th {\n",
       "        text-align: right;\n",
       "    }\n",
       "</style>\n",
       "<table border=\"1\" class=\"dataframe\">\n",
       "  <thead>\n",
       "    <tr style=\"text-align: right;\">\n",
       "      <th></th>\n",
       "      <th>order_date</th>\n",
       "      <th>order_id</th>\n",
       "      <th>customer</th>\n",
       "      <th>grand_total</th>\n",
       "    </tr>\n",
       "  </thead>\n",
       "  <tbody>\n",
       "    <tr>\n",
       "      <th>0</th>\n",
       "      <td>9/7/11</td>\n",
       "      <td>CA-2011-100006</td>\n",
       "      <td>Dennis Kane</td>\n",
       "      <td>378</td>\n",
       "    </tr>\n",
       "    <tr>\n",
       "      <th>1</th>\n",
       "      <td>7/8/11</td>\n",
       "      <td>CA-2011-100090</td>\n",
       "      <td>Ed Braxton</td>\n",
       "      <td>699</td>\n",
       "    </tr>\n",
       "    <tr>\n",
       "      <th>2</th>\n",
       "      <td>3/14/11</td>\n",
       "      <td>CA-2011-100293</td>\n",
       "      <td>Neil Franz�sisch</td>\n",
       "      <td>91</td>\n",
       "    </tr>\n",
       "    <tr>\n",
       "      <th>3</th>\n",
       "      <td>1/29/11</td>\n",
       "      <td>CA-2011-100328</td>\n",
       "      <td>Jasper Cacioppo</td>\n",
       "      <td>4</td>\n",
       "    </tr>\n",
       "    <tr>\n",
       "      <th>4</th>\n",
       "      <td>4/8/11</td>\n",
       "      <td>CA-2011-100363</td>\n",
       "      <td>Jim Mitchum</td>\n",
       "      <td>21</td>\n",
       "    </tr>\n",
       "    <tr>\n",
       "      <th>...</th>\n",
       "      <td>...</td>\n",
       "      <td>...</td>\n",
       "      <td>...</td>\n",
       "      <td>...</td>\n",
       "    </tr>\n",
       "    <tr>\n",
       "      <th>5004</th>\n",
       "      <td>11/4/14</td>\n",
       "      <td>US-2014-168802</td>\n",
       "      <td>Jack O'Briant</td>\n",
       "      <td>18</td>\n",
       "    </tr>\n",
       "    <tr>\n",
       "      <th>5005</th>\n",
       "      <td>7/24/14</td>\n",
       "      <td>US-2014-169320</td>\n",
       "      <td>Lena Hernandez</td>\n",
       "      <td>171</td>\n",
       "    </tr>\n",
       "    <tr>\n",
       "      <th>5006</th>\n",
       "      <td>9/8/14</td>\n",
       "      <td>US-2014-169488</td>\n",
       "      <td>Allen Armold</td>\n",
       "      <td>57</td>\n",
       "    </tr>\n",
       "    <tr>\n",
       "      <th>5007</th>\n",
       "      <td>8/29/14</td>\n",
       "      <td>US-2014-169502</td>\n",
       "      <td>Matthew Grinstein</td>\n",
       "      <td>113</td>\n",
       "    </tr>\n",
       "    <tr>\n",
       "      <th>5008</th>\n",
       "      <td>7/8/14</td>\n",
       "      <td>US-2014-169551</td>\n",
       "      <td>Rob Lucas</td>\n",
       "      <td>1345</td>\n",
       "    </tr>\n",
       "  </tbody>\n",
       "</table>\n",
       "<p>5009 rows × 4 columns</p>\n",
       "</div>"
      ],
      "text/plain": [
       "     order_date        order_id           customer  grand_total\n",
       "0        9/7/11  CA-2011-100006        Dennis Kane          378\n",
       "1        7/8/11  CA-2011-100090         Ed Braxton          699\n",
       "2       3/14/11  CA-2011-100293   Neil Franz�sisch           91\n",
       "3       1/29/11  CA-2011-100328    Jasper Cacioppo            4\n",
       "4        4/8/11  CA-2011-100363        Jim Mitchum           21\n",
       "...         ...             ...                ...          ...\n",
       "5004    11/4/14  US-2014-168802      Jack O'Briant           18\n",
       "5005    7/24/14  US-2014-169320     Lena Hernandez          171\n",
       "5006     9/8/14  US-2014-169488       Allen Armold           57\n",
       "5007    8/29/14  US-2014-169502  Matthew Grinstein          113\n",
       "5008     7/8/14  US-2014-169551          Rob Lucas         1345\n",
       "\n",
       "[5009 rows x 4 columns]"
      ]
     },
     "execution_count": 1,
     "metadata": {},
     "output_type": "execute_result"
    }
   ],
   "source": [
    "import pandas as pd\n",
    "\n",
    "orders = pd.read_csv('data.csv', sep=',')\n",
    "orders"
   ]
  },
  {
   "cell_type": "markdown",
   "metadata": {},
   "source": [
    "5. Выведем таблицы данных."
   ]
  },
  {
   "cell_type": "code",
   "execution_count": 2,
   "metadata": {},
   "outputs": [
    {
     "data": {
      "text/html": [
       "<div>\n",
       "<style scoped>\n",
       "    .dataframe tbody tr th:only-of-type {\n",
       "        vertical-align: middle;\n",
       "    }\n",
       "\n",
       "    .dataframe tbody tr th {\n",
       "        vertical-align: top;\n",
       "    }\n",
       "\n",
       "    .dataframe thead th {\n",
       "        text-align: right;\n",
       "    }\n",
       "</style>\n",
       "<table border=\"1\" class=\"dataframe\">\n",
       "  <thead>\n",
       "    <tr style=\"text-align: right;\">\n",
       "      <th></th>\n",
       "      <th>order_date</th>\n",
       "      <th>order_id</th>\n",
       "      <th>customer</th>\n",
       "      <th>grand_total</th>\n",
       "    </tr>\n",
       "  </thead>\n",
       "  <tbody>\n",
       "    <tr>\n",
       "      <th>0</th>\n",
       "      <td>9/7/11</td>\n",
       "      <td>CA-2011-100006</td>\n",
       "      <td>Dennis Kane</td>\n",
       "      <td>378</td>\n",
       "    </tr>\n",
       "    <tr>\n",
       "      <th>1</th>\n",
       "      <td>7/8/11</td>\n",
       "      <td>CA-2011-100090</td>\n",
       "      <td>Ed Braxton</td>\n",
       "      <td>699</td>\n",
       "    </tr>\n",
       "    <tr>\n",
       "      <th>2</th>\n",
       "      <td>3/14/11</td>\n",
       "      <td>CA-2011-100293</td>\n",
       "      <td>Neil Franz�sisch</td>\n",
       "      <td>91</td>\n",
       "    </tr>\n",
       "    <tr>\n",
       "      <th>3</th>\n",
       "      <td>1/29/11</td>\n",
       "      <td>CA-2011-100328</td>\n",
       "      <td>Jasper Cacioppo</td>\n",
       "      <td>4</td>\n",
       "    </tr>\n",
       "    <tr>\n",
       "      <th>4</th>\n",
       "      <td>4/8/11</td>\n",
       "      <td>CA-2011-100363</td>\n",
       "      <td>Jim Mitchum</td>\n",
       "      <td>21</td>\n",
       "    </tr>\n",
       "  </tbody>\n",
       "</table>\n",
       "</div>"
      ],
      "text/plain": [
       "  order_date        order_id          customer  grand_total\n",
       "0     9/7/11  CA-2011-100006       Dennis Kane          378\n",
       "1     7/8/11  CA-2011-100090        Ed Braxton          699\n",
       "2    3/14/11  CA-2011-100293  Neil Franz�sisch           91\n",
       "3    1/29/11  CA-2011-100328   Jasper Cacioppo            4\n",
       "4     4/8/11  CA-2011-100363       Jim Mitchum           21"
      ]
     },
     "execution_count": 2,
     "metadata": {},
     "output_type": "execute_result"
    }
   ],
   "source": [
    "orders.head()"
   ]
  },
  {
   "cell_type": "code",
   "execution_count": 3,
   "metadata": {},
   "outputs": [
    {
     "name": "stdout",
     "output_type": "stream",
     "text": [
      "<class 'pandas.core.frame.DataFrame'>\n",
      "RangeIndex: 5009 entries, 0 to 5008\n",
      "Data columns (total 4 columns):\n",
      " #   Column       Non-Null Count  Dtype \n",
      "---  ------       --------------  ----- \n",
      " 0   order_date   5009 non-null   object\n",
      " 1   order_id     5009 non-null   object\n",
      " 2   customer     5009 non-null   object\n",
      " 3   grand_total  5009 non-null   int64 \n",
      "dtypes: int64(1), object(3)\n",
      "memory usage: 156.7+ KB\n"
     ]
    }
   ],
   "source": [
    "orders.info()"
   ]
  },
  {
   "cell_type": "markdown",
   "metadata": {},
   "source": [
    "6. Приведём данные к тому формату, с которым можно работать."
   ]
  },
  {
   "cell_type": "code",
   "execution_count": 4,
   "metadata": {},
   "outputs": [],
   "source": [
    "orders['order_date'] = pd.to_datetime(orders['order_date'])\n",
    "orders['customer'] = orders['customer'].apply(str)"
   ]
  },
  {
   "cell_type": "code",
   "execution_count": 5,
   "metadata": {},
   "outputs": [
    {
     "data": {
      "text/html": [
       "<div>\n",
       "<style scoped>\n",
       "    .dataframe tbody tr th:only-of-type {\n",
       "        vertical-align: middle;\n",
       "    }\n",
       "\n",
       "    .dataframe tbody tr th {\n",
       "        vertical-align: top;\n",
       "    }\n",
       "\n",
       "    .dataframe thead th {\n",
       "        text-align: right;\n",
       "    }\n",
       "</style>\n",
       "<table border=\"1\" class=\"dataframe\">\n",
       "  <thead>\n",
       "    <tr style=\"text-align: right;\">\n",
       "      <th></th>\n",
       "      <th>order_date</th>\n",
       "      <th>order_id</th>\n",
       "      <th>customer</th>\n",
       "      <th>grand_total</th>\n",
       "    </tr>\n",
       "  </thead>\n",
       "  <tbody>\n",
       "    <tr>\n",
       "      <th>0</th>\n",
       "      <td>2011-09-07</td>\n",
       "      <td>CA-2011-100006</td>\n",
       "      <td>Dennis Kane</td>\n",
       "      <td>378</td>\n",
       "    </tr>\n",
       "    <tr>\n",
       "      <th>1</th>\n",
       "      <td>2011-07-08</td>\n",
       "      <td>CA-2011-100090</td>\n",
       "      <td>Ed Braxton</td>\n",
       "      <td>699</td>\n",
       "    </tr>\n",
       "    <tr>\n",
       "      <th>2</th>\n",
       "      <td>2011-03-14</td>\n",
       "      <td>CA-2011-100293</td>\n",
       "      <td>Neil Franz�sisch</td>\n",
       "      <td>91</td>\n",
       "    </tr>\n",
       "    <tr>\n",
       "      <th>3</th>\n",
       "      <td>2011-01-29</td>\n",
       "      <td>CA-2011-100328</td>\n",
       "      <td>Jasper Cacioppo</td>\n",
       "      <td>4</td>\n",
       "    </tr>\n",
       "    <tr>\n",
       "      <th>4</th>\n",
       "      <td>2011-04-08</td>\n",
       "      <td>CA-2011-100363</td>\n",
       "      <td>Jim Mitchum</td>\n",
       "      <td>21</td>\n",
       "    </tr>\n",
       "  </tbody>\n",
       "</table>\n",
       "</div>"
      ],
      "text/plain": [
       "  order_date        order_id          customer  grand_total\n",
       "0 2011-09-07  CA-2011-100006       Dennis Kane          378\n",
       "1 2011-07-08  CA-2011-100090        Ed Braxton          699\n",
       "2 2011-03-14  CA-2011-100293  Neil Franz�sisch           91\n",
       "3 2011-01-29  CA-2011-100328   Jasper Cacioppo            4\n",
       "4 2011-04-08  CA-2011-100363       Jim Mitchum           21"
      ]
     },
     "execution_count": 5,
     "metadata": {},
     "output_type": "execute_result"
    }
   ],
   "source": [
    "orders.head()"
   ]
  },
  {
   "cell_type": "code",
   "execution_count": 6,
   "metadata": {},
   "outputs": [
    {
     "name": "stdout",
     "output_type": "stream",
     "text": [
      "<class 'pandas.core.frame.DataFrame'>\n",
      "RangeIndex: 5009 entries, 0 to 5008\n",
      "Data columns (total 4 columns):\n",
      " #   Column       Non-Null Count  Dtype         \n",
      "---  ------       --------------  -----         \n",
      " 0   order_date   5009 non-null   datetime64[ns]\n",
      " 1   order_id     5009 non-null   object        \n",
      " 2   customer     5009 non-null   object        \n",
      " 3   grand_total  5009 non-null   int64         \n",
      "dtypes: datetime64[ns](1), int64(1), object(2)\n",
      "memory usage: 156.7+ KB\n"
     ]
    }
   ],
   "source": [
    "orders.info()"
   ]
  },
  {
   "cell_type": "code",
   "execution_count": 7,
   "metadata": {},
   "outputs": [
    {
     "data": {
      "text/plain": [
       "order_date     0\n",
       "order_id       0\n",
       "customer       0\n",
       "grand_total    0\n",
       "dtype: int64"
      ]
     },
     "execution_count": 7,
     "metadata": {},
     "output_type": "execute_result"
    }
   ],
   "source": [
    "# Проверим, есть ли пустые поля\n",
    "orders.isna().sum()"
   ]
  },
  {
   "cell_type": "markdown",
   "metadata": {},
   "source": [
    "7. Найдём самую позднюю покупку."
   ]
  },
  {
   "cell_type": "code",
   "execution_count": 8,
   "metadata": {},
   "outputs": [
    {
     "data": {
      "text/plain": [
       "order_date     2014-12-31 00:00:00\n",
       "order_id            US-2014-169551\n",
       "customer        Zuschuss Donatelli\n",
       "grand_total                  23661\n",
       "dtype: object"
      ]
     },
     "execution_count": 8,
     "metadata": {},
     "output_type": "execute_result"
    }
   ],
   "source": [
    "orders.max()"
   ]
  },
  {
   "cell_type": "markdown",
   "metadata": {},
   "source": [
    "### 2 Создаём таблицу RFM. \n",
    "\n",
    "Новизна вычисляется для определённого момента времени, а дата последнего заказа набора данных Tableau SuperStore — 31 декабря 2014 года. Именно эту дату мы будем использовать для расчёта новизны. Установите эту дату на текущий день и извлеките все заказы до вчерашнего дня."
   ]
  },
  {
   "cell_type": "code",
   "execution_count": 9,
   "metadata": {},
   "outputs": [
    {
     "data": {
      "text/plain": [
       "datetime.datetime(2014, 12, 31, 0, 0)"
      ]
     },
     "execution_count": 9,
     "metadata": {},
     "output_type": "execute_result"
    }
   ],
   "source": [
    "import datetime as dt\n",
    "last_date = dt.datetime(2014,12,31)\n",
    "last_date"
   ]
  },
  {
   "cell_type": "markdown",
   "metadata": {},
   "source": [
    "Чтобы создать таблицу, нам нужно проанализировать данные и сгруппировать их. Dataframe имеет метод .groupby(), который группирует данные по одному или нескольким столбцам.\n",
    "\n",
    "##### Агрегация — это процесс превращения значений набора данных в одно значение.\n",
    "\n",
    "Нам нужно найти все данные по каждому клиенту и их преобразовать особым образом, чтобы подсчитать три показателя RFM-анализа."
   ]
  },
  {
   "cell_type": "code",
   "execution_count": 10,
   "metadata": {},
   "outputs": [
    {
     "data": {
      "text/html": [
       "<div>\n",
       "<style scoped>\n",
       "    .dataframe tbody tr th:only-of-type {\n",
       "        vertical-align: middle;\n",
       "    }\n",
       "\n",
       "    .dataframe tbody tr th {\n",
       "        vertical-align: top;\n",
       "    }\n",
       "\n",
       "    .dataframe thead th {\n",
       "        text-align: right;\n",
       "    }\n",
       "</style>\n",
       "<table border=\"1\" class=\"dataframe\">\n",
       "  <thead>\n",
       "    <tr style=\"text-align: right;\">\n",
       "      <th></th>\n",
       "      <th>order_date</th>\n",
       "      <th>order_id</th>\n",
       "      <th>grand_total</th>\n",
       "    </tr>\n",
       "    <tr>\n",
       "      <th>customer</th>\n",
       "      <th></th>\n",
       "      <th></th>\n",
       "      <th></th>\n",
       "    </tr>\n",
       "  </thead>\n",
       "  <tbody>\n",
       "    <tr>\n",
       "      <th>Aaron Bergman</th>\n",
       "      <td>415</td>\n",
       "      <td>3</td>\n",
       "      <td>887</td>\n",
       "    </tr>\n",
       "    <tr>\n",
       "      <th>Aaron Hawkins</th>\n",
       "      <td>12</td>\n",
       "      <td>7</td>\n",
       "      <td>1744</td>\n",
       "    </tr>\n",
       "    <tr>\n",
       "      <th>Aaron Smayling</th>\n",
       "      <td>88</td>\n",
       "      <td>7</td>\n",
       "      <td>3050</td>\n",
       "    </tr>\n",
       "    <tr>\n",
       "      <th>Adam Bellavance</th>\n",
       "      <td>54</td>\n",
       "      <td>8</td>\n",
       "      <td>7756</td>\n",
       "    </tr>\n",
       "    <tr>\n",
       "      <th>Adam Hart</th>\n",
       "      <td>34</td>\n",
       "      <td>10</td>\n",
       "      <td>3249</td>\n",
       "    </tr>\n",
       "    <tr>\n",
       "      <th>...</th>\n",
       "      <td>...</td>\n",
       "      <td>...</td>\n",
       "      <td>...</td>\n",
       "    </tr>\n",
       "    <tr>\n",
       "      <th>Xylona Preis</th>\n",
       "      <td>43</td>\n",
       "      <td>11</td>\n",
       "      <td>2375</td>\n",
       "    </tr>\n",
       "    <tr>\n",
       "      <th>Yana Sorensen</th>\n",
       "      <td>9</td>\n",
       "      <td>8</td>\n",
       "      <td>6721</td>\n",
       "    </tr>\n",
       "    <tr>\n",
       "      <th>Yoseph Carroll</th>\n",
       "      <td>4</td>\n",
       "      <td>5</td>\n",
       "      <td>5455</td>\n",
       "    </tr>\n",
       "    <tr>\n",
       "      <th>Zuschuss Carroll</th>\n",
       "      <td>54</td>\n",
       "      <td>13</td>\n",
       "      <td>8027</td>\n",
       "    </tr>\n",
       "    <tr>\n",
       "      <th>Zuschuss Donatelli</th>\n",
       "      <td>202</td>\n",
       "      <td>5</td>\n",
       "      <td>1494</td>\n",
       "    </tr>\n",
       "  </tbody>\n",
       "</table>\n",
       "<p>793 rows × 3 columns</p>\n",
       "</div>"
      ],
      "text/plain": [
       "                    order_date  order_id  grand_total\n",
       "customer                                             \n",
       "Aaron Bergman              415         3          887\n",
       "Aaron Hawkins               12         7         1744\n",
       "Aaron Smayling              88         7         3050\n",
       "Adam Bellavance             54         8         7756\n",
       "Adam Hart                   34        10         3249\n",
       "...                        ...       ...          ...\n",
       "Xylona Preis                43        11         2375\n",
       "Yana Sorensen                9         8         6721\n",
       "Yoseph Carroll               4         5         5455\n",
       "Zuschuss Carroll            54        13         8027\n",
       "Zuschuss Donatelli         202         5         1494\n",
       "\n",
       "[793 rows x 3 columns]"
      ]
     },
     "execution_count": 10,
     "metadata": {},
     "output_type": "execute_result"
    }
   ],
   "source": [
    "rfmTable = orders.groupby('customer').agg({'order_date': lambda x: (last_date - x.max()).days, \n",
    "                                           # Recency #Количество дней с последнего заказа\n",
    "                                           'order_id': lambda x: len(x), # Frequency #Количество заказов\n",
    "                                           'grand_total': lambda x: x.sum() # Monetary Value #Общая сумма по всем заказам\n",
    "                                          })\n",
    "rfmTable"
   ]
  },
  {
   "cell_type": "code",
   "execution_count": 11,
   "metadata": {},
   "outputs": [
    {
     "name": "stdout",
     "output_type": "stream",
     "text": [
      "<class 'pandas.core.frame.DataFrame'>\n",
      "Index: 793 entries, Aaron Bergman to Zuschuss Donatelli\n",
      "Data columns (total 3 columns):\n",
      " #   Column       Non-Null Count  Dtype\n",
      "---  ------       --------------  -----\n",
      " 0   order_date   793 non-null    int64\n",
      " 1   order_id     793 non-null    int64\n",
      " 2   grand_total  793 non-null    int64\n",
      "dtypes: int64(3)\n",
      "memory usage: 24.8+ KB\n"
     ]
    }
   ],
   "source": [
    "rfmTable.info()"
   ]
  },
  {
   "cell_type": "code",
   "execution_count": 12,
   "metadata": {},
   "outputs": [
    {
     "name": "stdout",
     "output_type": "stream",
     "text": [
      "<class 'pandas.core.frame.DataFrame'>\n",
      "Index: 793 entries, Aaron Bergman to Zuschuss Donatelli\n",
      "Data columns (total 3 columns):\n",
      " #   Column       Non-Null Count  Dtype\n",
      "---  ------       --------------  -----\n",
      " 0   order_date   793 non-null    int32\n",
      " 1   order_id     793 non-null    int64\n",
      " 2   grand_total  793 non-null    int64\n",
      "dtypes: int32(1), int64(2)\n",
      "memory usage: 21.7+ KB\n"
     ]
    }
   ],
   "source": [
    "rfmTable['order_date'] = rfmTable['order_date'].astype(int)\n",
    "rfmTable.info()"
   ]
  },
  {
   "cell_type": "code",
   "execution_count": 13,
   "metadata": {},
   "outputs": [
    {
     "data": {
      "text/html": [
       "<div>\n",
       "<style scoped>\n",
       "    .dataframe tbody tr th:only-of-type {\n",
       "        vertical-align: middle;\n",
       "    }\n",
       "\n",
       "    .dataframe tbody tr th {\n",
       "        vertical-align: top;\n",
       "    }\n",
       "\n",
       "    .dataframe thead th {\n",
       "        text-align: right;\n",
       "    }\n",
       "</style>\n",
       "<table border=\"1\" class=\"dataframe\">\n",
       "  <thead>\n",
       "    <tr style=\"text-align: right;\">\n",
       "      <th></th>\n",
       "      <th>recency</th>\n",
       "      <th>frequency</th>\n",
       "      <th>monetary_value</th>\n",
       "    </tr>\n",
       "    <tr>\n",
       "      <th>customer</th>\n",
       "      <th></th>\n",
       "      <th></th>\n",
       "      <th></th>\n",
       "    </tr>\n",
       "  </thead>\n",
       "  <tbody>\n",
       "    <tr>\n",
       "      <th>Aaron Bergman</th>\n",
       "      <td>415</td>\n",
       "      <td>3</td>\n",
       "      <td>887</td>\n",
       "    </tr>\n",
       "    <tr>\n",
       "      <th>Aaron Hawkins</th>\n",
       "      <td>12</td>\n",
       "      <td>7</td>\n",
       "      <td>1744</td>\n",
       "    </tr>\n",
       "    <tr>\n",
       "      <th>Aaron Smayling</th>\n",
       "      <td>88</td>\n",
       "      <td>7</td>\n",
       "      <td>3050</td>\n",
       "    </tr>\n",
       "    <tr>\n",
       "      <th>Adam Bellavance</th>\n",
       "      <td>54</td>\n",
       "      <td>8</td>\n",
       "      <td>7756</td>\n",
       "    </tr>\n",
       "    <tr>\n",
       "      <th>Adam Hart</th>\n",
       "      <td>34</td>\n",
       "      <td>10</td>\n",
       "      <td>3249</td>\n",
       "    </tr>\n",
       "    <tr>\n",
       "      <th>...</th>\n",
       "      <td>...</td>\n",
       "      <td>...</td>\n",
       "      <td>...</td>\n",
       "    </tr>\n",
       "    <tr>\n",
       "      <th>Xylona Preis</th>\n",
       "      <td>43</td>\n",
       "      <td>11</td>\n",
       "      <td>2375</td>\n",
       "    </tr>\n",
       "    <tr>\n",
       "      <th>Yana Sorensen</th>\n",
       "      <td>9</td>\n",
       "      <td>8</td>\n",
       "      <td>6721</td>\n",
       "    </tr>\n",
       "    <tr>\n",
       "      <th>Yoseph Carroll</th>\n",
       "      <td>4</td>\n",
       "      <td>5</td>\n",
       "      <td>5455</td>\n",
       "    </tr>\n",
       "    <tr>\n",
       "      <th>Zuschuss Carroll</th>\n",
       "      <td>54</td>\n",
       "      <td>13</td>\n",
       "      <td>8027</td>\n",
       "    </tr>\n",
       "    <tr>\n",
       "      <th>Zuschuss Donatelli</th>\n",
       "      <td>202</td>\n",
       "      <td>5</td>\n",
       "      <td>1494</td>\n",
       "    </tr>\n",
       "  </tbody>\n",
       "</table>\n",
       "<p>793 rows × 3 columns</p>\n",
       "</div>"
      ],
      "text/plain": [
       "                    recency  frequency  monetary_value\n",
       "customer                                              \n",
       "Aaron Bergman           415          3             887\n",
       "Aaron Hawkins            12          7            1744\n",
       "Aaron Smayling           88          7            3050\n",
       "Adam Bellavance          54          8            7756\n",
       "Adam Hart                34         10            3249\n",
       "...                     ...        ...             ...\n",
       "Xylona Preis             43         11            2375\n",
       "Yana Sorensen             9          8            6721\n",
       "Yoseph Carroll            4          5            5455\n",
       "Zuschuss Carroll         54         13            8027\n",
       "Zuschuss Donatelli      202          5            1494\n",
       "\n",
       "[793 rows x 3 columns]"
      ]
     },
     "execution_count": 13,
     "metadata": {},
     "output_type": "execute_result"
    }
   ],
   "source": [
    "rfmTable.rename(columns = {'order_date': 'recency',\n",
    "                           'order_id': 'frequency',\n",
    "                            'grand_total': 'monetary_value'}, inplace=True)\n",
    "rfmTable"
   ]
  },
  {
   "cell_type": "markdown",
   "metadata": {},
   "source": [
    "### 3 Теперь мы можем сделать разбивку по квантилям.\n",
    "\n",
    "Возьмём четыре параметра: \n",
    "\n",
    "* 0,25 0,5 0,75 и 1. \n",
    "\n",
    "В Python имеется встроенная функция, которая позволит выполнить эту задачу:"
   ]
  },
  {
   "cell_type": "code",
   "execution_count": 14,
   "metadata": {},
   "outputs": [
    {
     "data": {
      "text/html": [
       "<div>\n",
       "<style scoped>\n",
       "    .dataframe tbody tr th:only-of-type {\n",
       "        vertical-align: middle;\n",
       "    }\n",
       "\n",
       "    .dataframe tbody tr th {\n",
       "        vertical-align: top;\n",
       "    }\n",
       "\n",
       "    .dataframe thead th {\n",
       "        text-align: right;\n",
       "    }\n",
       "</style>\n",
       "<table border=\"1\" class=\"dataframe\">\n",
       "  <thead>\n",
       "    <tr style=\"text-align: right;\">\n",
       "      <th></th>\n",
       "      <th>recency</th>\n",
       "      <th>frequency</th>\n",
       "      <th>monetary_value</th>\n",
       "    </tr>\n",
       "  </thead>\n",
       "  <tbody>\n",
       "    <tr>\n",
       "      <th>0.25</th>\n",
       "      <td>30.0</td>\n",
       "      <td>5.0</td>\n",
       "      <td>1145.0</td>\n",
       "    </tr>\n",
       "    <tr>\n",
       "      <th>0.50</th>\n",
       "      <td>75.0</td>\n",
       "      <td>6.0</td>\n",
       "      <td>2257.0</td>\n",
       "    </tr>\n",
       "    <tr>\n",
       "      <th>0.75</th>\n",
       "      <td>183.0</td>\n",
       "      <td>8.0</td>\n",
       "      <td>3784.0</td>\n",
       "    </tr>\n",
       "  </tbody>\n",
       "</table>\n",
       "</div>"
      ],
      "text/plain": [
       "      recency  frequency  monetary_value\n",
       "0.25     30.0        5.0          1145.0\n",
       "0.50     75.0        6.0          2257.0\n",
       "0.75    183.0        8.0          3784.0"
      ]
     },
     "execution_count": 14,
     "metadata": {},
     "output_type": "execute_result"
    }
   ],
   "source": [
    "quantiles = rfmTable.quantile(q=[0.25,0.5,0.75])\n",
    "quantiles"
   ]
  },
  {
   "cell_type": "markdown",
   "metadata": {},
   "source": [
    "Чтобы нам было удобнее работать дальше с этими данными, их необходимо преобразовать в словарь.\n",
    "\n",
    "Теперь мы можем приступить к формированию таблицы сегментации:"
   ]
  },
  {
   "cell_type": "code",
   "execution_count": 15,
   "metadata": {},
   "outputs": [],
   "source": [
    "rfmSegmentation = rfmTable\n",
    "# rfmSegmentation"
   ]
  },
  {
   "cell_type": "markdown",
   "metadata": {},
   "source": [
    "Создадим вспомогательную таблицу, в которую и будем вносить все дальнейшие изменения.\n",
    "\n",
    "##### Здесь важно учесть, что показатель давности покупки будет лучше, если он меньше, поэтому создадим с вами две отдельные функции. Одна функция будет работать с показателем R, другая — с F и M."
   ]
  },
  {
   "cell_type": "code",
   "execution_count": 16,
   "metadata": {},
   "outputs": [],
   "source": [
    "# Arguments (x = value, p = recency, frequency, monetary_value, k (probably b! not k?) = quartiles dict)\n",
    "def RClass(x,p,d):\n",
    "    if x <= d[p][0.25]:\n",
    "        return 1\n",
    "    elif x <= d[p][0.5]:\n",
    "        return 2\n",
    "    elif x <= d[p][0.75]:\n",
    "        return 3\n",
    "    else:\n",
    "        return 4\n",
    "\n",
    "# Arguments (x = value, p = recency, frequency, monetary_value, k (probably b! not k?) = quartiles dict)\n",
    "def FMClass(x,p,d):\n",
    "    if x <= d[p][0.25]:\n",
    "        return 4\n",
    "    elif x <= d[p][0.5]:\n",
    "        return 3\n",
    "    elif x <= d[p][0.75]:\n",
    "        return 2\n",
    "    else:\n",
    "        return 1"
   ]
  },
  {
   "cell_type": "markdown",
   "metadata": {},
   "source": [
    "- Далее применим эти функции для нахождения значений по показателям у каждого покупателя:\n",
    "\n",
    "### - ментор курса использует слово \"Quartile\" (\"R_Quartile\"), я использую \"Quantile\", т.к. используем квантили\n",
    "\n",
    "rfmSegmentation['R_Quartile'] = rfmSegmentation['recency'].apply(RClass, args=('recency',quantiles,))\n",
    "\n",
    "rfmSegmentation['F_Quartile'] = rfmSegmentation['frequency'].apply(FMClass, args=('frequency',quantiles,))\n",
    "\n",
    "rfmSegmentation['M_Quartile'] = rfmSegmentation['monetary_value'].apply(FMClass, args=('monetary_value',quantiles,))"
   ]
  },
  {
   "cell_type": "code",
   "execution_count": 17,
   "metadata": {},
   "outputs": [
    {
     "data": {
      "text/plain": [
       "customer\n",
       "Aaron Bergman         415\n",
       "Aaron Hawkins          12\n",
       "Aaron Smayling         88\n",
       "Adam Bellavance        54\n",
       "Adam Hart              34\n",
       "                     ... \n",
       "Xylona Preis           43\n",
       "Yana Sorensen           9\n",
       "Yoseph Carroll          4\n",
       "Zuschuss Carroll       54\n",
       "Zuschuss Donatelli    202\n",
       "Name: R_Quantile, Length: 793, dtype: int32"
      ]
     },
     "execution_count": 17,
     "metadata": {},
     "output_type": "execute_result"
    }
   ],
   "source": [
    "rfmSegmentation['R_Quantile'] = rfmSegmentation['recency']\n",
    "rfmSegmentation['R_Quantile']"
   ]
  },
  {
   "cell_type": "code",
   "execution_count": 18,
   "metadata": {},
   "outputs": [
    {
     "data": {
      "text/plain": [
       "customer\n",
       "Aaron Bergman         4\n",
       "Aaron Hawkins         1\n",
       "Aaron Smayling        3\n",
       "Adam Bellavance       2\n",
       "Adam Hart             2\n",
       "                     ..\n",
       "Xylona Preis          2\n",
       "Yana Sorensen         1\n",
       "Yoseph Carroll        1\n",
       "Zuschuss Carroll      2\n",
       "Zuschuss Donatelli    4\n",
       "Name: R_Quantile, Length: 793, dtype: int64"
      ]
     },
     "execution_count": 18,
     "metadata": {},
     "output_type": "execute_result"
    }
   ],
   "source": [
    "rfmSegmentation['R_Quantile'] = rfmSegmentation['recency'].apply(RClass, args = ('recency', quantiles,))\n",
    "rfmSegmentation['R_Quantile']"
   ]
  },
  {
   "cell_type": "code",
   "execution_count": 19,
   "metadata": {},
   "outputs": [
    {
     "data": {
      "text/plain": [
       "customer\n",
       "Aaron Bergman          3\n",
       "Aaron Hawkins          7\n",
       "Aaron Smayling         7\n",
       "Adam Bellavance        8\n",
       "Adam Hart             10\n",
       "                      ..\n",
       "Xylona Preis          11\n",
       "Yana Sorensen          8\n",
       "Yoseph Carroll         5\n",
       "Zuschuss Carroll      13\n",
       "Zuschuss Donatelli     5\n",
       "Name: F_Quantile, Length: 793, dtype: int64"
      ]
     },
     "execution_count": 19,
     "metadata": {},
     "output_type": "execute_result"
    }
   ],
   "source": [
    "rfmSegmentation['F_Quantile'] = rfmSegmentation['frequency']\n",
    "rfmSegmentation['F_Quantile']"
   ]
  },
  {
   "cell_type": "code",
   "execution_count": 20,
   "metadata": {},
   "outputs": [
    {
     "data": {
      "text/plain": [
       "customer\n",
       "Aaron Bergman         4\n",
       "Aaron Hawkins         2\n",
       "Aaron Smayling        2\n",
       "Adam Bellavance       2\n",
       "Adam Hart             1\n",
       "                     ..\n",
       "Xylona Preis          1\n",
       "Yana Sorensen         2\n",
       "Yoseph Carroll        4\n",
       "Zuschuss Carroll      1\n",
       "Zuschuss Donatelli    4\n",
       "Name: F_Quantile, Length: 793, dtype: int64"
      ]
     },
     "execution_count": 20,
     "metadata": {},
     "output_type": "execute_result"
    }
   ],
   "source": [
    "rfmSegmentation['F_Quantile'] = rfmSegmentation['frequency'].apply(FMClass, args = ('frequency', quantiles,))\n",
    "rfmSegmentation['F_Quantile']"
   ]
  },
  {
   "cell_type": "code",
   "execution_count": 21,
   "metadata": {},
   "outputs": [
    {
     "data": {
      "text/plain": [
       "customer\n",
       "Aaron Bergman          887\n",
       "Aaron Hawkins         1744\n",
       "Aaron Smayling        3050\n",
       "Adam Bellavance       7756\n",
       "Adam Hart             3249\n",
       "                      ... \n",
       "Xylona Preis          2375\n",
       "Yana Sorensen         6721\n",
       "Yoseph Carroll        5455\n",
       "Zuschuss Carroll      8027\n",
       "Zuschuss Donatelli    1494\n",
       "Name: M_Quantile, Length: 793, dtype: int64"
      ]
     },
     "execution_count": 21,
     "metadata": {},
     "output_type": "execute_result"
    }
   ],
   "source": [
    "rfmSegmentation['M_Quantile'] = rfmSegmentation['monetary_value']\n",
    "rfmSegmentation['M_Quantile']"
   ]
  },
  {
   "cell_type": "code",
   "execution_count": 22,
   "metadata": {},
   "outputs": [
    {
     "data": {
      "text/plain": [
       "customer\n",
       "Aaron Bergman         4\n",
       "Aaron Hawkins         3\n",
       "Aaron Smayling        2\n",
       "Adam Bellavance       1\n",
       "Adam Hart             2\n",
       "                     ..\n",
       "Xylona Preis          2\n",
       "Yana Sorensen         1\n",
       "Yoseph Carroll        1\n",
       "Zuschuss Carroll      1\n",
       "Zuschuss Donatelli    3\n",
       "Name: M_Quantile, Length: 793, dtype: int64"
      ]
     },
     "execution_count": 22,
     "metadata": {},
     "output_type": "execute_result"
    }
   ],
   "source": [
    "rfmSegmentation['M_Quantile'] = rfmSegmentation['monetary_value'].apply(FMClass, args = ('monetary_value', quantiles,))\n",
    "rfmSegmentation['M_Quantile']"
   ]
  },
  {
   "cell_type": "code",
   "execution_count": 23,
   "metadata": {},
   "outputs": [
    {
     "data": {
      "text/html": [
       "<div>\n",
       "<style scoped>\n",
       "    .dataframe tbody tr th:only-of-type {\n",
       "        vertical-align: middle;\n",
       "    }\n",
       "\n",
       "    .dataframe tbody tr th {\n",
       "        vertical-align: top;\n",
       "    }\n",
       "\n",
       "    .dataframe thead th {\n",
       "        text-align: right;\n",
       "    }\n",
       "</style>\n",
       "<table border=\"1\" class=\"dataframe\">\n",
       "  <thead>\n",
       "    <tr style=\"text-align: right;\">\n",
       "      <th></th>\n",
       "      <th>recency</th>\n",
       "      <th>frequency</th>\n",
       "      <th>monetary_value</th>\n",
       "      <th>R_Quantile</th>\n",
       "      <th>F_Quantile</th>\n",
       "      <th>M_Quantile</th>\n",
       "    </tr>\n",
       "    <tr>\n",
       "      <th>customer</th>\n",
       "      <th></th>\n",
       "      <th></th>\n",
       "      <th></th>\n",
       "      <th></th>\n",
       "      <th></th>\n",
       "      <th></th>\n",
       "    </tr>\n",
       "  </thead>\n",
       "  <tbody>\n",
       "    <tr>\n",
       "      <th>Aaron Bergman</th>\n",
       "      <td>415</td>\n",
       "      <td>3</td>\n",
       "      <td>887</td>\n",
       "      <td>4</td>\n",
       "      <td>4</td>\n",
       "      <td>4</td>\n",
       "    </tr>\n",
       "    <tr>\n",
       "      <th>Aaron Hawkins</th>\n",
       "      <td>12</td>\n",
       "      <td>7</td>\n",
       "      <td>1744</td>\n",
       "      <td>1</td>\n",
       "      <td>2</td>\n",
       "      <td>3</td>\n",
       "    </tr>\n",
       "    <tr>\n",
       "      <th>Aaron Smayling</th>\n",
       "      <td>88</td>\n",
       "      <td>7</td>\n",
       "      <td>3050</td>\n",
       "      <td>3</td>\n",
       "      <td>2</td>\n",
       "      <td>2</td>\n",
       "    </tr>\n",
       "    <tr>\n",
       "      <th>Adam Bellavance</th>\n",
       "      <td>54</td>\n",
       "      <td>8</td>\n",
       "      <td>7756</td>\n",
       "      <td>2</td>\n",
       "      <td>2</td>\n",
       "      <td>1</td>\n",
       "    </tr>\n",
       "    <tr>\n",
       "      <th>Adam Hart</th>\n",
       "      <td>34</td>\n",
       "      <td>10</td>\n",
       "      <td>3249</td>\n",
       "      <td>2</td>\n",
       "      <td>1</td>\n",
       "      <td>2</td>\n",
       "    </tr>\n",
       "  </tbody>\n",
       "</table>\n",
       "</div>"
      ],
      "text/plain": [
       "                 recency  frequency  monetary_value  R_Quantile  F_Quantile  \\\n",
       "customer                                                                      \n",
       "Aaron Bergman        415          3             887           4           4   \n",
       "Aaron Hawkins         12          7            1744           1           2   \n",
       "Aaron Smayling        88          7            3050           3           2   \n",
       "Adam Bellavance       54          8            7756           2           2   \n",
       "Adam Hart             34         10            3249           2           1   \n",
       "\n",
       "                 M_Quantile  \n",
       "customer                     \n",
       "Aaron Bergman             4  \n",
       "Aaron Hawkins             3  \n",
       "Aaron Smayling            2  \n",
       "Adam Bellavance           1  \n",
       "Adam Hart                 2  "
      ]
     },
     "execution_count": 23,
     "metadata": {},
     "output_type": "execute_result"
    }
   ],
   "source": [
    "rfmSegmentation.head()"
   ]
  },
  {
   "cell_type": "markdown",
   "metadata": {},
   "source": [
    ">>> Теперь можем получить итоговое значение:"
   ]
  },
  {
   "cell_type": "code",
   "execution_count": 24,
   "metadata": {},
   "outputs": [
    {
     "data": {
      "text/plain": [
       "customer\n",
       "Aaron Bergman         444\n",
       "Aaron Hawkins         123\n",
       "Aaron Smayling        322\n",
       "Adam Bellavance       221\n",
       "Adam Hart             212\n",
       "                     ... \n",
       "Xylona Preis          212\n",
       "Yana Sorensen         121\n",
       "Yoseph Carroll        141\n",
       "Zuschuss Carroll      211\n",
       "Zuschuss Donatelli    443\n",
       "Name: RFMClass, Length: 793, dtype: object"
      ]
     },
     "execution_count": 24,
     "metadata": {},
     "output_type": "execute_result"
    }
   ],
   "source": [
    "rfmSegmentation['RFMClass'] = rfmSegmentation.R_Quantile.map(str)\\\n",
    "                            + rfmSegmentation.F_Quantile.map(str)\\\n",
    "                            + rfmSegmentation.M_Quantile.map(str)\n",
    "rfmSegmentation['RFMClass']"
   ]
  },
  {
   "cell_type": "code",
   "execution_count": 25,
   "metadata": {},
   "outputs": [
    {
     "data": {
      "text/html": [
       "<div>\n",
       "<style scoped>\n",
       "    .dataframe tbody tr th:only-of-type {\n",
       "        vertical-align: middle;\n",
       "    }\n",
       "\n",
       "    .dataframe tbody tr th {\n",
       "        vertical-align: top;\n",
       "    }\n",
       "\n",
       "    .dataframe thead th {\n",
       "        text-align: right;\n",
       "    }\n",
       "</style>\n",
       "<table border=\"1\" class=\"dataframe\">\n",
       "  <thead>\n",
       "    <tr style=\"text-align: right;\">\n",
       "      <th></th>\n",
       "      <th>recency</th>\n",
       "      <th>frequency</th>\n",
       "      <th>monetary_value</th>\n",
       "      <th>R_Quantile</th>\n",
       "      <th>F_Quantile</th>\n",
       "      <th>M_Quantile</th>\n",
       "      <th>RFMClass</th>\n",
       "    </tr>\n",
       "    <tr>\n",
       "      <th>customer</th>\n",
       "      <th></th>\n",
       "      <th></th>\n",
       "      <th></th>\n",
       "      <th></th>\n",
       "      <th></th>\n",
       "      <th></th>\n",
       "      <th></th>\n",
       "    </tr>\n",
       "  </thead>\n",
       "  <tbody>\n",
       "    <tr>\n",
       "      <th>Aaron Bergman</th>\n",
       "      <td>415</td>\n",
       "      <td>3</td>\n",
       "      <td>887</td>\n",
       "      <td>4</td>\n",
       "      <td>4</td>\n",
       "      <td>4</td>\n",
       "      <td>444</td>\n",
       "    </tr>\n",
       "    <tr>\n",
       "      <th>Aaron Hawkins</th>\n",
       "      <td>12</td>\n",
       "      <td>7</td>\n",
       "      <td>1744</td>\n",
       "      <td>1</td>\n",
       "      <td>2</td>\n",
       "      <td>3</td>\n",
       "      <td>123</td>\n",
       "    </tr>\n",
       "    <tr>\n",
       "      <th>Aaron Smayling</th>\n",
       "      <td>88</td>\n",
       "      <td>7</td>\n",
       "      <td>3050</td>\n",
       "      <td>3</td>\n",
       "      <td>2</td>\n",
       "      <td>2</td>\n",
       "      <td>322</td>\n",
       "    </tr>\n",
       "    <tr>\n",
       "      <th>Adam Bellavance</th>\n",
       "      <td>54</td>\n",
       "      <td>8</td>\n",
       "      <td>7756</td>\n",
       "      <td>2</td>\n",
       "      <td>2</td>\n",
       "      <td>1</td>\n",
       "      <td>221</td>\n",
       "    </tr>\n",
       "    <tr>\n",
       "      <th>Adam Hart</th>\n",
       "      <td>34</td>\n",
       "      <td>10</td>\n",
       "      <td>3249</td>\n",
       "      <td>2</td>\n",
       "      <td>1</td>\n",
       "      <td>2</td>\n",
       "      <td>212</td>\n",
       "    </tr>\n",
       "    <tr>\n",
       "      <th>...</th>\n",
       "      <td>...</td>\n",
       "      <td>...</td>\n",
       "      <td>...</td>\n",
       "      <td>...</td>\n",
       "      <td>...</td>\n",
       "      <td>...</td>\n",
       "      <td>...</td>\n",
       "    </tr>\n",
       "    <tr>\n",
       "      <th>Xylona Preis</th>\n",
       "      <td>43</td>\n",
       "      <td>11</td>\n",
       "      <td>2375</td>\n",
       "      <td>2</td>\n",
       "      <td>1</td>\n",
       "      <td>2</td>\n",
       "      <td>212</td>\n",
       "    </tr>\n",
       "    <tr>\n",
       "      <th>Yana Sorensen</th>\n",
       "      <td>9</td>\n",
       "      <td>8</td>\n",
       "      <td>6721</td>\n",
       "      <td>1</td>\n",
       "      <td>2</td>\n",
       "      <td>1</td>\n",
       "      <td>121</td>\n",
       "    </tr>\n",
       "    <tr>\n",
       "      <th>Yoseph Carroll</th>\n",
       "      <td>4</td>\n",
       "      <td>5</td>\n",
       "      <td>5455</td>\n",
       "      <td>1</td>\n",
       "      <td>4</td>\n",
       "      <td>1</td>\n",
       "      <td>141</td>\n",
       "    </tr>\n",
       "    <tr>\n",
       "      <th>Zuschuss Carroll</th>\n",
       "      <td>54</td>\n",
       "      <td>13</td>\n",
       "      <td>8027</td>\n",
       "      <td>2</td>\n",
       "      <td>1</td>\n",
       "      <td>1</td>\n",
       "      <td>211</td>\n",
       "    </tr>\n",
       "    <tr>\n",
       "      <th>Zuschuss Donatelli</th>\n",
       "      <td>202</td>\n",
       "      <td>5</td>\n",
       "      <td>1494</td>\n",
       "      <td>4</td>\n",
       "      <td>4</td>\n",
       "      <td>3</td>\n",
       "      <td>443</td>\n",
       "    </tr>\n",
       "  </tbody>\n",
       "</table>\n",
       "<p>793 rows × 7 columns</p>\n",
       "</div>"
      ],
      "text/plain": [
       "                    recency  frequency  monetary_value  R_Quantile  \\\n",
       "customer                                                             \n",
       "Aaron Bergman           415          3             887           4   \n",
       "Aaron Hawkins            12          7            1744           1   \n",
       "Aaron Smayling           88          7            3050           3   \n",
       "Adam Bellavance          54          8            7756           2   \n",
       "Adam Hart                34         10            3249           2   \n",
       "...                     ...        ...             ...         ...   \n",
       "Xylona Preis             43         11            2375           2   \n",
       "Yana Sorensen             9          8            6721           1   \n",
       "Yoseph Carroll            4          5            5455           1   \n",
       "Zuschuss Carroll         54         13            8027           2   \n",
       "Zuschuss Donatelli      202          5            1494           4   \n",
       "\n",
       "                    F_Quantile  M_Quantile RFMClass  \n",
       "customer                                             \n",
       "Aaron Bergman                4           4      444  \n",
       "Aaron Hawkins                2           3      123  \n",
       "Aaron Smayling               2           2      322  \n",
       "Adam Bellavance              2           1      221  \n",
       "Adam Hart                    1           2      212  \n",
       "...                        ...         ...      ...  \n",
       "Xylona Preis                 1           2      212  \n",
       "Yana Sorensen                2           1      121  \n",
       "Yoseph Carroll               4           1      141  \n",
       "Zuschuss Carroll             1           1      211  \n",
       "Zuschuss Donatelli           4           3      443  \n",
       "\n",
       "[793 rows x 7 columns]"
      ]
     },
     "execution_count": 25,
     "metadata": {},
     "output_type": "execute_result"
    }
   ],
   "source": [
    "rfmSegmentation"
   ]
  },
  {
   "cell_type": "code",
   "execution_count": 26,
   "metadata": {},
   "outputs": [
    {
     "data": {
      "text/html": [
       "<div>\n",
       "<style scoped>\n",
       "    .dataframe tbody tr th:only-of-type {\n",
       "        vertical-align: middle;\n",
       "    }\n",
       "\n",
       "    .dataframe tbody tr th {\n",
       "        vertical-align: top;\n",
       "    }\n",
       "\n",
       "    .dataframe thead th {\n",
       "        text-align: right;\n",
       "    }\n",
       "</style>\n",
       "<table border=\"1\" class=\"dataframe\">\n",
       "  <thead>\n",
       "    <tr style=\"text-align: right;\">\n",
       "      <th></th>\n",
       "      <th>recency</th>\n",
       "      <th>frequency</th>\n",
       "      <th>monetary_value</th>\n",
       "      <th>R_Quantile</th>\n",
       "      <th>F_Quantile</th>\n",
       "      <th>M_Quantile</th>\n",
       "      <th>RFMClass</th>\n",
       "    </tr>\n",
       "    <tr>\n",
       "      <th>customer</th>\n",
       "      <th></th>\n",
       "      <th></th>\n",
       "      <th></th>\n",
       "      <th></th>\n",
       "      <th></th>\n",
       "      <th></th>\n",
       "      <th></th>\n",
       "    </tr>\n",
       "  </thead>\n",
       "  <tbody>\n",
       "    <tr>\n",
       "      <th>Sanjit Engle</th>\n",
       "      <td>9</td>\n",
       "      <td>11</td>\n",
       "      <td>12210</td>\n",
       "      <td>1</td>\n",
       "      <td>1</td>\n",
       "      <td>1</td>\n",
       "      <td>111</td>\n",
       "    </tr>\n",
       "    <tr>\n",
       "      <th>John Lee</th>\n",
       "      <td>21</td>\n",
       "      <td>11</td>\n",
       "      <td>9801</td>\n",
       "      <td>1</td>\n",
       "      <td>1</td>\n",
       "      <td>1</td>\n",
       "      <td>111</td>\n",
       "    </tr>\n",
       "    <tr>\n",
       "      <th>Pete Kriz</th>\n",
       "      <td>9</td>\n",
       "      <td>12</td>\n",
       "      <td>8647</td>\n",
       "      <td>1</td>\n",
       "      <td>1</td>\n",
       "      <td>1</td>\n",
       "      <td>111</td>\n",
       "    </tr>\n",
       "    <tr>\n",
       "      <th>Harry Marie</th>\n",
       "      <td>2</td>\n",
       "      <td>10</td>\n",
       "      <td>8237</td>\n",
       "      <td>1</td>\n",
       "      <td>1</td>\n",
       "      <td>1</td>\n",
       "      <td>111</td>\n",
       "    </tr>\n",
       "    <tr>\n",
       "      <th>Lena Creighton</th>\n",
       "      <td>16</td>\n",
       "      <td>12</td>\n",
       "      <td>7661</td>\n",
       "      <td>1</td>\n",
       "      <td>1</td>\n",
       "      <td>1</td>\n",
       "      <td>111</td>\n",
       "    </tr>\n",
       "  </tbody>\n",
       "</table>\n",
       "</div>"
      ],
      "text/plain": [
       "                recency  frequency  monetary_value  R_Quantile  F_Quantile  \\\n",
       "customer                                                                     \n",
       "Sanjit Engle          9         11           12210           1           1   \n",
       "John Lee             21         11            9801           1           1   \n",
       "Pete Kriz             9         12            8647           1           1   \n",
       "Harry Marie           2         10            8237           1           1   \n",
       "Lena Creighton       16         12            7661           1           1   \n",
       "\n",
       "                M_Quantile RFMClass  \n",
       "customer                             \n",
       "Sanjit Engle             1      111  \n",
       "John Lee                 1      111  \n",
       "Pete Kriz                1      111  \n",
       "Harry Marie              1      111  \n",
       "Lena Creighton           1      111  "
      ]
     },
     "execution_count": 26,
     "metadata": {},
     "output_type": "execute_result"
    }
   ],
   "source": [
    "# Например, смотрим самых выгодных покупателей:\n",
    "rfmSegmentation[rfmSegmentation['RFMClass']=='111'].sort_values('monetary_value', ascending=False).head()"
   ]
  },
  {
   "cell_type": "markdown",
   "metadata": {},
   "source": [
    "Анализ проведён! Благодаря такому алгоритму можно осуществить сегментацию истории покупок клиентов на основе RFM-анализа."
   ]
  },
  {
   "cell_type": "code",
   "execution_count": null,
   "metadata": {},
   "outputs": [],
   "source": []
  },
  {
   "cell_type": "code",
   "execution_count": 27,
   "metadata": {},
   "outputs": [],
   "source": [
    "# Задание 6.1\n",
    "# Какой метод позволяет группировать элементы таблицы по одному или нескольким признакам?\n",
    "\n",
    "# ПРАВИЛЬНЫЙ ОТВЕТ:\n",
    "# groupby()  верно"
   ]
  },
  {
   "cell_type": "code",
   "execution_count": null,
   "metadata": {},
   "outputs": [],
   "source": []
  },
  {
   "cell_type": "markdown",
   "metadata": {},
   "source": [
    "### 7. Практика: анализ данных при помощи Python"
   ]
  },
  {
   "cell_type": "code",
   "execution_count": 28,
   "metadata": {},
   "outputs": [
    {
     "data": {
      "text/html": [
       "<div>\n",
       "<style scoped>\n",
       "    .dataframe tbody tr th:only-of-type {\n",
       "        vertical-align: middle;\n",
       "    }\n",
       "\n",
       "    .dataframe tbody tr th {\n",
       "        vertical-align: top;\n",
       "    }\n",
       "\n",
       "    .dataframe thead th {\n",
       "        text-align: right;\n",
       "    }\n",
       "</style>\n",
       "<table border=\"1\" class=\"dataframe\">\n",
       "  <thead>\n",
       "    <tr style=\"text-align: right;\">\n",
       "      <th></th>\n",
       "      <th>recency</th>\n",
       "      <th>frequency</th>\n",
       "      <th>monetary_value</th>\n",
       "      <th>R_Quantile</th>\n",
       "      <th>F_Quantile</th>\n",
       "      <th>M_Quantile</th>\n",
       "      <th>RFMClass</th>\n",
       "    </tr>\n",
       "    <tr>\n",
       "      <th>customer</th>\n",
       "      <th></th>\n",
       "      <th></th>\n",
       "      <th></th>\n",
       "      <th></th>\n",
       "      <th></th>\n",
       "      <th></th>\n",
       "      <th></th>\n",
       "    </tr>\n",
       "  </thead>\n",
       "  <tbody>\n",
       "    <tr>\n",
       "      <th>Aaron Bergman</th>\n",
       "      <td>415</td>\n",
       "      <td>3</td>\n",
       "      <td>887</td>\n",
       "      <td>4</td>\n",
       "      <td>4</td>\n",
       "      <td>4</td>\n",
       "      <td>444</td>\n",
       "    </tr>\n",
       "    <tr>\n",
       "      <th>Aaron Hawkins</th>\n",
       "      <td>12</td>\n",
       "      <td>7</td>\n",
       "      <td>1744</td>\n",
       "      <td>1</td>\n",
       "      <td>2</td>\n",
       "      <td>3</td>\n",
       "      <td>123</td>\n",
       "    </tr>\n",
       "    <tr>\n",
       "      <th>Aaron Smayling</th>\n",
       "      <td>88</td>\n",
       "      <td>7</td>\n",
       "      <td>3050</td>\n",
       "      <td>3</td>\n",
       "      <td>2</td>\n",
       "      <td>2</td>\n",
       "      <td>322</td>\n",
       "    </tr>\n",
       "    <tr>\n",
       "      <th>Adam Bellavance</th>\n",
       "      <td>54</td>\n",
       "      <td>8</td>\n",
       "      <td>7756</td>\n",
       "      <td>2</td>\n",
       "      <td>2</td>\n",
       "      <td>1</td>\n",
       "      <td>221</td>\n",
       "    </tr>\n",
       "    <tr>\n",
       "      <th>Adam Hart</th>\n",
       "      <td>34</td>\n",
       "      <td>10</td>\n",
       "      <td>3249</td>\n",
       "      <td>2</td>\n",
       "      <td>1</td>\n",
       "      <td>2</td>\n",
       "      <td>212</td>\n",
       "    </tr>\n",
       "    <tr>\n",
       "      <th>...</th>\n",
       "      <td>...</td>\n",
       "      <td>...</td>\n",
       "      <td>...</td>\n",
       "      <td>...</td>\n",
       "      <td>...</td>\n",
       "      <td>...</td>\n",
       "      <td>...</td>\n",
       "    </tr>\n",
       "    <tr>\n",
       "      <th>Xylona Preis</th>\n",
       "      <td>43</td>\n",
       "      <td>11</td>\n",
       "      <td>2375</td>\n",
       "      <td>2</td>\n",
       "      <td>1</td>\n",
       "      <td>2</td>\n",
       "      <td>212</td>\n",
       "    </tr>\n",
       "    <tr>\n",
       "      <th>Yana Sorensen</th>\n",
       "      <td>9</td>\n",
       "      <td>8</td>\n",
       "      <td>6721</td>\n",
       "      <td>1</td>\n",
       "      <td>2</td>\n",
       "      <td>1</td>\n",
       "      <td>121</td>\n",
       "    </tr>\n",
       "    <tr>\n",
       "      <th>Yoseph Carroll</th>\n",
       "      <td>4</td>\n",
       "      <td>5</td>\n",
       "      <td>5455</td>\n",
       "      <td>1</td>\n",
       "      <td>4</td>\n",
       "      <td>1</td>\n",
       "      <td>141</td>\n",
       "    </tr>\n",
       "    <tr>\n",
       "      <th>Zuschuss Carroll</th>\n",
       "      <td>54</td>\n",
       "      <td>13</td>\n",
       "      <td>8027</td>\n",
       "      <td>2</td>\n",
       "      <td>1</td>\n",
       "      <td>1</td>\n",
       "      <td>211</td>\n",
       "    </tr>\n",
       "    <tr>\n",
       "      <th>Zuschuss Donatelli</th>\n",
       "      <td>202</td>\n",
       "      <td>5</td>\n",
       "      <td>1494</td>\n",
       "      <td>4</td>\n",
       "      <td>4</td>\n",
       "      <td>3</td>\n",
       "      <td>443</td>\n",
       "    </tr>\n",
       "  </tbody>\n",
       "</table>\n",
       "<p>793 rows × 7 columns</p>\n",
       "</div>"
      ],
      "text/plain": [
       "                    recency  frequency  monetary_value  R_Quantile  \\\n",
       "customer                                                             \n",
       "Aaron Bergman           415          3             887           4   \n",
       "Aaron Hawkins            12          7            1744           1   \n",
       "Aaron Smayling           88          7            3050           3   \n",
       "Adam Bellavance          54          8            7756           2   \n",
       "Adam Hart                34         10            3249           2   \n",
       "...                     ...        ...             ...         ...   \n",
       "Xylona Preis             43         11            2375           2   \n",
       "Yana Sorensen             9          8            6721           1   \n",
       "Yoseph Carroll            4          5            5455           1   \n",
       "Zuschuss Carroll         54         13            8027           2   \n",
       "Zuschuss Donatelli      202          5            1494           4   \n",
       "\n",
       "                    F_Quantile  M_Quantile RFMClass  \n",
       "customer                                             \n",
       "Aaron Bergman                4           4      444  \n",
       "Aaron Hawkins                2           3      123  \n",
       "Aaron Smayling               2           2      322  \n",
       "Adam Bellavance              2           1      221  \n",
       "Adam Hart                    1           2      212  \n",
       "...                        ...         ...      ...  \n",
       "Xylona Preis                 1           2      212  \n",
       "Yana Sorensen                2           1      121  \n",
       "Yoseph Carroll               4           1      141  \n",
       "Zuschuss Carroll             1           1      211  \n",
       "Zuschuss Donatelli           4           3      443  \n",
       "\n",
       "[793 rows x 7 columns]"
      ]
     },
     "execution_count": 28,
     "metadata": {},
     "output_type": "execute_result"
    }
   ],
   "source": [
    "rfm = rfmSegmentation\n",
    "rfm"
   ]
  },
  {
   "cell_type": "code",
   "execution_count": 29,
   "metadata": {},
   "outputs": [],
   "source": [
    "import matplotlib.pyplot as plt\n",
    "import seaborn as sns\n",
    "%matplotlib inline"
   ]
  },
  {
   "cell_type": "code",
   "execution_count": 30,
   "metadata": {},
   "outputs": [
    {
     "data": {
      "text/plain": [
       "<AxesSubplot:xlabel='customer'>"
      ]
     },
     "execution_count": 30,
     "metadata": {},
     "output_type": "execute_result"
    },
    {
     "data": {
      "image/png": "[encoded data removed]",
      "text/plain": [
       "<Figure size 432x288 with 1 Axes>"
      ]
     },
     "metadata": {
      "needs_background": "light"
     },
     "output_type": "display_data"
    }
   ],
   "source": [
    "# Воспользуемся методом модуля pandas\n",
    "rfm.plot()"
   ]
  },
  {
   "cell_type": "code",
   "execution_count": 31,
   "metadata": {},
   "outputs": [],
   "source": [
    "sns.set()"
   ]
  },
  {
   "cell_type": "code",
   "execution_count": 32,
   "metadata": {},
   "outputs": [
    {
     "data": {
      "text/plain": [
       "<AxesSubplot:xlabel='customer'>"
      ]
     },
     "execution_count": 32,
     "metadata": {},
     "output_type": "execute_result"
    },
    {
     "data": {
      "image/png": "[encoded data removed]",
      "text/plain": [
       "<Figure size 432x288 with 1 Axes>"
      ]
     },
     "metadata": {},
     "output_type": "display_data"
    }
   ],
   "source": [
    "rfm.plot()"
   ]
  },
  {
   "cell_type": "code",
   "execution_count": 33,
   "metadata": {},
   "outputs": [
    {
     "data": {
      "text/plain": [
       "<seaborn.axisgrid.PairGrid at 0x1dec43a1970>"
      ]
     },
     "execution_count": 33,
     "metadata": {},
     "output_type": "execute_result"
    },
    {
     "data": {
      "image/png": "[encoded data removed]",
      "text/plain": [
       "<Figure size 1080x1080 with 42 Axes>"
      ]
     },
     "metadata": {},
     "output_type": "display_data"
    }
   ],
   "source": [
    "# метод pairplot модуля seaborn\n",
    "sns.pairplot(rfm)"
   ]
  },
  {
   "cell_type": "code",
   "execution_count": 34,
   "metadata": {},
   "outputs": [
    {
     "data": {
      "text/plain": [
       "<BarContainer object of 4 artists>"
      ]
     },
     "execution_count": 34,
     "metadata": {},
     "output_type": "execute_result"
    },
    {
     "data": {
      "image/png": "[encoded data removed]",
      "text/plain": [
       "<Figure size 432x288 with 1 Axes>"
      ]
     },
     "metadata": {},
     "output_type": "display_data"
    }
   ],
   "source": [
    "# Вертикальная диаграмма bar()\n",
    "fig = plt.figure()\n",
    "axes1 = fig.add_axes([0, 0, 1, 1])\n",
    "\n",
    "axes1.bar(x=['1', '2', '3', '4'], height = rfm['R_Quantile'].value_counts())"
   ]
  },
  {
   "cell_type": "code",
   "execution_count": 35,
   "metadata": {},
   "outputs": [
    {
     "data": {
      "text/plain": [
       "<BarContainer object of 4 artists>"
      ]
     },
     "execution_count": 35,
     "metadata": {},
     "output_type": "execute_result"
    },
    {
     "data": {
      "image/png": "[encoded data removed]",
      "text/plain": [
       "<Figure size 432x288 with 1 Axes>"
      ]
     },
     "metadata": {},
     "output_type": "display_data"
    }
   ],
   "source": [
    "fig = plt.figure()\n",
    "axes2 = fig.add_axes([0, 0, 1, 1])\n",
    "\n",
    "axes2.bar(x=['1', '2', '3', '4'], height = rfm['F_Quantile'].value_counts())"
   ]
  },
  {
   "cell_type": "code",
   "execution_count": 36,
   "metadata": {},
   "outputs": [
    {
     "data": {
      "text/plain": [
       "<BarContainer object of 4 artists>"
      ]
     },
     "execution_count": 36,
     "metadata": {},
     "output_type": "execute_result"
    },
    {
     "data": {
      "image/png": "[encoded data removed]",
      "text/plain": [
       "<Figure size 432x288 with 1 Axes>"
      ]
     },
     "metadata": {},
     "output_type": "display_data"
    }
   ],
   "source": [
    "fig = plt.figure()\n",
    "axes3 = fig.add_axes([0, 0, 1, 1])\n",
    "\n",
    "axes3.bar(x=['1', '2', '3', '4'], height = rfm['M_Quantile'].value_counts())"
   ]
  },
  {
   "cell_type": "code",
   "execution_count": 37,
   "metadata": {},
   "outputs": [
    {
     "data": {
      "text/plain": [
       "4    199\n",
       "3    198\n",
       "2    198\n",
       "1    198\n",
       "Name: M_Quantile, dtype: int64"
      ]
     },
     "execution_count": 37,
     "metadata": {},
     "output_type": "execute_result"
    }
   ],
   "source": [
    "rfm['M_Quantile'].value_counts()"
   ]
  },
  {
   "cell_type": "code",
   "execution_count": 38,
   "metadata": {},
   "outputs": [
    {
     "data": {
      "text/plain": [
       "(array([67., 21., 21., 21., 19., 21., 19., 12., 27.,  5., 21., 21., 30.,\n",
       "         5.,  2.,  5., 20.,  9., 31., 10., 31.,  0.,  1., 21.,  8., 37.,\n",
       "         5.,  8.,  5.,  8.,  9., 21., 10., 15., 14., 19., 11., 18.,  2.,\n",
       "        13., 10.,  8.,  0., 13., 12.,  9.,  5.,  5.,  4.,  6.,  2.,  2.,\n",
       "         9., 11.,  7.,  5.,  4.,  7.,  3.,  8.,  6.,  5.,  4.,  5.]),\n",
       " array([ 0.      ,  0.953125,  1.90625 ,  2.859375,  3.8125  ,  4.765625,\n",
       "         5.71875 ,  6.671875,  7.625   ,  8.578125,  9.53125 , 10.484375,\n",
       "        11.4375  , 12.390625, 13.34375 , 14.296875, 15.25    , 16.203125,\n",
       "        17.15625 , 18.109375, 19.0625  , 20.015625, 20.96875 , 21.921875,\n",
       "        22.875   , 23.828125, 24.78125 , 25.734375, 26.6875  , 27.640625,\n",
       "        28.59375 , 29.546875, 30.5     , 31.453125, 32.40625 , 33.359375,\n",
       "        34.3125  , 35.265625, 36.21875 , 37.171875, 38.125   , 39.078125,\n",
       "        40.03125 , 40.984375, 41.9375  , 42.890625, 43.84375 , 44.796875,\n",
       "        45.75    , 46.703125, 47.65625 , 48.609375, 49.5625  , 50.515625,\n",
       "        51.46875 , 52.421875, 53.375   , 54.328125, 55.28125 , 56.234375,\n",
       "        57.1875  , 58.140625, 59.09375 , 60.046875, 61.      ]),\n",
       " <BarContainer object of 64 artists>)"
      ]
     },
     "execution_count": 38,
     "metadata": {},
     "output_type": "execute_result"
    },
    {
     "data": {
      "image/png": "[encoded data removed]",
      "text/plain": [
       "<Figure size 432x288 with 1 Axes>"
      ]
     },
     "metadata": {},
     "output_type": "display_data"
    }
   ],
   "source": [
    "# Создание графика количества клиентов в каждом из сегментов R, F, M\n",
    "\n",
    "fig = plt.figure()\n",
    "axes = fig.add_axes([0, 0, 5, 5])\n",
    "axes.hist(rfm['RFMClass'], bins = 64)"
   ]
  },
  {
   "cell_type": "code",
   "execution_count": 39,
   "metadata": {},
   "outputs": [
    {
     "data": {
      "text/plain": [
       "Text(0, 0.5, 'monetary_value')"
      ]
     },
     "execution_count": 39,
     "metadata": {},
     "output_type": "execute_result"
    },
    {
     "data": {
      "image/png": "[encoded data removed]",
      "text/plain": [
       "<Figure size 432x288 with 1 Axes>"
      ]
     },
     "metadata": {},
     "output_type": "display_data"
    }
   ],
   "source": [
    "# Рисуем график зависимости давности покупки от суммы потраченных средств\n",
    "\n",
    "fig = plt.figure()\n",
    "axes = fig.add_axes([0, 0, 1, 1])\n",
    "axes.scatter(x=rfm['recency'], y = rfm['monetary_value'])\n",
    "axes.set_xlabel('recency')\n",
    "axes.set_ylabel('monetary_value')"
   ]
  },
  {
   "cell_type": "code",
   "execution_count": 40,
   "metadata": {},
   "outputs": [
    {
     "name": "stdout",
     "output_type": "stream",
     "text": [
      "Requirement already satisfied: plotly in c:\\users\\max\\anaconda3\\lib\\site-packages (4.14.3)\n",
      "Requirement already satisfied: six in c:\\users\\max\\anaconda3\\lib\\site-packages (from plotly) (1.15.0)\n",
      "Requirement already satisfied: retrying>=1.3.3 in c:\\users\\max\\anaconda3\\lib\\site-packages (from plotly) (1.3.3)\n"
     ]
    }
   ],
   "source": [
    "# Установка пакета выполняется только один раз!\n",
    "!pip install plotly"
   ]
  },
  {
   "cell_type": "code",
   "execution_count": 41,
   "metadata": {},
   "outputs": [
    {
     "name": "stdout",
     "output_type": "stream",
     "text": [
      "Requirement already satisfied: cufflinks in c:\\users\\max\\anaconda3\\lib\\site-packages (0.17.3)\n",
      "Requirement already satisfied: six>=1.9.0 in c:\\users\\max\\anaconda3\\lib\\site-packages (from cufflinks) (1.15.0)\n",
      "Requirement already satisfied: numpy>=1.9.2 in c:\\users\\max\\anaconda3\\lib\\site-packages (from cufflinks) (1.19.2)\n",
      "Requirement already satisfied: colorlover>=0.2.1 in c:\\users\\max\\anaconda3\\lib\\site-packages (from cufflinks) (0.3.0)\n",
      "Requirement already satisfied: ipython>=5.3.0 in c:\\users\\max\\anaconda3\\lib\\site-packages (from cufflinks) (7.19.0)\n",
      "Requirement already satisfied: plotly>=4.1.1 in c:\\users\\max\\anaconda3\\lib\\site-packages (from cufflinks) (4.14.3)\n",
      "Requirement already satisfied: setuptools>=34.4.1 in c:\\users\\max\\anaconda3\\lib\\site-packages (from cufflinks) (50.3.1.post20201107)\n",
      "Requirement already satisfied: ipywidgets>=7.0.0 in c:\\users\\max\\anaconda3\\lib\\site-packages (from cufflinks) (7.0.5)\n",
      "Requirement already satisfied: pandas>=0.19.2 in c:\\users\\max\\anaconda3\\lib\\site-packages (from cufflinks) (1.1.3)\n",
      "Requirement already satisfied: colorama; sys_platform == \"win32\" in c:\\users\\max\\anaconda3\\lib\\site-packages (from ipython>=5.3.0->cufflinks) (0.4.4)\n",
      "Requirement already satisfied: prompt-toolkit!=3.0.0,!=3.0.1,<3.1.0,>=2.0.0 in c:\\users\\max\\anaconda3\\lib\\site-packages (from ipython>=5.3.0->cufflinks) (3.0.8)\n",
      "Requirement already satisfied: traitlets>=4.2 in c:\\users\\max\\anaconda3\\lib\\site-packages (from ipython>=5.3.0->cufflinks) (5.0.5)\n",
      "Requirement already satisfied: decorator in c:\\users\\max\\anaconda3\\lib\\site-packages (from ipython>=5.3.0->cufflinks) (4.4.2)\n",
      "Requirement already satisfied: jedi>=0.10 in c:\\users\\max\\anaconda3\\lib\\site-packages (from ipython>=5.3.0->cufflinks) (0.17.1)\n",
      "Requirement already satisfied: pygments in c:\\users\\max\\anaconda3\\lib\\site-packages (from ipython>=5.3.0->cufflinks) (2.7.2)\n",
      "Requirement already satisfied: backcall in c:\\users\\max\\anaconda3\\lib\\site-packages (from ipython>=5.3.0->cufflinks) (0.2.0)\n",
      "Requirement already satisfied: pickleshare in c:\\users\\max\\anaconda3\\lib\\site-packages (from ipython>=5.3.0->cufflinks) (0.7.5)\n",
      "Requirement already satisfied: retrying>=1.3.3 in c:\\users\\max\\anaconda3\\lib\\site-packages (from plotly>=4.1.1->cufflinks) (1.3.3)\n",
      "Requirement already satisfied: ipykernel>=4.5.1 in c:\\users\\max\\anaconda3\\lib\\site-packages (from ipywidgets>=7.0.0->cufflinks) (5.3.4)\n",
      "Requirement already satisfied: widgetsnbextension~=3.0.0 in c:\\users\\max\\anaconda3\\lib\\site-packages (from ipywidgets>=7.0.0->cufflinks) (3.0.8)\n",
      "Requirement already satisfied: nbformat>=4.2.0 in c:\\users\\max\\anaconda3\\lib\\site-packages (from ipywidgets>=7.0.0->cufflinks) (5.0.8)\n",
      "Requirement already satisfied: python-dateutil>=2.7.3 in c:\\users\\max\\anaconda3\\lib\\site-packages (from pandas>=0.19.2->cufflinks) (2.8.1)\n",
      "Requirement already satisfied: pytz>=2017.2 in c:\\users\\max\\anaconda3\\lib\\site-packages (from pandas>=0.19.2->cufflinks) (2020.1)\n",
      "Requirement already satisfied: wcwidth in c:\\users\\max\\anaconda3\\lib\\site-packages (from prompt-toolkit!=3.0.0,!=3.0.1,<3.1.0,>=2.0.0->ipython>=5.3.0->cufflinks) (0.2.5)\n",
      "Requirement already satisfied: ipython-genutils in c:\\users\\max\\anaconda3\\lib\\site-packages (from traitlets>=4.2->ipython>=5.3.0->cufflinks) (0.2.0)\n",
      "Requirement already satisfied: parso<0.8.0,>=0.7.0 in c:\\users\\max\\anaconda3\\lib\\site-packages (from jedi>=0.10->ipython>=5.3.0->cufflinks) (0.7.0)\n",
      "Requirement already satisfied: tornado>=4.2 in c:\\users\\max\\anaconda3\\lib\\site-packages (from ipykernel>=4.5.1->ipywidgets>=7.0.0->cufflinks) (6.2)\n",
      "Requirement already satisfied: jupyter-client in c:\\users\\max\\anaconda3\\lib\\site-packages (from ipykernel>=4.5.1->ipywidgets>=7.0.0->cufflinks) (6.1.7)\n",
      "Requirement already satisfied: notebook>=4.4.1 in c:\\users\\max\\anaconda3\\lib\\site-packages (from widgetsnbextension~=3.0.0->ipywidgets>=7.0.0->cufflinks) (6.1.4)\n",
      "Requirement already satisfied: jupyter-core in c:\\users\\max\\anaconda3\\lib\\site-packages (from nbformat>=4.2.0->ipywidgets>=7.0.0->cufflinks) (4.6.3)\n",
      "Requirement already satisfied: jsonschema!=2.5.0,>=2.4 in c:\\users\\max\\anaconda3\\lib\\site-packages (from nbformat>=4.2.0->ipywidgets>=7.0.0->cufflinks) (3.2.0)\n",
      "Requirement already satisfied: pyzmq>=13 in c:\\users\\max\\anaconda3\\lib\\site-packages (from jupyter-client->ipykernel>=4.5.1->ipywidgets>=7.0.0->cufflinks) (19.0.2)\n",
      "Requirement already satisfied: jinja2 in c:\\users\\max\\anaconda3\\lib\\site-packages (from notebook>=4.4.1->widgetsnbextension~=3.0.0->ipywidgets>=7.0.0->cufflinks) (2.11.2)\n",
      "Requirement already satisfied: nbconvert in c:\\users\\max\\anaconda3\\lib\\site-packages (from notebook>=4.4.1->widgetsnbextension~=3.0.0->ipywidgets>=7.0.0->cufflinks) (6.0.7)\n",
      "Requirement already satisfied: Send2Trash in c:\\users\\max\\anaconda3\\lib\\site-packages (from notebook>=4.4.1->widgetsnbextension~=3.0.0->ipywidgets>=7.0.0->cufflinks) (1.8.0)\n",
      "Requirement already satisfied: prometheus-client in c:\\users\\max\\anaconda3\\lib\\site-packages (from notebook>=4.4.1->widgetsnbextension~=3.0.0->ipywidgets>=7.0.0->cufflinks) (0.8.0)\n",
      "Requirement already satisfied: terminado>=0.8.3 in c:\\users\\max\\anaconda3\\lib\\site-packages (from notebook>=4.4.1->widgetsnbextension~=3.0.0->ipywidgets>=7.0.0->cufflinks) (0.9.1)\n",
      "Requirement already satisfied: argon2-cffi in c:\\users\\max\\anaconda3\\lib\\site-packages (from notebook>=4.4.1->widgetsnbextension~=3.0.0->ipywidgets>=7.0.0->cufflinks) (20.1.0)\n",
      "Requirement already satisfied: pywin32>=1.0; sys_platform == \"win32\" in c:\\users\\max\\anaconda3\\lib\\site-packages (from jupyter-core->nbformat>=4.2.0->ipywidgets>=7.0.0->cufflinks) (227)\n",
      "Requirement already satisfied: pyrsistent>=0.14.0 in c:\\users\\max\\anaconda3\\lib\\site-packages (from jsonschema!=2.5.0,>=2.4->nbformat>=4.2.0->ipywidgets>=7.0.0->cufflinks) (0.17.3)\n",
      "Requirement already satisfied: attrs>=17.4.0 in c:\\users\\max\\anaconda3\\lib\\site-packages (from jsonschema!=2.5.0,>=2.4->nbformat>=4.2.0->ipywidgets>=7.0.0->cufflinks) (20.3.0)\n",
      "Requirement already satisfied: MarkupSafe>=0.23 in c:\\users\\max\\anaconda3\\lib\\site-packages (from jinja2->notebook>=4.4.1->widgetsnbextension~=3.0.0->ipywidgets>=7.0.0->cufflinks) (1.1.1)\n",
      "Requirement already satisfied: nbclient<0.6.0,>=0.5.0 in c:\\users\\max\\anaconda3\\lib\\site-packages (from nbconvert->notebook>=4.4.1->widgetsnbextension~=3.0.0->ipywidgets>=7.0.0->cufflinks) (0.5.1)\n",
      "Requirement already satisfied: testpath in c:\\users\\max\\anaconda3\\lib\\site-packages (from nbconvert->notebook>=4.4.1->widgetsnbextension~=3.0.0->ipywidgets>=7.0.0->cufflinks) (0.4.4)\n",
      "Requirement already satisfied: entrypoints>=0.2.2 in c:\\users\\max\\anaconda3\\lib\\site-packages (from nbconvert->notebook>=4.4.1->widgetsnbextension~=3.0.0->ipywidgets>=7.0.0->cufflinks) (0.3)\n",
      "Requirement already satisfied: pandocfilters>=1.4.1 in c:\\users\\max\\anaconda3\\lib\\site-packages (from nbconvert->notebook>=4.4.1->widgetsnbextension~=3.0.0->ipywidgets>=7.0.0->cufflinks) (1.4.3)\n",
      "Requirement already satisfied: defusedxml in c:\\users\\max\\anaconda3\\lib\\site-packages (from nbconvert->notebook>=4.4.1->widgetsnbextension~=3.0.0->ipywidgets>=7.0.0->cufflinks) (0.6.0)\n",
      "Requirement already satisfied: bleach in c:\\users\\max\\anaconda3\\lib\\site-packages (from nbconvert->notebook>=4.4.1->widgetsnbextension~=3.0.0->ipywidgets>=7.0.0->cufflinks) (3.2.1)\n",
      "Requirement already satisfied: mistune<2,>=0.8.1 in c:\\users\\max\\anaconda3\\lib\\site-packages (from nbconvert->notebook>=4.4.1->widgetsnbextension~=3.0.0->ipywidgets>=7.0.0->cufflinks) (0.8.4)\n",
      "Requirement already satisfied: jupyterlab-pygments in c:\\users\\max\\anaconda3\\lib\\site-packages (from nbconvert->notebook>=4.4.1->widgetsnbextension~=3.0.0->ipywidgets>=7.0.0->cufflinks) (0.1.2)\n",
      "Requirement already satisfied: pywinpty>=0.5 in c:\\users\\max\\anaconda3\\lib\\site-packages (from terminado>=0.8.3->notebook>=4.4.1->widgetsnbextension~=3.0.0->ipywidgets>=7.0.0->cufflinks) (0.5.7)\n",
      "Requirement already satisfied: cffi>=1.0.0 in c:\\users\\max\\anaconda3\\lib\\site-packages (from argon2-cffi->notebook>=4.4.1->widgetsnbextension~=3.0.0->ipywidgets>=7.0.0->cufflinks) (1.14.3)\n",
      "Requirement already satisfied: async-generator in c:\\users\\max\\anaconda3\\lib\\site-packages (from nbclient<0.6.0,>=0.5.0->nbconvert->notebook>=4.4.1->widgetsnbextension~=3.0.0->ipywidgets>=7.0.0->cufflinks) (1.10)\n",
      "Requirement already satisfied: nest-asyncio in c:\\users\\max\\anaconda3\\lib\\site-packages (from nbclient<0.6.0,>=0.5.0->nbconvert->notebook>=4.4.1->widgetsnbextension~=3.0.0->ipywidgets>=7.0.0->cufflinks) (1.5.5)\n",
      "Requirement already satisfied: webencodings in c:\\users\\max\\anaconda3\\lib\\site-packages (from bleach->nbconvert->notebook>=4.4.1->widgetsnbextension~=3.0.0->ipywidgets>=7.0.0->cufflinks) (0.5.1)\n",
      "Requirement already satisfied: packaging in c:\\users\\max\\anaconda3\\lib\\site-packages (from bleach->nbconvert->notebook>=4.4.1->widgetsnbextension~=3.0.0->ipywidgets>=7.0.0->cufflinks) (20.4)\n",
      "Requirement already satisfied: pycparser in c:\\users\\max\\anaconda3\\lib\\site-packages (from cffi>=1.0.0->argon2-cffi->notebook>=4.4.1->widgetsnbextension~=3.0.0->ipywidgets>=7.0.0->cufflinks) (2.20)\n",
      "Requirement already satisfied: pyparsing>=2.0.2 in c:\\users\\max\\anaconda3\\lib\\site-packages (from packaging->bleach->nbconvert->notebook>=4.4.1->widgetsnbextension~=3.0.0->ipywidgets>=7.0.0->cufflinks) (2.4.7)\n"
     ]
    }
   ],
   "source": [
    "# Установка пакета выполняется только один раз!\n",
    "!pip install cufflinks"
   ]
  },
  {
   "cell_type": "code",
   "execution_count": 42,
   "metadata": {},
   "outputs": [],
   "source": [
    "import cufflinks as cf\n",
    "from plotly.offline import download_plotlyjs, init_notebook_mode, plot, iplot"
   ]
  },
  {
   "cell_type": "code",
   "execution_count": 43,
   "metadata": {},
   "outputs": [
    {
     "data": {
      "text/html": [
       "        <script type=\"text/javascript\">\n",
       "        window.PlotlyConfig = {MathJaxConfig: 'local'};\n",
       "        if (window.MathJax) {MathJax.Hub.Config({SVG: {font: \"STIX-Web\"}});}\n",
       "        if (typeof require !== 'undefined') {\n",
       "        require.undef(\"plotly\");\n",
       "        requirejs.config({\n",
       "            paths: {\n",
       "                'plotly': ['https://cdn.plot.ly/plotly-latest.min']\n",
       "            }\n",
       "        });\n",
       "        require(['plotly'], function(Plotly) {\n",
       "            window._Plotly = Plotly;\n",
       "        });\n",
       "        }\n",
       "        </script>\n",
       "        "
      ]
     },
     "metadata": {},
     "output_type": "display_data"
    },
    {
     "data": {
      "text/html": [
       "        <script type=\"text/javascript\">\n",
       "        window.PlotlyConfig = {MathJaxConfig: 'local'};\n",
       "        if (window.MathJax) {MathJax.Hub.Config({SVG: {font: \"STIX-Web\"}});}\n",
       "        if (typeof require !== 'undefined') {\n",
       "        require.undef(\"plotly\");\n",
       "        requirejs.config({\n",
       "            paths: {\n",
       "                'plotly': ['https://cdn.plot.ly/plotly-latest.min']\n",
       "            }\n",
       "        });\n",
       "        require(['plotly'], function(Plotly) {\n",
       "            window._Plotly = Plotly;\n",
       "        });\n",
       "        }\n",
       "        </script>\n",
       "        "
      ]
     },
     "metadata": {},
     "output_type": "display_data"
    }
   ],
   "source": [
    "init_notebook_mode(connected = True)\n",
    "cf.go_offline()"
   ]
  },
  {
   "cell_type": "code",
   "execution_count": 44,
   "metadata": {},
   "outputs": [
    {
     "data": {
      "application/vnd.plotly.v1+json": {
       "config": {
        "linkText": "Export to plot.ly",
        "plotlyServerURL": "https://plot.ly",
        "showLink": true
       },
       "data": [
        {
         "line": {
          "color": "rgba(255, 153, 51, 1.0)",
          "dash": "solid",
          "shape": "linear",
          "width": 1.3
         },
         "marker": {
          "size": 12,
          "symbol": "circle"
         },
         "mode": "markers",
         "name": "monetary_value",
         "text": "",
         "type": "scatter",
         "x": [
          415,
          12,
          88,
          54,
          34,
          28,
          41,
          60,
          41,
          41,
          25,
          29,
          55,
          6,
          22,
          192,
          166,
          278,
          19,
          118,
          184,
          8,
          111,
          28,
          19,
          114,
          125,
          232,
          21,
          11,
          230,
          259,
          78,
          14,
          845,
          6,
          14,
          534,
          21,
          50,
          6,
          92,
          55,
          282,
          97,
          410,
          162,
          41,
          13,
          160,
          77,
          75,
          166,
          501,
          58,
          20,
          13,
          41,
          415,
          96,
          98,
          46,
          85,
          74,
          91,
          105,
          39,
          74,
          28,
          83,
          212,
          25,
          17,
          121,
          202,
          307,
          89,
          16,
          1,
          203,
          65,
          39,
          334,
          77,
          57,
          12,
          336,
          33,
          119,
          137,
          558,
          28,
          302,
          98,
          75,
          560,
          254,
          24,
          659,
          35,
          9,
          91,
          28,
          278,
          100,
          35,
          97,
          69,
          9,
          33,
          582,
          20,
          36,
          23,
          93,
          57,
          1,
          327,
          218,
          265,
          131,
          91,
          162,
          365,
          106,
          22,
          40,
          708,
          25,
          96,
          54,
          96,
          189,
          47,
          49,
          401,
          691,
          82,
          457,
          8,
          489,
          106,
          26,
          232,
          8,
          39,
          20,
          385,
          26,
          56,
          42,
          254,
          13,
          120,
          160,
          6,
          43,
          37,
          2,
          26,
          0,
          436,
          27,
          39,
          424,
          58,
          338,
          197,
          27,
          284,
          57,
          43,
          34,
          470,
          549,
          27,
          29,
          799,
          105,
          1035,
          78,
          60,
          82,
          120,
          399,
          5,
          85,
          21,
          37,
          100,
          3,
          45,
          21,
          57,
          50,
          114,
          241,
          7,
          126,
          57,
          93,
          19,
          16,
          277,
          42,
          6,
          48,
          700,
          10,
          812,
          23,
          69,
          9,
          10,
          84,
          719,
          53,
          23,
          32,
          22,
          57,
          22,
          264,
          19,
          358,
          187,
          637,
          133,
          352,
          29,
          217,
          76,
          48,
          481,
          98,
          107,
          41,
          242,
          119,
          33,
          12,
          26,
          12,
          776,
          217,
          48,
          302,
          77,
          35,
          135,
          287,
          44,
          132,
          55,
          90,
          421,
          100,
          135,
          22,
          12,
          161,
          217,
          151,
          0,
          405,
          2,
          40,
          152,
          53,
          47,
          28,
          113,
          113,
          152,
          48,
          57,
          82,
          105,
          158,
          7,
          97,
          70,
          34,
          37,
          36,
          38,
          23,
          184,
          212,
          5,
          145,
          362,
          75,
          50,
          83,
          16,
          7,
          387,
          106,
          149,
          62,
          157,
          1136,
          13,
          5,
          28,
          112,
          56,
          43,
          2,
          152,
          117,
          36,
          5,
          765,
          34,
          13,
          769,
          12,
          30,
          159,
          54,
          2,
          126,
          151,
          69,
          20,
          117,
          35,
          23,
          247,
          21,
          72,
          6,
          43,
          409,
          390,
          71,
          142,
          758,
          8,
          57,
          1,
          6,
          65,
          61,
          42,
          119,
          37,
          37,
          92,
          225,
          2,
          287,
          114,
          105,
          44,
          175,
          7,
          2,
          5,
          483,
          37,
          193,
          121,
          49,
          8,
          102,
          215,
          54,
          0,
          119,
          48,
          61,
          180,
          8,
          593,
          42,
          68,
          46,
          84,
          51,
          753,
          158,
          117,
          223,
          174,
          21,
          614,
          109,
          534,
          394,
          41,
          737,
          463,
          5,
          92,
          29,
          43,
          112,
          28,
          7,
          300,
          461,
          28,
          57,
          117,
          102,
          41,
          20,
          404,
          57,
          33,
          14,
          4,
          407,
          484,
          97,
          295,
          296,
          40,
          41,
          1,
          56,
          19,
          117,
          26,
          96,
          52,
          391,
          100,
          112,
          22,
          36,
          97,
          16,
          771,
          230,
          1,
          289,
          58,
          47,
          15,
          57,
          2,
          98,
          28,
          48,
          151,
          26,
          154,
          152,
          21,
          88,
          249,
          552,
          27,
          16,
          21,
          26,
          41,
          178,
          436,
          20,
          33,
          414,
          239,
          132,
          54,
          391,
          40,
          9,
          34,
          205,
          13,
          385,
          2,
          22,
          96,
          21,
          777,
          34,
          168,
          76,
          119,
          48,
          42,
          30,
          117,
          273,
          29,
          69,
          54,
          399,
          376,
          85,
          719,
          27,
          72,
          282,
          434,
          125,
          64,
          27,
          51,
          112,
          155,
          189,
          29,
          421,
          92,
          555,
          413,
          28,
          22,
          29,
          121,
          98,
          104,
          49,
          452,
          1,
          36,
          116,
          99,
          28,
          7,
          34,
          180,
          72,
          26,
          186,
          92,
          49,
          79,
          61,
          203,
          44,
          41,
          5,
          369,
          84,
          240,
          16,
          19,
          264,
          17,
          44,
          7,
          100,
          85,
          71,
          58,
          25,
          224,
          48,
          27,
          79,
          172,
          41,
          48,
          160,
          183,
          525,
          70,
          6,
          244,
          6,
          210,
          85,
          1166,
          114,
          189,
          204,
          174,
          19,
          58,
          406,
          138,
          410,
          65,
          2,
          107,
          30,
          70,
          25,
          36,
          39,
          4,
          0,
          36,
          57,
          483,
          15,
          386,
          97,
          69,
          89,
          882,
          134,
          46,
          236,
          103,
          9,
          71,
          57,
          835,
          51,
          97,
          196,
          160,
          86,
          688,
          114,
          464,
          25,
          496,
          5,
          119,
          19,
          68,
          390,
          96,
          345,
          33,
          1098,
          76,
          19,
          302,
          9,
          72,
          32,
          467,
          170,
          120,
          519,
          25,
          180,
          534,
          121,
          89,
          648,
          114,
          6,
          79,
          54,
          21,
          89,
          299,
          36,
          35,
          32,
          14,
          369,
          6,
          28,
          19,
          43,
          114,
          12,
          42,
          61,
          110,
          29,
          8,
          421,
          781,
          35,
          40,
          59,
          8,
          349,
          9,
          95,
          15,
          70,
          201,
          188,
          59,
          29,
          149,
          81,
          187,
          30,
          47,
          29,
          79,
          29,
          162,
          101,
          30,
          23,
          110,
          8,
          36,
          162,
          183,
          200,
          253,
          491,
          125,
          327,
          111,
          92,
          432,
          108,
          47,
          765,
          386,
          20,
          126,
          89,
          79,
          187,
          196,
          534,
          41,
          320,
          30,
          76,
          63,
          131,
          79,
          120,
          226,
          606,
          70,
          2,
          25,
          48,
          399,
          37,
          103,
          64,
          90,
          119,
          31,
          357,
          344,
          58,
          8,
          106,
          504,
          58,
          49,
          198,
          183,
          117,
          349,
          406,
          583,
          27,
          337,
          193,
          226,
          146,
          36,
          69,
          202,
          104,
          172,
          12,
          153,
          130,
          11,
          107,
          4,
          72,
          350,
          35,
          285,
          55,
          30,
          114,
          238,
          581,
          54,
          1000,
          13,
          30,
          54,
          75,
          28,
          154,
          286,
          221,
          117,
          20,
          43,
          9,
          4,
          54,
          202
         ],
         "y": [
          887,
          1744,
          3050,
          7756,
          3249,
          3256,
          14474,
          1734,
          59,
          968,
          1114,
          6107,
          1587,
          4806,
          4261,
          585,
          914,
          2584,
          3214,
          368,
          5564,
          662,
          1056,
          814,
          1057,
          201,
          2236,
          926,
          1171,
          5528,
          2496,
          1791,
          2356,
          265,
          1456,
          6609,
          497,
          88,
          738,
          1515,
          2538,
          833,
          5087,
          658,
          3488,
          7888,
          5664,
          1638,
          3831,
          1623,
          171,
          4868,
          4502,
          161,
          4523,
          649,
          4376,
          2052,
          862,
          4511,
          3324,
          2853,
          1838,
          629,
          600,
          744,
          1334,
          2889,
          2799,
          983,
          386,
          274,
          2441,
          4751,
          2934,
          11790,
          1698,
          5907,
          3675,
          1739,
          1586,
          1182,
          1522,
          660,
          792,
          2474,
          2568,
          5719,
          4205,
          2684,
          10502,
          3888,
          2187,
          2262,
          131,
          604,
          1727,
          266,
          415,
          4411,
          1460,
          2685,
          6766,
          321,
          809,
          2454,
          3289,
          1539,
          583,
          7295,
          3288,
          3196,
          1873,
          6255,
          1527,
          1006,
          2563,
          658,
          1339,
          950,
          1674,
          1279,
          537,
          17,
          1263,
          1138,
          2035,
          565,
          3038,
          3790,
          640,
          3242,
          11166,
          6076,
          905,
          1680,
          1537,
          5402,
          1771,
          1662,
          885,
          2472,
          2533,
          844,
          1475,
          3157,
          3913,
          2307,
          2754,
          2648,
          1206,
          2830,
          1422,
          2946,
          5889,
          3202,
          12129,
          8953,
          3651,
          1950,
          2870,
          288,
          551,
          1660,
          1077,
          5691,
          1149,
          4246,
          113,
          10879,
          2149,
          2373,
          2541,
          476,
          1300,
          6339,
          2270,
          2854,
          2353,
          3985,
          1600,
          2900,
          1581,
          3041,
          1859,
          2370,
          1398,
          3256,
          3335,
          1503,
          6528,
          4282,
          2172,
          3273,
          8351,
          1322,
          2840,
          1687,
          1052,
          6346,
          1762,
          1121,
          4532,
          4934,
          2652,
          2215,
          2974,
          2391,
          798,
          1059,
          2881,
          1080,
          2333,
          4801,
          7199,
          2550,
          4656,
          1174,
          3195,
          1459,
          584,
          4075,
          1081,
          3317,
          5482,
          1711,
          2012,
          1299,
          158,
          3342,
          5272,
          3540,
          2502,
          1377,
          343,
          3908,
          269,
          1205,
          756,
          1988,
          3357,
          1268,
          1156,
          1043,
          2139,
          3645,
          2163,
          125,
          3236,
          10311,
          2200,
          1302,
          2567,
          2340,
          4359,
          1246,
          2768,
          3486,
          1832,
          5479,
          944,
          684,
          934,
          1644,
          826,
          1220,
          3511,
          2847,
          462,
          229,
          4659,
          1040,
          3072,
          3083,
          4589,
          2657,
          1187,
          924,
          367,
          2456,
          2983,
          3419,
          1383,
          4256,
          3737,
          2680,
          4047,
          3889,
          2271,
          6987,
          2523,
          81,
          2819,
          4174,
          3584,
          3078,
          4354,
          1361,
          1255,
          3921,
          1570,
          2454,
          1284,
          4716,
          1888,
          2190,
          6499,
          9350,
          2223,
          147,
          3164,
          6050,
          11820,
          1398,
          237,
          227,
          1299,
          251,
          884,
          1990,
          5249,
          785,
          8237,
          359,
          4878,
          2163,
          2583,
          9299,
          886,
          3249,
          737,
          2533,
          218,
          3690,
          12874,
          2872,
          4931,
          744,
          5040,
          2358,
          1215,
          3256,
          6367,
          1572,
          2279,
          4427,
          7722,
          2203,
          3159,
          1804,
          1935,
          955,
          2241,
          384,
          72,
          1913,
          2710,
          1058,
          1792,
          2372,
          310,
          710,
          1669,
          1388,
          1082,
          3173,
          3636,
          1733,
          1091,
          4198,
          304,
          1418,
          7755,
          3761,
          4762,
          865,
          1157,
          1131,
          864,
          8698,
          4866,
          6761,
          195,
          2773,
          2153,
          1507,
          529,
          9801,
          2725,
          7624,
          3868,
          7610,
          959,
          900,
          470,
          1243,
          6492,
          7955,
          644,
          386,
          2517,
          2518,
          696,
          1429,
          3748,
          858,
          2934,
          1707,
          8828,
          2698,
          2257,
          2834,
          2202,
          2260,
          3153,
          2121,
          8282,
          10605,
          89,
          1570,
          3313,
          1889,
          3101,
          5620,
          2618,
          909,
          1686,
          4417,
          2172,
          3059,
          4643,
          8182,
          5953,
          1520,
          3908,
          5016,
          449,
          2746,
          984,
          2244,
          3919,
          14174,
          454,
          1145,
          5991,
          2281,
          4909,
          50,
          288,
          330,
          8675,
          4987,
          1469,
          2238,
          2741,
          5,
          2580,
          7661,
          2296,
          5142,
          4492,
          2845,
          3247,
          2988,
          3231,
          1962,
          318,
          1879,
          2095,
          1347,
          757,
          3654,
          2936,
          1259,
          2632,
          1740,
          644,
          3931,
          1010,
          5420,
          368,
          1007,
          1315,
          2727,
          2394,
          1548,
          10663,
          594,
          3766,
          7443,
          2254,
          2723,
          2922,
          4432,
          401,
          2456,
          3206,
          1562,
          922,
          2565,
          475,
          640,
          4300,
          1304,
          2426,
          2258,
          1253,
          795,
          3784,
          936,
          2350,
          1343,
          1613,
          1909,
          6321,
          2072,
          3145,
          2203,
          1686,
          2889,
          371,
          3807,
          1205,
          1241,
          777,
          2302,
          3794,
          2477,
          154,
          3983,
          855,
          2453,
          1257,
          2986,
          742,
          2750,
          1320,
          1429,
          2220,
          5503,
          1582,
          3062,
          1032,
          5089,
          1735,
          17,
          5341,
          5254,
          1758,
          162,
          775,
          4154,
          1419,
          5530,
          2462,
          1871,
          4326,
          8321,
          7234,
          2218,
          1396,
          6460,
          2894,
          377,
          572,
          2576,
          2163,
          8241,
          2368,
          2488,
          274,
          2031,
          2673,
          1821,
          2965,
          1971,
          3909,
          1229,
          7903,
          1567,
          3819,
          1832,
          2182,
          1467,
          730,
          740,
          3087,
          1219,
          7474,
          2494,
          1840,
          1988,
          1441,
          240,
          1406,
          7254,
          1278,
          2876,
          1062,
          1824,
          3455,
          6843,
          730,
          8647,
          160,
          689,
          9063,
          4115,
          1456,
          2770,
          4893,
          1056,
          133,
          2207,
          3922,
          6109,
          954,
          2618,
          1460,
          616,
          1008,
          3310,
          15117,
          1453,
          5154,
          48,
          3221,
          2664,
          877,
          4716,
          4272,
          3622,
          6978,
          3301,
          7398,
          740,
          529,
          2914,
          2086,
          6236,
          3279,
          222,
          2787,
          5979,
          3496,
          2068,
          1420,
          2342,
          98,
          4160,
          3816,
          5633,
          1136,
          967,
          945,
          2170,
          23,
          3833,
          3134,
          4793,
          971,
          1686,
          887,
          3408,
          884,
          244,
          3364,
          3627,
          4625,
          764,
          3406,
          14143,
          12210,
          3949,
          1324,
          3053,
          1349,
          6412,
          3424,
          1341,
          4372,
          1085,
          3730,
          1966,
          8058,
          3980,
          25042,
          2603,
          1019,
          11471,
          5993,
          2181,
          3057,
          3233,
          1875,
          2923,
          1885,
          6122,
          1319,
          613,
          432,
          1307,
          1860,
          902,
          418,
          3125,
          5442,
          2096,
          1873,
          2595,
          1255,
          2578,
          3129,
          5225,
          4346,
          759,
          4493,
          4104,
          278,
          1271,
          4766,
          281,
          4283,
          965,
          49,
          1043,
          3991,
          1904,
          5565,
          3336,
          19052,
          1435,
          2955,
          5279,
          3130,
          1469,
          4915,
          5,
          2424,
          2943,
          4455,
          1038,
          2163,
          3589,
          816,
          5372,
          1428,
          1021,
          1603,
          439,
          2197,
          4266,
          3059,
          676,
          976,
          834,
          11892,
          14595,
          9133,
          5330,
          2054,
          5365,
          1244,
          1095,
          2243,
          4737,
          743,
          4233,
          1937,
          1707,
          1387,
          2821,
          2798,
          2075,
          3368,
          6442,
          2455,
          1736,
          849,
          994,
          2006,
          3361,
          6134,
          846,
          427,
          1055,
          381,
          6159,
          2375,
          6721,
          5455,
          8027,
          1494
         ]
        }
       ],
       "layout": {
        "legend": {
         "bgcolor": "#F5F6F9",
         "font": {
          "color": "#4D5663"
         }
        },
        "paper_bgcolor": "#F5F6F9",
        "plot_bgcolor": "#F5F6F9",
        "template": {
         "data": {
          "bar": [
           {
            "error_x": {
             "color": "#2a3f5f"
            },
            "error_y": {
             "color": "#2a3f5f"
            },
            "marker": {
             "line": {
              "color": "#E5ECF6",
              "width": 0.5
             }
            },
            "type": "bar"
           }
          ],
          "barpolar": [
           {
            "marker": {
             "line": {
              "color": "#E5ECF6",
              "width": 0.5
             }
            },
            "type": "barpolar"
           }
          ],
          "carpet": [
           {
            "aaxis": {
             "endlinecolor": "#2a3f5f",
             "gridcolor": "white",
             "linecolor": "white",
             "minorgridcolor": "white",
             "startlinecolor": "#2a3f5f"
            },
            "baxis": {
             "endlinecolor": "#2a3f5f",
             "gridcolor": "white",
             "linecolor": "white",
             "minorgridcolor": "white",
             "startlinecolor": "#2a3f5f"
            },
            "type": "carpet"
           }
          ],
          "choropleth": [
           {
            "colorbar": {
             "outlinewidth": 0,
             "ticks": ""
            },
            "type": "choropleth"
           }
          ],
          "contour": [
           {
            "colorbar": {
             "outlinewidth": 0,
             "ticks": ""
            },
            "colorscale": [
             [
              0,
              "#0d0887"
             ],
             [
              0.1111111111111111,
              "#46039f"
             ],
             [
              0.2222222222222222,
              "#7201a8"
             ],
             [
              0.3333333333333333,
              "#9c179e"
             ],
             [
              0.4444444444444444,
              "#bd3786"
             ],
             [
              0.5555555555555556,
              "#d8576b"
             ],
             [
              0.6666666666666666,
              "#ed7953"
             ],
             [
              0.7777777777777778,
              "#fb9f3a"
             ],
             [
              0.8888888888888888,
              "#fdca26"
             ],
             [
              1,
              "#f0f921"
             ]
            ],
            "type": "contour"
           }
          ],
          "contourcarpet": [
           {
            "colorbar": {
             "outlinewidth": 0,
             "ticks": ""
            },
            "type": "contourcarpet"
           }
          ],
          "heatmap": [
           {
            "colorbar": {
             "outlinewidth": 0,
             "ticks": ""
            },
            "colorscale": [
             [
              0,
              "#0d0887"
             ],
             [
              0.1111111111111111,
              "#46039f"
             ],
             [
              0.2222222222222222,
              "#7201a8"
             ],
             [
              0.3333333333333333,
              "#9c179e"
             ],
             [
              0.4444444444444444,
              "#bd3786"
             ],
             [
              0.5555555555555556,
              "#d8576b"
             ],
             [
              0.6666666666666666,
              "#ed7953"
             ],
             [
              0.7777777777777778,
              "#fb9f3a"
             ],
             [
              0.8888888888888888,
              "#fdca26"
             ],
             [
              1,
              "#f0f921"
             ]
            ],
            "type": "heatmap"
           }
          ],
          "heatmapgl": [
           {
            "colorbar": {
             "outlinewidth": 0,
             "ticks": ""
            },
            "colorscale": [
             [
              0,
              "#0d0887"
             ],
             [
              0.1111111111111111,
              "#46039f"
             ],
             [
              0.2222222222222222,
              "#7201a8"
             ],
             [
              0.3333333333333333,
              "#9c179e"
             ],
             [
              0.4444444444444444,
              "#bd3786"
             ],
             [
              0.5555555555555556,
              "#d8576b"
             ],
             [
              0.6666666666666666,
              "#ed7953"
             ],
             [
              0.7777777777777778,
              "#fb9f3a"
             ],
             [
              0.8888888888888888,
              "#fdca26"
             ],
             [
              1,
              "#f0f921"
             ]
            ],
            "type": "heatmapgl"
           }
          ],
          "histogram": [
           {
            "marker": {
             "colorbar": {
              "outlinewidth": 0,
              "ticks": ""
             }
            },
            "type": "histogram"
           }
          ],
          "histogram2d": [
           {
            "colorbar": {
             "outlinewidth": 0,
             "ticks": ""
            },
            "colorscale": [
             [
              0,
              "#0d0887"
             ],
             [
              0.1111111111111111,
              "#46039f"
             ],
             [
              0.2222222222222222,
              "#7201a8"
             ],
             [
              0.3333333333333333,
              "#9c179e"
             ],
             [
              0.4444444444444444,
              "#bd3786"
             ],
             [
              0.5555555555555556,
              "#d8576b"
             ],
             [
              0.6666666666666666,
              "#ed7953"
             ],
             [
              0.7777777777777778,
              "#fb9f3a"
             ],
             [
              0.8888888888888888,
              "#fdca26"
             ],
             [
              1,
              "#f0f921"
             ]
            ],
            "type": "histogram2d"
           }
          ],
          "histogram2dcontour": [
           {
            "colorbar": {
             "outlinewidth": 0,
             "ticks": ""
            },
            "colorscale": [
             [
              0,
              "#0d0887"
             ],
             [
              0.1111111111111111,
              "#46039f"
             ],
             [
              0.2222222222222222,
              "#7201a8"
             ],
             [
              0.3333333333333333,
              "#9c179e"
             ],
             [
              0.4444444444444444,
              "#bd3786"
             ],
             [
              0.5555555555555556,
              "#d8576b"
             ],
             [
              0.6666666666666666,
              "#ed7953"
             ],
             [
              0.7777777777777778,
              "#fb9f3a"
             ],
             [
              0.8888888888888888,
              "#fdca26"
             ],
             [
              1,
              "#f0f921"
             ]
            ],
            "type": "histogram2dcontour"
           }
          ],
          "mesh3d": [
           {
            "colorbar": {
             "outlinewidth": 0,
             "ticks": ""
            },
            "type": "mesh3d"
           }
          ],
          "parcoords": [
           {
            "line": {
             "colorbar": {
              "outlinewidth": 0,
              "ticks": ""
             }
            },
            "type": "parcoords"
           }
          ],
          "pie": [
           {
            "automargin": true,
            "type": "pie"
           }
          ],
          "scatter": [
           {
            "marker": {
             "colorbar": {
              "outlinewidth": 0,
              "ticks": ""
             }
            },
            "type": "scatter"
           }
          ],
          "scatter3d": [
           {
            "line": {
             "colorbar": {
              "outlinewidth": 0,
              "ticks": ""
             }
            },
            "marker": {
             "colorbar": {
              "outlinewidth": 0,
              "ticks": ""
             }
            },
            "type": "scatter3d"
           }
          ],
          "scattercarpet": [
           {
            "marker": {
             "colorbar": {
              "outlinewidth": 0,
              "ticks": ""
             }
            },
            "type": "scattercarpet"
           }
          ],
          "scattergeo": [
           {
            "marker": {
             "colorbar": {
              "outlinewidth": 0,
              "ticks": ""
             }
            },
            "type": "scattergeo"
           }
          ],
          "scattergl": [
           {
            "marker": {
             "colorbar": {
              "outlinewidth": 0,
              "ticks": ""
             }
            },
            "type": "scattergl"
           }
          ],
          "scattermapbox": [
           {
            "marker": {
             "colorbar": {
              "outlinewidth": 0,
              "ticks": ""
             }
            },
            "type": "scattermapbox"
           }
          ],
          "scatterpolar": [
           {
            "marker": {
             "colorbar": {
              "outlinewidth": 0,
              "ticks": ""
             }
            },
            "type": "scatterpolar"
           }
          ],
          "scatterpolargl": [
           {
            "marker": {
             "colorbar": {
              "outlinewidth": 0,
              "ticks": ""
             }
            },
            "type": "scatterpolargl"
           }
          ],
          "scatterternary": [
           {
            "marker": {
             "colorbar": {
              "outlinewidth": 0,
              "ticks": ""
             }
            },
            "type": "scatterternary"
           }
          ],
          "surface": [
           {
            "colorbar": {
             "outlinewidth": 0,
             "ticks": ""
            },
            "colorscale": [
             [
              0,
              "#0d0887"
             ],
             [
              0.1111111111111111,
              "#46039f"
             ],
             [
              0.2222222222222222,
              "#7201a8"
             ],
             [
              0.3333333333333333,
              "#9c179e"
             ],
             [
              0.4444444444444444,
              "#bd3786"
             ],
             [
              0.5555555555555556,
              "#d8576b"
             ],
             [
              0.6666666666666666,
              "#ed7953"
             ],
             [
              0.7777777777777778,
              "#fb9f3a"
             ],
             [
              0.8888888888888888,
              "#fdca26"
             ],
             [
              1,
              "#f0f921"
             ]
            ],
            "type": "surface"
           }
          ],
          "table": [
           {
            "cells": {
             "fill": {
              "color": "#EBF0F8"
             },
             "line": {
              "color": "white"
             }
            },
            "header": {
             "fill": {
              "color": "#C8D4E3"
             },
             "line": {
              "color": "white"
             }
            },
            "type": "table"
           }
          ]
         },
         "layout": {
          "annotationdefaults": {
           "arrowcolor": "#2a3f5f",
           "arrowhead": 0,
           "arrowwidth": 1
          },
          "autotypenumbers": "strict",
          "coloraxis": {
           "colorbar": {
            "outlinewidth": 0,
            "ticks": ""
           }
          },
          "colorscale": {
           "diverging": [
            [
             0,
             "#8e0152"
            ],
            [
             0.1,
             "#c51b7d"
            ],
            [
             0.2,
             "#de77ae"
            ],
            [
             0.3,
             "#f1b6da"
            ],
            [
             0.4,
             "#fde0ef"
            ],
            [
             0.5,
             "#f7f7f7"
            ],
            [
             0.6,
             "#e6f5d0"
            ],
            [
             0.7,
             "#b8e186"
            ],
            [
             0.8,
             "#7fbc41"
            ],
            [
             0.9,
             "#4d9221"
            ],
            [
             1,
             "#276419"
            ]
           ],
           "sequential": [
            [
             0,
             "#0d0887"
            ],
            [
             0.1111111111111111,
             "#46039f"
            ],
            [
             0.2222222222222222,
             "#7201a8"
            ],
            [
             0.3333333333333333,
             "#9c179e"
            ],
            [
             0.4444444444444444,
             "#bd3786"
            ],
            [
             0.5555555555555556,
             "#d8576b"
            ],
            [
             0.6666666666666666,
             "#ed7953"
            ],
            [
             0.7777777777777778,
             "#fb9f3a"
            ],
            [
             0.8888888888888888,
             "#fdca26"
            ],
            [
             1,
             "#f0f921"
            ]
           ],
           "sequentialminus": [
            [
             0,
             "#0d0887"
            ],
            [
             0.1111111111111111,
             "#46039f"
            ],
            [
             0.2222222222222222,
             "#7201a8"
            ],
            [
             0.3333333333333333,
             "#9c179e"
            ],
            [
             0.4444444444444444,
             "#bd3786"
            ],
            [
             0.5555555555555556,
             "#d8576b"
            ],
            [
             0.6666666666666666,
             "#ed7953"
            ],
            [
             0.7777777777777778,
             "#fb9f3a"
            ],
            [
             0.8888888888888888,
             "#fdca26"
            ],
            [
             1,
             "#f0f921"
            ]
           ]
          },
          "colorway": [
           "#636efa",
           "#EF553B",
           "#00cc96",
           "#ab63fa",
           "#FFA15A",
           "#19d3f3",
           "#FF6692",
           "#B6E880",
           "#FF97FF",
           "#FECB52"
          ],
          "font": {
           "color": "#2a3f5f"
          },
          "geo": {
           "bgcolor": "white",
           "lakecolor": "white",
           "landcolor": "#E5ECF6",
           "showlakes": true,
           "showland": true,
           "subunitcolor": "white"
          },
          "hoverlabel": {
           "align": "left"
          },
          "hovermode": "closest",
          "mapbox": {
           "style": "light"
          },
          "paper_bgcolor": "white",
          "plot_bgcolor": "#E5ECF6",
          "polar": {
           "angularaxis": {
            "gridcolor": "white",
            "linecolor": "white",
            "ticks": ""
           },
           "bgcolor": "#E5ECF6",
           "radialaxis": {
            "gridcolor": "white",
            "linecolor": "white",
            "ticks": ""
           }
          },
          "scene": {
           "xaxis": {
            "backgroundcolor": "#E5ECF6",
            "gridcolor": "white",
            "gridwidth": 2,
            "linecolor": "white",
            "showbackground": true,
            "ticks": "",
            "zerolinecolor": "white"
           },
           "yaxis": {
            "backgroundcolor": "#E5ECF6",
            "gridcolor": "white",
            "gridwidth": 2,
            "linecolor": "white",
            "showbackground": true,
            "ticks": "",
            "zerolinecolor": "white"
           },
           "zaxis": {
            "backgroundcolor": "#E5ECF6",
            "gridcolor": "white",
            "gridwidth": 2,
            "linecolor": "white",
            "showbackground": true,
            "ticks": "",
            "zerolinecolor": "white"
           }
          },
          "shapedefaults": {
           "line": {
            "color": "#2a3f5f"
           }
          },
          "ternary": {
           "aaxis": {
            "gridcolor": "white",
            "linecolor": "white",
            "ticks": ""
           },
           "baxis": {
            "gridcolor": "white",
            "linecolor": "white",
            "ticks": ""
           },
           "bgcolor": "#E5ECF6",
           "caxis": {
            "gridcolor": "white",
            "linecolor": "white",
            "ticks": ""
           }
          },
          "title": {
           "x": 0.05
          },
          "xaxis": {
           "automargin": true,
           "gridcolor": "white",
           "linecolor": "white",
           "ticks": "",
           "title": {
            "standoff": 15
           },
           "zerolinecolor": "white",
           "zerolinewidth": 2
          },
          "yaxis": {
           "automargin": true,
           "gridcolor": "white",
           "linecolor": "white",
           "ticks": "",
           "title": {
            "standoff": 15
           },
           "zerolinecolor": "white",
           "zerolinewidth": 2
          }
         }
        },
        "title": {
         "font": {
          "color": "#4D5663"
         }
        },
        "xaxis": {
         "gridcolor": "#E1E5ED",
         "showgrid": true,
         "tickfont": {
          "color": "#4D5663"
         },
         "title": {
          "font": {
           "color": "#4D5663"
          },
          "text": ""
         },
         "zerolinecolor": "#E1E5ED"
        },
        "yaxis": {
         "gridcolor": "#E1E5ED",
         "showgrid": true,
         "tickfont": {
          "color": "#4D5663"
         },
         "title": {
          "font": {
           "color": "#4D5663"
          },
          "text": ""
         },
         "zerolinecolor": "#E1E5ED"
        }
       }
      },
      "text/html": [
       "<div>                            <div id=\"bd596c1a-e6bd-4cc6-a46f-ed949a24784d\" class=\"plotly-graph-div\" style=\"height:525px; width:100%;\"></div>            <script type=\"text/javascript\">                require([\"plotly\"], function(Plotly) {                    window.PLOTLYENV=window.PLOTLYENV || {};\n",
       "                    window.PLOTLYENV.BASE_URL='https://plot.ly';                                    if (document.getElementById(\"bd596c1a-e6bd-4cc6-a46f-ed949a24784d\")) {                    Plotly.newPlot(                        \"bd596c1a-e6bd-4cc6-a46f-ed949a24784d\",                        [{\"line\": {\"color\": \"rgba(255, 153, 51, 1.0)\", \"dash\": \"solid\", \"shape\": \"linear\", \"width\": 1.3}, \"marker\": {\"size\": 12, \"symbol\": \"circle\"}, \"mode\": \"markers\", \"name\": \"monetary_value\", \"text\": \"\", \"type\": \"scatter\", \"x\": [415, 12, 88, 54, 34, 28, 41, 60, 41, 41, 25, 29, 55, 6, 22, 192, 166, 278, 19, 118, 184, 8, 111, 28, 19, 114, 125, 232, 21, 11, 230, 259, 78, 14, 845, 6, 14, 534, 21, 50, 6, 92, 55, 282, 97, 410, 162, 41, 13, 160, 77, 75, 166, 501, 58, 20, 13, 41, 415, 96, 98, 46, 85, 74, 91, 105, 39, 74, 28, 83, 212, 25, 17, 121, 202, 307, 89, 16, 1, 203, 65, 39, 334, 77, 57, 12, 336, 33, 119, 137, 558, 28, 302, 98, 75, 560, 254, 24, 659, 35, 9, 91, 28, 278, 100, 35, 97, 69, 9, 33, 582, 20, 36, 23, 93, 57, 1, 327, 218, 265, 131, 91, 162, 365, 106, 22, 40, 708, 25, 96, 54, 96, 189, 47, 49, 401, 691, 82, 457, 8, 489, 106, 26, 232, 8, 39, 20, 385, 26, 56, 42, 254, 13, 120, 160, 6, 43, 37, 2, 26, 0, 436, 27, 39, 424, 58, 338, 197, 27, 284, 57, 43, 34, 470, 549, 27, 29, 799, 105, 1035, 78, 60, 82, 120, 399, 5, 85, 21, 37, 100, 3, 45, 21, 57, 50, 114, 241, 7, 126, 57, 93, 19, 16, 277, 42, 6, 48, 700, 10, 812, 23, 69, 9, 10, 84, 719, 53, 23, 32, 22, 57, 22, 264, 19, 358, 187, 637, 133, 352, 29, 217, 76, 48, 481, 98, 107, 41, 242, 119, 33, 12, 26, 12, 776, 217, 48, 302, 77, 35, 135, 287, 44, 132, 55, 90, 421, 100, 135, 22, 12, 161, 217, 151, 0, 405, 2, 40, 152, 53, 47, 28, 113, 113, 152, 48, 57, 82, 105, 158, 7, 97, 70, 34, 37, 36, 38, 23, 184, 212, 5, 145, 362, 75, 50, 83, 16, 7, 387, 106, 149, 62, 157, 1136, 13, 5, 28, 112, 56, 43, 2, 152, 117, 36, 5, 765, 34, 13, 769, 12, 30, 159, 54, 2, 126, 151, 69, 20, 117, 35, 23, 247, 21, 72, 6, 43, 409, 390, 71, 142, 758, 8, 57, 1, 6, 65, 61, 42, 119, 37, 37, 92, 225, 2, 287, 114, 105, 44, 175, 7, 2, 5, 483, 37, 193, 121, 49, 8, 102, 215, 54, 0, 119, 48, 61, 180, 8, 593, 42, 68, 46, 84, 51, 753, 158, 117, 223, 174, 21, 614, 109, 534, 394, 41, 737, 463, 5, 92, 29, 43, 112, 28, 7, 300, 461, 28, 57, 117, 102, 41, 20, 404, 57, 33, 14, 4, 407, 484, 97, 295, 296, 40, 41, 1, 56, 19, 117, 26, 96, 52, 391, 100, 112, 22, 36, 97, 16, 771, 230, 1, 289, 58, 47, 15, 57, 2, 98, 28, 48, 151, 26, 154, 152, 21, 88, 249, 552, 27, 16, 21, 26, 41, 178, 436, 20, 33, 414, 239, 132, 54, 391, 40, 9, 34, 205, 13, 385, 2, 22, 96, 21, 777, 34, 168, 76, 119, 48, 42, 30, 117, 273, 29, 69, 54, 399, 376, 85, 719, 27, 72, 282, 434, 125, 64, 27, 51, 112, 155, 189, 29, 421, 92, 555, 413, 28, 22, 29, 121, 98, 104, 49, 452, 1, 36, 116, 99, 28, 7, 34, 180, 72, 26, 186, 92, 49, 79, 61, 203, 44, 41, 5, 369, 84, 240, 16, 19, 264, 17, 44, 7, 100, 85, 71, 58, 25, 224, 48, 27, 79, 172, 41, 48, 160, 183, 525, 70, 6, 244, 6, 210, 85, 1166, 114, 189, 204, 174, 19, 58, 406, 138, 410, 65, 2, 107, 30, 70, 25, 36, 39, 4, 0, 36, 57, 483, 15, 386, 97, 69, 89, 882, 134, 46, 236, 103, 9, 71, 57, 835, 51, 97, 196, 160, 86, 688, 114, 464, 25, 496, 5, 119, 19, 68, 390, 96, 345, 33, 1098, 76, 19, 302, 9, 72, 32, 467, 170, 120, 519, 25, 180, 534, 121, 89, 648, 114, 6, 79, 54, 21, 89, 299, 36, 35, 32, 14, 369, 6, 28, 19, 43, 114, 12, 42, 61, 110, 29, 8, 421, 781, 35, 40, 59, 8, 349, 9, 95, 15, 70, 201, 188, 59, 29, 149, 81, 187, 30, 47, 29, 79, 29, 162, 101, 30, 23, 110, 8, 36, 162, 183, 200, 253, 491, 125, 327, 111, 92, 432, 108, 47, 765, 386, 20, 126, 89, 79, 187, 196, 534, 41, 320, 30, 76, 63, 131, 79, 120, 226, 606, 70, 2, 25, 48, 399, 37, 103, 64, 90, 119, 31, 357, 344, 58, 8, 106, 504, 58, 49, 198, 183, 117, 349, 406, 583, 27, 337, 193, 226, 146, 36, 69, 202, 104, 172, 12, 153, 130, 11, 107, 4, 72, 350, 35, 285, 55, 30, 114, 238, 581, 54, 1000, 13, 30, 54, 75, 28, 154, 286, 221, 117, 20, 43, 9, 4, 54, 202], \"y\": [887, 1744, 3050, 7756, 3249, 3256, 14474, 1734, 59, 968, 1114, 6107, 1587, 4806, 4261, 585, 914, 2584, 3214, 368, 5564, 662, 1056, 814, 1057, 201, 2236, 926, 1171, 5528, 2496, 1791, 2356, 265, 1456, 6609, 497, 88, 738, 1515, 2538, 833, 5087, 658, 3488, 7888, 5664, 1638, 3831, 1623, 171, 4868, 4502, 161, 4523, 649, 4376, 2052, 862, 4511, 3324, 2853, 1838, 629, 600, 744, 1334, 2889, 2799, 983, 386, 274, 2441, 4751, 2934, 11790, 1698, 5907, 3675, 1739, 1586, 1182, 1522, 660, 792, 2474, 2568, 5719, 4205, 2684, 10502, 3888, 2187, 2262, 131, 604, 1727, 266, 415, 4411, 1460, 2685, 6766, 321, 809, 2454, 3289, 1539, 583, 7295, 3288, 3196, 1873, 6255, 1527, 1006, 2563, 658, 1339, 950, 1674, 1279, 537, 17, 1263, 1138, 2035, 565, 3038, 3790, 640, 3242, 11166, 6076, 905, 1680, 1537, 5402, 1771, 1662, 885, 2472, 2533, 844, 1475, 3157, 3913, 2307, 2754, 2648, 1206, 2830, 1422, 2946, 5889, 3202, 12129, 8953, 3651, 1950, 2870, 288, 551, 1660, 1077, 5691, 1149, 4246, 113, 10879, 2149, 2373, 2541, 476, 1300, 6339, 2270, 2854, 2353, 3985, 1600, 2900, 1581, 3041, 1859, 2370, 1398, 3256, 3335, 1503, 6528, 4282, 2172, 3273, 8351, 1322, 2840, 1687, 1052, 6346, 1762, 1121, 4532, 4934, 2652, 2215, 2974, 2391, 798, 1059, 2881, 1080, 2333, 4801, 7199, 2550, 4656, 1174, 3195, 1459, 584, 4075, 1081, 3317, 5482, 1711, 2012, 1299, 158, 3342, 5272, 3540, 2502, 1377, 343, 3908, 269, 1205, 756, 1988, 3357, 1268, 1156, 1043, 2139, 3645, 2163, 125, 3236, 10311, 2200, 1302, 2567, 2340, 4359, 1246, 2768, 3486, 1832, 5479, 944, 684, 934, 1644, 826, 1220, 3511, 2847, 462, 229, 4659, 1040, 3072, 3083, 4589, 2657, 1187, 924, 367, 2456, 2983, 3419, 1383, 4256, 3737, 2680, 4047, 3889, 2271, 6987, 2523, 81, 2819, 4174, 3584, 3078, 4354, 1361, 1255, 3921, 1570, 2454, 1284, 4716, 1888, 2190, 6499, 9350, 2223, 147, 3164, 6050, 11820, 1398, 237, 227, 1299, 251, 884, 1990, 5249, 785, 8237, 359, 4878, 2163, 2583, 9299, 886, 3249, 737, 2533, 218, 3690, 12874, 2872, 4931, 744, 5040, 2358, 1215, 3256, 6367, 1572, 2279, 4427, 7722, 2203, 3159, 1804, 1935, 955, 2241, 384, 72, 1913, 2710, 1058, 1792, 2372, 310, 710, 1669, 1388, 1082, 3173, 3636, 1733, 1091, 4198, 304, 1418, 7755, 3761, 4762, 865, 1157, 1131, 864, 8698, 4866, 6761, 195, 2773, 2153, 1507, 529, 9801, 2725, 7624, 3868, 7610, 959, 900, 470, 1243, 6492, 7955, 644, 386, 2517, 2518, 696, 1429, 3748, 858, 2934, 1707, 8828, 2698, 2257, 2834, 2202, 2260, 3153, 2121, 8282, 10605, 89, 1570, 3313, 1889, 3101, 5620, 2618, 909, 1686, 4417, 2172, 3059, 4643, 8182, 5953, 1520, 3908, 5016, 449, 2746, 984, 2244, 3919, 14174, 454, 1145, 5991, 2281, 4909, 50, 288, 330, 8675, 4987, 1469, 2238, 2741, 5, 2580, 7661, 2296, 5142, 4492, 2845, 3247, 2988, 3231, 1962, 318, 1879, 2095, 1347, 757, 3654, 2936, 1259, 2632, 1740, 644, 3931, 1010, 5420, 368, 1007, 1315, 2727, 2394, 1548, 10663, 594, 3766, 7443, 2254, 2723, 2922, 4432, 401, 2456, 3206, 1562, 922, 2565, 475, 640, 4300, 1304, 2426, 2258, 1253, 795, 3784, 936, 2350, 1343, 1613, 1909, 6321, 2072, 3145, 2203, 1686, 2889, 371, 3807, 1205, 1241, 777, 2302, 3794, 2477, 154, 3983, 855, 2453, 1257, 2986, 742, 2750, 1320, 1429, 2220, 5503, 1582, 3062, 1032, 5089, 1735, 17, 5341, 5254, 1758, 162, 775, 4154, 1419, 5530, 2462, 1871, 4326, 8321, 7234, 2218, 1396, 6460, 2894, 377, 572, 2576, 2163, 8241, 2368, 2488, 274, 2031, 2673, 1821, 2965, 1971, 3909, 1229, 7903, 1567, 3819, 1832, 2182, 1467, 730, 740, 3087, 1219, 7474, 2494, 1840, 1988, 1441, 240, 1406, 7254, 1278, 2876, 1062, 1824, 3455, 6843, 730, 8647, 160, 689, 9063, 4115, 1456, 2770, 4893, 1056, 133, 2207, 3922, 6109, 954, 2618, 1460, 616, 1008, 3310, 15117, 1453, 5154, 48, 3221, 2664, 877, 4716, 4272, 3622, 6978, 3301, 7398, 740, 529, 2914, 2086, 6236, 3279, 222, 2787, 5979, 3496, 2068, 1420, 2342, 98, 4160, 3816, 5633, 1136, 967, 945, 2170, 23, 3833, 3134, 4793, 971, 1686, 887, 3408, 884, 244, 3364, 3627, 4625, 764, 3406, 14143, 12210, 3949, 1324, 3053, 1349, 6412, 3424, 1341, 4372, 1085, 3730, 1966, 8058, 3980, 25042, 2603, 1019, 11471, 5993, 2181, 3057, 3233, 1875, 2923, 1885, 6122, 1319, 613, 432, 1307, 1860, 902, 418, 3125, 5442, 2096, 1873, 2595, 1255, 2578, 3129, 5225, 4346, 759, 4493, 4104, 278, 1271, 4766, 281, 4283, 965, 49, 1043, 3991, 1904, 5565, 3336, 19052, 1435, 2955, 5279, 3130, 1469, 4915, 5, 2424, 2943, 4455, 1038, 2163, 3589, 816, 5372, 1428, 1021, 1603, 439, 2197, 4266, 3059, 676, 976, 834, 11892, 14595, 9133, 5330, 2054, 5365, 1244, 1095, 2243, 4737, 743, 4233, 1937, 1707, 1387, 2821, 2798, 2075, 3368, 6442, 2455, 1736, 849, 994, 2006, 3361, 6134, 846, 427, 1055, 381, 6159, 2375, 6721, 5455, 8027, 1494]}],                        {\"legend\": {\"bgcolor\": \"#F5F6F9\", \"font\": {\"color\": \"#4D5663\"}}, \"paper_bgcolor\": \"#F5F6F9\", \"plot_bgcolor\": \"#F5F6F9\", \"template\": {\"data\": {\"bar\": [{\"error_x\": {\"color\": \"#2a3f5f\"}, \"error_y\": {\"color\": \"#2a3f5f\"}, \"marker\": {\"line\": {\"color\": \"#E5ECF6\", \"width\": 0.5}}, \"type\": \"bar\"}], \"barpolar\": [{\"marker\": {\"line\": {\"color\": \"#E5ECF6\", \"width\": 0.5}}, \"type\": \"barpolar\"}], \"carpet\": [{\"aaxis\": {\"endlinecolor\": \"#2a3f5f\", \"gridcolor\": \"white\", \"linecolor\": \"white\", \"minorgridcolor\": \"white\", \"startlinecolor\": \"#2a3f5f\"}, \"baxis\": {\"endlinecolor\": \"#2a3f5f\", \"gridcolor\": \"white\", \"linecolor\": \"white\", \"minorgridcolor\": \"white\", \"startlinecolor\": \"#2a3f5f\"}, \"type\": \"carpet\"}], \"choropleth\": [{\"colorbar\": {\"outlinewidth\": 0, \"ticks\": \"\"}, \"type\": \"choropleth\"}], \"contour\": [{\"colorbar\": {\"outlinewidth\": 0, \"ticks\": \"\"}, \"colorscale\": [[0.0, \"#0d0887\"], [0.1111111111111111, \"#46039f\"], [0.2222222222222222, \"#7201a8\"], [0.3333333333333333, \"#9c179e\"], [0.4444444444444444, \"#bd3786\"], [0.5555555555555556, \"#d8576b\"], [0.6666666666666666, \"#ed7953\"], [0.7777777777777778, \"#fb9f3a\"], [0.8888888888888888, \"#fdca26\"], [1.0, \"#f0f921\"]], \"type\": \"contour\"}], \"contourcarpet\": [{\"colorbar\": {\"outlinewidth\": 0, \"ticks\": \"\"}, \"type\": \"contourcarpet\"}], \"heatmap\": [{\"colorbar\": {\"outlinewidth\": 0, \"ticks\": \"\"}, \"colorscale\": [[0.0, \"#0d0887\"], [0.1111111111111111, \"#46039f\"], [0.2222222222222222, \"#7201a8\"], [0.3333333333333333, \"#9c179e\"], [0.4444444444444444, \"#bd3786\"], [0.5555555555555556, \"#d8576b\"], [0.6666666666666666, \"#ed7953\"], [0.7777777777777778, \"#fb9f3a\"], [0.8888888888888888, \"#fdca26\"], [1.0, \"#f0f921\"]], \"type\": \"heatmap\"}], \"heatmapgl\": [{\"colorbar\": {\"outlinewidth\": 0, \"ticks\": \"\"}, \"colorscale\": [[0.0, \"#0d0887\"], [0.1111111111111111, \"#46039f\"], [0.2222222222222222, \"#7201a8\"], [0.3333333333333333, \"#9c179e\"], [0.4444444444444444, \"#bd3786\"], [0.5555555555555556, \"#d8576b\"], [0.6666666666666666, \"#ed7953\"], [0.7777777777777778, \"#fb9f3a\"], [0.8888888888888888, \"#fdca26\"], [1.0, \"#f0f921\"]], \"type\": \"heatmapgl\"}], \"histogram\": [{\"marker\": {\"colorbar\": {\"outlinewidth\": 0, \"ticks\": \"\"}}, \"type\": \"histogram\"}], \"histogram2d\": [{\"colorbar\": {\"outlinewidth\": 0, \"ticks\": \"\"}, \"colorscale\": [[0.0, \"#0d0887\"], [0.1111111111111111, \"#46039f\"], [0.2222222222222222, \"#7201a8\"], [0.3333333333333333, \"#9c179e\"], [0.4444444444444444, \"#bd3786\"], [0.5555555555555556, \"#d8576b\"], [0.6666666666666666, \"#ed7953\"], [0.7777777777777778, \"#fb9f3a\"], [0.8888888888888888, \"#fdca26\"], [1.0, \"#f0f921\"]], \"type\": \"histogram2d\"}], \"histogram2dcontour\": [{\"colorbar\": {\"outlinewidth\": 0, \"ticks\": \"\"}, \"colorscale\": [[0.0, \"#0d0887\"], [0.1111111111111111, \"#46039f\"], [0.2222222222222222, \"#7201a8\"], [0.3333333333333333, \"#9c179e\"], [0.4444444444444444, \"#bd3786\"], [0.5555555555555556, \"#d8576b\"], [0.6666666666666666, \"#ed7953\"], [0.7777777777777778, \"#fb9f3a\"], [0.8888888888888888, \"#fdca26\"], [1.0, \"#f0f921\"]], \"type\": \"histogram2dcontour\"}], \"mesh3d\": [{\"colorbar\": {\"outlinewidth\": 0, \"ticks\": \"\"}, \"type\": \"mesh3d\"}], \"parcoords\": [{\"line\": {\"colorbar\": {\"outlinewidth\": 0, \"ticks\": \"\"}}, \"type\": \"parcoords\"}], \"pie\": [{\"automargin\": true, \"type\": \"pie\"}], \"scatter\": [{\"marker\": {\"colorbar\": {\"outlinewidth\": 0, \"ticks\": \"\"}}, \"type\": \"scatter\"}], \"scatter3d\": [{\"line\": {\"colorbar\": {\"outlinewidth\": 0, \"ticks\": \"\"}}, \"marker\": {\"colorbar\": {\"outlinewidth\": 0, \"ticks\": \"\"}}, \"type\": \"scatter3d\"}], \"scattercarpet\": [{\"marker\": {\"colorbar\": {\"outlinewidth\": 0, \"ticks\": \"\"}}, \"type\": \"scattercarpet\"}], \"scattergeo\": [{\"marker\": {\"colorbar\": {\"outlinewidth\": 0, \"ticks\": \"\"}}, \"type\": \"scattergeo\"}], \"scattergl\": [{\"marker\": {\"colorbar\": {\"outlinewidth\": 0, \"ticks\": \"\"}}, \"type\": \"scattergl\"}], \"scattermapbox\": [{\"marker\": {\"colorbar\": {\"outlinewidth\": 0, \"ticks\": \"\"}}, \"type\": \"scattermapbox\"}], \"scatterpolar\": [{\"marker\": {\"colorbar\": {\"outlinewidth\": 0, \"ticks\": \"\"}}, \"type\": \"scatterpolar\"}], \"scatterpolargl\": [{\"marker\": {\"colorbar\": {\"outlinewidth\": 0, \"ticks\": \"\"}}, \"type\": \"scatterpolargl\"}], \"scatterternary\": [{\"marker\": {\"colorbar\": {\"outlinewidth\": 0, \"ticks\": \"\"}}, \"type\": \"scatterternary\"}], \"surface\": [{\"colorbar\": {\"outlinewidth\": 0, \"ticks\": \"\"}, \"colorscale\": [[0.0, \"#0d0887\"], [0.1111111111111111, \"#46039f\"], [0.2222222222222222, \"#7201a8\"], [0.3333333333333333, \"#9c179e\"], [0.4444444444444444, \"#bd3786\"], [0.5555555555555556, \"#d8576b\"], [0.6666666666666666, \"#ed7953\"], [0.7777777777777778, \"#fb9f3a\"], [0.8888888888888888, \"#fdca26\"], [1.0, \"#f0f921\"]], \"type\": \"surface\"}], \"table\": [{\"cells\": {\"fill\": {\"color\": \"#EBF0F8\"}, \"line\": {\"color\": \"white\"}}, \"header\": {\"fill\": {\"color\": \"#C8D4E3\"}, \"line\": {\"color\": \"white\"}}, \"type\": \"table\"}]}, \"layout\": {\"annotationdefaults\": {\"arrowcolor\": \"#2a3f5f\", \"arrowhead\": 0, \"arrowwidth\": 1}, \"autotypenumbers\": \"strict\", \"coloraxis\": {\"colorbar\": {\"outlinewidth\": 0, \"ticks\": \"\"}}, \"colorscale\": {\"diverging\": [[0, \"#8e0152\"], [0.1, \"#c51b7d\"], [0.2, \"#de77ae\"], [0.3, \"#f1b6da\"], [0.4, \"#fde0ef\"], [0.5, \"#f7f7f7\"], [0.6, \"#e6f5d0\"], [0.7, \"#b8e186\"], [0.8, \"#7fbc41\"], [0.9, \"#4d9221\"], [1, \"#276419\"]], \"sequential\": [[0.0, \"#0d0887\"], [0.1111111111111111, \"#46039f\"], [0.2222222222222222, \"#7201a8\"], [0.3333333333333333, \"#9c179e\"], [0.4444444444444444, \"#bd3786\"], [0.5555555555555556, \"#d8576b\"], [0.6666666666666666, \"#ed7953\"], [0.7777777777777778, \"#fb9f3a\"], [0.8888888888888888, \"#fdca26\"], [1.0, \"#f0f921\"]], \"sequentialminus\": [[0.0, \"#0d0887\"], [0.1111111111111111, \"#46039f\"], [0.2222222222222222, \"#7201a8\"], [0.3333333333333333, \"#9c179e\"], [0.4444444444444444, \"#bd3786\"], [0.5555555555555556, \"#d8576b\"], [0.6666666666666666, \"#ed7953\"], [0.7777777777777778, \"#fb9f3a\"], [0.8888888888888888, \"#fdca26\"], [1.0, \"#f0f921\"]]}, \"colorway\": [\"#636efa\", \"#EF553B\", \"#00cc96\", \"#ab63fa\", \"#FFA15A\", \"#19d3f3\", \"#FF6692\", \"#B6E880\", \"#FF97FF\", \"#FECB52\"], \"font\": {\"color\": \"#2a3f5f\"}, \"geo\": {\"bgcolor\": \"white\", \"lakecolor\": \"white\", \"landcolor\": \"#E5ECF6\", \"showlakes\": true, \"showland\": true, \"subunitcolor\": \"white\"}, \"hoverlabel\": {\"align\": \"left\"}, \"hovermode\": \"closest\", \"mapbox\": {\"style\": \"light\"}, \"paper_bgcolor\": \"white\", \"plot_bgcolor\": \"#E5ECF6\", \"polar\": {\"angularaxis\": {\"gridcolor\": \"white\", \"linecolor\": \"white\", \"ticks\": \"\"}, \"bgcolor\": \"#E5ECF6\", \"radialaxis\": {\"gridcolor\": \"white\", \"linecolor\": \"white\", \"ticks\": \"\"}}, \"scene\": {\"xaxis\": {\"backgroundcolor\": \"#E5ECF6\", \"gridcolor\": \"white\", \"gridwidth\": 2, \"linecolor\": \"white\", \"showbackground\": true, \"ticks\": \"\", \"zerolinecolor\": \"white\"}, \"yaxis\": {\"backgroundcolor\": \"#E5ECF6\", \"gridcolor\": \"white\", \"gridwidth\": 2, \"linecolor\": \"white\", \"showbackground\": true, \"ticks\": \"\", \"zerolinecolor\": \"white\"}, \"zaxis\": {\"backgroundcolor\": \"#E5ECF6\", \"gridcolor\": \"white\", \"gridwidth\": 2, \"linecolor\": \"white\", \"showbackground\": true, \"ticks\": \"\", \"zerolinecolor\": \"white\"}}, \"shapedefaults\": {\"line\": {\"color\": \"#2a3f5f\"}}, \"ternary\": {\"aaxis\": {\"gridcolor\": \"white\", \"linecolor\": \"white\", \"ticks\": \"\"}, \"baxis\": {\"gridcolor\": \"white\", \"linecolor\": \"white\", \"ticks\": \"\"}, \"bgcolor\": \"#E5ECF6\", \"caxis\": {\"gridcolor\": \"white\", \"linecolor\": \"white\", \"ticks\": \"\"}}, \"title\": {\"x\": 0.05}, \"xaxis\": {\"automargin\": true, \"gridcolor\": \"white\", \"linecolor\": \"white\", \"ticks\": \"\", \"title\": {\"standoff\": 15}, \"zerolinecolor\": \"white\", \"zerolinewidth\": 2}, \"yaxis\": {\"automargin\": true, \"gridcolor\": \"white\", \"linecolor\": \"white\", \"ticks\": \"\", \"title\": {\"standoff\": 15}, \"zerolinecolor\": \"white\", \"zerolinewidth\": 2}}}, \"title\": {\"font\": {\"color\": \"#4D5663\"}}, \"xaxis\": {\"gridcolor\": \"#E1E5ED\", \"showgrid\": true, \"tickfont\": {\"color\": \"#4D5663\"}, \"title\": {\"font\": {\"color\": \"#4D5663\"}, \"text\": \"\"}, \"zerolinecolor\": \"#E1E5ED\"}, \"yaxis\": {\"gridcolor\": \"#E1E5ED\", \"showgrid\": true, \"tickfont\": {\"color\": \"#4D5663\"}, \"title\": {\"font\": {\"color\": \"#4D5663\"}, \"text\": \"\"}, \"zerolinecolor\": \"#E1E5ED\"}},                        {\"showLink\": true, \"linkText\": \"Export to plot.ly\", \"plotlyServerURL\": \"https://plot.ly\", \"responsive\": true}                    ).then(function(){\n",
       "                            \n",
       "var gd = document.getElementById('bd596c1a-e6bd-4cc6-a46f-ed949a24784d');\n",
       "var x = new MutationObserver(function (mutations, observer) {{\n",
       "        var display = window.getComputedStyle(gd).display;\n",
       "        if (!display || display === 'none') {{\n",
       "            console.log([gd, 'removed!']);\n",
       "            Plotly.purge(gd);\n",
       "            observer.disconnect();\n",
       "        }}\n",
       "}});\n",
       "\n",
       "// Listen for the removal of the full notebook cells\n",
       "var notebookContainer = gd.closest('#notebook-container');\n",
       "if (notebookContainer) {{\n",
       "    x.observe(notebookContainer, {childList: true});\n",
       "}}\n",
       "\n",
       "// Listen for the clearing of the current output cell\n",
       "var outputEl = gd.closest('.output');\n",
       "if (outputEl) {{\n",
       "    x.observe(outputEl, {childList: true});\n",
       "}}\n",
       "\n",
       "                        })                };                });            </script>        </div>"
      ]
     },
     "metadata": {},
     "output_type": "display_data"
    }
   ],
   "source": [
    "rfm.iplot(kind = 'scatter', x = 'recency', y = 'monetary_value', mode = 'markers')"
   ]
  },
  {
   "cell_type": "markdown",
   "metadata": {},
   "source": [
    "### Открываем и преобразовываем таблицу 'RFM201810'"
   ]
  },
  {
   "cell_type": "code",
   "execution_count": 45,
   "metadata": {},
   "outputs": [
    {
     "data": {
      "text/html": [
       "<div>\n",
       "<style scoped>\n",
       "    .dataframe tbody tr th:only-of-type {\n",
       "        vertical-align: middle;\n",
       "    }\n",
       "\n",
       "    .dataframe tbody tr th {\n",
       "        vertical-align: top;\n",
       "    }\n",
       "\n",
       "    .dataframe thead th {\n",
       "        text-align: right;\n",
       "    }\n",
       "</style>\n",
       "<table border=\"1\" class=\"dataframe\">\n",
       "  <thead>\n",
       "    <tr style=\"text-align: right;\">\n",
       "      <th></th>\n",
       "      <th>InvoiceNo</th>\n",
       "      <th>CustomerCode</th>\n",
       "      <th>InvoiceDate</th>\n",
       "      <th>Amount</th>\n",
       "    </tr>\n",
       "  </thead>\n",
       "  <tbody>\n",
       "    <tr>\n",
       "      <th>0</th>\n",
       "      <td>C0011810010001</td>\n",
       "      <td>19067290</td>\n",
       "      <td>2018-10-01 00:00:00.000</td>\n",
       "      <td>1716.00</td>\n",
       "    </tr>\n",
       "    <tr>\n",
       "      <th>1</th>\n",
       "      <td>C0011810010017</td>\n",
       "      <td>13233933</td>\n",
       "      <td>2018-10-01 00:00:00.000</td>\n",
       "      <td>1489.74</td>\n",
       "    </tr>\n",
       "    <tr>\n",
       "      <th>2</th>\n",
       "      <td>C0011810010020</td>\n",
       "      <td>99057968</td>\n",
       "      <td>2018-10-01 00:00:00.000</td>\n",
       "      <td>151.47</td>\n",
       "    </tr>\n",
       "    <tr>\n",
       "      <th>3</th>\n",
       "      <td>C0011810010021</td>\n",
       "      <td>80007276</td>\n",
       "      <td>2018-10-01 00:00:00.000</td>\n",
       "      <td>146.72</td>\n",
       "    </tr>\n",
       "    <tr>\n",
       "      <th>4</th>\n",
       "      <td>C0011810010024</td>\n",
       "      <td>13164076</td>\n",
       "      <td>2018-10-01 00:00:00.000</td>\n",
       "      <td>104.00</td>\n",
       "    </tr>\n",
       "    <tr>\n",
       "      <th>...</th>\n",
       "      <td>...</td>\n",
       "      <td>...</td>\n",
       "      <td>...</td>\n",
       "      <td>...</td>\n",
       "    </tr>\n",
       "    <tr>\n",
       "      <th>332725</th>\n",
       "      <td>S0081810310459</td>\n",
       "      <td>14092500</td>\n",
       "      <td>2018-10-31 00:00:00.000</td>\n",
       "      <td>3801.87</td>\n",
       "    </tr>\n",
       "    <tr>\n",
       "      <th>332726</th>\n",
       "      <td>S0081810310461</td>\n",
       "      <td>99065678</td>\n",
       "      <td>2018-10-31 00:00:00.000</td>\n",
       "      <td>5769.88</td>\n",
       "    </tr>\n",
       "    <tr>\n",
       "      <th>332727</th>\n",
       "      <td>S0081810310462</td>\n",
       "      <td>19029918</td>\n",
       "      <td>2018-10-31 00:00:00.000</td>\n",
       "      <td>736.88</td>\n",
       "    </tr>\n",
       "    <tr>\n",
       "      <th>332728</th>\n",
       "      <td>S0081810310463</td>\n",
       "      <td>13020033</td>\n",
       "      <td>2018-10-31 00:00:00.000</td>\n",
       "      <td>1475.20</td>\n",
       "    </tr>\n",
       "    <tr>\n",
       "      <th>332729</th>\n",
       "      <td>S0081810310466</td>\n",
       "      <td>13046679</td>\n",
       "      <td>2018-10-31 00:00:00.000</td>\n",
       "      <td>709.56</td>\n",
       "    </tr>\n",
       "  </tbody>\n",
       "</table>\n",
       "<p>332730 rows × 4 columns</p>\n",
       "</div>"
      ],
      "text/plain": [
       "             InvoiceNo CustomerCode              InvoiceDate   Amount\n",
       "0       C0011810010001     19067290  2018-10-01 00:00:00.000  1716.00\n",
       "1       C0011810010017     13233933  2018-10-01 00:00:00.000  1489.74\n",
       "2       C0011810010020     99057968  2018-10-01 00:00:00.000   151.47\n",
       "3       C0011810010021     80007276  2018-10-01 00:00:00.000   146.72\n",
       "4       C0011810010024     13164076  2018-10-01 00:00:00.000   104.00\n",
       "...                ...          ...                      ...      ...\n",
       "332725  S0081810310459     14092500  2018-10-31 00:00:00.000  3801.87\n",
       "332726  S0081810310461     99065678  2018-10-31 00:00:00.000  5769.88\n",
       "332727  S0081810310462     19029918  2018-10-31 00:00:00.000   736.88\n",
       "332728  S0081810310463     13020033  2018-10-31 00:00:00.000  1475.20\n",
       "332729  S0081810310466     13046679  2018-10-31 00:00:00.000   709.56\n",
       "\n",
       "[332730 rows x 4 columns]"
      ]
     },
     "execution_count": 45,
     "metadata": {},
     "output_type": "execute_result"
    }
   ],
   "source": [
    "rfm2018 = pd.read_csv('RFM201810.csv', low_memory=False)\n",
    "rfm2018"
   ]
  },
  {
   "cell_type": "code",
   "execution_count": 46,
   "metadata": {},
   "outputs": [
    {
     "name": "stdout",
     "output_type": "stream",
     "text": [
      "<class 'pandas.core.frame.DataFrame'>\n",
      "RangeIndex: 332730 entries, 0 to 332729\n",
      "Data columns (total 4 columns):\n",
      " #   Column        Non-Null Count   Dtype  \n",
      "---  ------        --------------   -----  \n",
      " 0   InvoiceNo     332730 non-null  object \n",
      " 1   CustomerCode  332730 non-null  object \n",
      " 2   InvoiceDate   332730 non-null  object \n",
      " 3   Amount        332730 non-null  float64\n",
      "dtypes: float64(1), object(3)\n",
      "memory usage: 10.2+ MB\n"
     ]
    }
   ],
   "source": [
    "rfm2018.info()"
   ]
  },
  {
   "cell_type": "code",
   "execution_count": 47,
   "metadata": {},
   "outputs": [],
   "source": [
    "# Приведём данные к тому формату, с которым можно работать.\n",
    "\n",
    "rfm2018['InvoiceDate'] = pd.to_datetime(rfm2018['InvoiceDate'])\n",
    "rfm2018['CustomerCode'] = rfm2018['CustomerCode'].apply(str)"
   ]
  },
  {
   "cell_type": "code",
   "execution_count": 48,
   "metadata": {},
   "outputs": [
    {
     "name": "stdout",
     "output_type": "stream",
     "text": [
      "<class 'pandas.core.frame.DataFrame'>\n",
      "RangeIndex: 332730 entries, 0 to 332729\n",
      "Data columns (total 4 columns):\n",
      " #   Column        Non-Null Count   Dtype         \n",
      "---  ------        --------------   -----         \n",
      " 0   InvoiceNo     332730 non-null  object        \n",
      " 1   CustomerCode  332730 non-null  object        \n",
      " 2   InvoiceDate   332730 non-null  datetime64[ns]\n",
      " 3   Amount        332730 non-null  float64       \n",
      "dtypes: datetime64[ns](1), float64(1), object(2)\n",
      "memory usage: 10.2+ MB\n"
     ]
    }
   ],
   "source": [
    "rfm2018.info()"
   ]
  },
  {
   "cell_type": "code",
   "execution_count": 49,
   "metadata": {},
   "outputs": [
    {
     "data": {
      "text/plain": [
       "InvoiceNo       0\n",
       "CustomerCode    0\n",
       "InvoiceDate     0\n",
       "Amount          0\n",
       "dtype: int64"
      ]
     },
     "execution_count": 49,
     "metadata": {},
     "output_type": "execute_result"
    }
   ],
   "source": [
    "# Проверим, есть ли пустые поля:\n",
    "rfm2018.isna().sum()"
   ]
  },
  {
   "cell_type": "code",
   "execution_count": 50,
   "metadata": {},
   "outputs": [
    {
     "data": {
      "text/plain": [
       "InvoiceNo            S0081810310466\n",
       "CustomerCode               99099972\n",
       "InvoiceDate     2018-10-31 00:00:00\n",
       "Amount                       131874\n",
       "dtype: object"
      ]
     },
     "execution_count": 50,
     "metadata": {},
     "output_type": "execute_result"
    }
   ],
   "source": [
    "# Смотрим последнюю дату - InvoiceDate:\n",
    "rfm2018.max()"
   ]
  },
  {
   "cell_type": "markdown",
   "metadata": {},
   "source": [
    "### Создаём таблицу RFM2018"
   ]
  },
  {
   "cell_type": "code",
   "execution_count": 51,
   "metadata": {},
   "outputs": [
    {
     "data": {
      "text/plain": [
       "datetime.datetime(2018, 10, 31, 0, 0)"
      ]
     },
     "execution_count": 51,
     "metadata": {},
     "output_type": "execute_result"
    }
   ],
   "source": [
    "# \"Именно эту дату мы будем использовать для расчёта новизны. \n",
    "# Установите эту дату на текущий день и извлеките все заказы до вчерашнего дня.\" - См. выше \"Создаём таблицу RFM\"\n",
    "import datetime as dt\n",
    "last_date2018 = dt.datetime(2018,10,31)\n",
    "last_date2018"
   ]
  },
  {
   "cell_type": "code",
   "execution_count": 52,
   "metadata": {},
   "outputs": [
    {
     "data": {
      "text/html": [
       "<div>\n",
       "<style scoped>\n",
       "    .dataframe tbody tr th:only-of-type {\n",
       "        vertical-align: middle;\n",
       "    }\n",
       "\n",
       "    .dataframe tbody tr th {\n",
       "        vertical-align: top;\n",
       "    }\n",
       "\n",
       "    .dataframe thead th {\n",
       "        text-align: right;\n",
       "    }\n",
       "</style>\n",
       "<table border=\"1\" class=\"dataframe\">\n",
       "  <thead>\n",
       "    <tr style=\"text-align: right;\">\n",
       "      <th></th>\n",
       "      <th>InvoiceDate</th>\n",
       "      <th>CustomerCode</th>\n",
       "      <th>Amount</th>\n",
       "    </tr>\n",
       "    <tr>\n",
       "      <th>CustomerCode</th>\n",
       "      <th></th>\n",
       "      <th></th>\n",
       "      <th></th>\n",
       "    </tr>\n",
       "  </thead>\n",
       "  <tbody>\n",
       "    <tr>\n",
       "      <th>02213019</th>\n",
       "      <td>7</td>\n",
       "      <td>2</td>\n",
       "      <td>3770.76</td>\n",
       "    </tr>\n",
       "    <tr>\n",
       "      <th>02213042</th>\n",
       "      <td>23</td>\n",
       "      <td>3</td>\n",
       "      <td>9685.48</td>\n",
       "    </tr>\n",
       "    <tr>\n",
       "      <th>02213071</th>\n",
       "      <td>8</td>\n",
       "      <td>2</td>\n",
       "      <td>833.00</td>\n",
       "    </tr>\n",
       "    <tr>\n",
       "      <th>02213081</th>\n",
       "      <td>10</td>\n",
       "      <td>1</td>\n",
       "      <td>276.98</td>\n",
       "    </tr>\n",
       "    <tr>\n",
       "      <th>02213082</th>\n",
       "      <td>11</td>\n",
       "      <td>2</td>\n",
       "      <td>1215.96</td>\n",
       "    </tr>\n",
       "    <tr>\n",
       "      <th>...</th>\n",
       "      <td>...</td>\n",
       "      <td>...</td>\n",
       "      <td>...</td>\n",
       "    </tr>\n",
       "    <tr>\n",
       "      <th>99099927</th>\n",
       "      <td>11</td>\n",
       "      <td>1</td>\n",
       "      <td>961.10</td>\n",
       "    </tr>\n",
       "    <tr>\n",
       "      <th>99099936</th>\n",
       "      <td>1</td>\n",
       "      <td>1</td>\n",
       "      <td>1521.78</td>\n",
       "    </tr>\n",
       "    <tr>\n",
       "      <th>99099959</th>\n",
       "      <td>9</td>\n",
       "      <td>2</td>\n",
       "      <td>1444.56</td>\n",
       "    </tr>\n",
       "    <tr>\n",
       "      <th>99099963</th>\n",
       "      <td>20</td>\n",
       "      <td>1</td>\n",
       "      <td>3018.91</td>\n",
       "    </tr>\n",
       "    <tr>\n",
       "      <th>99099972</th>\n",
       "      <td>1</td>\n",
       "      <td>2</td>\n",
       "      <td>4577.37</td>\n",
       "    </tr>\n",
       "  </tbody>\n",
       "</table>\n",
       "<p>123593 rows × 3 columns</p>\n",
       "</div>"
      ],
      "text/plain": [
       "              InvoiceDate  CustomerCode   Amount\n",
       "CustomerCode                                    \n",
       "02213019                7             2  3770.76\n",
       "02213042               23             3  9685.48\n",
       "02213071                8             2   833.00\n",
       "02213081               10             1   276.98\n",
       "02213082               11             2  1215.96\n",
       "...                   ...           ...      ...\n",
       "99099927               11             1   961.10\n",
       "99099936                1             1  1521.78\n",
       "99099959                9             2  1444.56\n",
       "99099963               20             1  3018.91\n",
       "99099972                1             2  4577.37\n",
       "\n",
       "[123593 rows x 3 columns]"
      ]
     },
     "execution_count": 52,
     "metadata": {},
     "output_type": "execute_result"
    }
   ],
   "source": [
    "rfmtable2018 = rfm2018.groupby('CustomerCode').agg({'InvoiceDate': lambda x: (last_date2018 - x.max()).days,\n",
    "                                                    # Recency #Количество дней с последнего заказа\n",
    "                                                   'CustomerCode': lambda x: len(x), # Frequency #Количество заказов\n",
    "                                                    'Amount': lambda x: x.sum() # Monetary Value #Общая сумма по всем заказам\n",
    "                                                   })\n",
    "rfmtable2018"
   ]
  },
  {
   "cell_type": "code",
   "execution_count": 53,
   "metadata": {},
   "outputs": [
    {
     "name": "stdout",
     "output_type": "stream",
     "text": [
      "<class 'pandas.core.frame.DataFrame'>\n",
      "Index: 123593 entries, 02213019 to 99099972\n",
      "Data columns (total 3 columns):\n",
      " #   Column        Non-Null Count   Dtype  \n",
      "---  ------        --------------   -----  \n",
      " 0   InvoiceDate   123593 non-null  int64  \n",
      " 1   CustomerCode  123593 non-null  int64  \n",
      " 2   Amount        123593 non-null  float64\n",
      "dtypes: float64(1), int64(2)\n",
      "memory usage: 3.8+ MB\n"
     ]
    }
   ],
   "source": [
    "rfmtable2018.info()"
   ]
  },
  {
   "cell_type": "code",
   "execution_count": 54,
   "metadata": {},
   "outputs": [],
   "source": [
    "rfmtable2018['InvoiceDate'] = rfmtable2018['InvoiceDate'].astype(int)"
   ]
  },
  {
   "cell_type": "code",
   "execution_count": 55,
   "metadata": {},
   "outputs": [
    {
     "name": "stdout",
     "output_type": "stream",
     "text": [
      "<class 'pandas.core.frame.DataFrame'>\n",
      "Index: 123593 entries, 02213019 to 99099972\n",
      "Data columns (total 3 columns):\n",
      " #   Column        Non-Null Count   Dtype  \n",
      "---  ------        --------------   -----  \n",
      " 0   InvoiceDate   123593 non-null  int32  \n",
      " 1   CustomerCode  123593 non-null  int64  \n",
      " 2   Amount        123593 non-null  float64\n",
      "dtypes: float64(1), int32(1), int64(1)\n",
      "memory usage: 3.3+ MB\n"
     ]
    }
   ],
   "source": [
    "rfmtable2018.info()"
   ]
  },
  {
   "cell_type": "code",
   "execution_count": 56,
   "metadata": {},
   "outputs": [
    {
     "data": {
      "text/html": [
       "<div>\n",
       "<style scoped>\n",
       "    .dataframe tbody tr th:only-of-type {\n",
       "        vertical-align: middle;\n",
       "    }\n",
       "\n",
       "    .dataframe tbody tr th {\n",
       "        vertical-align: top;\n",
       "    }\n",
       "\n",
       "    .dataframe thead th {\n",
       "        text-align: right;\n",
       "    }\n",
       "</style>\n",
       "<table border=\"1\" class=\"dataframe\">\n",
       "  <thead>\n",
       "    <tr style=\"text-align: right;\">\n",
       "      <th></th>\n",
       "      <th>recency</th>\n",
       "      <th>frequency</th>\n",
       "      <th>monetary_value</th>\n",
       "    </tr>\n",
       "    <tr>\n",
       "      <th>CustomerCode</th>\n",
       "      <th></th>\n",
       "      <th></th>\n",
       "      <th></th>\n",
       "    </tr>\n",
       "  </thead>\n",
       "  <tbody>\n",
       "    <tr>\n",
       "      <th>02213019</th>\n",
       "      <td>7</td>\n",
       "      <td>2</td>\n",
       "      <td>3770.76</td>\n",
       "    </tr>\n",
       "    <tr>\n",
       "      <th>02213042</th>\n",
       "      <td>23</td>\n",
       "      <td>3</td>\n",
       "      <td>9685.48</td>\n",
       "    </tr>\n",
       "    <tr>\n",
       "      <th>02213071</th>\n",
       "      <td>8</td>\n",
       "      <td>2</td>\n",
       "      <td>833.00</td>\n",
       "    </tr>\n",
       "    <tr>\n",
       "      <th>02213081</th>\n",
       "      <td>10</td>\n",
       "      <td>1</td>\n",
       "      <td>276.98</td>\n",
       "    </tr>\n",
       "    <tr>\n",
       "      <th>02213082</th>\n",
       "      <td>11</td>\n",
       "      <td>2</td>\n",
       "      <td>1215.96</td>\n",
       "    </tr>\n",
       "    <tr>\n",
       "      <th>...</th>\n",
       "      <td>...</td>\n",
       "      <td>...</td>\n",
       "      <td>...</td>\n",
       "    </tr>\n",
       "    <tr>\n",
       "      <th>99099927</th>\n",
       "      <td>11</td>\n",
       "      <td>1</td>\n",
       "      <td>961.10</td>\n",
       "    </tr>\n",
       "    <tr>\n",
       "      <th>99099936</th>\n",
       "      <td>1</td>\n",
       "      <td>1</td>\n",
       "      <td>1521.78</td>\n",
       "    </tr>\n",
       "    <tr>\n",
       "      <th>99099959</th>\n",
       "      <td>9</td>\n",
       "      <td>2</td>\n",
       "      <td>1444.56</td>\n",
       "    </tr>\n",
       "    <tr>\n",
       "      <th>99099963</th>\n",
       "      <td>20</td>\n",
       "      <td>1</td>\n",
       "      <td>3018.91</td>\n",
       "    </tr>\n",
       "    <tr>\n",
       "      <th>99099972</th>\n",
       "      <td>1</td>\n",
       "      <td>2</td>\n",
       "      <td>4577.37</td>\n",
       "    </tr>\n",
       "  </tbody>\n",
       "</table>\n",
       "<p>123593 rows × 3 columns</p>\n",
       "</div>"
      ],
      "text/plain": [
       "              recency  frequency  monetary_value\n",
       "CustomerCode                                    \n",
       "02213019            7          2         3770.76\n",
       "02213042           23          3         9685.48\n",
       "02213071            8          2          833.00\n",
       "02213081           10          1          276.98\n",
       "02213082           11          2         1215.96\n",
       "...               ...        ...             ...\n",
       "99099927           11          1          961.10\n",
       "99099936            1          1         1521.78\n",
       "99099959            9          2         1444.56\n",
       "99099963           20          1         3018.91\n",
       "99099972            1          2         4577.37\n",
       "\n",
       "[123593 rows x 3 columns]"
      ]
     },
     "execution_count": 56,
     "metadata": {},
     "output_type": "execute_result"
    }
   ],
   "source": [
    "# Переименовываем названия столбцов:\n",
    "rfmtable2018.rename(columns = {'InvoiceDate': 'recency',\n",
    "                               'CustomerCode': 'frequency',\n",
    "                               'Amount': 'monetary_value'}, inplace = True)\n",
    "rfmtable2018"
   ]
  },
  {
   "cell_type": "markdown",
   "metadata": {},
   "source": [
    "### Теперь, делаем разбивку по квантилям.\n",
    "\n",
    "Возьмём четыре параметра: \n",
    "* 0,25 0,5 0,75 и 1. \n",
    "В Python имеется встроенная функция, которая позволит выполнить эту задачу:"
   ]
  },
  {
   "cell_type": "code",
   "execution_count": 57,
   "metadata": {},
   "outputs": [
    {
     "data": {
      "text/html": [
       "<div>\n",
       "<style scoped>\n",
       "    .dataframe tbody tr th:only-of-type {\n",
       "        vertical-align: middle;\n",
       "    }\n",
       "\n",
       "    .dataframe tbody tr th {\n",
       "        vertical-align: top;\n",
       "    }\n",
       "\n",
       "    .dataframe thead th {\n",
       "        text-align: right;\n",
       "    }\n",
       "</style>\n",
       "<table border=\"1\" class=\"dataframe\">\n",
       "  <thead>\n",
       "    <tr style=\"text-align: right;\">\n",
       "      <th></th>\n",
       "      <th>recency</th>\n",
       "      <th>frequency</th>\n",
       "      <th>monetary_value</th>\n",
       "    </tr>\n",
       "  </thead>\n",
       "  <tbody>\n",
       "    <tr>\n",
       "      <th>0.25</th>\n",
       "      <td>3.0</td>\n",
       "      <td>1.0</td>\n",
       "      <td>765.08</td>\n",
       "    </tr>\n",
       "    <tr>\n",
       "      <th>0.50</th>\n",
       "      <td>9.0</td>\n",
       "      <td>2.0</td>\n",
       "      <td>1836.30</td>\n",
       "    </tr>\n",
       "    <tr>\n",
       "      <th>0.75</th>\n",
       "      <td>17.0</td>\n",
       "      <td>3.0</td>\n",
       "      <td>4014.01</td>\n",
       "    </tr>\n",
       "  </tbody>\n",
       "</table>\n",
       "</div>"
      ],
      "text/plain": [
       "      recency  frequency  monetary_value\n",
       "0.25      3.0        1.0          765.08\n",
       "0.50      9.0        2.0         1836.30\n",
       "0.75     17.0        3.0         4014.01"
      ]
     },
     "execution_count": 57,
     "metadata": {},
     "output_type": "execute_result"
    }
   ],
   "source": [
    "quantiles2018 = rfmtable2018.quantile(q = [0.25,0.5,0.75])\n",
    "quantiles2018"
   ]
  },
  {
   "cell_type": "markdown",
   "metadata": {},
   "source": [
    "\"Чтобы нам было удобнее работать дальше с этими данными, их необходимо преобразовать в словарь.\n",
    "Теперь мы можем приступить к формированию таблицы сегментации:\" - См. пример выше..."
   ]
  },
  {
   "cell_type": "code",
   "execution_count": 58,
   "metadata": {},
   "outputs": [
    {
     "data": {
      "text/html": [
       "<div>\n",
       "<style scoped>\n",
       "    .dataframe tbody tr th:only-of-type {\n",
       "        vertical-align: middle;\n",
       "    }\n",
       "\n",
       "    .dataframe tbody tr th {\n",
       "        vertical-align: top;\n",
       "    }\n",
       "\n",
       "    .dataframe thead th {\n",
       "        text-align: right;\n",
       "    }\n",
       "</style>\n",
       "<table border=\"1\" class=\"dataframe\">\n",
       "  <thead>\n",
       "    <tr style=\"text-align: right;\">\n",
       "      <th></th>\n",
       "      <th>recency</th>\n",
       "      <th>frequency</th>\n",
       "      <th>monetary_value</th>\n",
       "    </tr>\n",
       "    <tr>\n",
       "      <th>CustomerCode</th>\n",
       "      <th></th>\n",
       "      <th></th>\n",
       "      <th></th>\n",
       "    </tr>\n",
       "  </thead>\n",
       "  <tbody>\n",
       "    <tr>\n",
       "      <th>02213019</th>\n",
       "      <td>7</td>\n",
       "      <td>2</td>\n",
       "      <td>3770.76</td>\n",
       "    </tr>\n",
       "    <tr>\n",
       "      <th>02213042</th>\n",
       "      <td>23</td>\n",
       "      <td>3</td>\n",
       "      <td>9685.48</td>\n",
       "    </tr>\n",
       "    <tr>\n",
       "      <th>02213071</th>\n",
       "      <td>8</td>\n",
       "      <td>2</td>\n",
       "      <td>833.00</td>\n",
       "    </tr>\n",
       "    <tr>\n",
       "      <th>02213081</th>\n",
       "      <td>10</td>\n",
       "      <td>1</td>\n",
       "      <td>276.98</td>\n",
       "    </tr>\n",
       "    <tr>\n",
       "      <th>02213082</th>\n",
       "      <td>11</td>\n",
       "      <td>2</td>\n",
       "      <td>1215.96</td>\n",
       "    </tr>\n",
       "    <tr>\n",
       "      <th>...</th>\n",
       "      <td>...</td>\n",
       "      <td>...</td>\n",
       "      <td>...</td>\n",
       "    </tr>\n",
       "    <tr>\n",
       "      <th>99099927</th>\n",
       "      <td>11</td>\n",
       "      <td>1</td>\n",
       "      <td>961.10</td>\n",
       "    </tr>\n",
       "    <tr>\n",
       "      <th>99099936</th>\n",
       "      <td>1</td>\n",
       "      <td>1</td>\n",
       "      <td>1521.78</td>\n",
       "    </tr>\n",
       "    <tr>\n",
       "      <th>99099959</th>\n",
       "      <td>9</td>\n",
       "      <td>2</td>\n",
       "      <td>1444.56</td>\n",
       "    </tr>\n",
       "    <tr>\n",
       "      <th>99099963</th>\n",
       "      <td>20</td>\n",
       "      <td>1</td>\n",
       "      <td>3018.91</td>\n",
       "    </tr>\n",
       "    <tr>\n",
       "      <th>99099972</th>\n",
       "      <td>1</td>\n",
       "      <td>2</td>\n",
       "      <td>4577.37</td>\n",
       "    </tr>\n",
       "  </tbody>\n",
       "</table>\n",
       "<p>123593 rows × 3 columns</p>\n",
       "</div>"
      ],
      "text/plain": [
       "              recency  frequency  monetary_value\n",
       "CustomerCode                                    \n",
       "02213019            7          2         3770.76\n",
       "02213042           23          3         9685.48\n",
       "02213071            8          2          833.00\n",
       "02213081           10          1          276.98\n",
       "02213082           11          2         1215.96\n",
       "...               ...        ...             ...\n",
       "99099927           11          1          961.10\n",
       "99099936            1          1         1521.78\n",
       "99099959            9          2         1444.56\n",
       "99099963           20          1         3018.91\n",
       "99099972            1          2         4577.37\n",
       "\n",
       "[123593 rows x 3 columns]"
      ]
     },
     "execution_count": 58,
     "metadata": {},
     "output_type": "execute_result"
    }
   ],
   "source": [
    "rfmSegmentation2018 = rfmtable2018\n",
    "rfmSegmentation2018"
   ]
  },
  {
   "cell_type": "markdown",
   "metadata": {},
   "source": [
    "\"Создадим вспомогательную таблицу, в которую и будем вносить все дальнейшие изменения.\n",
    "\n",
    "Здесь важно учесть, что показатель давности покупки будет лучше, если он меньше, поэтому создадим с вами две отдельные функции. Одна функция будет работать с показателем R, другая — с F и M.\" - См. пример выше..."
   ]
  },
  {
   "cell_type": "code",
   "execution_count": 59,
   "metadata": {},
   "outputs": [],
   "source": [
    "# Arguments (x = value, p = recency, frequency, monetary_value, k (probably b! not k?) = quartiles dict)\n",
    "def RClass(x,p,d):\n",
    "    if x <= d[p][0.25]:\n",
    "        return 1\n",
    "    elif x <= d[p][0.5]:\n",
    "        return 2\n",
    "    elif x <= d[p][0.75]:\n",
    "        return 3\n",
    "    else:\n",
    "        return 4\n",
    "\n",
    "# Arguments (x = value, p = recency, frequency, monetary_value, k (probably b! not k?) = quartiles dict)\n",
    "def FMClass(x,p,d):\n",
    "    if x <= d[p][0.25]:\n",
    "        return 4\n",
    "    elif x <= d[p][0.5]:\n",
    "        return 3\n",
    "    elif x <= d[p][0.75]:\n",
    "        return 2\n",
    "    else:\n",
    "        return 1"
   ]
  },
  {
   "cell_type": "markdown",
   "metadata": {},
   "source": [
    "\"Далее применим эти функции для нахождения значений по показателям у каждого покупателя: - См. пример выше...\n",
    "- в 1-м примере, ментор использует \"Quartile\" (\"R_Quartile\"), я использую \"Quantile\", т.к. используем квантили\""
   ]
  },
  {
   "cell_type": "code",
   "execution_count": 60,
   "metadata": {},
   "outputs": [],
   "source": [
    "rfmSegmentation2018['R_Quantile'] = rfmSegmentation2018['recency'].apply(RClass, args=('recency',quantiles,))\n",
    "\n",
    "rfmSegmentation2018['F_Quantile'] = rfmSegmentation2018['frequency'].apply(FMClass, args=('frequency',quantiles,))\n",
    "\n",
    "rfmSegmentation2018['M_Quantile'] = rfmSegmentation2018['monetary_value'].apply(FMClass, args=('monetary_value',quantiles,))"
   ]
  },
  {
   "cell_type": "code",
   "execution_count": 61,
   "metadata": {},
   "outputs": [
    {
     "data": {
      "text/html": [
       "<div>\n",
       "<style scoped>\n",
       "    .dataframe tbody tr th:only-of-type {\n",
       "        vertical-align: middle;\n",
       "    }\n",
       "\n",
       "    .dataframe tbody tr th {\n",
       "        vertical-align: top;\n",
       "    }\n",
       "\n",
       "    .dataframe thead th {\n",
       "        text-align: right;\n",
       "    }\n",
       "</style>\n",
       "<table border=\"1\" class=\"dataframe\">\n",
       "  <thead>\n",
       "    <tr style=\"text-align: right;\">\n",
       "      <th></th>\n",
       "      <th>recency</th>\n",
       "      <th>frequency</th>\n",
       "      <th>monetary_value</th>\n",
       "      <th>R_Quantile</th>\n",
       "      <th>F_Quantile</th>\n",
       "      <th>M_Quantile</th>\n",
       "    </tr>\n",
       "    <tr>\n",
       "      <th>CustomerCode</th>\n",
       "      <th></th>\n",
       "      <th></th>\n",
       "      <th></th>\n",
       "      <th></th>\n",
       "      <th></th>\n",
       "      <th></th>\n",
       "    </tr>\n",
       "  </thead>\n",
       "  <tbody>\n",
       "    <tr>\n",
       "      <th>02213019</th>\n",
       "      <td>7</td>\n",
       "      <td>2</td>\n",
       "      <td>3770.76</td>\n",
       "      <td>1</td>\n",
       "      <td>4</td>\n",
       "      <td>2</td>\n",
       "    </tr>\n",
       "    <tr>\n",
       "      <th>02213042</th>\n",
       "      <td>23</td>\n",
       "      <td>3</td>\n",
       "      <td>9685.48</td>\n",
       "      <td>1</td>\n",
       "      <td>4</td>\n",
       "      <td>1</td>\n",
       "    </tr>\n",
       "    <tr>\n",
       "      <th>02213071</th>\n",
       "      <td>8</td>\n",
       "      <td>2</td>\n",
       "      <td>833.00</td>\n",
       "      <td>1</td>\n",
       "      <td>4</td>\n",
       "      <td>4</td>\n",
       "    </tr>\n",
       "    <tr>\n",
       "      <th>02213081</th>\n",
       "      <td>10</td>\n",
       "      <td>1</td>\n",
       "      <td>276.98</td>\n",
       "      <td>1</td>\n",
       "      <td>4</td>\n",
       "      <td>4</td>\n",
       "    </tr>\n",
       "    <tr>\n",
       "      <th>02213082</th>\n",
       "      <td>11</td>\n",
       "      <td>2</td>\n",
       "      <td>1215.96</td>\n",
       "      <td>1</td>\n",
       "      <td>4</td>\n",
       "      <td>3</td>\n",
       "    </tr>\n",
       "    <tr>\n",
       "      <th>...</th>\n",
       "      <td>...</td>\n",
       "      <td>...</td>\n",
       "      <td>...</td>\n",
       "      <td>...</td>\n",
       "      <td>...</td>\n",
       "      <td>...</td>\n",
       "    </tr>\n",
       "    <tr>\n",
       "      <th>99099927</th>\n",
       "      <td>11</td>\n",
       "      <td>1</td>\n",
       "      <td>961.10</td>\n",
       "      <td>1</td>\n",
       "      <td>4</td>\n",
       "      <td>4</td>\n",
       "    </tr>\n",
       "    <tr>\n",
       "      <th>99099936</th>\n",
       "      <td>1</td>\n",
       "      <td>1</td>\n",
       "      <td>1521.78</td>\n",
       "      <td>1</td>\n",
       "      <td>4</td>\n",
       "      <td>3</td>\n",
       "    </tr>\n",
       "    <tr>\n",
       "      <th>99099959</th>\n",
       "      <td>9</td>\n",
       "      <td>2</td>\n",
       "      <td>1444.56</td>\n",
       "      <td>1</td>\n",
       "      <td>4</td>\n",
       "      <td>3</td>\n",
       "    </tr>\n",
       "    <tr>\n",
       "      <th>99099963</th>\n",
       "      <td>20</td>\n",
       "      <td>1</td>\n",
       "      <td>3018.91</td>\n",
       "      <td>1</td>\n",
       "      <td>4</td>\n",
       "      <td>2</td>\n",
       "    </tr>\n",
       "    <tr>\n",
       "      <th>99099972</th>\n",
       "      <td>1</td>\n",
       "      <td>2</td>\n",
       "      <td>4577.37</td>\n",
       "      <td>1</td>\n",
       "      <td>4</td>\n",
       "      <td>1</td>\n",
       "    </tr>\n",
       "  </tbody>\n",
       "</table>\n",
       "<p>123593 rows × 6 columns</p>\n",
       "</div>"
      ],
      "text/plain": [
       "              recency  frequency  monetary_value  R_Quantile  F_Quantile  \\\n",
       "CustomerCode                                                               \n",
       "02213019            7          2         3770.76           1           4   \n",
       "02213042           23          3         9685.48           1           4   \n",
       "02213071            8          2          833.00           1           4   \n",
       "02213081           10          1          276.98           1           4   \n",
       "02213082           11          2         1215.96           1           4   \n",
       "...               ...        ...             ...         ...         ...   \n",
       "99099927           11          1          961.10           1           4   \n",
       "99099936            1          1         1521.78           1           4   \n",
       "99099959            9          2         1444.56           1           4   \n",
       "99099963           20          1         3018.91           1           4   \n",
       "99099972            1          2         4577.37           1           4   \n",
       "\n",
       "              M_Quantile  \n",
       "CustomerCode              \n",
       "02213019               2  \n",
       "02213042               1  \n",
       "02213071               4  \n",
       "02213081               4  \n",
       "02213082               3  \n",
       "...                  ...  \n",
       "99099927               4  \n",
       "99099936               3  \n",
       "99099959               3  \n",
       "99099963               2  \n",
       "99099972               1  \n",
       "\n",
       "[123593 rows x 6 columns]"
      ]
     },
     "execution_count": 61,
     "metadata": {},
     "output_type": "execute_result"
    }
   ],
   "source": [
    "rfmSegmentation2018"
   ]
  },
  {
   "cell_type": "code",
   "execution_count": 62,
   "metadata": {},
   "outputs": [
    {
     "data": {
      "text/html": [
       "<div>\n",
       "<style scoped>\n",
       "    .dataframe tbody tr th:only-of-type {\n",
       "        vertical-align: middle;\n",
       "    }\n",
       "\n",
       "    .dataframe tbody tr th {\n",
       "        vertical-align: top;\n",
       "    }\n",
       "\n",
       "    .dataframe thead th {\n",
       "        text-align: right;\n",
       "    }\n",
       "</style>\n",
       "<table border=\"1\" class=\"dataframe\">\n",
       "  <thead>\n",
       "    <tr style=\"text-align: right;\">\n",
       "      <th></th>\n",
       "      <th>recency</th>\n",
       "      <th>frequency</th>\n",
       "      <th>monetary_value</th>\n",
       "      <th>R_Quantile</th>\n",
       "      <th>F_Quantile</th>\n",
       "      <th>M_Quantile</th>\n",
       "      <th>RFMClass</th>\n",
       "    </tr>\n",
       "    <tr>\n",
       "      <th>CustomerCode</th>\n",
       "      <th></th>\n",
       "      <th></th>\n",
       "      <th></th>\n",
       "      <th></th>\n",
       "      <th></th>\n",
       "      <th></th>\n",
       "      <th></th>\n",
       "    </tr>\n",
       "  </thead>\n",
       "  <tbody>\n",
       "    <tr>\n",
       "      <th>02213019</th>\n",
       "      <td>7</td>\n",
       "      <td>2</td>\n",
       "      <td>3770.76</td>\n",
       "      <td>1</td>\n",
       "      <td>4</td>\n",
       "      <td>2</td>\n",
       "      <td>142</td>\n",
       "    </tr>\n",
       "    <tr>\n",
       "      <th>02213042</th>\n",
       "      <td>23</td>\n",
       "      <td>3</td>\n",
       "      <td>9685.48</td>\n",
       "      <td>1</td>\n",
       "      <td>4</td>\n",
       "      <td>1</td>\n",
       "      <td>141</td>\n",
       "    </tr>\n",
       "    <tr>\n",
       "      <th>02213071</th>\n",
       "      <td>8</td>\n",
       "      <td>2</td>\n",
       "      <td>833.00</td>\n",
       "      <td>1</td>\n",
       "      <td>4</td>\n",
       "      <td>4</td>\n",
       "      <td>144</td>\n",
       "    </tr>\n",
       "    <tr>\n",
       "      <th>02213081</th>\n",
       "      <td>10</td>\n",
       "      <td>1</td>\n",
       "      <td>276.98</td>\n",
       "      <td>1</td>\n",
       "      <td>4</td>\n",
       "      <td>4</td>\n",
       "      <td>144</td>\n",
       "    </tr>\n",
       "    <tr>\n",
       "      <th>02213082</th>\n",
       "      <td>11</td>\n",
       "      <td>2</td>\n",
       "      <td>1215.96</td>\n",
       "      <td>1</td>\n",
       "      <td>4</td>\n",
       "      <td>3</td>\n",
       "      <td>143</td>\n",
       "    </tr>\n",
       "    <tr>\n",
       "      <th>...</th>\n",
       "      <td>...</td>\n",
       "      <td>...</td>\n",
       "      <td>...</td>\n",
       "      <td>...</td>\n",
       "      <td>...</td>\n",
       "      <td>...</td>\n",
       "      <td>...</td>\n",
       "    </tr>\n",
       "    <tr>\n",
       "      <th>99099927</th>\n",
       "      <td>11</td>\n",
       "      <td>1</td>\n",
       "      <td>961.10</td>\n",
       "      <td>1</td>\n",
       "      <td>4</td>\n",
       "      <td>4</td>\n",
       "      <td>144</td>\n",
       "    </tr>\n",
       "    <tr>\n",
       "      <th>99099936</th>\n",
       "      <td>1</td>\n",
       "      <td>1</td>\n",
       "      <td>1521.78</td>\n",
       "      <td>1</td>\n",
       "      <td>4</td>\n",
       "      <td>3</td>\n",
       "      <td>143</td>\n",
       "    </tr>\n",
       "    <tr>\n",
       "      <th>99099959</th>\n",
       "      <td>9</td>\n",
       "      <td>2</td>\n",
       "      <td>1444.56</td>\n",
       "      <td>1</td>\n",
       "      <td>4</td>\n",
       "      <td>3</td>\n",
       "      <td>143</td>\n",
       "    </tr>\n",
       "    <tr>\n",
       "      <th>99099963</th>\n",
       "      <td>20</td>\n",
       "      <td>1</td>\n",
       "      <td>3018.91</td>\n",
       "      <td>1</td>\n",
       "      <td>4</td>\n",
       "      <td>2</td>\n",
       "      <td>142</td>\n",
       "    </tr>\n",
       "    <tr>\n",
       "      <th>99099972</th>\n",
       "      <td>1</td>\n",
       "      <td>2</td>\n",
       "      <td>4577.37</td>\n",
       "      <td>1</td>\n",
       "      <td>4</td>\n",
       "      <td>1</td>\n",
       "      <td>141</td>\n",
       "    </tr>\n",
       "  </tbody>\n",
       "</table>\n",
       "<p>123593 rows × 7 columns</p>\n",
       "</div>"
      ],
      "text/plain": [
       "              recency  frequency  monetary_value  R_Quantile  F_Quantile  \\\n",
       "CustomerCode                                                               \n",
       "02213019            7          2         3770.76           1           4   \n",
       "02213042           23          3         9685.48           1           4   \n",
       "02213071            8          2          833.00           1           4   \n",
       "02213081           10          1          276.98           1           4   \n",
       "02213082           11          2         1215.96           1           4   \n",
       "...               ...        ...             ...         ...         ...   \n",
       "99099927           11          1          961.10           1           4   \n",
       "99099936            1          1         1521.78           1           4   \n",
       "99099959            9          2         1444.56           1           4   \n",
       "99099963           20          1         3018.91           1           4   \n",
       "99099972            1          2         4577.37           1           4   \n",
       "\n",
       "              M_Quantile RFMClass  \n",
       "CustomerCode                       \n",
       "02213019               2      142  \n",
       "02213042               1      141  \n",
       "02213071               4      144  \n",
       "02213081               4      144  \n",
       "02213082               3      143  \n",
       "...                  ...      ...  \n",
       "99099927               4      144  \n",
       "99099936               3      143  \n",
       "99099959               3      143  \n",
       "99099963               2      142  \n",
       "99099972               1      141  \n",
       "\n",
       "[123593 rows x 7 columns]"
      ]
     },
     "execution_count": 62,
     "metadata": {},
     "output_type": "execute_result"
    }
   ],
   "source": [
    "# Получаем итоговый столбец:\n",
    "\n",
    "rfmSegmentation2018['RFMClass'] = rfmSegmentation2018.R_Quantile.map(str) +\\\n",
    "                                  rfmSegmentation2018.F_Quantile.map(str) +\\\n",
    "                                  rfmSegmentation2018.M_Quantile.map(str)\n",
    "rfmSegmentation2018"
   ]
  },
  {
   "cell_type": "markdown",
   "metadata": {},
   "source": [
    "##### Задание 7.1\n",
    "Постройте график с помощью встроенного в pandas метода plot(), который покажет, сколько человек находится в каждом из сегментов (сегмент — это, например, 111, 121, 444 и т. д.). В ответ напишите код Python, который позволит это выполнить. Назовем нашу таблицу rfm."
   ]
  },
  {
   "cell_type": "code",
   "execution_count": 63,
   "metadata": {},
   "outputs": [
    {
     "data": {
      "text/plain": [
       "<AxesSubplot:>"
      ]
     },
     "execution_count": 63,
     "metadata": {},
     "output_type": "execute_result"
    },
    {
     "data": {
      "image/png": "[encoded data removed]",
      "text/plain": [
       "<Figure size 432x288 with 1 Axes>"
      ]
     },
     "metadata": {},
     "output_type": "display_data"
    }
   ],
   "source": [
    "rfmSegmentation2018['RFMClass'].value_counts().plot()"
   ]
  },
  {
   "cell_type": "markdown",
   "metadata": {},
   "source": [
    "##### Задание 7.2\n",
    "Вспомните, какие дополнительные модули нужны для построения графика iplot(). Постройте график этого вида, который покажет зависимость между потраченной суммой и давностью покупки. Найдите давность покупки, когда была потрачена максимальная сумма. В ответе укажите через запятую без пробелов два числа: давность и сумму, округлите. Например, 9,1000000."
   ]
  },
  {
   "cell_type": "code",
   "execution_count": 64,
   "metadata": {},
   "outputs": [
    {
     "data": {
      "text/html": [
       "        <script type=\"text/javascript\">\n",
       "        window.PlotlyConfig = {MathJaxConfig: 'local'};\n",
       "        if (window.MathJax) {MathJax.Hub.Config({SVG: {font: \"STIX-Web\"}});}\n",
       "        if (typeof require !== 'undefined') {\n",
       "        require.undef(\"plotly\");\n",
       "        requirejs.config({\n",
       "            paths: {\n",
       "                'plotly': ['https://cdn.plot.ly/plotly-latest.min']\n",
       "            }\n",
       "        });\n",
       "        require(['plotly'], function(Plotly) {\n",
       "            window._Plotly = Plotly;\n",
       "        });\n",
       "        }\n",
       "        </script>\n",
       "        "
      ]
     },
     "metadata": {},
     "output_type": "display_data"
    },
    {
     "data": {
      "text/html": [
       "        <script type=\"text/javascript\">\n",
       "        window.PlotlyConfig = {MathJaxConfig: 'local'};\n",
       "        if (window.MathJax) {MathJax.Hub.Config({SVG: {font: \"STIX-Web\"}});}\n",
       "        if (typeof require !== 'undefined') {\n",
       "        require.undef(\"plotly\");\n",
       "        requirejs.config({\n",
       "            paths: {\n",
       "                'plotly': ['https://cdn.plot.ly/plotly-latest.min']\n",
       "            }\n",
       "        });\n",
       "        require(['plotly'], function(Plotly) {\n",
       "            window._Plotly = Plotly;\n",
       "        });\n",
       "        }\n",
       "        </script>\n",
       "        "
      ]
     },
     "metadata": {},
     "output_type": "display_data"
    }
   ],
   "source": [
    "import cufflinks as cf\n",
    "from plotly.offline import download_plotlyjs, init_notebook_mode, plot, iplot\n",
    "\n",
    "init_notebook_mode(connected=True)\n",
    "cf.go_offline()\n",
    "\n",
    "# rfmSegmentation2018.iplot(kind = 'scatter', x = 'recency', y = 'monetary_value', mode = 'markers')"
   ]
  },
  {
   "cell_type": "markdown",
   "metadata": {},
   "source": [
    "##### Задание 7.3\n",
    "Постройте столбчатую диаграмму (метод bar()) для визуального распределения клиентов по показателям 1,2,3 и 4 для M_Quartile. Какое утверждение неверно?"
   ]
  },
  {
   "cell_type": "code",
   "execution_count": 68,
   "metadata": {},
   "outputs": [
    {
     "ename": "NameError",
     "evalue": "name 'axesM' is not defined",
     "output_type": "error",
     "traceback": [
      "\u001b[1;31m---------------------------------------------------------------------------\u001b[0m",
      "\u001b[1;31mNameError\u001b[0m                                 Traceback (most recent call last)",
      "\u001b[1;32m<ipython-input-68-a0de5d238af3>\u001b[0m in \u001b[0;36m<module>\u001b[1;34m\u001b[0m\n\u001b[0;32m      4\u001b[0m \u001b[1;31m# Больше клиентов компании тратит мало\u001b[0m\u001b[1;33m\u001b[0m\u001b[1;33m\u001b[0m\u001b[1;33m\u001b[0m\u001b[0m\n\u001b[0;32m      5\u001b[0m \u001b[1;33m\u001b[0m\u001b[0m\n\u001b[1;32m----> 6\u001b[1;33m \u001b[0maxesM\u001b[0m\u001b[1;33m.\u001b[0m\u001b[0mbar\u001b[0m\u001b[1;33m(\u001b[0m\u001b[0mx\u001b[0m\u001b[1;33m=\u001b[0m\u001b[1;33m[\u001b[0m\u001b[1;34m'1'\u001b[0m\u001b[1;33m,\u001b[0m \u001b[1;34m'2'\u001b[0m\u001b[1;33m,\u001b[0m \u001b[1;34m'3'\u001b[0m\u001b[1;33m,\u001b[0m \u001b[1;34m'4'\u001b[0m\u001b[1;33m]\u001b[0m\u001b[1;33m,\u001b[0m \u001b[0mheight\u001b[0m \u001b[1;33m=\u001b[0m \u001b[0mrfmSegmentation2018\u001b[0m\u001b[1;33m[\u001b[0m\u001b[1;34m'M_Quantile'\u001b[0m\u001b[1;33m]\u001b[0m\u001b[1;33m.\u001b[0m\u001b[0mvalue_counts\u001b[0m\u001b[1;33m(\u001b[0m\u001b[1;33m)\u001b[0m\u001b[1;33m)\u001b[0m\u001b[1;33m\u001b[0m\u001b[1;33m\u001b[0m\u001b[0m\n\u001b[0m",
      "\u001b[1;31mNameError\u001b[0m: name 'axesM' is not defined"
     ]
    }
   ],
   "source": [
    "# ПРАВИЛЬНЫЙ ОТВЕТ:\n",
    "# Нет ни одного клиента, у которого F = 3                   верно\n",
    "# Количество клиентов с F=1, 2, 3 и 4 примерно одинаковое\n",
    "# Больше клиентов компании тратит мало\n",
    "\n",
    "axesM.bar(x=['1', '2', '3', '4'], height = rfmSegmentation2018['M_Quantile'].value_counts())"
   ]
  },
  {
   "cell_type": "code",
   "execution_count": null,
   "metadata": {},
   "outputs": [],
   "source": []
  },
  {
   "cell_type": "code",
   "execution_count": null,
   "metadata": {},
   "outputs": [],
   "source": []
  },
  {
   "cell_type": "code",
   "execution_count": null,
   "metadata": {},
   "outputs": [],
   "source": []
  },
  {
   "cell_type": "code",
   "execution_count": null,
   "metadata": {},
   "outputs": [],
   "source": []
  },
  {
   "cell_type": "code",
   "execution_count": null,
   "metadata": {},
   "outputs": [],
   "source": []
  },
  {
   "cell_type": "code",
   "execution_count": null,
   "metadata": {},
   "outputs": [],
   "source": []
  },
  {
   "cell_type": "code",
   "execution_count": null,
   "metadata": {},
   "outputs": [],
   "source": []
  },
  {
   "cell_type": "code",
   "execution_count": null,
   "metadata": {},
   "outputs": [],
   "source": []
  },
  {
   "cell_type": "code",
   "execution_count": null,
   "metadata": {},
   "outputs": [],
   "source": []
  },
  {
   "cell_type": "code",
   "execution_count": null,
   "metadata": {},
   "outputs": [],
   "source": []
  },
  {
   "cell_type": "code",
   "execution_count": null,
   "metadata": {},
   "outputs": [],
   "source": []
  },
  {
   "cell_type": "code",
   "execution_count": null,
   "metadata": {},
   "outputs": [],
   "source": []
  },
  {
   "cell_type": "code",
   "execution_count": null,
   "metadata": {},
   "outputs": [],
   "source": []
  },
  {
   "cell_type": "code",
   "execution_count": null,
   "metadata": {},
   "outputs": [],
   "source": []
  },
  {
   "cell_type": "code",
   "execution_count": null,
   "metadata": {},
   "outputs": [],
   "source": []
  },
  {
   "cell_type": "code",
   "execution_count": null,
   "metadata": {},
   "outputs": [],
   "source": []
  },
  {
   "cell_type": "code",
   "execution_count": null,
   "metadata": {},
   "outputs": [],
   "source": []
  },
  {
   "cell_type": "code",
   "execution_count": null,
   "metadata": {},
   "outputs": [],
   "source": []
  },
  {
   "cell_type": "code",
   "execution_count": null,
   "metadata": {},
   "outputs": [],
   "source": []
  },
  {
   "cell_type": "code",
   "execution_count": null,
   "metadata": {},
   "outputs": [],
   "source": []
  },
  {
   "cell_type": "code",
   "execution_count": null,
   "metadata": {},
   "outputs": [],
   "source": []
  },
  {
   "cell_type": "code",
   "execution_count": null,
   "metadata": {},
   "outputs": [],
   "source": []
  },
  {
   "cell_type": "code",
   "execution_count": null,
   "metadata": {},
   "outputs": [],
   "source": []
  },
  {
   "cell_type": "code",
   "execution_count": null,
   "metadata": {},
   "outputs": [],
   "source": []
  },
  {
   "cell_type": "code",
   "execution_count": null,
   "metadata": {},
   "outputs": [],
   "source": []
  },
  {
   "cell_type": "code",
   "execution_count": null,
   "metadata": {},
   "outputs": [],
   "source": []
  },
  {
   "cell_type": "code",
   "execution_count": null,
   "metadata": {},
   "outputs": [],
   "source": []
  },
  {
   "cell_type": "code",
   "execution_count": null,
   "metadata": {},
   "outputs": [],
   "source": []
  },
  {
   "cell_type": "code",
   "execution_count": null,
   "metadata": {},
   "outputs": [],
   "source": []
  },
  {
   "cell_type": "code",
   "execution_count": null,
   "metadata": {},
   "outputs": [],
   "source": []
  },
  {
   "cell_type": "code",
   "execution_count": null,
   "metadata": {},
   "outputs": [],
   "source": []
  },
  {
   "cell_type": "code",
   "execution_count": null,
   "metadata": {},
   "outputs": [],
   "source": []
  },
  {
   "cell_type": "code",
   "execution_count": null,
   "metadata": {},
   "outputs": [],
   "source": []
  },
  {
   "cell_type": "code",
   "execution_count": null,
   "metadata": {},
   "outputs": [],
   "source": []
  },
  {
   "cell_type": "code",
   "execution_count": null,
   "metadata": {},
   "outputs": [],
   "source": []
  },
  {
   "cell_type": "code",
   "execution_count": null,
   "metadata": {},
   "outputs": [],
   "source": []
  },
  {
   "cell_type": "code",
   "execution_count": null,
   "metadata": {},
   "outputs": [],
   "source": []
  },
  {
   "cell_type": "code",
   "execution_count": null,
   "metadata": {},
   "outputs": [],
   "source": []
  },
  {
   "cell_type": "code",
   "execution_count": null,
   "metadata": {},
   "outputs": [],
   "source": []
  },
  {
   "cell_type": "code",
   "execution_count": null,
   "metadata": {},
   "outputs": [],
   "source": []
  },
  {
   "cell_type": "code",
   "execution_count": null,
   "metadata": {},
   "outputs": [],
   "source": []
  },
  {
   "cell_type": "code",
   "execution_count": null,
   "metadata": {},
   "outputs": [],
   "source": []
  },
  {
   "cell_type": "code",
   "execution_count": null,
   "metadata": {},
   "outputs": [],
   "source": []
  },
  {
   "cell_type": "code",
   "execution_count": null,
   "metadata": {},
   "outputs": [],
   "source": []
  }
 ],
 "metadata": {
  "kernelspec": {
   "display_name": "Python 3",
   "language": "python",
   "name": "python3"
  },
  "language_info": {
   "codemirror_mode": {
    "name": "ipython",
    "version": 3
   },
   "file_extension": ".py",
   "mimetype": "text/x-python",
   "name": "python",
   "nbconvert_exporter": "python",
   "pygments_lexer": "ipython3",
   "version": "3.8.5"
  }
 },
 "nbformat": 4,
 "nbformat_minor": 4
}
