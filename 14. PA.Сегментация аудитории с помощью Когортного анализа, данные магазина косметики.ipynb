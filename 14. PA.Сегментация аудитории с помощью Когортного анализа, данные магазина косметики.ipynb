{
 "cells": [
  {
   "cell_type": "markdown",
   "metadata": {},
   "source": [
    "### 9. Практика 2"
   ]
  },
  {
   "cell_type": "markdown",
   "metadata": {},
   "source": [
    "В этом уроке вы попробуете провести когортный анализ самостоятельно. Для рассмотрения когортного анализа будет использовать один из самых популярных инструментов — Microsoft Excel. \n",
    "\n",
    "Для дальнейшей работы необходимо скачать файл. >>> https://lms.skillfactory.ru/assets/courseware/v1/daba02ee7e73bbb2017ab991f1e12d58/asset-v1:SkillFactory+DAPR-PA+14FEB2020+type@asset+block/%D0%91%D0%B0%D0%B7%D0%B0_%D0%B4%D0%BB%D1%8F_%D0%BA%D0%BE%D0%B3%D0%BE%D1%80%D1%82%D0%BD%D0%BE%D0%B3%D0%BE.xlsx\n",
    "\n",
    "##### Условия\n",
    "С 01.11.2019 г. небольшой магазин профессиональной косметики ввёл в работу карты лояльности, которые выдают в подарок при любой покупке. Всего выдано карт: 3135. Базу вы найдёте в файле, который скачали.\n",
    "\n",
    "##### Задание\n",
    "Проанализировать данные компании с помощью когортного анализа, используя сводные таблицы Microsoft Excel.\n",
    "\n",
    "В нашем файле данные компании уже представлены, поэтому самую основную проблему — отсутствие данных — нам решать не надо.\n",
    "\n",
    "##### Алгоритм создания таблицы\n",
    "Устанавливаем курсор на любую ячейку диапазона данных, открываем вкладку Вставка и выбираем кнопку Сводная таблица.\n",
    "Microsoft Excel отобразит рамку таблицы и справа предложит выбрать данные, которые необходимо сгруппировать.\n",
    "Отмечаем: в строках — дату регистрации карты, в столбцах — дату покупки и в поле Значения добавляем Сумму покупки. Таблица отобразит результаты (как и в примерах урока), но с большим диапазоном (месяц).\n",
    "При необходимости можно построить график: курсор на сводной таблице, вкладка Вставка, кнопка График.\n",
    "Результаты отображены, остаётся только провести анализ."
   ]
  },
  {
   "cell_type": "code",
   "execution_count": null,
   "metadata": {},
   "outputs": [],
   "source": [
    "# Задание 9.1\n",
    "# Выделите максимальное количество когорт и ответьте на три вопроса ниже.\n",
    "\n",
    "# ПРАВИЛЬНЫЕ ОТВЕТЫ:\n",
    "\n",
    "# Сколько мужчин пришло в магазин по совету друзей и знакомых?\n",
    "# 149  верно\n",
    "\n",
    "# Сумма покупок посетителей женского пола:\n",
    "# 1145637  верно\n",
    " \n",
    "# Количество людей, увидевших рекламу по телевизору:\n",
    "# 632  верно"
   ]
  },
  {
   "cell_type": "markdown",
   "metadata": {},
   "source": [
    "### 10. Подведём итоги"
   ]
  },
  {
   "cell_type": "markdown",
   "metadata": {},
   "source": [
    "Мы завершаем модуль о когортном и RFM-анализе.\n",
    "\n",
    "Давайте ещё раз отметим самое важное из того, что мы узнали.\n",
    "\n",
    "1. Для эффективной работы компании необходимо понимать, кто является её целевой аудиторией.\n",
    "\n",
    "2. Умение выбрать параметры, на основании которых будет произведено сегментирование рынка, — важный навык. Неправильный выбор параметров может привести к неверному выделению сегментов и, как следствие, неверному анализу потребителей. Это, в свою очередь, может повлиять и на деятельность компании, если, например, на основе ошибочных выводов была проведена корректировка рекламной кампании или формы выпуска продукции.\n",
    "\n",
    "3. RFM-анализ позволяет разделить потребителей по частоте покупок, давности совершения последней покупки и принесённому компании доходу. Таким образом можно выделить наиболее привлекательную группу клиентов компании.\n",
    "\n",
    "4. Когортный анализ — метод определения эффективности действий компании. Можно сделать вывод, например, об эффективности или неэффективности внедрения нового способа рекламы продукта.\n",
    "\n",
    "5. Осознание ценности умения правильно определить ЦА и выделить сегменты, а также умение использовать эффективные инструменты, которые позволяют это сделать, \n",
    "##### — необходимые для продуктового аналитика навыки.\n",
    "\n",
    "В этом модуле мы не только получили теоретические знания, но и на практике попробовали два способа сегментирования с помощью разных инструментов: Python и Excel. Выбирайте тот, который удобнее вам.\n",
    "\n",
    "Помните, что у Python есть отличная возможность — создать шаблон, по которому вы сможете производить все необходимые вычисления в считанные минуты. Стоит только один раз в этом разобраться.\n",
    "\n",
    "В следующем модуле мы с вами узнаем, как анализировать полученные данные и визуализировать информацию. И обязательно потренируемся на практике!"
   ]
  },
  {
   "cell_type": "code",
   "execution_count": null,
   "metadata": {},
   "outputs": [],
   "source": []
  },
  {
   "cell_type": "code",
   "execution_count": null,
   "metadata": {},
   "outputs": [],
   "source": []
  },
  {
   "cell_type": "code",
   "execution_count": null,
   "metadata": {},
   "outputs": [],
   "source": []
  },
  {
   "cell_type": "code",
   "execution_count": null,
   "metadata": {},
   "outputs": [],
   "source": []
  },
  {
   "cell_type": "code",
   "execution_count": null,
   "metadata": {},
   "outputs": [],
   "source": []
  },
  {
   "cell_type": "code",
   "execution_count": null,
   "metadata": {},
   "outputs": [],
   "source": []
  },
  {
   "cell_type": "code",
   "execution_count": null,
   "metadata": {},
   "outputs": [],
   "source": []
  },
  {
   "cell_type": "code",
   "execution_count": null,
   "metadata": {},
   "outputs": [],
   "source": []
  },
  {
   "cell_type": "code",
   "execution_count": null,
   "metadata": {},
   "outputs": [],
   "source": []
  },
  {
   "cell_type": "code",
   "execution_count": null,
   "metadata": {},
   "outputs": [],
   "source": []
  },
  {
   "cell_type": "code",
   "execution_count": null,
   "metadata": {},
   "outputs": [],
   "source": []
  },
  {
   "cell_type": "code",
   "execution_count": null,
   "metadata": {},
   "outputs": [],
   "source": []
  },
  {
   "cell_type": "code",
   "execution_count": null,
   "metadata": {},
   "outputs": [],
   "source": []
  },
  {
   "cell_type": "code",
   "execution_count": null,
   "metadata": {},
   "outputs": [],
   "source": []
  },
  {
   "cell_type": "code",
   "execution_count": null,
   "metadata": {},
   "outputs": [],
   "source": []
  },
  {
   "cell_type": "code",
   "execution_count": null,
   "metadata": {},
   "outputs": [],
   "source": []
  },
  {
   "cell_type": "code",
   "execution_count": null,
   "metadata": {},
   "outputs": [],
   "source": []
  },
  {
   "cell_type": "code",
   "execution_count": null,
   "metadata": {},
   "outputs": [],
   "source": []
  },
  {
   "cell_type": "code",
   "execution_count": null,
   "metadata": {},
   "outputs": [],
   "source": []
  },
  {
   "cell_type": "code",
   "execution_count": null,
   "metadata": {},
   "outputs": [],
   "source": []
  },
  {
   "cell_type": "code",
   "execution_count": null,
   "metadata": {},
   "outputs": [],
   "source": []
  },
  {
   "cell_type": "code",
   "execution_count": null,
   "metadata": {},
   "outputs": [],
   "source": []
  },
  {
   "cell_type": "code",
   "execution_count": null,
   "metadata": {},
   "outputs": [],
   "source": []
  },
  {
   "cell_type": "code",
   "execution_count": null,
   "metadata": {},
   "outputs": [],
   "source": []
  },
  {
   "cell_type": "code",
   "execution_count": null,
   "metadata": {},
   "outputs": [],
   "source": []
  },
  {
   "cell_type": "code",
   "execution_count": null,
   "metadata": {},
   "outputs": [],
   "source": []
  },
  {
   "cell_type": "code",
   "execution_count": null,
   "metadata": {},
   "outputs": [],
   "source": []
  },
  {
   "cell_type": "code",
   "execution_count": null,
   "metadata": {},
   "outputs": [],
   "source": []
  },
  {
   "cell_type": "code",
   "execution_count": null,
   "metadata": {},
   "outputs": [],
   "source": []
  },
  {
   "cell_type": "code",
   "execution_count": null,
   "metadata": {},
   "outputs": [],
   "source": []
  },
  {
   "cell_type": "code",
   "execution_count": null,
   "metadata": {},
   "outputs": [],
   "source": []
  },
  {
   "cell_type": "code",
   "execution_count": null,
   "metadata": {},
   "outputs": [],
   "source": []
  },
  {
   "cell_type": "code",
   "execution_count": null,
   "metadata": {},
   "outputs": [],
   "source": []
  }
 ],
 "metadata": {
  "kernelspec": {
   "display_name": "Python 3",
   "language": "python",
   "name": "python3"
  },
  "language_info": {
   "codemirror_mode": {
    "name": "ipython",
    "version": 3
   },
   "file_extension": ".py",
   "mimetype": "text/x-python",
   "name": "python",
   "nbconvert_exporter": "python",
   "pygments_lexer": "ipython3",
   "version": "3.8.5"
  }
 },
 "nbformat": 4,
 "nbformat_minor": 4
}
