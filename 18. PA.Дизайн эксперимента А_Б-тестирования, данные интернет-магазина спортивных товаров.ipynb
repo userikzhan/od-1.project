{
 "cells": [
  {
   "cell_type": "markdown",
   "metadata": {},
   "source": [
    "# 7.Практика 3 - Дизайн эксперимента А-Б-тестирования\n",
    "##### на основе данных с главной страницы интернет-магазина спортивных товаров"
   ]
  },
  {
   "cell_type": "markdown",
   "metadata": {},
   "source": [
    "### А ТЕПЕРЬ — ПРАКТИКА!\n",
    "\n",
    "У вас есть данные в том же формате, что мы разбирали в кейсе предыдущего юнита.\n",
    "\n",
    "СКАЧАЙ МЕНЯ >>> https://drive.google.com/file/d/13H3UdqpFxPxV105Y2xQ5PnxrQVrBc_ct/view?usp=sharing\n",
    "\n",
    "Примечание. Файл слишком большой для просмотра, однако у вас есть возможность его скачать.\n",
    "Проведите исследование и ответьте на следующие вопросы:\n",
    "\n",
    "Задание 7.1\n",
    "0.0/1.0 point (graded)\n",
    "Задача на выявление особенностей в данных.\n",
    "Какое количество пользователей в данных?\n",
    "\n",
    "  \n",
    "\n",
    "  \n",
    "Задание 7.2\n",
    "0.0/1.0 point (graded)\n",
    "Задача на выявление особенностей в данных.\n",
    "Со скольких девайсов в среднем люди пользуются сайтом?\n",
    "Ответ округлите до третьего знака после запятой.\n",
    "\n",
    "\n",
    "\n",
    "Задание 7.3\n",
    "0.0/1.0 point (graded)\n",
    "Задача на сбор необходимых метрик.\n",
    "Какую конверсию из показа в клик имеет пара mobile и accessories?\n",
    "Ответ округлите до третьего знака после запятой.\n",
    "\n",
    "\n",
    "\n",
    "Задание 7.4\n",
    "0.0/1.0 point (graded)\n",
    "Задача на оценку возможного влияния.\n",
    "При цене за клик в 30 рублей и средней цене товара 200 рублей какова минимальная необходимая конверсия на новый баннер для пар mobile и accessories?\n",
    "Ответ округлите до третьего знака после запятой.\n",
    "\n",
    "\n",
    "\n",
    "Задание 7.5\n",
    "0.0/1.0 point (graded)\n",
    "Задача на подведение итогов.\n",
    "Используя формулу, которой мы пользовались в предыдущем кейсе, определите, какое количество пользователей необходимо для проверки гипотезы конкретно варианта с парой mobile и accessories?\n",
    "Ответ дать в целых числах.\n",
    "\n",
    "\n",
    "\n",
    "Задание 7.6\n",
    "0.0/1.0 point (graded)\n",
    "Задача на подведение итогов.\n",
    "Какое при этом количество дней необходимо по формуле без учёта покупательского цикла?\n",
    "Ответ дать в целых числах.\n",
    "\n",
    "\n",
    "\n",
    "Задание 7.7\n",
    "0.0/1.0 point (graded)\n",
    "Задача на подведение итогов.\n",
    "А какое количество дней необходимо с учётом покупательского цикла в одну неделю?\n",
    "Ответ дать в целых числах.\n",
    "\n",
    "\n",
    "\n"
   ]
  },
  {
   "cell_type": "code",
   "execution_count": 1,
   "metadata": {},
   "outputs": [],
   "source": [
    "import pandas as pd\n",
    "data = pd.read_csv('ab_design_students.csv')"
   ]
  },
  {
   "cell_type": "code",
   "execution_count": 2,
   "metadata": {},
   "outputs": [
    {
     "data": {
      "text/html": [
       "<div>\n",
       "<style scoped>\n",
       "    .dataframe tbody tr th:only-of-type {\n",
       "        vertical-align: middle;\n",
       "    }\n",
       "\n",
       "    .dataframe tbody tr th {\n",
       "        vertical-align: top;\n",
       "    }\n",
       "\n",
       "    .dataframe thead th {\n",
       "        text-align: right;\n",
       "    }\n",
       "</style>\n",
       "<table border=\"1\" class=\"dataframe\">\n",
       "  <thead>\n",
       "    <tr style=\"text-align: right;\">\n",
       "      <th></th>\n",
       "      <th>order_id</th>\n",
       "      <th>user_id</th>\n",
       "      <th>page_id</th>\n",
       "      <th>product</th>\n",
       "      <th>site_version</th>\n",
       "      <th>time</th>\n",
       "      <th>title</th>\n",
       "      <th>target</th>\n",
       "    </tr>\n",
       "  </thead>\n",
       "  <tbody>\n",
       "    <tr>\n",
       "      <th>0</th>\n",
       "      <td>b89133fad3c3d66a98f2f3b35b2baf5b</td>\n",
       "      <td>d31dba130f0f5d145784d6f12e7ac791</td>\n",
       "      <td>c475115f052fc2a66b012b05e7d8db4c</td>\n",
       "      <td>clothes</td>\n",
       "      <td>mobile</td>\n",
       "      <td>2019-04-01 09:40:00</td>\n",
       "      <td>banner_show</td>\n",
       "      <td>0</td>\n",
       "    </tr>\n",
       "    <tr>\n",
       "      <th>1</th>\n",
       "      <td>d22f8aafb6bede8ea1f158077242d6f2</td>\n",
       "      <td>90eb66572db8562ea4775c609fae0c9c</td>\n",
       "      <td>e5ba95ece55978eeb7e3dc06ffc1954d</td>\n",
       "      <td>clothes</td>\n",
       "      <td>mobile</td>\n",
       "      <td>2019-05-03 22:25:11</td>\n",
       "      <td>banner_show</td>\n",
       "      <td>0</td>\n",
       "    </tr>\n",
       "    <tr>\n",
       "      <th>2</th>\n",
       "      <td>dbf8af8933da13fb47c11e0c37dbcbc7</td>\n",
       "      <td>256547af4573f0c37b95367db48c9c97</td>\n",
       "      <td>abf009a69b45a28c61a0d625e86416ca</td>\n",
       "      <td>sports_nutrition</td>\n",
       "      <td>mobile</td>\n",
       "      <td>2019-04-22 22:45:02</td>\n",
       "      <td>banner_show</td>\n",
       "      <td>0</td>\n",
       "    </tr>\n",
       "    <tr>\n",
       "      <th>3</th>\n",
       "      <td>a5a5ec6445d56146f6d7cb425860a97a</td>\n",
       "      <td>25cbeb266d92aa4833d7db83e2d516e0</td>\n",
       "      <td>76af2826d9076eb4b8704a5be54112a4</td>\n",
       "      <td>sports_nutrition</td>\n",
       "      <td>desktop</td>\n",
       "      <td>2019-01-30 18:00:26</td>\n",
       "      <td>banner_show</td>\n",
       "      <td>0</td>\n",
       "    </tr>\n",
       "    <tr>\n",
       "      <th>4</th>\n",
       "      <td>a3d852888324e6b93da9a65b58e7bf3b</td>\n",
       "      <td>c53b5eaa52a8a87bd8472bb9248cc991</td>\n",
       "      <td>699ff473996739cb6029ffd29a614e25</td>\n",
       "      <td>company</td>\n",
       "      <td>desktop</td>\n",
       "      <td>2019-03-16 08:27:14</td>\n",
       "      <td>banner_show</td>\n",
       "      <td>0</td>\n",
       "    </tr>\n",
       "  </tbody>\n",
       "</table>\n",
       "</div>"
      ],
      "text/plain": [
       "                           order_id                           user_id  \\\n",
       "0  b89133fad3c3d66a98f2f3b35b2baf5b  d31dba130f0f5d145784d6f12e7ac791   \n",
       "1  d22f8aafb6bede8ea1f158077242d6f2  90eb66572db8562ea4775c609fae0c9c   \n",
       "2  dbf8af8933da13fb47c11e0c37dbcbc7  256547af4573f0c37b95367db48c9c97   \n",
       "3  a5a5ec6445d56146f6d7cb425860a97a  25cbeb266d92aa4833d7db83e2d516e0   \n",
       "4  a3d852888324e6b93da9a65b58e7bf3b  c53b5eaa52a8a87bd8472bb9248cc991   \n",
       "\n",
       "                            page_id           product site_version  \\\n",
       "0  c475115f052fc2a66b012b05e7d8db4c           clothes       mobile   \n",
       "1  e5ba95ece55978eeb7e3dc06ffc1954d           clothes       mobile   \n",
       "2  abf009a69b45a28c61a0d625e86416ca  sports_nutrition       mobile   \n",
       "3  76af2826d9076eb4b8704a5be54112a4  sports_nutrition      desktop   \n",
       "4  699ff473996739cb6029ffd29a614e25           company      desktop   \n",
       "\n",
       "                  time        title  target  \n",
       "0  2019-04-01 09:40:00  banner_show       0  \n",
       "1  2019-05-03 22:25:11  banner_show       0  \n",
       "2  2019-04-22 22:45:02  banner_show       0  \n",
       "3  2019-01-30 18:00:26  banner_show       0  \n",
       "4  2019-03-16 08:27:14  banner_show       0  "
      ]
     },
     "execution_count": 2,
     "metadata": {},
     "output_type": "execute_result"
    }
   ],
   "source": [
    "# Cмотрим на формат файла:\n",
    "data.head()"
   ]
  },
  {
   "cell_type": "code",
   "execution_count": 6,
   "metadata": {},
   "outputs": [
    {
     "name": "stdout",
     "output_type": "stream",
     "text": [
      "<class 'pandas.core.frame.DataFrame'>\n",
      "RangeIndex: 1000000 entries, 0 to 999999\n",
      "Data columns (total 8 columns):\n",
      " #   Column        Non-Null Count    Dtype \n",
      "---  ------        --------------    ----- \n",
      " 0   order_id      1000000 non-null  object\n",
      " 1   user_id       1000000 non-null  object\n",
      " 2   page_id       1000000 non-null  object\n",
      " 3   product       1000000 non-null  object\n",
      " 4   site_version  1000000 non-null  object\n",
      " 5   time          1000000 non-null  object\n",
      " 6   title         1000000 non-null  object\n",
      " 7   target        1000000 non-null  int64 \n",
      "dtypes: int64(1), object(7)\n",
      "memory usage: 61.0+ MB\n"
     ]
    }
   ],
   "source": [
    "data.info()"
   ]
  },
  {
   "cell_type": "code",
   "execution_count": 7,
   "metadata": {},
   "outputs": [
    {
     "data": {
      "text/plain": [
       "('2019-01-01 00:03:26', '2019-05-31 23:57:59')"
      ]
     },
     "execution_count": 7,
     "metadata": {},
     "output_type": "execute_result"
    }
   ],
   "source": [
    "data.time.min(), data.time.max()"
   ]
  },
  {
   "cell_type": "code",
   "execution_count": 8,
   "metadata": {},
   "outputs": [
    {
     "data": {
      "text/plain": [
       "(1000000, 8)"
      ]
     },
     "execution_count": 8,
     "metadata": {},
     "output_type": "execute_result"
    }
   ],
   "source": [
    "data.shape"
   ]
  },
  {
   "cell_type": "markdown",
   "metadata": {},
   "source": [
    "##### Какое количество пользователей в данных?\n",
    "\n",
    "##### ПРАВИЛЬНЫЙ ОТВЕТ:\n",
    "##### 881582  верно"
   ]
  },
  {
   "cell_type": "code",
   "execution_count": 9,
   "metadata": {},
   "outputs": [
    {
     "data": {
      "text/plain": [
       "881582"
      ]
     },
     "execution_count": 9,
     "metadata": {},
     "output_type": "execute_result"
    }
   ],
   "source": [
    "data.user_id.nunique()"
   ]
  },
  {
   "cell_type": "markdown",
   "metadata": {},
   "source": [
    "##### Со скольких девайсов в среднем люди пользуются сайтом?\n",
    "\n",
    "##### ПРАВИЛЬНЫЙ ОТВЕТ:\n",
    "##### 1.001"
   ]
  },
  {
   "cell_type": "code",
   "execution_count": 10,
   "metadata": {},
   "outputs": [
    {
     "data": {
      "text/plain": [
       "1.0013385028278707"
      ]
     },
     "execution_count": 10,
     "metadata": {},
     "output_type": "execute_result"
    }
   ],
   "source": [
    "data.groupby('user_id').site_version.nunique().mean()"
   ]
  },
  {
   "cell_type": "code",
   "execution_count": 11,
   "metadata": {},
   "outputs": [
    {
     "data": {
      "text/plain": [
       "array(['banner_show', 'order', 'banner_click'], dtype=object)"
      ]
     },
     "execution_count": 11,
     "metadata": {},
     "output_type": "execute_result"
    }
   ],
   "source": [
    "data.title.unique()"
   ]
  },
  {
   "cell_type": "code",
   "execution_count": 12,
   "metadata": {},
   "outputs": [
    {
     "data": {
      "text/plain": [
       "1.004898724941806"
      ]
     },
     "execution_count": 12,
     "metadata": {},
     "output_type": "execute_result"
    }
   ],
   "source": [
    "data[data.title == 'order'].groupby('user_id').order_id.nunique().mean()"
   ]
  },
  {
   "cell_type": "markdown",
   "metadata": {},
   "source": [
    "\"... При этом пользователи в основном заходят только с одного девайса, и в среднем сделано по одной покупке среди тех, кто что-то купил. Всё довольно ожидаемо, ничего усложнять аналитику не должно.\""
   ]
  },
  {
   "cell_type": "markdown",
   "metadata": {},
   "source": [
    "### СБОР НЕОБХОДИМЫХ МЕТРИК\n",
    "\n",
    "У нас есть гипотеза, основанная на предположениях в задаче, что конверсия в покупку будет отличаться в зависимости от того, с какого девайса заходит пользователь, и от того, какой баннер ему показывается. Давайте это проверим, восстановив всю воронку с баннерами на сайте:"
   ]
  },
  {
   "cell_type": "code",
   "execution_count": 13,
   "metadata": {},
   "outputs": [
    {
     "data": {
      "text/plain": [
       "array(['mobile', 'desktop'], dtype=object)"
      ]
     },
     "execution_count": 13,
     "metadata": {},
     "output_type": "execute_result"
    }
   ],
   "source": [
    "data.site_version.unique()"
   ]
  },
  {
   "cell_type": "code",
   "execution_count": 14,
   "metadata": {},
   "outputs": [],
   "source": [
    "new_df = {\n",
    "    'site_version': [],\n",
    "    'banner_type': [],\n",
    "    'num_shows': [],\n",
    "    'num_clicks': [],\n",
    "    'num_orders': [],\n",
    "    'conversion_show_click': [],\n",
    "    'conversion_click_order': [],\n",
    "    'conversion_show_order': []\n",
    "}\n",
    "\n",
    "for site_version, group in data.groupby('site_version'):\n",
    "    for prod, pgroup in group.groupby('product'):\n",
    "        num_shows = pgroup[pgroup['title'] == 'banner_show'].shape[0]\n",
    "        num_clicks = pgroup[pgroup['title'] == 'banner_click'].shape[0]\n",
    "        num_orders = pgroup[pgroup['title'] == 'order'].shape[0]\n",
    "        \n",
    "        new_df['site_version'].append(site_version)\n",
    "        new_df['banner_type'].append(prod)\n",
    "        new_df['num_shows'].append(num_shows)\n",
    "        new_df['num_clicks'].append(num_clicks)\n",
    "        new_df['num_orders'].append(num_orders)\n",
    "        new_df['conversion_show_click'].append(num_clicks / num_shows)\n",
    "        new_df['conversion_click_order'].append(num_orders / num_clicks)\n",
    "        new_df['conversion_show_order'].append(num_orders / num_shows)\n",
    "\n",
    "new_df = pd.DataFrame(new_df)"
   ]
  },
  {
   "cell_type": "code",
   "execution_count": 15,
   "metadata": {},
   "outputs": [
    {
     "data": {
      "text/html": [
       "<div>\n",
       "<style scoped>\n",
       "    .dataframe tbody tr th:only-of-type {\n",
       "        vertical-align: middle;\n",
       "    }\n",
       "\n",
       "    .dataframe tbody tr th {\n",
       "        vertical-align: top;\n",
       "    }\n",
       "\n",
       "    .dataframe thead th {\n",
       "        text-align: right;\n",
       "    }\n",
       "</style>\n",
       "<table border=\"1\" class=\"dataframe\">\n",
       "  <thead>\n",
       "    <tr style=\"text-align: right;\">\n",
       "      <th></th>\n",
       "      <th>site_version</th>\n",
       "      <th>banner_type</th>\n",
       "      <th>num_shows</th>\n",
       "      <th>num_clicks</th>\n",
       "      <th>num_orders</th>\n",
       "      <th>conversion_show_click</th>\n",
       "      <th>conversion_click_order</th>\n",
       "      <th>conversion_show_order</th>\n",
       "    </tr>\n",
       "  </thead>\n",
       "  <tbody>\n",
       "    <tr>\n",
       "      <th>0</th>\n",
       "      <td>desktop</td>\n",
       "      <td>accessories</td>\n",
       "      <td>48225</td>\n",
       "      <td>2305</td>\n",
       "      <td>2576</td>\n",
       "      <td>0.047797</td>\n",
       "      <td>1.117570</td>\n",
       "      <td>0.053416</td>\n",
       "    </tr>\n",
       "    <tr>\n",
       "      <th>1</th>\n",
       "      <td>desktop</td>\n",
       "      <td>clothes</td>\n",
       "      <td>49305</td>\n",
       "      <td>3933</td>\n",
       "      <td>7778</td>\n",
       "      <td>0.079769</td>\n",
       "      <td>1.977625</td>\n",
       "      <td>0.157753</td>\n",
       "    </tr>\n",
       "    <tr>\n",
       "      <th>2</th>\n",
       "      <td>desktop</td>\n",
       "      <td>company</td>\n",
       "      <td>56426</td>\n",
       "      <td>3433</td>\n",
       "      <td>0</td>\n",
       "      <td>0.060841</td>\n",
       "      <td>0.000000</td>\n",
       "      <td>0.000000</td>\n",
       "    </tr>\n",
       "    <tr>\n",
       "      <th>3</th>\n",
       "      <td>desktop</td>\n",
       "      <td>sneakers</td>\n",
       "      <td>48128</td>\n",
       "      <td>2535</td>\n",
       "      <td>3786</td>\n",
       "      <td>0.052672</td>\n",
       "      <td>1.493491</td>\n",
       "      <td>0.078665</td>\n",
       "    </tr>\n",
       "    <tr>\n",
       "      <th>4</th>\n",
       "      <td>desktop</td>\n",
       "      <td>sports_nutrition</td>\n",
       "      <td>49342</td>\n",
       "      <td>1638</td>\n",
       "      <td>1335</td>\n",
       "      <td>0.033197</td>\n",
       "      <td>0.815018</td>\n",
       "      <td>0.027056</td>\n",
       "    </tr>\n",
       "    <tr>\n",
       "      <th>5</th>\n",
       "      <td>mobile</td>\n",
       "      <td>accessories</td>\n",
       "      <td>121540</td>\n",
       "      <td>13998</td>\n",
       "      <td>2593</td>\n",
       "      <td>0.115172</td>\n",
       "      <td>0.185241</td>\n",
       "      <td>0.021335</td>\n",
       "    </tr>\n",
       "    <tr>\n",
       "      <th>6</th>\n",
       "      <td>mobile</td>\n",
       "      <td>clothes</td>\n",
       "      <td>122437</td>\n",
       "      <td>22115</td>\n",
       "      <td>5363</td>\n",
       "      <td>0.180624</td>\n",
       "      <td>0.242505</td>\n",
       "      <td>0.043802</td>\n",
       "    </tr>\n",
       "    <tr>\n",
       "      <th>7</th>\n",
       "      <td>mobile</td>\n",
       "      <td>company</td>\n",
       "      <td>130229</td>\n",
       "      <td>14046</td>\n",
       "      <td>0</td>\n",
       "      <td>0.107856</td>\n",
       "      <td>0.000000</td>\n",
       "      <td>0.000000</td>\n",
       "    </tr>\n",
       "    <tr>\n",
       "      <th>8</th>\n",
       "      <td>mobile</td>\n",
       "      <td>sneakers</td>\n",
       "      <td>122749</td>\n",
       "      <td>18997</td>\n",
       "      <td>4060</td>\n",
       "      <td>0.154763</td>\n",
       "      <td>0.213718</td>\n",
       "      <td>0.033076</td>\n",
       "    </tr>\n",
       "    <tr>\n",
       "      <th>9</th>\n",
       "      <td>mobile</td>\n",
       "      <td>sports_nutrition</td>\n",
       "      <td>124306</td>\n",
       "      <td>15389</td>\n",
       "      <td>1433</td>\n",
       "      <td>0.123799</td>\n",
       "      <td>0.093118</td>\n",
       "      <td>0.011528</td>\n",
       "    </tr>\n",
       "  </tbody>\n",
       "</table>\n",
       "</div>"
      ],
      "text/plain": [
       "  site_version       banner_type  num_shows  num_clicks  num_orders  \\\n",
       "0      desktop       accessories      48225        2305        2576   \n",
       "1      desktop           clothes      49305        3933        7778   \n",
       "2      desktop           company      56426        3433           0   \n",
       "3      desktop          sneakers      48128        2535        3786   \n",
       "4      desktop  sports_nutrition      49342        1638        1335   \n",
       "5       mobile       accessories     121540       13998        2593   \n",
       "6       mobile           clothes     122437       22115        5363   \n",
       "7       mobile           company     130229       14046           0   \n",
       "8       mobile          sneakers     122749       18997        4060   \n",
       "9       mobile  sports_nutrition     124306       15389        1433   \n",
       "\n",
       "   conversion_show_click  conversion_click_order  conversion_show_order  \n",
       "0               0.047797                1.117570               0.053416  \n",
       "1               0.079769                1.977625               0.157753  \n",
       "2               0.060841                0.000000               0.000000  \n",
       "3               0.052672                1.493491               0.078665  \n",
       "4               0.033197                0.815018               0.027056  \n",
       "5               0.115172                0.185241               0.021335  \n",
       "6               0.180624                0.242505               0.043802  \n",
       "7               0.107856                0.000000               0.000000  \n",
       "8               0.154763                0.213718               0.033076  \n",
       "9               0.123799                0.093118               0.011528  "
      ]
     },
     "execution_count": 15,
     "metadata": {},
     "output_type": "execute_result"
    }
   ],
   "source": [
    "# Посмотрим на получившуюся таблицу:\n",
    "new_df"
   ]
  },
  {
   "cell_type": "markdown",
   "metadata": {},
   "source": [
    "\"Как и предполагалось, конверсии по разным девайсам и баннерам отличаются, а это значит, что, скорее всего, однозначное решение о том, стоит ли заменять все баннеры, дать сложно.\n",
    "\n",
    "Также здесь можно заметить, что конверсия из кликов в заказ в некоторых случаях больше 1.0: такого быть, конечно, не может. Возможно, часть пользователей и так шли покупать соответствующий товар, просто им дополнительно показали баннер. Но вероятен и тот вариант, что баннер тоже повлиял, только до покупки получился другой.\n",
    "\n",
    "В реальной ситуации мы бы пошли за ответами к продакт-менеджеру: обычно они хорошо разбираются в возможных траекториях пользователей, потому что часто с ними общаются. А сейчас это будет просто дополнительная вводная, которую будем иметь в виду.\""
   ]
  },
  {
   "cell_type": "code",
   "execution_count": 16,
   "metadata": {},
   "outputs": [
    {
     "name": "stdout",
     "output_type": "stream",
     "text": [
      "<class 'pandas.core.frame.DataFrame'>\n",
      "Int64Index: 141128 entries, 2 to 999999\n",
      "Data columns (total 8 columns):\n",
      " #   Column        Non-Null Count   Dtype \n",
      "---  ------        --------------   ----- \n",
      " 0   order_id      141128 non-null  object\n",
      " 1   user_id       141128 non-null  object\n",
      " 2   page_id       141128 non-null  object\n",
      " 3   product       141128 non-null  object\n",
      " 4   site_version  141128 non-null  object\n",
      " 5   time          141128 non-null  object\n",
      " 6   title         141128 non-null  object\n",
      " 7   target        141128 non-null  int64 \n",
      "dtypes: int64(1), object(7)\n",
      "memory usage: 9.7+ MB\n"
     ]
    }
   ],
   "source": [
    "pgroup.info()"
   ]
  },
  {
   "cell_type": "markdown",
   "metadata": {},
   "source": [
    "##### Какую конверсию из показа в клик имеет пара mobile и accessories?\n",
    "\n",
    "##### ПРАВИЛЬНЫЙ ОТВЕТ:\n",
    "##### 0.115"
   ]
  },
  {
   "cell_type": "code",
   "execution_count": 17,
   "metadata": {},
   "outputs": [
    {
     "data": {
      "text/html": [
       "<div>\n",
       "<style scoped>\n",
       "    .dataframe tbody tr th:only-of-type {\n",
       "        vertical-align: middle;\n",
       "    }\n",
       "\n",
       "    .dataframe tbody tr th {\n",
       "        vertical-align: top;\n",
       "    }\n",
       "\n",
       "    .dataframe thead th {\n",
       "        text-align: right;\n",
       "    }\n",
       "</style>\n",
       "<table border=\"1\" class=\"dataframe\">\n",
       "  <thead>\n",
       "    <tr style=\"text-align: right;\">\n",
       "      <th></th>\n",
       "      <th>site_version</th>\n",
       "      <th>banner_type</th>\n",
       "      <th>num_shows</th>\n",
       "      <th>num_clicks</th>\n",
       "      <th>num_orders</th>\n",
       "      <th>conversion_show_click</th>\n",
       "      <th>conversion_click_order</th>\n",
       "      <th>conversion_show_order</th>\n",
       "    </tr>\n",
       "  </thead>\n",
       "  <tbody>\n",
       "    <tr>\n",
       "      <th>5</th>\n",
       "      <td>mobile</td>\n",
       "      <td>accessories</td>\n",
       "      <td>121540</td>\n",
       "      <td>13998</td>\n",
       "      <td>2593</td>\n",
       "      <td>0.115172</td>\n",
       "      <td>0.185241</td>\n",
       "      <td>0.021335</td>\n",
       "    </tr>\n",
       "  </tbody>\n",
       "</table>\n",
       "</div>"
      ],
      "text/plain": [
       "  site_version  banner_type  num_shows  num_clicks  num_orders  \\\n",
       "5       mobile  accessories     121540       13998        2593   \n",
       "\n",
       "   conversion_show_click  conversion_click_order  conversion_show_order  \n",
       "5               0.115172                0.185241               0.021335  "
      ]
     },
     "execution_count": 17,
     "metadata": {},
     "output_type": "execute_result"
    }
   ],
   "source": [
    "new_df[(new_df['site_version'] == 'mobile') & (new_df['banner_type'] == 'accessories')]"
   ]
  },
  {
   "cell_type": "markdown",
   "metadata": {},
   "source": [
    "### ОЦЕНКА ВОЗМОЖНОГО ВЛИЯНИЯ\n",
    "\n",
    "В силу того, что конверсии между собой отличаются, рекомендуется производить А/B-тестирование на все 10 возможных вариантов. И, если разработка и руководство допускают такой вариант, предложить заменить только некоторые — те, которые принесут больше денег.\n",
    "\n",
    "Но сначала надо посчитать потенциальную выгоду в деньгах: возможно, мы можем дать точный ответ и без тестирования.\n",
    "\n",
    "Обычно о цене за клик договариваются напрямую с заказчиком, поэтому для нас это будет просто очередной вводной для дизайна эксперимента. Давайте смоделируем наш дизайн со следующими входными данными:\n",
    "\n",
    "Средняя цена товара — 300 рублей Цена за клик — 20 рублей Покупательский цикл — 7 дней С ними мы можем посчитать необходимую конверсию для каждого варианта, которая будет зарабатывать для нас большее количество денег, чем сейчас. Сделаем это:"
   ]
  },
  {
   "cell_type": "code",
   "execution_count": 18,
   "metadata": {},
   "outputs": [],
   "source": [
    "cost_per_click = 30\n",
    "avg_product_price = 200\n",
    "\n",
    "new_df['cost_per_click_now'] = new_df['num_orders'] * avg_product_price / num_clicks\n",
    "new_df['minimum_needable_conversion'] = ((new_df['num_orders'] * avg_product_price) / cost_per_click) / new_df['num_shows']"
   ]
  },
  {
   "cell_type": "markdown",
   "metadata": {},
   "source": [
    "\"Здесь мы смоделировали количество денег, которые приносит каждый клик сейчас, и рассчитали необходимую конверсию на новые баннеры, чтобы их обновление окупилось. Посмотрим на полученные значения:\""
   ]
  },
  {
   "cell_type": "code",
   "execution_count": 19,
   "metadata": {},
   "outputs": [
    {
     "data": {
      "text/html": [
       "<div>\n",
       "<style scoped>\n",
       "    .dataframe tbody tr th:only-of-type {\n",
       "        vertical-align: middle;\n",
       "    }\n",
       "\n",
       "    .dataframe tbody tr th {\n",
       "        vertical-align: top;\n",
       "    }\n",
       "\n",
       "    .dataframe thead th {\n",
       "        text-align: right;\n",
       "    }\n",
       "</style>\n",
       "<table border=\"1\" class=\"dataframe\">\n",
       "  <thead>\n",
       "    <tr style=\"text-align: right;\">\n",
       "      <th></th>\n",
       "      <th>site_version</th>\n",
       "      <th>banner_type</th>\n",
       "      <th>cost_per_click_now</th>\n",
       "      <th>minimum_needable_conversion</th>\n",
       "    </tr>\n",
       "  </thead>\n",
       "  <tbody>\n",
       "    <tr>\n",
       "      <th>0</th>\n",
       "      <td>desktop</td>\n",
       "      <td>accessories</td>\n",
       "      <td>33.478459</td>\n",
       "      <td>0.356109</td>\n",
       "    </tr>\n",
       "    <tr>\n",
       "      <th>1</th>\n",
       "      <td>desktop</td>\n",
       "      <td>clothes</td>\n",
       "      <td>101.085191</td>\n",
       "      <td>1.051685</td>\n",
       "    </tr>\n",
       "    <tr>\n",
       "      <th>2</th>\n",
       "      <td>desktop</td>\n",
       "      <td>company</td>\n",
       "      <td>0.000000</td>\n",
       "      <td>0.000000</td>\n",
       "    </tr>\n",
       "    <tr>\n",
       "      <th>3</th>\n",
       "      <td>desktop</td>\n",
       "      <td>sneakers</td>\n",
       "      <td>49.203977</td>\n",
       "      <td>0.524435</td>\n",
       "    </tr>\n",
       "    <tr>\n",
       "      <th>4</th>\n",
       "      <td>desktop</td>\n",
       "      <td>sports_nutrition</td>\n",
       "      <td>17.350055</td>\n",
       "      <td>0.180374</td>\n",
       "    </tr>\n",
       "    <tr>\n",
       "      <th>5</th>\n",
       "      <td>mobile</td>\n",
       "      <td>accessories</td>\n",
       "      <td>33.699396</td>\n",
       "      <td>0.142230</td>\n",
       "    </tr>\n",
       "    <tr>\n",
       "      <th>6</th>\n",
       "      <td>mobile</td>\n",
       "      <td>clothes</td>\n",
       "      <td>69.699136</td>\n",
       "      <td>0.292014</td>\n",
       "    </tr>\n",
       "    <tr>\n",
       "      <th>7</th>\n",
       "      <td>mobile</td>\n",
       "      <td>company</td>\n",
       "      <td>0.000000</td>\n",
       "      <td>0.000000</td>\n",
       "    </tr>\n",
       "    <tr>\n",
       "      <th>8</th>\n",
       "      <td>mobile</td>\n",
       "      <td>sneakers</td>\n",
       "      <td>52.764962</td>\n",
       "      <td>0.220504</td>\n",
       "    </tr>\n",
       "    <tr>\n",
       "      <th>9</th>\n",
       "      <td>mobile</td>\n",
       "      <td>sports_nutrition</td>\n",
       "      <td>18.623692</td>\n",
       "      <td>0.076853</td>\n",
       "    </tr>\n",
       "  </tbody>\n",
       "</table>\n",
       "</div>"
      ],
      "text/plain": [
       "  site_version       banner_type  cost_per_click_now  \\\n",
       "0      desktop       accessories           33.478459   \n",
       "1      desktop           clothes          101.085191   \n",
       "2      desktop           company            0.000000   \n",
       "3      desktop          sneakers           49.203977   \n",
       "4      desktop  sports_nutrition           17.350055   \n",
       "5       mobile       accessories           33.699396   \n",
       "6       mobile           clothes           69.699136   \n",
       "7       mobile           company            0.000000   \n",
       "8       mobile          sneakers           52.764962   \n",
       "9       mobile  sports_nutrition           18.623692   \n",
       "\n",
       "   minimum_needable_conversion  \n",
       "0                     0.356109  \n",
       "1                     1.051685  \n",
       "2                     0.000000  \n",
       "3                     0.524435  \n",
       "4                     0.180374  \n",
       "5                     0.142230  \n",
       "6                     0.292014  \n",
       "7                     0.000000  \n",
       "8                     0.220504  \n",
       "9                     0.076853  "
      ]
     },
     "execution_count": 19,
     "metadata": {},
     "output_type": "execute_result"
    }
   ],
   "source": [
    "new_df[['site_version', 'banner_type', 'cost_per_click_now', 'minimum_needable_conversion']]"
   ]
  },
  {
   "cell_type": "markdown",
   "metadata": {},
   "source": [
    "Как можно заметить, все они выше единицы, а получить кликов больше, чем просмотров, мы явно не можем.\n",
    "В таком случае стоит сразу донести до менеджера вывод о том, что новые рекламные баннеры наше положение не улучшат."
   ]
  },
  {
   "cell_type": "markdown",
   "metadata": {},
   "source": [
    "##### При цене за клик в 30 рублей и средней цене товара 200 рублей какова минимальная необходимая конверсия на новый баннер для пар mobile и accessories?\n",
    "\n",
    "##### ПРАВИЛЬНЫЙ ОТВЕТ:\n",
    "##### 0.142  верно"
   ]
  },
  {
   "cell_type": "code",
   "execution_count": 20,
   "metadata": {},
   "outputs": [
    {
     "data": {
      "text/html": [
       "<div>\n",
       "<style scoped>\n",
       "    .dataframe tbody tr th:only-of-type {\n",
       "        vertical-align: middle;\n",
       "    }\n",
       "\n",
       "    .dataframe tbody tr th {\n",
       "        vertical-align: top;\n",
       "    }\n",
       "\n",
       "    .dataframe thead th {\n",
       "        text-align: right;\n",
       "    }\n",
       "</style>\n",
       "<table border=\"1\" class=\"dataframe\">\n",
       "  <thead>\n",
       "    <tr style=\"text-align: right;\">\n",
       "      <th></th>\n",
       "      <th>site_version</th>\n",
       "      <th>banner_type</th>\n",
       "      <th>num_shows</th>\n",
       "      <th>num_clicks</th>\n",
       "      <th>num_orders</th>\n",
       "      <th>conversion_show_click</th>\n",
       "      <th>conversion_click_order</th>\n",
       "      <th>conversion_show_order</th>\n",
       "      <th>cost_per_click_now</th>\n",
       "      <th>minimum_needable_conversion</th>\n",
       "    </tr>\n",
       "  </thead>\n",
       "  <tbody>\n",
       "    <tr>\n",
       "      <th>5</th>\n",
       "      <td>mobile</td>\n",
       "      <td>accessories</td>\n",
       "      <td>121540</td>\n",
       "      <td>13998</td>\n",
       "      <td>2593</td>\n",
       "      <td>0.115172</td>\n",
       "      <td>0.185241</td>\n",
       "      <td>0.021335</td>\n",
       "      <td>33.699396</td>\n",
       "      <td>0.14223</td>\n",
       "    </tr>\n",
       "  </tbody>\n",
       "</table>\n",
       "</div>"
      ],
      "text/plain": [
       "  site_version  banner_type  num_shows  num_clicks  num_orders  \\\n",
       "5       mobile  accessories     121540       13998        2593   \n",
       "\n",
       "   conversion_show_click  conversion_click_order  conversion_show_order  \\\n",
       "5               0.115172                0.185241               0.021335   \n",
       "\n",
       "   cost_per_click_now  minimum_needable_conversion  \n",
       "5           33.699396                      0.14223  "
      ]
     },
     "execution_count": 20,
     "metadata": {},
     "output_type": "execute_result"
    }
   ],
   "source": [
    "new_df[(new_df['site_version'] == 'mobile') & (new_df['banner_type'] == 'accessories')]"
   ]
  },
  {
   "cell_type": "markdown",
   "metadata": {},
   "source": [
    "### ПОДВЕДЕНИЕ ИТОГОВ\n",
    "\n",
    "Да, всё выглядит логично — но мы помним, что у нас другие вводные, а значит, без А/B-теста не обойтись. Это позволит нам утвердиться в нашем решении, ведь в теории конверсия от рекламных баннеров может быть выше конверсии внутренних баннеров интернет-магазина.\n",
    "\n",
    "Мы определились, что будем на каждый вариант девайса и баннера тестировать новую версию и сравнивать их между собой. Ключевой метрикой для нас, естественно, будет конверсия из показа в клик. То есть задачу разработчику уже можно поставить.\n",
    "\n",
    "Единственное — осталось определиться со временем проекта. Для этого:\n",
    "\n",
    "Посчитаем необходимый объём выборки для каждого варианта, воспользовавшись знакомой формулой%D0%9C13.6%20-%20%D1%84%D0%BE%D1%80%D0%BC%D1%83%D0%BB%D0%B0.jpg,\n",
    "Вычислим количество дней, зная, что у нас есть данные примерно за 180 дней,\n",
    "Выберем наибольший вариант, округлив число до кратного семи (из-за покупательского цикла).\n",
    "new_df[\"needed_experiment_users\"] = 16 * new_df[\"conversion_show_click\"] * (1 - new_df[\"conversion_show_click\"]) / ((new_df[\"minimum_needable_conversion\"] - new_df[\"conversion_show_click\"]) ** 2)\n",
    "\n",
    "new_df[\"needed_num_days\"] = new_df[\"needed_experiment_users\"] / (new_df[\"num_shows\"] / 180)"
   ]
  },
  {
   "cell_type": "code",
   "execution_count": 21,
   "metadata": {},
   "outputs": [],
   "source": [
    "new_df['needed_experiment_users'] = 16 * new_df['conversion_show_click'] * (1 - new_df['conversion_show_click']) / ((new_df['minimum_needable_conversion'] - new_df['conversion_show_click']) ** 2)    \n",
    "new_df['needed_num_days'] = new_df['needed_experiment_users'] / (new_df['num_shows'] / 180)"
   ]
  },
  {
   "cell_type": "code",
   "execution_count": 22,
   "metadata": {},
   "outputs": [
    {
     "data": {
      "text/html": [
       "<div>\n",
       "<style scoped>\n",
       "    .dataframe tbody tr th:only-of-type {\n",
       "        vertical-align: middle;\n",
       "    }\n",
       "\n",
       "    .dataframe tbody tr th {\n",
       "        vertical-align: top;\n",
       "    }\n",
       "\n",
       "    .dataframe thead th {\n",
       "        text-align: right;\n",
       "    }\n",
       "</style>\n",
       "<table border=\"1\" class=\"dataframe\">\n",
       "  <thead>\n",
       "    <tr style=\"text-align: right;\">\n",
       "      <th></th>\n",
       "      <th>site_version</th>\n",
       "      <th>banner_type</th>\n",
       "      <th>cost_per_click_now</th>\n",
       "      <th>minimum_needable_conversion</th>\n",
       "      <th>needed_experiment_users</th>\n",
       "      <th>needed_num_days</th>\n",
       "    </tr>\n",
       "  </thead>\n",
       "  <tbody>\n",
       "    <tr>\n",
       "      <th>0</th>\n",
       "      <td>desktop</td>\n",
       "      <td>accessories</td>\n",
       "      <td>33.478459</td>\n",
       "      <td>0.356109</td>\n",
       "      <td>7.660696</td>\n",
       "      <td>0.028594</td>\n",
       "    </tr>\n",
       "    <tr>\n",
       "      <th>1</th>\n",
       "      <td>desktop</td>\n",
       "      <td>clothes</td>\n",
       "      <td>101.085191</td>\n",
       "      <td>1.051685</td>\n",
       "      <td>1.243347</td>\n",
       "      <td>0.004539</td>\n",
       "    </tr>\n",
       "    <tr>\n",
       "      <th>2</th>\n",
       "      <td>desktop</td>\n",
       "      <td>company</td>\n",
       "      <td>0.000000</td>\n",
       "      <td>0.000000</td>\n",
       "      <td>246.981649</td>\n",
       "      <td>0.787876</td>\n",
       "    </tr>\n",
       "    <tr>\n",
       "      <th>3</th>\n",
       "      <td>desktop</td>\n",
       "      <td>sneakers</td>\n",
       "      <td>49.203977</td>\n",
       "      <td>0.524435</td>\n",
       "      <td>3.587179</td>\n",
       "      <td>0.013416</td>\n",
       "    </tr>\n",
       "    <tr>\n",
       "      <th>4</th>\n",
       "      <td>desktop</td>\n",
       "      <td>sports_nutrition</td>\n",
       "      <td>17.350055</td>\n",
       "      <td>0.180374</td>\n",
       "      <td>23.706977</td>\n",
       "      <td>0.086483</td>\n",
       "    </tr>\n",
       "    <tr>\n",
       "      <th>5</th>\n",
       "      <td>mobile</td>\n",
       "      <td>accessories</td>\n",
       "      <td>33.699396</td>\n",
       "      <td>0.142230</td>\n",
       "      <td>2227.021286</td>\n",
       "      <td>3.298205</td>\n",
       "    </tr>\n",
       "    <tr>\n",
       "      <th>6</th>\n",
       "      <td>mobile</td>\n",
       "      <td>clothes</td>\n",
       "      <td>69.699136</td>\n",
       "      <td>0.292014</td>\n",
       "      <td>190.844877</td>\n",
       "      <td>0.280569</td>\n",
       "    </tr>\n",
       "    <tr>\n",
       "      <th>7</th>\n",
       "      <td>mobile</td>\n",
       "      <td>company</td>\n",
       "      <td>0.000000</td>\n",
       "      <td>0.000000</td>\n",
       "      <td>132.345721</td>\n",
       "      <td>0.182926</td>\n",
       "    </tr>\n",
       "    <tr>\n",
       "      <th>8</th>\n",
       "      <td>mobile</td>\n",
       "      <td>sneakers</td>\n",
       "      <td>52.764962</td>\n",
       "      <td>0.220504</td>\n",
       "      <td>484.273039</td>\n",
       "      <td>0.710141</td>\n",
       "    </tr>\n",
       "    <tr>\n",
       "      <th>9</th>\n",
       "      <td>mobile</td>\n",
       "      <td>sports_nutrition</td>\n",
       "      <td>18.623692</td>\n",
       "      <td>0.076853</td>\n",
       "      <td>787.490093</td>\n",
       "      <td>1.140317</td>\n",
       "    </tr>\n",
       "  </tbody>\n",
       "</table>\n",
       "</div>"
      ],
      "text/plain": [
       "  site_version       banner_type  cost_per_click_now  \\\n",
       "0      desktop       accessories           33.478459   \n",
       "1      desktop           clothes          101.085191   \n",
       "2      desktop           company            0.000000   \n",
       "3      desktop          sneakers           49.203977   \n",
       "4      desktop  sports_nutrition           17.350055   \n",
       "5       mobile       accessories           33.699396   \n",
       "6       mobile           clothes           69.699136   \n",
       "7       mobile           company            0.000000   \n",
       "8       mobile          sneakers           52.764962   \n",
       "9       mobile  sports_nutrition           18.623692   \n",
       "\n",
       "   minimum_needable_conversion  needed_experiment_users  needed_num_days  \n",
       "0                     0.356109                 7.660696         0.028594  \n",
       "1                     1.051685                 1.243347         0.004539  \n",
       "2                     0.000000               246.981649         0.787876  \n",
       "3                     0.524435                 3.587179         0.013416  \n",
       "4                     0.180374                23.706977         0.086483  \n",
       "5                     0.142230              2227.021286         3.298205  \n",
       "6                     0.292014               190.844877         0.280569  \n",
       "7                     0.000000               132.345721         0.182926  \n",
       "8                     0.220504               484.273039         0.710141  \n",
       "9                     0.076853               787.490093         1.140317  "
      ]
     },
     "execution_count": 22,
     "metadata": {},
     "output_type": "execute_result"
    }
   ],
   "source": [
    "# Посмотрим на результат:\n",
    "\n",
    "new_df[['site_version', 'banner_type', 'cost_per_click_now', 'minimum_needable_conversion', \n",
    "        'needed_experiment_users', 'needed_num_days']]"
   ]
  },
  {
   "cell_type": "markdown",
   "metadata": {},
   "source": [
    "\"Понятно, что мы точно не будем учитывать значения с необходимой конверсией 0 и больше 1. Отбросив их, получаем, что для всех вариантов хватает дня, чтобы достичь нужных результатов. Делаем поправку на покупательский цикл и устанавливаем неделю в качестве срока A/B-тестирования.\n",
    "\n",
    "Дополнительно стоило бы ещё учесть в данном случае эффект новизны, но такой кейс слишком зависит от конкретной области, с которой мы работаем, поэтому сейчас его упустим. В реальной ситуации можно было бы также проконсультироваться на эту тему с менеджером продукта.\n",
    "\n",
    "Отлично, можно начинать проводить эксперимент!\n",
    "При подведении итогов важно не забывать о том, что мы имеем дело с множественной проверкой гипотез, поэтому необходимо будет применить поправку Бонферрони либо метод Холма.\""
   ]
  },
  {
   "cell_type": "code",
   "execution_count": 23,
   "metadata": {},
   "outputs": [
    {
     "data": {
      "text/html": [
       "<div>\n",
       "<style scoped>\n",
       "    .dataframe tbody tr th:only-of-type {\n",
       "        vertical-align: middle;\n",
       "    }\n",
       "\n",
       "    .dataframe tbody tr th {\n",
       "        vertical-align: top;\n",
       "    }\n",
       "\n",
       "    .dataframe thead th {\n",
       "        text-align: right;\n",
       "    }\n",
       "</style>\n",
       "<table border=\"1\" class=\"dataframe\">\n",
       "  <thead>\n",
       "    <tr style=\"text-align: right;\">\n",
       "      <th></th>\n",
       "      <th>site_version</th>\n",
       "      <th>banner_type</th>\n",
       "      <th>cost_per_click_now</th>\n",
       "      <th>minimum_needable_conversion</th>\n",
       "      <th>needed_experiment_users</th>\n",
       "      <th>needed_num_days</th>\n",
       "    </tr>\n",
       "  </thead>\n",
       "  <tbody>\n",
       "    <tr>\n",
       "      <th>0</th>\n",
       "      <td>desktop</td>\n",
       "      <td>accessories</td>\n",
       "      <td>33.478459</td>\n",
       "      <td>0.356109</td>\n",
       "      <td>7.660696</td>\n",
       "      <td>0.028594</td>\n",
       "    </tr>\n",
       "    <tr>\n",
       "      <th>1</th>\n",
       "      <td>desktop</td>\n",
       "      <td>clothes</td>\n",
       "      <td>101.085191</td>\n",
       "      <td>1.051685</td>\n",
       "      <td>1.243347</td>\n",
       "      <td>0.004539</td>\n",
       "    </tr>\n",
       "    <tr>\n",
       "      <th>2</th>\n",
       "      <td>desktop</td>\n",
       "      <td>company</td>\n",
       "      <td>0.000000</td>\n",
       "      <td>0.000000</td>\n",
       "      <td>246.981649</td>\n",
       "      <td>0.787876</td>\n",
       "    </tr>\n",
       "    <tr>\n",
       "      <th>3</th>\n",
       "      <td>desktop</td>\n",
       "      <td>sneakers</td>\n",
       "      <td>49.203977</td>\n",
       "      <td>0.524435</td>\n",
       "      <td>3.587179</td>\n",
       "      <td>0.013416</td>\n",
       "    </tr>\n",
       "    <tr>\n",
       "      <th>4</th>\n",
       "      <td>desktop</td>\n",
       "      <td>sports_nutrition</td>\n",
       "      <td>17.350055</td>\n",
       "      <td>0.180374</td>\n",
       "      <td>23.706977</td>\n",
       "      <td>0.086483</td>\n",
       "    </tr>\n",
       "    <tr>\n",
       "      <th>5</th>\n",
       "      <td>mobile</td>\n",
       "      <td>accessories</td>\n",
       "      <td>33.699396</td>\n",
       "      <td>0.142230</td>\n",
       "      <td>2227.021286</td>\n",
       "      <td>3.298205</td>\n",
       "    </tr>\n",
       "    <tr>\n",
       "      <th>6</th>\n",
       "      <td>mobile</td>\n",
       "      <td>clothes</td>\n",
       "      <td>69.699136</td>\n",
       "      <td>0.292014</td>\n",
       "      <td>190.844877</td>\n",
       "      <td>0.280569</td>\n",
       "    </tr>\n",
       "    <tr>\n",
       "      <th>7</th>\n",
       "      <td>mobile</td>\n",
       "      <td>company</td>\n",
       "      <td>0.000000</td>\n",
       "      <td>0.000000</td>\n",
       "      <td>132.345721</td>\n",
       "      <td>0.182926</td>\n",
       "    </tr>\n",
       "    <tr>\n",
       "      <th>8</th>\n",
       "      <td>mobile</td>\n",
       "      <td>sneakers</td>\n",
       "      <td>52.764962</td>\n",
       "      <td>0.220504</td>\n",
       "      <td>484.273039</td>\n",
       "      <td>0.710141</td>\n",
       "    </tr>\n",
       "    <tr>\n",
       "      <th>9</th>\n",
       "      <td>mobile</td>\n",
       "      <td>sports_nutrition</td>\n",
       "      <td>18.623692</td>\n",
       "      <td>0.076853</td>\n",
       "      <td>787.490093</td>\n",
       "      <td>1.140317</td>\n",
       "    </tr>\n",
       "  </tbody>\n",
       "</table>\n",
       "</div>"
      ],
      "text/plain": [
       "  site_version       banner_type  cost_per_click_now  \\\n",
       "0      desktop       accessories           33.478459   \n",
       "1      desktop           clothes          101.085191   \n",
       "2      desktop           company            0.000000   \n",
       "3      desktop          sneakers           49.203977   \n",
       "4      desktop  sports_nutrition           17.350055   \n",
       "5       mobile       accessories           33.699396   \n",
       "6       mobile           clothes           69.699136   \n",
       "7       mobile           company            0.000000   \n",
       "8       mobile          sneakers           52.764962   \n",
       "9       mobile  sports_nutrition           18.623692   \n",
       "\n",
       "   minimum_needable_conversion  needed_experiment_users  needed_num_days  \n",
       "0                     0.356109                 7.660696         0.028594  \n",
       "1                     1.051685                 1.243347         0.004539  \n",
       "2                     0.000000               246.981649         0.787876  \n",
       "3                     0.524435                 3.587179         0.013416  \n",
       "4                     0.180374                23.706977         0.086483  \n",
       "5                     0.142230              2227.021286         3.298205  \n",
       "6                     0.292014               190.844877         0.280569  \n",
       "7                     0.000000               132.345721         0.182926  \n",
       "8                     0.220504               484.273039         0.710141  \n",
       "9                     0.076853               787.490093         1.140317  "
      ]
     },
     "execution_count": 23,
     "metadata": {},
     "output_type": "execute_result"
    }
   ],
   "source": [
    "new_df_2 = new_df[['site_version', 'banner_type', 'cost_per_click_now', 'minimum_needable_conversion', \n",
    "        'needed_experiment_users', 'needed_num_days']]\n",
    "new_df_2"
   ]
  },
  {
   "cell_type": "markdown",
   "metadata": {},
   "source": [
    "##### Используя формулу, которой мы пользовались в предыдущем кейсе, определим, какое количество пользователей необходимо для проверки гипотезы конкретно варианта с парой mobile и accessories?\n",
    "\n",
    "##### ПРАВИЛЬНЫЙ ОТВЕТ:\n",
    "##### 2228  верно"
   ]
  },
  {
   "cell_type": "code",
   "execution_count": 24,
   "metadata": {},
   "outputs": [
    {
     "data": {
      "text/html": [
       "<div>\n",
       "<style scoped>\n",
       "    .dataframe tbody tr th:only-of-type {\n",
       "        vertical-align: middle;\n",
       "    }\n",
       "\n",
       "    .dataframe tbody tr th {\n",
       "        vertical-align: top;\n",
       "    }\n",
       "\n",
       "    .dataframe thead th {\n",
       "        text-align: right;\n",
       "    }\n",
       "</style>\n",
       "<table border=\"1\" class=\"dataframe\">\n",
       "  <thead>\n",
       "    <tr style=\"text-align: right;\">\n",
       "      <th></th>\n",
       "      <th>site_version</th>\n",
       "      <th>banner_type</th>\n",
       "      <th>cost_per_click_now</th>\n",
       "      <th>minimum_needable_conversion</th>\n",
       "      <th>needed_experiment_users</th>\n",
       "      <th>needed_num_days</th>\n",
       "    </tr>\n",
       "  </thead>\n",
       "  <tbody>\n",
       "    <tr>\n",
       "      <th>5</th>\n",
       "      <td>mobile</td>\n",
       "      <td>accessories</td>\n",
       "      <td>33.699396</td>\n",
       "      <td>0.14223</td>\n",
       "      <td>2227.021286</td>\n",
       "      <td>3.298205</td>\n",
       "    </tr>\n",
       "  </tbody>\n",
       "</table>\n",
       "</div>"
      ],
      "text/plain": [
       "  site_version  banner_type  cost_per_click_now  minimum_needable_conversion  \\\n",
       "5       mobile  accessories           33.699396                      0.14223   \n",
       "\n",
       "   needed_experiment_users  needed_num_days  \n",
       "5              2227.021286         3.298205  "
      ]
     },
     "execution_count": 24,
     "metadata": {},
     "output_type": "execute_result"
    }
   ],
   "source": [
    "new_df_2[(new_df_2['site_version'] == 'mobile') & (new_df_2['banner_type'] == 'accessories')]"
   ]
  },
  {
   "cell_type": "markdown",
   "metadata": {},
   "source": [
    "##### Какое при этом количество дней необходимо по формуле без учёта покупательского цикла?\n",
    "\n",
    "##### ПРАВИЛЬНЫЙ ОТВЕТ:\n",
    "##### 4  верно"
   ]
  },
  {
   "cell_type": "markdown",
   "metadata": {},
   "source": [
    "##### А какое количество дней необходимо с учётом покупательского цикла в одну неделю?\n",
    "\n",
    "##### ПРАВИЛЬНЫЙ ОТВЕТ:\n",
    "##### 7  верно"
   ]
  },
  {
   "cell_type": "code",
   "execution_count": null,
   "metadata": {},
   "outputs": [],
   "source": []
  },
  {
   "cell_type": "code",
   "execution_count": null,
   "metadata": {},
   "outputs": [],
   "source": []
  },
  {
   "cell_type": "code",
   "execution_count": null,
   "metadata": {},
   "outputs": [],
   "source": []
  },
  {
   "cell_type": "code",
   "execution_count": null,
   "metadata": {},
   "outputs": [],
   "source": []
  },
  {
   "cell_type": "code",
   "execution_count": null,
   "metadata": {},
   "outputs": [],
   "source": []
  },
  {
   "cell_type": "code",
   "execution_count": null,
   "metadata": {},
   "outputs": [],
   "source": []
  },
  {
   "cell_type": "code",
   "execution_count": null,
   "metadata": {},
   "outputs": [],
   "source": []
  },
  {
   "cell_type": "code",
   "execution_count": null,
   "metadata": {},
   "outputs": [],
   "source": []
  },
  {
   "cell_type": "code",
   "execution_count": null,
   "metadata": {},
   "outputs": [],
   "source": []
  },
  {
   "cell_type": "code",
   "execution_count": null,
   "metadata": {},
   "outputs": [],
   "source": []
  },
  {
   "cell_type": "code",
   "execution_count": null,
   "metadata": {},
   "outputs": [],
   "source": []
  },
  {
   "cell_type": "code",
   "execution_count": null,
   "metadata": {},
   "outputs": [],
   "source": []
  },
  {
   "cell_type": "code",
   "execution_count": null,
   "metadata": {},
   "outputs": [],
   "source": []
  },
  {
   "cell_type": "code",
   "execution_count": null,
   "metadata": {},
   "outputs": [],
   "source": []
  },
  {
   "cell_type": "code",
   "execution_count": null,
   "metadata": {},
   "outputs": [],
   "source": []
  },
  {
   "cell_type": "code",
   "execution_count": null,
   "metadata": {},
   "outputs": [],
   "source": []
  },
  {
   "cell_type": "code",
   "execution_count": null,
   "metadata": {},
   "outputs": [],
   "source": []
  },
  {
   "cell_type": "code",
   "execution_count": null,
   "metadata": {},
   "outputs": [],
   "source": []
  },
  {
   "cell_type": "code",
   "execution_count": null,
   "metadata": {},
   "outputs": [],
   "source": []
  },
  {
   "cell_type": "code",
   "execution_count": null,
   "metadata": {},
   "outputs": [],
   "source": []
  },
  {
   "cell_type": "code",
   "execution_count": null,
   "metadata": {},
   "outputs": [],
   "source": []
  },
  {
   "cell_type": "code",
   "execution_count": null,
   "metadata": {},
   "outputs": [],
   "source": []
  },
  {
   "cell_type": "code",
   "execution_count": null,
   "metadata": {},
   "outputs": [],
   "source": []
  },
  {
   "cell_type": "code",
   "execution_count": null,
   "metadata": {},
   "outputs": [],
   "source": []
  },
  {
   "cell_type": "code",
   "execution_count": null,
   "metadata": {},
   "outputs": [],
   "source": []
  },
  {
   "cell_type": "code",
   "execution_count": null,
   "metadata": {},
   "outputs": [],
   "source": []
  },
  {
   "cell_type": "code",
   "execution_count": null,
   "metadata": {},
   "outputs": [],
   "source": []
  },
  {
   "cell_type": "code",
   "execution_count": null,
   "metadata": {},
   "outputs": [],
   "source": []
  },
  {
   "cell_type": "code",
   "execution_count": null,
   "metadata": {},
   "outputs": [],
   "source": []
  },
  {
   "cell_type": "code",
   "execution_count": null,
   "metadata": {},
   "outputs": [],
   "source": []
  },
  {
   "cell_type": "code",
   "execution_count": null,
   "metadata": {},
   "outputs": [],
   "source": []
  },
  {
   "cell_type": "code",
   "execution_count": null,
   "metadata": {},
   "outputs": [],
   "source": []
  },
  {
   "cell_type": "code",
   "execution_count": null,
   "metadata": {},
   "outputs": [],
   "source": []
  },
  {
   "cell_type": "code",
   "execution_count": null,
   "metadata": {},
   "outputs": [],
   "source": []
  },
  {
   "cell_type": "code",
   "execution_count": null,
   "metadata": {},
   "outputs": [],
   "source": []
  },
  {
   "cell_type": "code",
   "execution_count": null,
   "metadata": {},
   "outputs": [],
   "source": []
  },
  {
   "cell_type": "code",
   "execution_count": null,
   "metadata": {},
   "outputs": [],
   "source": []
  },
  {
   "cell_type": "code",
   "execution_count": null,
   "metadata": {},
   "outputs": [],
   "source": []
  },
  {
   "cell_type": "code",
   "execution_count": null,
   "metadata": {},
   "outputs": [],
   "source": []
  },
  {
   "cell_type": "code",
   "execution_count": null,
   "metadata": {},
   "outputs": [],
   "source": []
  },
  {
   "cell_type": "code",
   "execution_count": null,
   "metadata": {},
   "outputs": [],
   "source": []
  },
  {
   "cell_type": "code",
   "execution_count": null,
   "metadata": {},
   "outputs": [],
   "source": []
  },
  {
   "cell_type": "code",
   "execution_count": null,
   "metadata": {},
   "outputs": [],
   "source": []
  },
  {
   "cell_type": "code",
   "execution_count": null,
   "metadata": {},
   "outputs": [],
   "source": []
  },
  {
   "cell_type": "code",
   "execution_count": null,
   "metadata": {},
   "outputs": [],
   "source": []
  },
  {
   "cell_type": "code",
   "execution_count": null,
   "metadata": {},
   "outputs": [],
   "source": []
  },
  {
   "cell_type": "code",
   "execution_count": null,
   "metadata": {},
   "outputs": [],
   "source": []
  },
  {
   "cell_type": "code",
   "execution_count": null,
   "metadata": {},
   "outputs": [],
   "source": []
  },
  {
   "cell_type": "code",
   "execution_count": null,
   "metadata": {},
   "outputs": [],
   "source": []
  },
  {
   "cell_type": "code",
   "execution_count": null,
   "metadata": {},
   "outputs": [],
   "source": []
  },
  {
   "cell_type": "code",
   "execution_count": null,
   "metadata": {},
   "outputs": [],
   "source": []
  },
  {
   "cell_type": "code",
   "execution_count": null,
   "metadata": {},
   "outputs": [],
   "source": []
  },
  {
   "cell_type": "code",
   "execution_count": null,
   "metadata": {},
   "outputs": [],
   "source": []
  },
  {
   "cell_type": "code",
   "execution_count": null,
   "metadata": {},
   "outputs": [],
   "source": []
  },
  {
   "cell_type": "code",
   "execution_count": null,
   "metadata": {},
   "outputs": [],
   "source": []
  },
  {
   "cell_type": "code",
   "execution_count": null,
   "metadata": {},
   "outputs": [],
   "source": []
  },
  {
   "cell_type": "code",
   "execution_count": null,
   "metadata": {},
   "outputs": [],
   "source": []
  },
  {
   "cell_type": "code",
   "execution_count": null,
   "metadata": {},
   "outputs": [],
   "source": []
  },
  {
   "cell_type": "code",
   "execution_count": null,
   "metadata": {},
   "outputs": [],
   "source": []
  },
  {
   "cell_type": "code",
   "execution_count": null,
   "metadata": {},
   "outputs": [],
   "source": []
  },
  {
   "cell_type": "code",
   "execution_count": null,
   "metadata": {},
   "outputs": [],
   "source": []
  },
  {
   "cell_type": "code",
   "execution_count": null,
   "metadata": {},
   "outputs": [],
   "source": []
  },
  {
   "cell_type": "code",
   "execution_count": null,
   "metadata": {},
   "outputs": [],
   "source": []
  },
  {
   "cell_type": "code",
   "execution_count": null,
   "metadata": {},
   "outputs": [],
   "source": []
  },
  {
   "cell_type": "code",
   "execution_count": null,
   "metadata": {},
   "outputs": [],
   "source": []
  },
  {
   "cell_type": "code",
   "execution_count": null,
   "metadata": {},
   "outputs": [],
   "source": []
  },
  {
   "cell_type": "code",
   "execution_count": null,
   "metadata": {},
   "outputs": [],
   "source": []
  },
  {
   "cell_type": "code",
   "execution_count": null,
   "metadata": {},
   "outputs": [],
   "source": []
  },
  {
   "cell_type": "code",
   "execution_count": null,
   "metadata": {},
   "outputs": [],
   "source": []
  },
  {
   "cell_type": "code",
   "execution_count": null,
   "metadata": {},
   "outputs": [],
   "source": []
  },
  {
   "cell_type": "code",
   "execution_count": null,
   "metadata": {},
   "outputs": [],
   "source": []
  },
  {
   "cell_type": "code",
   "execution_count": null,
   "metadata": {},
   "outputs": [],
   "source": []
  },
  {
   "cell_type": "code",
   "execution_count": null,
   "metadata": {},
   "outputs": [],
   "source": []
  },
  {
   "cell_type": "code",
   "execution_count": null,
   "metadata": {},
   "outputs": [],
   "source": []
  },
  {
   "cell_type": "code",
   "execution_count": null,
   "metadata": {},
   "outputs": [],
   "source": []
  },
  {
   "cell_type": "code",
   "execution_count": null,
   "metadata": {},
   "outputs": [],
   "source": []
  },
  {
   "cell_type": "code",
   "execution_count": null,
   "metadata": {},
   "outputs": [],
   "source": []
  },
  {
   "cell_type": "code",
   "execution_count": null,
   "metadata": {},
   "outputs": [],
   "source": []
  },
  {
   "cell_type": "code",
   "execution_count": null,
   "metadata": {},
   "outputs": [],
   "source": []
  },
  {
   "cell_type": "code",
   "execution_count": null,
   "metadata": {},
   "outputs": [],
   "source": []
  },
  {
   "cell_type": "code",
   "execution_count": null,
   "metadata": {},
   "outputs": [],
   "source": []
  },
  {
   "cell_type": "code",
   "execution_count": null,
   "metadata": {},
   "outputs": [],
   "source": []
  },
  {
   "cell_type": "code",
   "execution_count": null,
   "metadata": {},
   "outputs": [],
   "source": []
  },
  {
   "cell_type": "code",
   "execution_count": null,
   "metadata": {},
   "outputs": [],
   "source": []
  },
  {
   "cell_type": "code",
   "execution_count": null,
   "metadata": {},
   "outputs": [],
   "source": []
  },
  {
   "cell_type": "code",
   "execution_count": null,
   "metadata": {},
   "outputs": [],
   "source": []
  },
  {
   "cell_type": "code",
   "execution_count": null,
   "metadata": {},
   "outputs": [],
   "source": []
  },
  {
   "cell_type": "code",
   "execution_count": null,
   "metadata": {},
   "outputs": [],
   "source": []
  },
  {
   "cell_type": "code",
   "execution_count": null,
   "metadata": {},
   "outputs": [],
   "source": []
  },
  {
   "cell_type": "code",
   "execution_count": null,
   "metadata": {},
   "outputs": [],
   "source": []
  },
  {
   "cell_type": "code",
   "execution_count": null,
   "metadata": {},
   "outputs": [],
   "source": []
  },
  {
   "cell_type": "code",
   "execution_count": null,
   "metadata": {},
   "outputs": [],
   "source": []
  },
  {
   "cell_type": "code",
   "execution_count": null,
   "metadata": {},
   "outputs": [],
   "source": []
  },
  {
   "cell_type": "code",
   "execution_count": null,
   "metadata": {},
   "outputs": [],
   "source": []
  },
  {
   "cell_type": "code",
   "execution_count": null,
   "metadata": {},
   "outputs": [],
   "source": []
  },
  {
   "cell_type": "code",
   "execution_count": null,
   "metadata": {},
   "outputs": [],
   "source": []
  },
  {
   "cell_type": "code",
   "execution_count": null,
   "metadata": {},
   "outputs": [],
   "source": []
  },
  {
   "cell_type": "code",
   "execution_count": null,
   "metadata": {},
   "outputs": [],
   "source": []
  },
  {
   "cell_type": "code",
   "execution_count": null,
   "metadata": {},
   "outputs": [],
   "source": []
  },
  {
   "cell_type": "code",
   "execution_count": null,
   "metadata": {},
   "outputs": [],
   "source": []
  },
  {
   "cell_type": "code",
   "execution_count": null,
   "metadata": {},
   "outputs": [],
   "source": []
  },
  {
   "cell_type": "code",
   "execution_count": null,
   "metadata": {},
   "outputs": [],
   "source": []
  },
  {
   "cell_type": "code",
   "execution_count": null,
   "metadata": {},
   "outputs": [],
   "source": []
  },
  {
   "cell_type": "code",
   "execution_count": null,
   "metadata": {},
   "outputs": [],
   "source": []
  },
  {
   "cell_type": "code",
   "execution_count": null,
   "metadata": {},
   "outputs": [],
   "source": []
  },
  {
   "cell_type": "code",
   "execution_count": null,
   "metadata": {},
   "outputs": [],
   "source": []
  },
  {
   "cell_type": "code",
   "execution_count": null,
   "metadata": {},
   "outputs": [],
   "source": []
  },
  {
   "cell_type": "code",
   "execution_count": null,
   "metadata": {},
   "outputs": [],
   "source": []
  },
  {
   "cell_type": "code",
   "execution_count": null,
   "metadata": {},
   "outputs": [],
   "source": []
  },
  {
   "cell_type": "code",
   "execution_count": null,
   "metadata": {},
   "outputs": [],
   "source": []
  },
  {
   "cell_type": "code",
   "execution_count": null,
   "metadata": {},
   "outputs": [],
   "source": []
  },
  {
   "cell_type": "code",
   "execution_count": null,
   "metadata": {},
   "outputs": [],
   "source": []
  },
  {
   "cell_type": "code",
   "execution_count": null,
   "metadata": {},
   "outputs": [],
   "source": []
  },
  {
   "cell_type": "code",
   "execution_count": null,
   "metadata": {},
   "outputs": [],
   "source": []
  },
  {
   "cell_type": "code",
   "execution_count": null,
   "metadata": {},
   "outputs": [],
   "source": []
  },
  {
   "cell_type": "code",
   "execution_count": null,
   "metadata": {},
   "outputs": [],
   "source": []
  },
  {
   "cell_type": "code",
   "execution_count": null,
   "metadata": {},
   "outputs": [],
   "source": []
  }
 ],
 "metadata": {
  "kernelspec": {
   "display_name": "Python 3",
   "language": "python",
   "name": "python3"
  },
  "language_info": {
   "codemirror_mode": {
    "name": "ipython",
    "version": 3
   },
   "file_extension": ".py",
   "mimetype": "text/x-python",
   "name": "python",
   "nbconvert_exporter": "python",
   "pygments_lexer": "ipython3",
   "version": "3.8.5"
  }
 },
 "nbformat": 4,
 "nbformat_minor": 4
}
