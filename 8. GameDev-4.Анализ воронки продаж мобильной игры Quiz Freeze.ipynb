{
 "cells": [
  {
   "cell_type": "markdown",
   "metadata": {},
   "source": [
    "# PROJECT-2. Анализ воронки\n",
    "\n",
    "\n",
    "8.3. PROJECT. Описание задач проекта\n",
    "\n",
    "ЗАДАЧИ (ФОРМАЛИЗОВАННЫЕ)\n",
    "\n",
    "1. Проверить, отличается ли время прохождения различных этапов для пользователей, которые прошли обучение, от пользователей, не начинавших обучение. Насколько обучение сокращает время прохождения этапов?\n",
    "\n",
    "2. Посмотреть, существует ли зависимость между вероятностью оплаты вопросов и количеством обучений, которые начинал или завершал пользователь. Нужно доказать, что успешное обучение само по себе влияет на оплату, и без разницы, каким этапом оно шло.\n",
    "\n",
    "3. Дополнительная задача. Как часто пользователи начинают обучение после того, как они выбрали уровень сложности? Это позволит нам понять, насколько прозрачен процесс взаимодействия с игрой: если пользователи после выбора уровня сложности обращаются к обучению, значит, работа с приложением непонятна.\n",
    "\n",
    "### Проверку производим на основе данных пользователей, которые зарегистрировались в 2018 году (с 1 января по 31 декабря 2018 года включительно).\n",
    "\n",
    "\n",
    "! ЗАМЕТКА :\n",
    "\n",
    "В данном документе для удобства и лучшего визуального восприятия используется номерная разметка и текст формата Markdown (\"не запущенный код\" текста)\n",
    "\n",
    "Для удобства проверки задач 1, 2, 3 проекта можно перейти к следующим разделам по номерной разметке, соответственно: \n",
    "# 1.4 - Вывод 1\n",
    "# 2.6 - Вывод 2\n",
    "# 3.4 - Вывод 3\n",
    "\n",
    "В качестве дополнительного анализа был добавлен анализ пользовательских событий и уникальных пользовательских путей пользователей (для лучшего восприятия и ориентирования используется номерная разметка: #-#####)."
   ]
  },
  {
   "cell_type": "markdown",
   "metadata": {},
   "source": [
    "## СБОР И ОБРАБОТКА ДАННЫХ"
   ]
  },
  {
   "cell_type": "code",
   "execution_count": 1,
   "metadata": {},
   "outputs": [
    {
     "data": {
      "text/html": [
       "<div>\n",
       "<style scoped>\n",
       "    .dataframe tbody tr th:only-of-type {\n",
       "        vertical-align: middle;\n",
       "    }\n",
       "\n",
       "    .dataframe tbody tr th {\n",
       "        vertical-align: top;\n",
       "    }\n",
       "\n",
       "    .dataframe thead th {\n",
       "        text-align: right;\n",
       "    }\n",
       "</style>\n",
       "<table border=\"1\" class=\"dataframe\">\n",
       "  <thead>\n",
       "    <tr style=\"text-align: right;\">\n",
       "      <th></th>\n",
       "      <th>id</th>\n",
       "      <th>event_type</th>\n",
       "      <th>selected_level</th>\n",
       "      <th>start_time</th>\n",
       "      <th>tutorial_id</th>\n",
       "      <th>user_id</th>\n",
       "    </tr>\n",
       "  </thead>\n",
       "  <tbody>\n",
       "    <tr>\n",
       "      <th>0</th>\n",
       "      <td>28903</td>\n",
       "      <td>registration</td>\n",
       "      <td>NaN</td>\n",
       "      <td>2016-05-11T23:40:55</td>\n",
       "      <td>NaN</td>\n",
       "      <td>12583</td>\n",
       "    </tr>\n",
       "    <tr>\n",
       "      <th>1</th>\n",
       "      <td>28904</td>\n",
       "      <td>registration</td>\n",
       "      <td>NaN</td>\n",
       "      <td>2016-05-11T23:49:58</td>\n",
       "      <td>NaN</td>\n",
       "      <td>12584</td>\n",
       "    </tr>\n",
       "    <tr>\n",
       "      <th>2</th>\n",
       "      <td>28905</td>\n",
       "      <td>registration</td>\n",
       "      <td>NaN</td>\n",
       "      <td>2016-05-12T00:53:07</td>\n",
       "      <td>NaN</td>\n",
       "      <td>12585</td>\n",
       "    </tr>\n",
       "    <tr>\n",
       "      <th>3</th>\n",
       "      <td>28906</td>\n",
       "      <td>tutorial_start</td>\n",
       "      <td>NaN</td>\n",
       "      <td>2016-05-12T01:32:20</td>\n",
       "      <td>17562.0</td>\n",
       "      <td>12585</td>\n",
       "    </tr>\n",
       "    <tr>\n",
       "      <th>4</th>\n",
       "      <td>28907</td>\n",
       "      <td>tutorial_finish</td>\n",
       "      <td>NaN</td>\n",
       "      <td>2016-05-12T01:34:53</td>\n",
       "      <td>17562.0</td>\n",
       "      <td>12585</td>\n",
       "    </tr>\n",
       "    <tr>\n",
       "      <th>...</th>\n",
       "      <td>...</td>\n",
       "      <td>...</td>\n",
       "      <td>...</td>\n",
       "      <td>...</td>\n",
       "      <td>...</td>\n",
       "      <td>...</td>\n",
       "    </tr>\n",
       "    <tr>\n",
       "      <th>252329</th>\n",
       "      <td>281232</td>\n",
       "      <td>level_choice</td>\n",
       "      <td>hard</td>\n",
       "      <td>2020-07-02T10:02:15</td>\n",
       "      <td>NaN</td>\n",
       "      <td>87439</td>\n",
       "    </tr>\n",
       "    <tr>\n",
       "      <th>252330</th>\n",
       "      <td>281233</td>\n",
       "      <td>level_choice</td>\n",
       "      <td>medium</td>\n",
       "      <td>2020-07-02T11:38:52</td>\n",
       "      <td>NaN</td>\n",
       "      <td>87488</td>\n",
       "    </tr>\n",
       "    <tr>\n",
       "      <th>252331</th>\n",
       "      <td>281234</td>\n",
       "      <td>pack_choice</td>\n",
       "      <td>NaN</td>\n",
       "      <td>2020-07-02T11:42:14</td>\n",
       "      <td>NaN</td>\n",
       "      <td>87488</td>\n",
       "    </tr>\n",
       "    <tr>\n",
       "      <th>252332</th>\n",
       "      <td>281235</td>\n",
       "      <td>tutorial_start</td>\n",
       "      <td>NaN</td>\n",
       "      <td>2020-07-02T13:32:58</td>\n",
       "      <td>86127.0</td>\n",
       "      <td>87464</td>\n",
       "    </tr>\n",
       "    <tr>\n",
       "      <th>252333</th>\n",
       "      <td>281236</td>\n",
       "      <td>tutorial_finish</td>\n",
       "      <td>NaN</td>\n",
       "      <td>2020-07-02T13:36:36</td>\n",
       "      <td>86127.0</td>\n",
       "      <td>87464</td>\n",
       "    </tr>\n",
       "  </tbody>\n",
       "</table>\n",
       "<p>252334 rows × 6 columns</p>\n",
       "</div>"
      ],
      "text/plain": [
       "            id       event_type selected_level           start_time  \\\n",
       "0        28903     registration            NaN  2016-05-11T23:40:55   \n",
       "1        28904     registration            NaN  2016-05-11T23:49:58   \n",
       "2        28905     registration            NaN  2016-05-12T00:53:07   \n",
       "3        28906   tutorial_start            NaN  2016-05-12T01:32:20   \n",
       "4        28907  tutorial_finish            NaN  2016-05-12T01:34:53   \n",
       "...        ...              ...            ...                  ...   \n",
       "252329  281232     level_choice           hard  2020-07-02T10:02:15   \n",
       "252330  281233     level_choice         medium  2020-07-02T11:38:52   \n",
       "252331  281234      pack_choice            NaN  2020-07-02T11:42:14   \n",
       "252332  281235   tutorial_start            NaN  2020-07-02T13:32:58   \n",
       "252333  281236  tutorial_finish            NaN  2020-07-02T13:36:36   \n",
       "\n",
       "        tutorial_id  user_id  \n",
       "0               NaN    12583  \n",
       "1               NaN    12584  \n",
       "2               NaN    12585  \n",
       "3           17562.0    12585  \n",
       "4           17562.0    12585  \n",
       "...             ...      ...  \n",
       "252329          NaN    87439  \n",
       "252330          NaN    87488  \n",
       "252331          NaN    87488  \n",
       "252332      86127.0    87464  \n",
       "252333      86127.0    87464  \n",
       "\n",
       "[252334 rows x 6 columns]"
      ]
     },
     "metadata": {},
     "output_type": "display_data"
    },
    {
     "data": {
      "text/html": [
       "<div>\n",
       "<style scoped>\n",
       "    .dataframe tbody tr th:only-of-type {\n",
       "        vertical-align: middle;\n",
       "    }\n",
       "\n",
       "    .dataframe tbody tr th {\n",
       "        vertical-align: top;\n",
       "    }\n",
       "\n",
       "    .dataframe thead th {\n",
       "        text-align: right;\n",
       "    }\n",
       "</style>\n",
       "<table border=\"1\" class=\"dataframe\">\n",
       "  <thead>\n",
       "    <tr style=\"text-align: right;\">\n",
       "      <th></th>\n",
       "      <th>id</th>\n",
       "      <th>user_id</th>\n",
       "      <th>event_datetime</th>\n",
       "      <th>amount</th>\n",
       "    </tr>\n",
       "  </thead>\n",
       "  <tbody>\n",
       "    <tr>\n",
       "      <th>0</th>\n",
       "      <td>15674</td>\n",
       "      <td>12584</td>\n",
       "      <td>2016-05-12T10:34:16</td>\n",
       "      <td>100</td>\n",
       "    </tr>\n",
       "    <tr>\n",
       "      <th>1</th>\n",
       "      <td>15675</td>\n",
       "      <td>12985</td>\n",
       "      <td>2016-05-13T08:25:56</td>\n",
       "      <td>50</td>\n",
       "    </tr>\n",
       "    <tr>\n",
       "      <th>2</th>\n",
       "      <td>15676</td>\n",
       "      <td>12828</td>\n",
       "      <td>2016-05-13T16:33:46</td>\n",
       "      <td>50</td>\n",
       "    </tr>\n",
       "    <tr>\n",
       "      <th>3</th>\n",
       "      <td>15677</td>\n",
       "      <td>12598</td>\n",
       "      <td>2016-05-14T01:09:37</td>\n",
       "      <td>150</td>\n",
       "    </tr>\n",
       "    <tr>\n",
       "      <th>4</th>\n",
       "      <td>15678</td>\n",
       "      <td>13037</td>\n",
       "      <td>2016-05-14T01:24:46</td>\n",
       "      <td>100</td>\n",
       "    </tr>\n",
       "    <tr>\n",
       "      <th>...</th>\n",
       "      <td>...</td>\n",
       "      <td>...</td>\n",
       "      <td>...</td>\n",
       "      <td>...</td>\n",
       "    </tr>\n",
       "    <tr>\n",
       "      <th>5951</th>\n",
       "      <td>21625</td>\n",
       "      <td>87331</td>\n",
       "      <td>2020-07-06T09:02:07</td>\n",
       "      <td>50</td>\n",
       "    </tr>\n",
       "    <tr>\n",
       "      <th>5952</th>\n",
       "      <td>21626</td>\n",
       "      <td>87418</td>\n",
       "      <td>2020-07-06T14:16:37</td>\n",
       "      <td>100</td>\n",
       "    </tr>\n",
       "    <tr>\n",
       "      <th>5953</th>\n",
       "      <td>21627</td>\n",
       "      <td>87431</td>\n",
       "      <td>2020-07-06T22:48:59</td>\n",
       "      <td>50</td>\n",
       "    </tr>\n",
       "    <tr>\n",
       "      <th>5954</th>\n",
       "      <td>21628</td>\n",
       "      <td>87363</td>\n",
       "      <td>2020-07-07T05:38:56</td>\n",
       "      <td>100</td>\n",
       "    </tr>\n",
       "    <tr>\n",
       "      <th>5955</th>\n",
       "      <td>21629</td>\n",
       "      <td>87466</td>\n",
       "      <td>2020-07-08T01:59:21</td>\n",
       "      <td>50</td>\n",
       "    </tr>\n",
       "  </tbody>\n",
       "</table>\n",
       "<p>5956 rows × 4 columns</p>\n",
       "</div>"
      ],
      "text/plain": [
       "         id  user_id       event_datetime  amount\n",
       "0     15674    12584  2016-05-12T10:34:16     100\n",
       "1     15675    12985  2016-05-13T08:25:56      50\n",
       "2     15676    12828  2016-05-13T16:33:46      50\n",
       "3     15677    12598  2016-05-14T01:09:37     150\n",
       "4     15678    13037  2016-05-14T01:24:46     100\n",
       "...     ...      ...                  ...     ...\n",
       "5951  21625    87331  2020-07-06T09:02:07      50\n",
       "5952  21626    87418  2020-07-06T14:16:37     100\n",
       "5953  21627    87431  2020-07-06T22:48:59      50\n",
       "5954  21628    87363  2020-07-07T05:38:56     100\n",
       "5955  21629    87466  2020-07-08T01:59:21      50\n",
       "\n",
       "[5956 rows x 4 columns]"
      ]
     },
     "metadata": {},
     "output_type": "display_data"
    }
   ],
   "source": [
    "# Импортируем необходимые датасеты '7_4_Events', '7_4_Purchase' :\n",
    "\n",
    "import pandas as pd\n",
    "events_df = pd.read_csv('7_4_events.csv')\n",
    "display(events_df)\n",
    "\n",
    "purchase_df = pd.read_csv('7_4_Purchase.csv')\n",
    "display(purchase_df)"
   ]
  },
  {
   "cell_type": "code",
   "execution_count": 2,
   "metadata": {},
   "outputs": [
    {
     "data": {
      "text/html": [
       "<div>\n",
       "<style scoped>\n",
       "    .dataframe tbody tr th:only-of-type {\n",
       "        vertical-align: middle;\n",
       "    }\n",
       "\n",
       "    .dataframe tbody tr th {\n",
       "        vertical-align: top;\n",
       "    }\n",
       "\n",
       "    .dataframe thead th {\n",
       "        text-align: right;\n",
       "    }\n",
       "</style>\n",
       "<table border=\"1\" class=\"dataframe\">\n",
       "  <thead>\n",
       "    <tr style=\"text-align: right;\">\n",
       "      <th></th>\n",
       "      <th>id</th>\n",
       "      <th>event_type</th>\n",
       "      <th>selected_level</th>\n",
       "      <th>start_time</th>\n",
       "      <th>tutorial_id</th>\n",
       "      <th>user_id</th>\n",
       "    </tr>\n",
       "  </thead>\n",
       "  <tbody>\n",
       "    <tr>\n",
       "      <th>51405</th>\n",
       "      <td>80308</td>\n",
       "      <td>registration</td>\n",
       "      <td>NaN</td>\n",
       "      <td>2018-01-01T03:48:40</td>\n",
       "      <td>NaN</td>\n",
       "      <td>27832</td>\n",
       "    </tr>\n",
       "    <tr>\n",
       "      <th>51406</th>\n",
       "      <td>80309</td>\n",
       "      <td>registration</td>\n",
       "      <td>NaN</td>\n",
       "      <td>2018-01-01T04:07:25</td>\n",
       "      <td>NaN</td>\n",
       "      <td>27833</td>\n",
       "    </tr>\n",
       "    <tr>\n",
       "      <th>51407</th>\n",
       "      <td>80310</td>\n",
       "      <td>registration</td>\n",
       "      <td>NaN</td>\n",
       "      <td>2018-01-01T08:35:10</td>\n",
       "      <td>NaN</td>\n",
       "      <td>27834</td>\n",
       "    </tr>\n",
       "    <tr>\n",
       "      <th>51408</th>\n",
       "      <td>80311</td>\n",
       "      <td>registration</td>\n",
       "      <td>NaN</td>\n",
       "      <td>2018-01-01T11:54:47</td>\n",
       "      <td>NaN</td>\n",
       "      <td>27835</td>\n",
       "    </tr>\n",
       "    <tr>\n",
       "      <th>51409</th>\n",
       "      <td>80312</td>\n",
       "      <td>registration</td>\n",
       "      <td>NaN</td>\n",
       "      <td>2018-01-01T13:28:07</td>\n",
       "      <td>NaN</td>\n",
       "      <td>27836</td>\n",
       "    </tr>\n",
       "    <tr>\n",
       "      <th>...</th>\n",
       "      <td>...</td>\n",
       "      <td>...</td>\n",
       "      <td>...</td>\n",
       "      <td>...</td>\n",
       "      <td>...</td>\n",
       "      <td>...</td>\n",
       "    </tr>\n",
       "    <tr>\n",
       "      <th>118359</th>\n",
       "      <td>147262</td>\n",
       "      <td>tutorial_start</td>\n",
       "      <td>NaN</td>\n",
       "      <td>2019-01-01T03:26:18</td>\n",
       "      <td>49554.0</td>\n",
       "      <td>47756</td>\n",
       "    </tr>\n",
       "    <tr>\n",
       "      <th>118360</th>\n",
       "      <td>147263</td>\n",
       "      <td>tutorial_finish</td>\n",
       "      <td>NaN</td>\n",
       "      <td>2019-01-01T03:29:25</td>\n",
       "      <td>49554.0</td>\n",
       "      <td>47756</td>\n",
       "    </tr>\n",
       "    <tr>\n",
       "      <th>118362</th>\n",
       "      <td>147265</td>\n",
       "      <td>level_choice</td>\n",
       "      <td>easy</td>\n",
       "      <td>2019-01-01T05:04:52</td>\n",
       "      <td>NaN</td>\n",
       "      <td>47755</td>\n",
       "    </tr>\n",
       "    <tr>\n",
       "      <th>118363</th>\n",
       "      <td>147266</td>\n",
       "      <td>level_choice</td>\n",
       "      <td>medium</td>\n",
       "      <td>2019-01-01T05:42:11</td>\n",
       "      <td>NaN</td>\n",
       "      <td>47756</td>\n",
       "    </tr>\n",
       "    <tr>\n",
       "      <th>118364</th>\n",
       "      <td>147267</td>\n",
       "      <td>pack_choice</td>\n",
       "      <td>NaN</td>\n",
       "      <td>2019-01-01T05:50:36</td>\n",
       "      <td>NaN</td>\n",
       "      <td>47756</td>\n",
       "    </tr>\n",
       "  </tbody>\n",
       "</table>\n",
       "<p>66959 rows × 6 columns</p>\n",
       "</div>"
      ],
      "text/plain": [
       "            id       event_type selected_level           start_time  \\\n",
       "51405    80308     registration            NaN  2018-01-01T03:48:40   \n",
       "51406    80309     registration            NaN  2018-01-01T04:07:25   \n",
       "51407    80310     registration            NaN  2018-01-01T08:35:10   \n",
       "51408    80311     registration            NaN  2018-01-01T11:54:47   \n",
       "51409    80312     registration            NaN  2018-01-01T13:28:07   \n",
       "...        ...              ...            ...                  ...   \n",
       "118359  147262   tutorial_start            NaN  2019-01-01T03:26:18   \n",
       "118360  147263  tutorial_finish            NaN  2019-01-01T03:29:25   \n",
       "118362  147265     level_choice           easy  2019-01-01T05:04:52   \n",
       "118363  147266     level_choice         medium  2019-01-01T05:42:11   \n",
       "118364  147267      pack_choice            NaN  2019-01-01T05:50:36   \n",
       "\n",
       "        tutorial_id  user_id  \n",
       "51405           NaN    27832  \n",
       "51406           NaN    27833  \n",
       "51407           NaN    27834  \n",
       "51408           NaN    27835  \n",
       "51409           NaN    27836  \n",
       "...             ...      ...  \n",
       "118359      49554.0    47756  \n",
       "118360      49554.0    47756  \n",
       "118362          NaN    47755  \n",
       "118363          NaN    47756  \n",
       "118364          NaN    47756  \n",
       "\n",
       "[66959 rows x 6 columns]"
      ]
     },
     "metadata": {},
     "output_type": "display_data"
    },
    {
     "data": {
      "text/html": [
       "<div>\n",
       "<style scoped>\n",
       "    .dataframe tbody tr th:only-of-type {\n",
       "        vertical-align: middle;\n",
       "    }\n",
       "\n",
       "    .dataframe tbody tr th {\n",
       "        vertical-align: top;\n",
       "    }\n",
       "\n",
       "    .dataframe thead th {\n",
       "        text-align: right;\n",
       "    }\n",
       "</style>\n",
       "<table border=\"1\" class=\"dataframe\">\n",
       "  <thead>\n",
       "    <tr style=\"text-align: right;\">\n",
       "      <th></th>\n",
       "      <th>id</th>\n",
       "      <th>user_id</th>\n",
       "      <th>event_datetime</th>\n",
       "      <th>amount</th>\n",
       "    </tr>\n",
       "  </thead>\n",
       "  <tbody>\n",
       "    <tr>\n",
       "      <th>1171</th>\n",
       "      <td>16845</td>\n",
       "      <td>27845</td>\n",
       "      <td>2018-01-03T18:53:43</td>\n",
       "      <td>100</td>\n",
       "    </tr>\n",
       "    <tr>\n",
       "      <th>1172</th>\n",
       "      <td>16846</td>\n",
       "      <td>27865</td>\n",
       "      <td>2018-01-04T14:46:10</td>\n",
       "      <td>250</td>\n",
       "    </tr>\n",
       "    <tr>\n",
       "      <th>1174</th>\n",
       "      <td>16848</td>\n",
       "      <td>27911</td>\n",
       "      <td>2018-01-07T08:19:12</td>\n",
       "      <td>50</td>\n",
       "    </tr>\n",
       "    <tr>\n",
       "      <th>1175</th>\n",
       "      <td>16849</td>\n",
       "      <td>27910</td>\n",
       "      <td>2018-01-07T12:11:34</td>\n",
       "      <td>100</td>\n",
       "    </tr>\n",
       "    <tr>\n",
       "      <th>1176</th>\n",
       "      <td>16850</td>\n",
       "      <td>27940</td>\n",
       "      <td>2018-01-07T13:16:41</td>\n",
       "      <td>200</td>\n",
       "    </tr>\n",
       "    <tr>\n",
       "      <th>...</th>\n",
       "      <td>...</td>\n",
       "      <td>...</td>\n",
       "      <td>...</td>\n",
       "      <td>...</td>\n",
       "    </tr>\n",
       "    <tr>\n",
       "      <th>2767</th>\n",
       "      <td>18441</td>\n",
       "      <td>47498</td>\n",
       "      <td>2019-01-02T03:48:19</td>\n",
       "      <td>100</td>\n",
       "    </tr>\n",
       "    <tr>\n",
       "      <th>2768</th>\n",
       "      <td>18442</td>\n",
       "      <td>47647</td>\n",
       "      <td>2019-01-02T23:26:26</td>\n",
       "      <td>150</td>\n",
       "    </tr>\n",
       "    <tr>\n",
       "      <th>2769</th>\n",
       "      <td>18443</td>\n",
       "      <td>47554</td>\n",
       "      <td>2019-01-03T00:36:36</td>\n",
       "      <td>50</td>\n",
       "    </tr>\n",
       "    <tr>\n",
       "      <th>2774</th>\n",
       "      <td>18448</td>\n",
       "      <td>47742</td>\n",
       "      <td>2019-01-04T12:51:41</td>\n",
       "      <td>50</td>\n",
       "    </tr>\n",
       "    <tr>\n",
       "      <th>2778</th>\n",
       "      <td>18452</td>\n",
       "      <td>47732</td>\n",
       "      <td>2019-01-06T07:14:25</td>\n",
       "      <td>150</td>\n",
       "    </tr>\n",
       "  </tbody>\n",
       "</table>\n",
       "<p>1600 rows × 4 columns</p>\n",
       "</div>"
      ],
      "text/plain": [
       "         id  user_id       event_datetime  amount\n",
       "1171  16845    27845  2018-01-03T18:53:43     100\n",
       "1172  16846    27865  2018-01-04T14:46:10     250\n",
       "1174  16848    27911  2018-01-07T08:19:12      50\n",
       "1175  16849    27910  2018-01-07T12:11:34     100\n",
       "1176  16850    27940  2018-01-07T13:16:41     200\n",
       "...     ...      ...                  ...     ...\n",
       "2767  18441    47498  2019-01-02T03:48:19     100\n",
       "2768  18442    47647  2019-01-02T23:26:26     150\n",
       "2769  18443    47554  2019-01-03T00:36:36      50\n",
       "2774  18448    47742  2019-01-04T12:51:41      50\n",
       "2778  18452    47732  2019-01-06T07:14:25     150\n",
       "\n",
       "[1600 rows x 4 columns]"
      ]
     },
     "metadata": {},
     "output_type": "display_data"
    }
   ],
   "source": [
    "# Задаём условие: формируем список пользователей, зарегистрировавшихся в 2018 году\n",
    "\n",
    "condition = (events_df.start_time >= '2018-01-01') & (events_df.start_time <= '2019-01-01') & (events_df.event_type == 'registration')\n",
    "registered = events_df[condition].user_id.to_list() # список пользователей, зарегистрировавшихся в 2018 г.\n",
    "\n",
    "# формируем список с условием registered (зарегистрированных в 2018 г.)\n",
    "events = events_df[events_df.user_id.isin(registered)]\n",
    "# ----- ТЕПЕРЬ БУДЕМ СЧИТАТЬ ЭТОТ датафрейм (events) ОСНОВНЫМ, нужным для дальнейшей работы ----- \n",
    "display(events)\n",
    "\n",
    "# Теперь формируем датафрейм purchases_p с данными для пользователей, зарегистрировавшихся в 2018 году.\n",
    "purchases_p = purchase_df[purchase_df.user_id.isin(registered)]\n",
    "# ----- ТЕПЕРЬ БУДЕМ СЧИТАТЬ ЭТОТ датафрейм (purchases) ОСНОВНЫМ, нужным для дальнейшей работы -----\n",
    "display(purchases_p)"
   ]
  },
  {
   "cell_type": "markdown",
   "metadata": {},
   "source": [
    "Добавим в датафрейм\n",
    "### purchases_p\n",
    "столбец \n",
    "##### event_type\n",
    ", который будет содержать одно значение \n",
    "##### purchase.\n",
    "Это нужно, чтобы в объединённом датафрейме однозначно выделить события оплаты."
   ]
  },
  {
   "cell_type": "code",
   "execution_count": 3,
   "metadata": {},
   "outputs": [],
   "source": [
    "import warnings\n",
    "warnings.filterwarnings('ignore')"
   ]
  },
  {
   "cell_type": "code",
   "execution_count": 4,
   "metadata": {},
   "outputs": [
    {
     "data": {
      "text/html": [
       "<div>\n",
       "<style scoped>\n",
       "    .dataframe tbody tr th:only-of-type {\n",
       "        vertical-align: middle;\n",
       "    }\n",
       "\n",
       "    .dataframe tbody tr th {\n",
       "        vertical-align: top;\n",
       "    }\n",
       "\n",
       "    .dataframe thead th {\n",
       "        text-align: right;\n",
       "    }\n",
       "</style>\n",
       "<table border=\"1\" class=\"dataframe\">\n",
       "  <thead>\n",
       "    <tr style=\"text-align: right;\">\n",
       "      <th></th>\n",
       "      <th>id</th>\n",
       "      <th>user_id</th>\n",
       "      <th>event_datetime</th>\n",
       "      <th>amount</th>\n",
       "      <th>event_type</th>\n",
       "    </tr>\n",
       "  </thead>\n",
       "  <tbody>\n",
       "    <tr>\n",
       "      <th>1171</th>\n",
       "      <td>16845</td>\n",
       "      <td>27845</td>\n",
       "      <td>2018-01-03T18:53:43</td>\n",
       "      <td>100</td>\n",
       "      <td>purchase</td>\n",
       "    </tr>\n",
       "    <tr>\n",
       "      <th>1172</th>\n",
       "      <td>16846</td>\n",
       "      <td>27865</td>\n",
       "      <td>2018-01-04T14:46:10</td>\n",
       "      <td>250</td>\n",
       "      <td>purchase</td>\n",
       "    </tr>\n",
       "    <tr>\n",
       "      <th>1174</th>\n",
       "      <td>16848</td>\n",
       "      <td>27911</td>\n",
       "      <td>2018-01-07T08:19:12</td>\n",
       "      <td>50</td>\n",
       "      <td>purchase</td>\n",
       "    </tr>\n",
       "    <tr>\n",
       "      <th>1175</th>\n",
       "      <td>16849</td>\n",
       "      <td>27910</td>\n",
       "      <td>2018-01-07T12:11:34</td>\n",
       "      <td>100</td>\n",
       "      <td>purchase</td>\n",
       "    </tr>\n",
       "    <tr>\n",
       "      <th>1176</th>\n",
       "      <td>16850</td>\n",
       "      <td>27940</td>\n",
       "      <td>2018-01-07T13:16:41</td>\n",
       "      <td>200</td>\n",
       "      <td>purchase</td>\n",
       "    </tr>\n",
       "    <tr>\n",
       "      <th>...</th>\n",
       "      <td>...</td>\n",
       "      <td>...</td>\n",
       "      <td>...</td>\n",
       "      <td>...</td>\n",
       "      <td>...</td>\n",
       "    </tr>\n",
       "    <tr>\n",
       "      <th>2767</th>\n",
       "      <td>18441</td>\n",
       "      <td>47498</td>\n",
       "      <td>2019-01-02T03:48:19</td>\n",
       "      <td>100</td>\n",
       "      <td>purchase</td>\n",
       "    </tr>\n",
       "    <tr>\n",
       "      <th>2768</th>\n",
       "      <td>18442</td>\n",
       "      <td>47647</td>\n",
       "      <td>2019-01-02T23:26:26</td>\n",
       "      <td>150</td>\n",
       "      <td>purchase</td>\n",
       "    </tr>\n",
       "    <tr>\n",
       "      <th>2769</th>\n",
       "      <td>18443</td>\n",
       "      <td>47554</td>\n",
       "      <td>2019-01-03T00:36:36</td>\n",
       "      <td>50</td>\n",
       "      <td>purchase</td>\n",
       "    </tr>\n",
       "    <tr>\n",
       "      <th>2774</th>\n",
       "      <td>18448</td>\n",
       "      <td>47742</td>\n",
       "      <td>2019-01-04T12:51:41</td>\n",
       "      <td>50</td>\n",
       "      <td>purchase</td>\n",
       "    </tr>\n",
       "    <tr>\n",
       "      <th>2778</th>\n",
       "      <td>18452</td>\n",
       "      <td>47732</td>\n",
       "      <td>2019-01-06T07:14:25</td>\n",
       "      <td>150</td>\n",
       "      <td>purchase</td>\n",
       "    </tr>\n",
       "  </tbody>\n",
       "</table>\n",
       "<p>1600 rows × 5 columns</p>\n",
       "</div>"
      ],
      "text/plain": [
       "         id  user_id       event_datetime  amount event_type\n",
       "1171  16845    27845  2018-01-03T18:53:43     100   purchase\n",
       "1172  16846    27865  2018-01-04T14:46:10     250   purchase\n",
       "1174  16848    27911  2018-01-07T08:19:12      50   purchase\n",
       "1175  16849    27910  2018-01-07T12:11:34     100   purchase\n",
       "1176  16850    27940  2018-01-07T13:16:41     200   purchase\n",
       "...     ...      ...                  ...     ...        ...\n",
       "2767  18441    47498  2019-01-02T03:48:19     100   purchase\n",
       "2768  18442    47647  2019-01-02T23:26:26     150   purchase\n",
       "2769  18443    47554  2019-01-03T00:36:36      50   purchase\n",
       "2774  18448    47742  2019-01-04T12:51:41      50   purchase\n",
       "2778  18452    47732  2019-01-06T07:14:25     150   purchase\n",
       "\n",
       "[1600 rows x 5 columns]"
      ]
     },
     "execution_count": 4,
     "metadata": {},
     "output_type": "execute_result"
    }
   ],
   "source": [
    "# после добавления столбца event_type, содержащего значение purchase:\n",
    "purchases_p['event_type'] = 'purchase'\n",
    "purchases_p"
   ]
  },
  {
   "cell_type": "markdown",
   "metadata": {},
   "source": [
    "Также у нас есть одинаковые столбцы id в двух датафреймах, но смысл их несколько отличается, так как столбец \n",
    "##### id в events указывает на идентификатор события, \n",
    "а столбец\n",
    "##### id в purchases_p указывает на идентификатор оплаты. \n",
    "\n",
    "Поэтому применим функцию\n",
    "### rename()\n",
    "для того, чтобы переименовать столбцы в датафреймах."
   ]
  },
  {
   "cell_type": "code",
   "execution_count": 5,
   "metadata": {},
   "outputs": [
    {
     "name": "stdout",
     "output_type": "stream",
     "text": [
      "Количество (%) пустых значений в колонках events event_id          0.00\n",
      "event_type        0.00\n",
      "selected_level    0.01\n",
      "event_time        0.00\n",
      "tutorial_id       0.01\n",
      "user_id           0.00\n",
      "dtype: float64\n",
      "Количество (%) пустых значений в колонках purchases_p purchase_id    0.0\n",
      "user_id        0.0\n",
      "event_time     0.0\n",
      "amount         0.0\n",
      "event_type     0.0\n",
      "dtype: float64\n"
     ]
    }
   ],
   "source": [
    "# после переименования столбцов id в двух датафреймах: id в event_id, а также id в purchase_id, event_datetime в start_time :\n",
    "\n",
    "events = events.rename(columns = {'id': 'event_id'})\n",
    "events = events.rename(columns = {'start_time': 'event_time'})\n",
    "purchases_p = purchases_p.rename(columns = {'id': 'purchase_id'})\n",
    "purchases_p = purchases_p.rename(columns = {'event_datetime': 'event_time'})\n",
    "\n",
    "\n",
    "print('Количество (%) пустых значений в колонках events {:}'.format(round((events.isnull().sum()/100/events.shape[0]), 2)))\n",
    "print('Количество (%) пустых значений в колонках purchases_p {:}'.format(round((purchases_p.isnull().sum()/100/purchases_p.shape[0]), 2)))"
   ]
  },
  {
   "cell_type": "code",
   "execution_count": 6,
   "metadata": {},
   "outputs": [
    {
     "data": {
      "text/html": [
       "<div>\n",
       "<style scoped>\n",
       "    .dataframe tbody tr th:only-of-type {\n",
       "        vertical-align: middle;\n",
       "    }\n",
       "\n",
       "    .dataframe tbody tr th {\n",
       "        vertical-align: top;\n",
       "    }\n",
       "\n",
       "    .dataframe thead th {\n",
       "        text-align: right;\n",
       "    }\n",
       "</style>\n",
       "<table border=\"1\" class=\"dataframe\">\n",
       "  <thead>\n",
       "    <tr style=\"text-align: right;\">\n",
       "      <th></th>\n",
       "      <th>event_id</th>\n",
       "      <th>event_type</th>\n",
       "      <th>selected_level</th>\n",
       "      <th>event_time</th>\n",
       "      <th>tutorial_id</th>\n",
       "      <th>user_id</th>\n",
       "    </tr>\n",
       "  </thead>\n",
       "  <tbody>\n",
       "    <tr>\n",
       "      <th>51405</th>\n",
       "      <td>80308</td>\n",
       "      <td>registration</td>\n",
       "      <td>NaN</td>\n",
       "      <td>2018-01-01T03:48:40</td>\n",
       "      <td>NaN</td>\n",
       "      <td>27832</td>\n",
       "    </tr>\n",
       "    <tr>\n",
       "      <th>51406</th>\n",
       "      <td>80309</td>\n",
       "      <td>registration</td>\n",
       "      <td>NaN</td>\n",
       "      <td>2018-01-01T04:07:25</td>\n",
       "      <td>NaN</td>\n",
       "      <td>27833</td>\n",
       "    </tr>\n",
       "    <tr>\n",
       "      <th>51407</th>\n",
       "      <td>80310</td>\n",
       "      <td>registration</td>\n",
       "      <td>NaN</td>\n",
       "      <td>2018-01-01T08:35:10</td>\n",
       "      <td>NaN</td>\n",
       "      <td>27834</td>\n",
       "    </tr>\n",
       "    <tr>\n",
       "      <th>51408</th>\n",
       "      <td>80311</td>\n",
       "      <td>registration</td>\n",
       "      <td>NaN</td>\n",
       "      <td>2018-01-01T11:54:47</td>\n",
       "      <td>NaN</td>\n",
       "      <td>27835</td>\n",
       "    </tr>\n",
       "    <tr>\n",
       "      <th>51409</th>\n",
       "      <td>80312</td>\n",
       "      <td>registration</td>\n",
       "      <td>NaN</td>\n",
       "      <td>2018-01-01T13:28:07</td>\n",
       "      <td>NaN</td>\n",
       "      <td>27836</td>\n",
       "    </tr>\n",
       "  </tbody>\n",
       "</table>\n",
       "</div>"
      ],
      "text/plain": [
       "       event_id    event_type selected_level           event_time  \\\n",
       "51405     80308  registration            NaN  2018-01-01T03:48:40   \n",
       "51406     80309  registration            NaN  2018-01-01T04:07:25   \n",
       "51407     80310  registration            NaN  2018-01-01T08:35:10   \n",
       "51408     80311  registration            NaN  2018-01-01T11:54:47   \n",
       "51409     80312  registration            NaN  2018-01-01T13:28:07   \n",
       "\n",
       "       tutorial_id  user_id  \n",
       "51405          NaN    27832  \n",
       "51406          NaN    27833  \n",
       "51407          NaN    27834  \n",
       "51408          NaN    27835  \n",
       "51409          NaN    27836  "
      ]
     },
     "execution_count": 6,
     "metadata": {},
     "output_type": "execute_result"
    }
   ],
   "source": [
    "# после переименования столбца id в event_id, start_time в event_time в датафрейме events :\n",
    "events.head()"
   ]
  },
  {
   "cell_type": "code",
   "execution_count": 7,
   "metadata": {},
   "outputs": [
    {
     "data": {
      "text/html": [
       "<div>\n",
       "<style scoped>\n",
       "    .dataframe tbody tr th:only-of-type {\n",
       "        vertical-align: middle;\n",
       "    }\n",
       "\n",
       "    .dataframe tbody tr th {\n",
       "        vertical-align: top;\n",
       "    }\n",
       "\n",
       "    .dataframe thead th {\n",
       "        text-align: right;\n",
       "    }\n",
       "</style>\n",
       "<table border=\"1\" class=\"dataframe\">\n",
       "  <thead>\n",
       "    <tr style=\"text-align: right;\">\n",
       "      <th></th>\n",
       "      <th>purchase_id</th>\n",
       "      <th>user_id</th>\n",
       "      <th>event_time</th>\n",
       "      <th>amount</th>\n",
       "      <th>event_type</th>\n",
       "    </tr>\n",
       "  </thead>\n",
       "  <tbody>\n",
       "    <tr>\n",
       "      <th>1171</th>\n",
       "      <td>16845</td>\n",
       "      <td>27845</td>\n",
       "      <td>2018-01-03T18:53:43</td>\n",
       "      <td>100</td>\n",
       "      <td>purchase</td>\n",
       "    </tr>\n",
       "    <tr>\n",
       "      <th>1172</th>\n",
       "      <td>16846</td>\n",
       "      <td>27865</td>\n",
       "      <td>2018-01-04T14:46:10</td>\n",
       "      <td>250</td>\n",
       "      <td>purchase</td>\n",
       "    </tr>\n",
       "    <tr>\n",
       "      <th>1174</th>\n",
       "      <td>16848</td>\n",
       "      <td>27911</td>\n",
       "      <td>2018-01-07T08:19:12</td>\n",
       "      <td>50</td>\n",
       "      <td>purchase</td>\n",
       "    </tr>\n",
       "    <tr>\n",
       "      <th>1175</th>\n",
       "      <td>16849</td>\n",
       "      <td>27910</td>\n",
       "      <td>2018-01-07T12:11:34</td>\n",
       "      <td>100</td>\n",
       "      <td>purchase</td>\n",
       "    </tr>\n",
       "    <tr>\n",
       "      <th>1176</th>\n",
       "      <td>16850</td>\n",
       "      <td>27940</td>\n",
       "      <td>2018-01-07T13:16:41</td>\n",
       "      <td>200</td>\n",
       "      <td>purchase</td>\n",
       "    </tr>\n",
       "  </tbody>\n",
       "</table>\n",
       "</div>"
      ],
      "text/plain": [
       "      purchase_id  user_id           event_time  amount event_type\n",
       "1171        16845    27845  2018-01-03T18:53:43     100   purchase\n",
       "1172        16846    27865  2018-01-04T14:46:10     250   purchase\n",
       "1174        16848    27911  2018-01-07T08:19:12      50   purchase\n",
       "1175        16849    27910  2018-01-07T12:11:34     100   purchase\n",
       "1176        16850    27940  2018-01-07T13:16:41     200   purchase"
      ]
     },
     "execution_count": 7,
     "metadata": {},
     "output_type": "execute_result"
    }
   ],
   "source": [
    "# после переименования столбцов id в purchase_id, event_datetime в event_time в датафрейме purchases_p :\n",
    "purchases_p.head()"
   ]
  },
  {
   "cell_type": "markdown",
   "metadata": {},
   "source": [
    "Следующим шагом объединим датафрейм с событиями events c датафреймом по оплатам purchases_p\n",
    "с помощью функции\n",
    "### pd.concat()\n",
    "и запишем объединенный датафрейм в переменную\n",
    "### total_events \n",
    "##### Это позволит анализировать все эти события в рамках одной структуры данных и однозначно выделить события оплаты."
   ]
  },
  {
   "cell_type": "code",
   "execution_count": 8,
   "metadata": {},
   "outputs": [
    {
     "data": {
      "text/html": [
       "<div>\n",
       "<style scoped>\n",
       "    .dataframe tbody tr th:only-of-type {\n",
       "        vertical-align: middle;\n",
       "    }\n",
       "\n",
       "    .dataframe tbody tr th {\n",
       "        vertical-align: top;\n",
       "    }\n",
       "\n",
       "    .dataframe thead th {\n",
       "        text-align: right;\n",
       "    }\n",
       "</style>\n",
       "<table border=\"1\" class=\"dataframe\">\n",
       "  <thead>\n",
       "    <tr style=\"text-align: right;\">\n",
       "      <th></th>\n",
       "      <th>event_id</th>\n",
       "      <th>event_type</th>\n",
       "      <th>selected_level</th>\n",
       "      <th>event_time</th>\n",
       "      <th>tutorial_id</th>\n",
       "      <th>user_id</th>\n",
       "      <th>purchase_id</th>\n",
       "      <th>amount</th>\n",
       "    </tr>\n",
       "  </thead>\n",
       "  <tbody>\n",
       "    <tr>\n",
       "      <th>51405</th>\n",
       "      <td>80308.0</td>\n",
       "      <td>registration</td>\n",
       "      <td>NaN</td>\n",
       "      <td>2018-01-01T03:48:40</td>\n",
       "      <td>NaN</td>\n",
       "      <td>27832</td>\n",
       "      <td>NaN</td>\n",
       "      <td>NaN</td>\n",
       "    </tr>\n",
       "    <tr>\n",
       "      <th>51406</th>\n",
       "      <td>80309.0</td>\n",
       "      <td>registration</td>\n",
       "      <td>NaN</td>\n",
       "      <td>2018-01-01T04:07:25</td>\n",
       "      <td>NaN</td>\n",
       "      <td>27833</td>\n",
       "      <td>NaN</td>\n",
       "      <td>NaN</td>\n",
       "    </tr>\n",
       "    <tr>\n",
       "      <th>51407</th>\n",
       "      <td>80310.0</td>\n",
       "      <td>registration</td>\n",
       "      <td>NaN</td>\n",
       "      <td>2018-01-01T08:35:10</td>\n",
       "      <td>NaN</td>\n",
       "      <td>27834</td>\n",
       "      <td>NaN</td>\n",
       "      <td>NaN</td>\n",
       "    </tr>\n",
       "    <tr>\n",
       "      <th>51408</th>\n",
       "      <td>80311.0</td>\n",
       "      <td>registration</td>\n",
       "      <td>NaN</td>\n",
       "      <td>2018-01-01T11:54:47</td>\n",
       "      <td>NaN</td>\n",
       "      <td>27835</td>\n",
       "      <td>NaN</td>\n",
       "      <td>NaN</td>\n",
       "    </tr>\n",
       "    <tr>\n",
       "      <th>51409</th>\n",
       "      <td>80312.0</td>\n",
       "      <td>registration</td>\n",
       "      <td>NaN</td>\n",
       "      <td>2018-01-01T13:28:07</td>\n",
       "      <td>NaN</td>\n",
       "      <td>27836</td>\n",
       "      <td>NaN</td>\n",
       "      <td>NaN</td>\n",
       "    </tr>\n",
       "  </tbody>\n",
       "</table>\n",
       "</div>"
      ],
      "text/plain": [
       "       event_id    event_type selected_level           event_time  \\\n",
       "51405   80308.0  registration            NaN  2018-01-01T03:48:40   \n",
       "51406   80309.0  registration            NaN  2018-01-01T04:07:25   \n",
       "51407   80310.0  registration            NaN  2018-01-01T08:35:10   \n",
       "51408   80311.0  registration            NaN  2018-01-01T11:54:47   \n",
       "51409   80312.0  registration            NaN  2018-01-01T13:28:07   \n",
       "\n",
       "       tutorial_id  user_id  purchase_id  amount  \n",
       "51405          NaN    27832          NaN     NaN  \n",
       "51406          NaN    27833          NaN     NaN  \n",
       "51407          NaN    27834          NaN     NaN  \n",
       "51408          NaN    27835          NaN     NaN  \n",
       "51409          NaN    27836          NaN     NaN  "
      ]
     },
     "execution_count": 8,
     "metadata": {},
     "output_type": "execute_result"
    }
   ],
   "source": [
    "total_events = pd.concat([events, purchases_p], sort = False)\n",
    "# Посмотрим, что получилось:\n",
    "total_events.head()"
   ]
  },
  {
   "cell_type": "markdown",
   "metadata": {},
   "source": [
    "Теперь сбросим индексы объединенного датафрейма (т.к. после объединения они дублировались и несут мало смысла) с помощью метода \n",
    "##### reset_index()\n",
    "и отсортируем все события по возрастанию времени с помощью\n",
    "##### sort_values():"
   ]
  },
  {
   "cell_type": "code",
   "execution_count": 9,
   "metadata": {},
   "outputs": [],
   "source": [
    "total_events.event_type = total_events.event_type.astype(str)"
   ]
  },
  {
   "cell_type": "code",
   "execution_count": 10,
   "metadata": {},
   "outputs": [
    {
     "data": {
      "text/html": [
       "<div>\n",
       "<style scoped>\n",
       "    .dataframe tbody tr th:only-of-type {\n",
       "        vertical-align: middle;\n",
       "    }\n",
       "\n",
       "    .dataframe tbody tr th {\n",
       "        vertical-align: top;\n",
       "    }\n",
       "\n",
       "    .dataframe thead th {\n",
       "        text-align: right;\n",
       "    }\n",
       "</style>\n",
       "<table border=\"1\" class=\"dataframe\">\n",
       "  <thead>\n",
       "    <tr style=\"text-align: right;\">\n",
       "      <th></th>\n",
       "      <th>event_id</th>\n",
       "      <th>event_type</th>\n",
       "      <th>selected_level</th>\n",
       "      <th>event_time</th>\n",
       "      <th>tutorial_id</th>\n",
       "      <th>user_id</th>\n",
       "      <th>purchase_id</th>\n",
       "      <th>amount</th>\n",
       "    </tr>\n",
       "  </thead>\n",
       "  <tbody>\n",
       "    <tr>\n",
       "      <th>51405</th>\n",
       "      <td>80308.0</td>\n",
       "      <td>registration</td>\n",
       "      <td>NaN</td>\n",
       "      <td>2018-01-01 03:48:40</td>\n",
       "      <td>NaN</td>\n",
       "      <td>27832</td>\n",
       "      <td>NaN</td>\n",
       "      <td>NaN</td>\n",
       "    </tr>\n",
       "    <tr>\n",
       "      <th>51406</th>\n",
       "      <td>80309.0</td>\n",
       "      <td>registration</td>\n",
       "      <td>NaN</td>\n",
       "      <td>2018-01-01 04:07:25</td>\n",
       "      <td>NaN</td>\n",
       "      <td>27833</td>\n",
       "      <td>NaN</td>\n",
       "      <td>NaN</td>\n",
       "    </tr>\n",
       "    <tr>\n",
       "      <th>51407</th>\n",
       "      <td>80310.0</td>\n",
       "      <td>registration</td>\n",
       "      <td>NaN</td>\n",
       "      <td>2018-01-01 08:35:10</td>\n",
       "      <td>NaN</td>\n",
       "      <td>27834</td>\n",
       "      <td>NaN</td>\n",
       "      <td>NaN</td>\n",
       "    </tr>\n",
       "    <tr>\n",
       "      <th>51408</th>\n",
       "      <td>80311.0</td>\n",
       "      <td>registration</td>\n",
       "      <td>NaN</td>\n",
       "      <td>2018-01-01 11:54:47</td>\n",
       "      <td>NaN</td>\n",
       "      <td>27835</td>\n",
       "      <td>NaN</td>\n",
       "      <td>NaN</td>\n",
       "    </tr>\n",
       "    <tr>\n",
       "      <th>51409</th>\n",
       "      <td>80312.0</td>\n",
       "      <td>registration</td>\n",
       "      <td>NaN</td>\n",
       "      <td>2018-01-01 13:28:07</td>\n",
       "      <td>NaN</td>\n",
       "      <td>27836</td>\n",
       "      <td>NaN</td>\n",
       "      <td>NaN</td>\n",
       "    </tr>\n",
       "  </tbody>\n",
       "</table>\n",
       "</div>"
      ],
      "text/plain": [
       "       event_id    event_type selected_level          event_time  tutorial_id  \\\n",
       "51405   80308.0  registration            NaN 2018-01-01 03:48:40          NaN   \n",
       "51406   80309.0  registration            NaN 2018-01-01 04:07:25          NaN   \n",
       "51407   80310.0  registration            NaN 2018-01-01 08:35:10          NaN   \n",
       "51408   80311.0  registration            NaN 2018-01-01 11:54:47          NaN   \n",
       "51409   80312.0  registration            NaN 2018-01-01 13:28:07          NaN   \n",
       "\n",
       "       user_id  purchase_id  amount  \n",
       "51405    27832          NaN     NaN  \n",
       "51406    27833          NaN     NaN  \n",
       "51407    27834          NaN     NaN  \n",
       "51408    27835          NaN     NaN  \n",
       "51409    27836          NaN     NaN  "
      ]
     },
     "execution_count": 10,
     "metadata": {},
     "output_type": "execute_result"
    }
   ],
   "source": [
    "# форматируем столбец start_time в формат даты :\n",
    "total_events.event_time = pd.to_datetime(total_events.event_time, format = '%Y-%m-%dT%H:%M:%S')\n",
    "total_events.head()"
   ]
  },
  {
   "cell_type": "code",
   "execution_count": 11,
   "metadata": {},
   "outputs": [
    {
     "name": "stdout",
     "output_type": "stream",
     "text": [
      "event_id          0.00\n",
      "event_type        0.00\n",
      "selected_level    0.01\n",
      "event_time        0.00\n",
      "tutorial_id       0.01\n",
      "user_id           0.00\n",
      "purchase_id       0.01\n",
      "amount            0.01\n",
      "dtype: float64\n"
     ]
    }
   ],
   "source": [
    "print(round((total_events.isnull().sum()/100/total_events.shape[0]), 2))"
   ]
  },
  {
   "cell_type": "code",
   "execution_count": 12,
   "metadata": {},
   "outputs": [
    {
     "data": {
      "text/plain": [
       "array(['registration', 'tutorial_start', 'tutorial_finish',\n",
       "       'level_choice', 'pack_choice', 'purchase'], dtype=object)"
      ]
     },
     "execution_count": 12,
     "metadata": {},
     "output_type": "execute_result"
    }
   ],
   "source": [
    "# Посмотрим какие уникальные этапы содержатся в наших данных, в колонке 'event_type'\n",
    "# ВСЕГО: 6 этапов, из которых 2 этапа: начало обучения и завершение обучения:\n",
    "total_events['event_type'].unique()"
   ]
  },
  {
   "cell_type": "code",
   "execution_count": 13,
   "metadata": {},
   "outputs": [
    {
     "data": {
      "text/plain": [
       "event_type\n",
       "level_choice        8342\n",
       "pack_choice         5737\n",
       "purchase            1600\n",
       "registration       19926\n",
       "tutorial_finish    10250\n",
       "tutorial_start     11858\n",
       "Name: user_id, dtype: int64"
      ]
     },
     "execution_count": 13,
     "metadata": {},
     "output_type": "execute_result"
    }
   ],
   "source": [
    "# Посмотрим количество уникальных пользователей совершали события на каждом этапе:\n",
    "total_events.groupby(['event_type'])['user_id'].nunique()"
   ]
  },
  {
   "cell_type": "markdown",
   "metadata": {},
   "source": [
    "# Задача 1:\n",
    "### теперь, проверим отличается ли время прохождения различных этапов для пользователей, которые прошли обучение от пользователей, не начинавших обучение (+ тех, кто начал, но не закончил обучение), а также посмотрим насколько обучение сокращает время прохождения этапов. \n",
    "\n",
    "##### Для этого предварительно\n",
    "# 1.1\n",
    "##### выделим наших пользователей в отдельные группы - множества\n",
    "### set и используем метод difference() \n",
    "##### чтобы найти разницу в этих множествах\n",
    "# 1.2 \n",
    "##### применим lambda-функцию от аргумента x, где x - это вся строка датафрейма и добавим дополнительную колонку \"group\" с критериями соответствующих групп в нашу \"Консолидированную таблицу\" (См. ниже > 'total_events_time')\n",
    "# 1.3\n",
    "##### определим разницу во времени прохождения различных этапов ('registration', 'level_choice', 'pack_choice', 'purchase') разными группами пользователей\n",
    "# 1.4 - Вывод 1\n",
    "Приступим!!! \n",
    "\n",
    "# 1.1\n",
    "Разобьём наших пользователей на 3 группы:\n",
    "\n",
    "1. пользователи, которые \"прошли обучение хотя бы раз\", у которых есть событие 'tutorial_finish': запишем идентификаторы этих пользователей  в переменную\n",
    "##### set_users_with_finished_tutorial\n",
    "\n",
    "2. пользователи, которые \"ни разу не проходили обучение\", у которых отсутствует событие 'tutorial_start': запишем идентификаторы этих пользователей в переменную\n",
    "##### set_users_not_started_tutorial\n",
    "\n",
    "3. пользователи, которые \"начали обучение, но не прошли его ни разу\", у которых есть событие 'tutorial_start', но нет события 'tutorial_finish': запишем идентификаторы этих пользователей в переменную \n",
    "##### set_users_not_finished_but_started_tutorial"
   ]
  },
  {
   "cell_type": "code",
   "execution_count": 14,
   "metadata": {},
   "outputs": [],
   "source": [
    "# Создаём множество уникальных пользователей, зарегистрировавшихся в 2018 г. как переменную set_registered_users:\n",
    "set_registered_users = set(total_events[total_events['event_type'] == 'registration']['user_id'].unique())\n",
    "\n",
    "# Создаём множество уникальных пользователей, которые начали обучение как переменную set_users_with_started_tutorial:\n",
    "set_users_with_started_tutorial = set(total_events[total_events['event_type'] == 'tutorial_start']['user_id'].unique())\n",
    "\n",
    "# Создаём множество уникальных пользователей 1 группы, которые прошли обучение хотя бы раз как переменную set_users_with_finished_tutorial:\n",
    "set_users_with_finished_tutorial = set(total_events[total_events['event_type'] == 'tutorial_finish']['user_id'].unique())\n",
    "\n",
    "## Теперь, уберём из users_registered всех пользователей, которые когда-либо начинали обучение и \n",
    "## определим количество уникальных пользователей 2 группы, которые \"ни разу не проходили обучение\" как переменную set_users_not_started_tutorial:\n",
    "set_users_not_started_tutorial =set_registered_users.difference(set_users_with_started_tutorial)\n",
    "\n",
    "# Создаём множество уникальных пользователей 3 группы, которые начали, но не завершили обучение как переменную set_users_not_finished_but_started_tutorial:\n",
    "set_users_not_finished_but_started_tutorial = set_users_with_started_tutorial.difference(set_users_with_finished_tutorial)\n",
    "# -------------------------------------------------------------------------------------------------------------------------------------------------------------------------\n",
    "# print('Количество уникальных пользователей, зарегистрировавшихся в 2018 г. составляет {:}'.format(len(set_registered_users)))\n",
    "# print('Количество уникальных пользователей, которые \"начали обучение\" составляет {:}'.format(len(set_users_with_started_tutorial)))\n",
    "# print('Количество уникальных пользователей 1 группы, которые \"завершили обучение хотя бы раз\" составляет {:}'.format(len(set_users_with_finished_tutorial)))\n",
    "# print('Количество уникальных пользователей 2 группы, которые \"ни разу не проходили обучение\" составляет {:}'.format(len(set_users_not_started_tutorial)))\n",
    "# print('Количество уникальных пользователей 3 группы, которые \"начали, но не завершили обучение\" составляет {:}'.format(len(set_users_not_finished_but_started_tutorial)))"
   ]
  },
  {
   "cell_type": "markdown",
   "metadata": {},
   "source": [
    "# 1.2\n",
    "##### Создаём сводную таблицу pivot_total_events, добавляем столбец \"group\" и применяем lambda-функцию, которая возвращает строки : \n",
    "- 'finished_tutorial' для 1 группы пользователей, которые \"прошли обучение хотя бы раз\",\n",
    "- 'not_finished_but_started_tutorial' для 2 группы пользователей, которые \"начали обучение, но не прошли его ни разу\",\n",
    "- 'not_started_tutorial' для 3 группы пользователей, которые \"ни разу не проходили обучение\""
   ]
  },
  {
   "cell_type": "code",
   "execution_count": 15,
   "metadata": {},
   "outputs": [
    {
     "data": {
      "text/html": [
       "<div>\n",
       "<style scoped>\n",
       "    .dataframe tbody tr th:only-of-type {\n",
       "        vertical-align: middle;\n",
       "    }\n",
       "\n",
       "    .dataframe tbody tr th {\n",
       "        vertical-align: top;\n",
       "    }\n",
       "\n",
       "    .dataframe thead th {\n",
       "        text-align: right;\n",
       "    }\n",
       "</style>\n",
       "<table border=\"1\" class=\"dataframe\">\n",
       "  <thead>\n",
       "    <tr style=\"text-align: right;\">\n",
       "      <th></th>\n",
       "      <th>level_choice</th>\n",
       "      <th>pack_choice</th>\n",
       "      <th>purchase</th>\n",
       "      <th>registration</th>\n",
       "      <th>tutorial_finish</th>\n",
       "      <th>tutorial_start</th>\n",
       "      <th>user_id</th>\n",
       "    </tr>\n",
       "    <tr>\n",
       "      <th>user_id</th>\n",
       "      <th></th>\n",
       "      <th></th>\n",
       "      <th></th>\n",
       "      <th></th>\n",
       "      <th></th>\n",
       "      <th></th>\n",
       "      <th></th>\n",
       "    </tr>\n",
       "  </thead>\n",
       "  <tbody>\n",
       "    <tr>\n",
       "      <th>27832</th>\n",
       "      <td>NaT</td>\n",
       "      <td>NaT</td>\n",
       "      <td>NaT</td>\n",
       "      <td>2018-01-01 03:48:40</td>\n",
       "      <td>NaT</td>\n",
       "      <td>NaT</td>\n",
       "      <td>27832</td>\n",
       "    </tr>\n",
       "    <tr>\n",
       "      <th>27833</th>\n",
       "      <td>NaT</td>\n",
       "      <td>NaT</td>\n",
       "      <td>NaT</td>\n",
       "      <td>2018-01-01 04:07:25</td>\n",
       "      <td>2018-01-01 17:50:08</td>\n",
       "      <td>2018-01-01 17:47:40</td>\n",
       "      <td>27833</td>\n",
       "    </tr>\n",
       "    <tr>\n",
       "      <th>27834</th>\n",
       "      <td>NaT</td>\n",
       "      <td>NaT</td>\n",
       "      <td>NaT</td>\n",
       "      <td>2018-01-01 08:35:10</td>\n",
       "      <td>2018-01-01 19:48:01</td>\n",
       "      <td>2018-01-01 19:46:11</td>\n",
       "      <td>27834</td>\n",
       "    </tr>\n",
       "    <tr>\n",
       "      <th>27835</th>\n",
       "      <td>2018-01-01 20:37:22</td>\n",
       "      <td>2018-01-01 20:38:43</td>\n",
       "      <td>NaT</td>\n",
       "      <td>2018-01-01 11:54:47</td>\n",
       "      <td>2018-01-01 15:06:15</td>\n",
       "      <td>2018-01-01 15:00:51</td>\n",
       "      <td>27835</td>\n",
       "    </tr>\n",
       "    <tr>\n",
       "      <th>27836</th>\n",
       "      <td>NaT</td>\n",
       "      <td>NaT</td>\n",
       "      <td>NaT</td>\n",
       "      <td>2018-01-01 13:28:07</td>\n",
       "      <td>2018-01-01 15:42:58</td>\n",
       "      <td>2018-01-01 14:54:40</td>\n",
       "      <td>27836</td>\n",
       "    </tr>\n",
       "    <tr>\n",
       "      <th>...</th>\n",
       "      <td>...</td>\n",
       "      <td>...</td>\n",
       "      <td>...</td>\n",
       "      <td>...</td>\n",
       "      <td>...</td>\n",
       "      <td>...</td>\n",
       "      <td>...</td>\n",
       "    </tr>\n",
       "    <tr>\n",
       "      <th>47753</th>\n",
       "      <td>2018-12-31 22:36:19</td>\n",
       "      <td>2018-12-31 22:38:05</td>\n",
       "      <td>NaT</td>\n",
       "      <td>2018-12-31 18:58:55</td>\n",
       "      <td>2018-12-31 20:57:07</td>\n",
       "      <td>2018-12-31 20:54:56</td>\n",
       "      <td>47753</td>\n",
       "    </tr>\n",
       "    <tr>\n",
       "      <th>47754</th>\n",
       "      <td>NaT</td>\n",
       "      <td>NaT</td>\n",
       "      <td>NaT</td>\n",
       "      <td>2018-12-31 19:14:08</td>\n",
       "      <td>NaT</td>\n",
       "      <td>NaT</td>\n",
       "      <td>47754</td>\n",
       "    </tr>\n",
       "    <tr>\n",
       "      <th>47755</th>\n",
       "      <td>2019-01-01 05:04:52</td>\n",
       "      <td>NaT</td>\n",
       "      <td>NaT</td>\n",
       "      <td>2018-12-31 21:15:14</td>\n",
       "      <td>2019-01-01 00:09:30</td>\n",
       "      <td>2019-01-01 00:08:14</td>\n",
       "      <td>47755</td>\n",
       "    </tr>\n",
       "    <tr>\n",
       "      <th>47756</th>\n",
       "      <td>2019-01-01 05:42:11</td>\n",
       "      <td>2019-01-01 05:50:36</td>\n",
       "      <td>NaT</td>\n",
       "      <td>2018-12-31 23:17:30</td>\n",
       "      <td>2019-01-01 03:29:25</td>\n",
       "      <td>2019-01-01 03:26:18</td>\n",
       "      <td>47756</td>\n",
       "    </tr>\n",
       "    <tr>\n",
       "      <th>47757</th>\n",
       "      <td>NaT</td>\n",
       "      <td>NaT</td>\n",
       "      <td>NaT</td>\n",
       "      <td>2018-12-31 23:18:06</td>\n",
       "      <td>NaT</td>\n",
       "      <td>NaT</td>\n",
       "      <td>47757</td>\n",
       "    </tr>\n",
       "  </tbody>\n",
       "</table>\n",
       "<p>19926 rows × 7 columns</p>\n",
       "</div>"
      ],
      "text/plain": [
       "               level_choice         pack_choice purchase        registration  \\\n",
       "user_id                                                                        \n",
       "27832                   NaT                 NaT      NaT 2018-01-01 03:48:40   \n",
       "27833                   NaT                 NaT      NaT 2018-01-01 04:07:25   \n",
       "27834                   NaT                 NaT      NaT 2018-01-01 08:35:10   \n",
       "27835   2018-01-01 20:37:22 2018-01-01 20:38:43      NaT 2018-01-01 11:54:47   \n",
       "27836                   NaT                 NaT      NaT 2018-01-01 13:28:07   \n",
       "...                     ...                 ...      ...                 ...   \n",
       "47753   2018-12-31 22:36:19 2018-12-31 22:38:05      NaT 2018-12-31 18:58:55   \n",
       "47754                   NaT                 NaT      NaT 2018-12-31 19:14:08   \n",
       "47755   2019-01-01 05:04:52                 NaT      NaT 2018-12-31 21:15:14   \n",
       "47756   2019-01-01 05:42:11 2019-01-01 05:50:36      NaT 2018-12-31 23:17:30   \n",
       "47757                   NaT                 NaT      NaT 2018-12-31 23:18:06   \n",
       "\n",
       "            tutorial_finish      tutorial_start  user_id  \n",
       "user_id                                                   \n",
       "27832                   NaT                 NaT    27832  \n",
       "27833   2018-01-01 17:50:08 2018-01-01 17:47:40    27833  \n",
       "27834   2018-01-01 19:48:01 2018-01-01 19:46:11    27834  \n",
       "27835   2018-01-01 15:06:15 2018-01-01 15:00:51    27835  \n",
       "27836   2018-01-01 15:42:58 2018-01-01 14:54:40    27836  \n",
       "...                     ...                 ...      ...  \n",
       "47753   2018-12-31 20:57:07 2018-12-31 20:54:56    47753  \n",
       "47754                   NaT                 NaT    47754  \n",
       "47755   2019-01-01 00:09:30 2019-01-01 00:08:14    47755  \n",
       "47756   2019-01-01 03:29:25 2019-01-01 03:26:18    47756  \n",
       "47757                   NaT                 NaT    47757  \n",
       "\n",
       "[19926 rows x 7 columns]"
      ]
     },
     "execution_count": 15,
     "metadata": {},
     "output_type": "execute_result"
    }
   ],
   "source": [
    "# Создаём сводную таблицу:\n",
    "pivot_total_events = total_events.pivot_table(columns = 'event_type', index = 'user_id', values = 'event_time', aggfunc = min)\n",
    "\n",
    "# Избавляемся от мульти-индекса в названии столбцов:\n",
    "pivot_total_events.columns = list(map(''.join, pivot_total_events))\n",
    "pivot_total_events.reset_index(drop = True)\n",
    "pivot_total_events['user_id'] = pivot_total_events.index\n",
    "\n",
    "pivot_total_events"
   ]
  },
  {
   "cell_type": "code",
   "execution_count": 16,
   "metadata": {},
   "outputs": [
    {
     "data": {
      "text/html": [
       "<div>\n",
       "<style scoped>\n",
       "    .dataframe tbody tr th:only-of-type {\n",
       "        vertical-align: middle;\n",
       "    }\n",
       "\n",
       "    .dataframe tbody tr th {\n",
       "        vertical-align: top;\n",
       "    }\n",
       "\n",
       "    .dataframe thead th {\n",
       "        text-align: right;\n",
       "    }\n",
       "</style>\n",
       "<table border=\"1\" class=\"dataframe\">\n",
       "  <thead>\n",
       "    <tr style=\"text-align: right;\">\n",
       "      <th></th>\n",
       "      <th>level_choice</th>\n",
       "      <th>pack_choice</th>\n",
       "      <th>purchase</th>\n",
       "      <th>registration</th>\n",
       "      <th>tutorial_finish</th>\n",
       "      <th>tutorial_start</th>\n",
       "      <th>user_id</th>\n",
       "      <th>group</th>\n",
       "    </tr>\n",
       "    <tr>\n",
       "      <th>user_id</th>\n",
       "      <th></th>\n",
       "      <th></th>\n",
       "      <th></th>\n",
       "      <th></th>\n",
       "      <th></th>\n",
       "      <th></th>\n",
       "      <th></th>\n",
       "      <th></th>\n",
       "    </tr>\n",
       "  </thead>\n",
       "  <tbody>\n",
       "    <tr>\n",
       "      <th>27832</th>\n",
       "      <td>NaT</td>\n",
       "      <td>NaT</td>\n",
       "      <td>NaT</td>\n",
       "      <td>2018-01-01 03:48:40</td>\n",
       "      <td>NaT</td>\n",
       "      <td>NaT</td>\n",
       "      <td>27832</td>\n",
       "      <td>not_started_tutorial</td>\n",
       "    </tr>\n",
       "    <tr>\n",
       "      <th>27833</th>\n",
       "      <td>NaT</td>\n",
       "      <td>NaT</td>\n",
       "      <td>NaT</td>\n",
       "      <td>2018-01-01 04:07:25</td>\n",
       "      <td>2018-01-01 17:50:08</td>\n",
       "      <td>2018-01-01 17:47:40</td>\n",
       "      <td>27833</td>\n",
       "      <td>finished_tutorial</td>\n",
       "    </tr>\n",
       "    <tr>\n",
       "      <th>27834</th>\n",
       "      <td>NaT</td>\n",
       "      <td>NaT</td>\n",
       "      <td>NaT</td>\n",
       "      <td>2018-01-01 08:35:10</td>\n",
       "      <td>2018-01-01 19:48:01</td>\n",
       "      <td>2018-01-01 19:46:11</td>\n",
       "      <td>27834</td>\n",
       "      <td>finished_tutorial</td>\n",
       "    </tr>\n",
       "    <tr>\n",
       "      <th>27835</th>\n",
       "      <td>2018-01-01 20:37:22</td>\n",
       "      <td>2018-01-01 20:38:43</td>\n",
       "      <td>NaT</td>\n",
       "      <td>2018-01-01 11:54:47</td>\n",
       "      <td>2018-01-01 15:06:15</td>\n",
       "      <td>2018-01-01 15:00:51</td>\n",
       "      <td>27835</td>\n",
       "      <td>finished_tutorial</td>\n",
       "    </tr>\n",
       "    <tr>\n",
       "      <th>27836</th>\n",
       "      <td>NaT</td>\n",
       "      <td>NaT</td>\n",
       "      <td>NaT</td>\n",
       "      <td>2018-01-01 13:28:07</td>\n",
       "      <td>2018-01-01 15:42:58</td>\n",
       "      <td>2018-01-01 14:54:40</td>\n",
       "      <td>27836</td>\n",
       "      <td>finished_tutorial</td>\n",
       "    </tr>\n",
       "  </tbody>\n",
       "</table>\n",
       "</div>"
      ],
      "text/plain": [
       "               level_choice         pack_choice purchase        registration  \\\n",
       "user_id                                                                        \n",
       "27832                   NaT                 NaT      NaT 2018-01-01 03:48:40   \n",
       "27833                   NaT                 NaT      NaT 2018-01-01 04:07:25   \n",
       "27834                   NaT                 NaT      NaT 2018-01-01 08:35:10   \n",
       "27835   2018-01-01 20:37:22 2018-01-01 20:38:43      NaT 2018-01-01 11:54:47   \n",
       "27836                   NaT                 NaT      NaT 2018-01-01 13:28:07   \n",
       "\n",
       "            tutorial_finish      tutorial_start  user_id                 group  \n",
       "user_id                                                                         \n",
       "27832                   NaT                 NaT    27832  not_started_tutorial  \n",
       "27833   2018-01-01 17:50:08 2018-01-01 17:47:40    27833     finished_tutorial  \n",
       "27834   2018-01-01 19:48:01 2018-01-01 19:46:11    27834     finished_tutorial  \n",
       "27835   2018-01-01 15:06:15 2018-01-01 15:00:51    27835     finished_tutorial  \n",
       "27836   2018-01-01 15:42:58 2018-01-01 14:54:40    27836     finished_tutorial  "
      ]
     },
     "execution_count": 16,
     "metadata": {},
     "output_type": "execute_result"
    }
   ],
   "source": [
    "# \"Консолидированная таблица\".\n",
    "\n",
    "# Применяем lambda-функцию и добавляем колонку 'group' со статусом обучения пользователя:\n",
    "pivot_total_events['group'] = pivot_total_events.apply(lambda x: 'finished_tutorial' \n",
    "                                                       if not pd.isnull(x.tutorial_finish) \n",
    "                                                       else 'not_started_tutorial' if pd.isnull(x.tutorial_start) \n",
    "                                                       else 'not_finished_but_started_tutorial', axis = 1)\n",
    "pivot_total_events.head()"
   ]
  },
  {
   "cell_type": "code",
   "execution_count": 17,
   "metadata": {},
   "outputs": [
    {
     "name": "stdout",
     "output_type": "stream",
     "text": [
      "level_choice        7500\n",
      "pack_choice         5176\n",
      "purchase            1447\n",
      "registration       10225\n",
      "tutorial_finish    10249\n",
      "tutorial_start     10247\n",
      "user_id            10250\n",
      "group                  1\n",
      "dtype: int64\n"
     ]
    }
   ],
   "source": [
    "# Посмотрим на пользователей 1 группы, которые прошли обучение, в разрезе этапов прохождения игры:\n",
    "print(pivot_total_events[pivot_total_events['group'] == 'finished_tutorial'].nunique())"
   ]
  },
  {
   "cell_type": "code",
   "execution_count": 18,
   "metadata": {},
   "outputs": [
    {
     "name": "stdout",
     "output_type": "stream",
     "text": [
      "level_choice         98\n",
      "pack_choice          74\n",
      "purchase             22\n",
      "registration       8053\n",
      "tutorial_finish       0\n",
      "tutorial_start        0\n",
      "user_id            8068\n",
      "group                 1\n",
      "dtype: int64\n"
     ]
    }
   ],
   "source": [
    "# Посмотрим на пользователей 2 группы, которые не начинали обучение, в разрезе этапов прохождения игры:\n",
    "print(pivot_total_events[pivot_total_events['group'] == 'not_started_tutorial'].nunique())"
   ]
  },
  {
   "cell_type": "code",
   "execution_count": 19,
   "metadata": {},
   "outputs": [
    {
     "name": "stdout",
     "output_type": "stream",
     "text": [
      "level_choice        743\n",
      "pack_choice         487\n",
      "purchase            131\n",
      "registration       1607\n",
      "tutorial_finish       0\n",
      "tutorial_start     1608\n",
      "user_id            1608\n",
      "group                 1\n",
      "dtype: int64\n"
     ]
    }
   ],
   "source": [
    "# Посмотрим на пользователей 3 группы, которые начали, но не завершили обучение, в разрезе этапов прохождения игры:\n",
    "print(pivot_total_events[pivot_total_events['group'] == 'not_finished_but_started_tutorial'].nunique())"
   ]
  },
  {
   "cell_type": "code",
   "execution_count": 20,
   "metadata": {},
   "outputs": [
    {
     "name": "stdout",
     "output_type": "stream",
     "text": [
      "finished_tutorial                    10250\n",
      "not_started_tutorial                  8068\n",
      "not_finished_but_started_tutorial     1608\n",
      "Name: group, dtype: int64\n",
      "10250\n",
      "8068\n",
      "1608\n"
     ]
    },
    {
     "data": {
      "text/plain": [
       "True"
      ]
     },
     "execution_count": 20,
     "metadata": {},
     "output_type": "execute_result"
    }
   ],
   "source": [
    "# ПРОВЕРЯЕМ ПРАВИЛЬНОСТЬ ВЫЧИСЛЕНИЙ В ОТДЕЛЬНЫХ МНОЖЕСТВАХ, а также ПРИМЕНЕНИЯ lambda-ФУНКЦИИ:\n",
    "print(pivot_total_events.drop_duplicates('user_id').loc[:, 'group'].value_counts())\n",
    "print(len(set_users_with_finished_tutorial))\n",
    "print(len(set_users_not_started_tutorial))\n",
    "print(len(set_users_not_finished_but_started_tutorial))\n",
    "\n",
    "len(set_users_with_finished_tutorial) + len(set_users_not_finished_but_started_tutorial) == len(set_users_with_started_tutorial)"
   ]
  },
  {
   "cell_type": "code",
   "execution_count": null,
   "metadata": {},
   "outputs": [],
   "source": [
    "# для наглядности можно упорядочить колонки в соответствии с последовательностью прохождения пользователями различных этапов:\n",
    "# pivot_total_events.columns = ['user_id', 'registration', 'tutorial_start', 'tutorial_finish', 'level_choice', 'pack_choice', 'purchase']"
   ]
  },
  {
   "cell_type": "markdown",
   "metadata": {},
   "source": [
    "# 1.3\n",
    "##### Теперь, определим разницу во времени прохождения различных этапов ('registration', 'level_choice', 'pack_choice', 'purchase') пользователями, которые прошли обучение и пользователями, не начинавшими обучение, а также теми, кто начал, но не закончил обучение:"
   ]
  },
  {
   "cell_type": "code",
   "execution_count": 21,
   "metadata": {},
   "outputs": [],
   "source": [
    "# Время между этапами: регистрация > выбор уровня сложности (в ЧАСАХ):\n",
    "pivot_total_events['registration_level_hours'] = (pivot_total_events['level_choice'] - pivot_total_events['registration']) / pd.Timedelta('1H')\n",
    "\n",
    "# Время между этапами: выбор уровня сложности > выбор пакета бесплатных вопросов (в МИНУТАХ):\n",
    "pivot_total_events['level_pack_minutes'] = (pivot_total_events['pack_choice'] - pivot_total_events['level_choice']) / pd.Timedelta('1M')\n",
    "\n",
    "# Время между этапами: выбор пакета бесплатных вопросов > покупка пакета платных вопросов (в ДНЯХ):\n",
    "pivot_total_events['pack_purchase_days'] = (pivot_total_events['purchase'] - pivot_total_events['pack_choice']) / pd.Timedelta('1D')\n",
    "\n",
    "# Время между этапами: регистрация > покупка пакета платных вопросов (в ДНЯХ):\n",
    "pivot_total_events['registration_purchase_days'] = (pivot_total_events['purchase'] - pivot_total_events['registration']) / pd.Timedelta('1D')"
   ]
  },
  {
   "cell_type": "code",
   "execution_count": 22,
   "metadata": {},
   "outputs": [
    {
     "data": {
      "text/html": [
       "<div>\n",
       "<style scoped>\n",
       "    .dataframe tbody tr th:only-of-type {\n",
       "        vertical-align: middle;\n",
       "    }\n",
       "\n",
       "    .dataframe tbody tr th {\n",
       "        vertical-align: top;\n",
       "    }\n",
       "\n",
       "    .dataframe thead th {\n",
       "        text-align: right;\n",
       "    }\n",
       "</style>\n",
       "<table border=\"1\" class=\"dataframe\">\n",
       "  <thead>\n",
       "    <tr style=\"text-align: right;\">\n",
       "      <th></th>\n",
       "      <th>level_choice</th>\n",
       "      <th>pack_choice</th>\n",
       "      <th>purchase</th>\n",
       "      <th>registration</th>\n",
       "      <th>tutorial_finish</th>\n",
       "      <th>tutorial_start</th>\n",
       "      <th>user_id</th>\n",
       "      <th>group</th>\n",
       "      <th>registration_level_hours</th>\n",
       "      <th>level_pack_minutes</th>\n",
       "      <th>pack_purchase_days</th>\n",
       "      <th>registration_purchase_days</th>\n",
       "    </tr>\n",
       "    <tr>\n",
       "      <th>user_id</th>\n",
       "      <th></th>\n",
       "      <th></th>\n",
       "      <th></th>\n",
       "      <th></th>\n",
       "      <th></th>\n",
       "      <th></th>\n",
       "      <th></th>\n",
       "      <th></th>\n",
       "      <th></th>\n",
       "      <th></th>\n",
       "      <th></th>\n",
       "      <th></th>\n",
       "    </tr>\n",
       "  </thead>\n",
       "  <tbody>\n",
       "    <tr>\n",
       "      <th>27832</th>\n",
       "      <td>NaT</td>\n",
       "      <td>NaT</td>\n",
       "      <td>NaT</td>\n",
       "      <td>2018-01-01 03:48:40</td>\n",
       "      <td>NaT</td>\n",
       "      <td>NaT</td>\n",
       "      <td>27832</td>\n",
       "      <td>not_started_tutorial</td>\n",
       "      <td>NaN</td>\n",
       "      <td>NaN</td>\n",
       "      <td>NaN</td>\n",
       "      <td>NaN</td>\n",
       "    </tr>\n",
       "    <tr>\n",
       "      <th>27833</th>\n",
       "      <td>NaT</td>\n",
       "      <td>NaT</td>\n",
       "      <td>NaT</td>\n",
       "      <td>2018-01-01 04:07:25</td>\n",
       "      <td>2018-01-01 17:50:08</td>\n",
       "      <td>2018-01-01 17:47:40</td>\n",
       "      <td>27833</td>\n",
       "      <td>finished_tutorial</td>\n",
       "      <td>NaN</td>\n",
       "      <td>NaN</td>\n",
       "      <td>NaN</td>\n",
       "      <td>NaN</td>\n",
       "    </tr>\n",
       "    <tr>\n",
       "      <th>27834</th>\n",
       "      <td>NaT</td>\n",
       "      <td>NaT</td>\n",
       "      <td>NaT</td>\n",
       "      <td>2018-01-01 08:35:10</td>\n",
       "      <td>2018-01-01 19:48:01</td>\n",
       "      <td>2018-01-01 19:46:11</td>\n",
       "      <td>27834</td>\n",
       "      <td>finished_tutorial</td>\n",
       "      <td>NaN</td>\n",
       "      <td>NaN</td>\n",
       "      <td>NaN</td>\n",
       "      <td>NaN</td>\n",
       "    </tr>\n",
       "    <tr>\n",
       "      <th>27835</th>\n",
       "      <td>2018-01-01 20:37:22</td>\n",
       "      <td>2018-01-01 20:38:43</td>\n",
       "      <td>NaT</td>\n",
       "      <td>2018-01-01 11:54:47</td>\n",
       "      <td>2018-01-01 15:06:15</td>\n",
       "      <td>2018-01-01 15:00:51</td>\n",
       "      <td>27835</td>\n",
       "      <td>finished_tutorial</td>\n",
       "      <td>8.709722</td>\n",
       "      <td>1.35</td>\n",
       "      <td>NaN</td>\n",
       "      <td>NaN</td>\n",
       "    </tr>\n",
       "    <tr>\n",
       "      <th>27836</th>\n",
       "      <td>NaT</td>\n",
       "      <td>NaT</td>\n",
       "      <td>NaT</td>\n",
       "      <td>2018-01-01 13:28:07</td>\n",
       "      <td>2018-01-01 15:42:58</td>\n",
       "      <td>2018-01-01 14:54:40</td>\n",
       "      <td>27836</td>\n",
       "      <td>finished_tutorial</td>\n",
       "      <td>NaN</td>\n",
       "      <td>NaN</td>\n",
       "      <td>NaN</td>\n",
       "      <td>NaN</td>\n",
       "    </tr>\n",
       "  </tbody>\n",
       "</table>\n",
       "</div>"
      ],
      "text/plain": [
       "               level_choice         pack_choice purchase        registration  \\\n",
       "user_id                                                                        \n",
       "27832                   NaT                 NaT      NaT 2018-01-01 03:48:40   \n",
       "27833                   NaT                 NaT      NaT 2018-01-01 04:07:25   \n",
       "27834                   NaT                 NaT      NaT 2018-01-01 08:35:10   \n",
       "27835   2018-01-01 20:37:22 2018-01-01 20:38:43      NaT 2018-01-01 11:54:47   \n",
       "27836                   NaT                 NaT      NaT 2018-01-01 13:28:07   \n",
       "\n",
       "            tutorial_finish      tutorial_start  user_id  \\\n",
       "user_id                                                    \n",
       "27832                   NaT                 NaT    27832   \n",
       "27833   2018-01-01 17:50:08 2018-01-01 17:47:40    27833   \n",
       "27834   2018-01-01 19:48:01 2018-01-01 19:46:11    27834   \n",
       "27835   2018-01-01 15:06:15 2018-01-01 15:00:51    27835   \n",
       "27836   2018-01-01 15:42:58 2018-01-01 14:54:40    27836   \n",
       "\n",
       "                        group  registration_level_hours  level_pack_minutes  \\\n",
       "user_id                                                                       \n",
       "27832    not_started_tutorial                       NaN                 NaN   \n",
       "27833       finished_tutorial                       NaN                 NaN   \n",
       "27834       finished_tutorial                       NaN                 NaN   \n",
       "27835       finished_tutorial                  8.709722                1.35   \n",
       "27836       finished_tutorial                       NaN                 NaN   \n",
       "\n",
       "         pack_purchase_days  registration_purchase_days  \n",
       "user_id                                                  \n",
       "27832                   NaN                         NaN  \n",
       "27833                   NaN                         NaN  \n",
       "27834                   NaN                         NaN  \n",
       "27835                   NaN                         NaN  \n",
       "27836                   NaN                         NaN  "
      ]
     },
     "execution_count": 22,
     "metadata": {},
     "output_type": "execute_result"
    }
   ],
   "source": [
    "# Обновляем таблицу с учётом добавленной временной разницы между этапами для рассматриваемых групп пользователей:\n",
    "pivot_total_events.head()"
   ]
  },
  {
   "cell_type": "code",
   "execution_count": 23,
   "metadata": {},
   "outputs": [
    {
     "data": {
      "text/html": [
       "<div>\n",
       "<style scoped>\n",
       "    .dataframe tbody tr th:only-of-type {\n",
       "        vertical-align: middle;\n",
       "    }\n",
       "\n",
       "    .dataframe tbody tr th {\n",
       "        vertical-align: top;\n",
       "    }\n",
       "\n",
       "    .dataframe thead th {\n",
       "        text-align: right;\n",
       "    }\n",
       "</style>\n",
       "<table border=\"1\" class=\"dataframe\">\n",
       "  <thead>\n",
       "    <tr style=\"text-align: right;\">\n",
       "      <th></th>\n",
       "      <th>group</th>\n",
       "      <th>registration_level_hours</th>\n",
       "      <th>level_pack_minutes</th>\n",
       "      <th>pack_purchase_days</th>\n",
       "      <th>registration_purchase_days</th>\n",
       "    </tr>\n",
       "  </thead>\n",
       "  <tbody>\n",
       "    <tr>\n",
       "      <th>0</th>\n",
       "      <td>finished_tutorial</td>\n",
       "      <td>7.09</td>\n",
       "      <td>5.30</td>\n",
       "      <td>3.72</td>\n",
       "      <td>4.02</td>\n",
       "    </tr>\n",
       "    <tr>\n",
       "      <th>1</th>\n",
       "      <td>not_finished_but_started_tutorial</td>\n",
       "      <td>8.22</td>\n",
       "      <td>5.09</td>\n",
       "      <td>3.89</td>\n",
       "      <td>4.23</td>\n",
       "    </tr>\n",
       "    <tr>\n",
       "      <th>2</th>\n",
       "      <td>not_started_tutorial</td>\n",
       "      <td>5.26</td>\n",
       "      <td>5.40</td>\n",
       "      <td>4.20</td>\n",
       "      <td>4.38</td>\n",
       "    </tr>\n",
       "  </tbody>\n",
       "</table>\n",
       "</div>"
      ],
      "text/plain": [
       "                               group  registration_level_hours  \\\n",
       "0                  finished_tutorial                      7.09   \n",
       "1  not_finished_but_started_tutorial                      8.22   \n",
       "2               not_started_tutorial                      5.26   \n",
       "\n",
       "   level_pack_minutes  pack_purchase_days  registration_purchase_days  \n",
       "0                5.30                3.72                        4.02  \n",
       "1                5.09                3.89                        4.23  \n",
       "2                5.40                4.20                        4.38  "
      ]
     },
     "execution_count": 23,
     "metadata": {},
     "output_type": "execute_result"
    }
   ],
   "source": [
    "# Группируем и сравниваем среднее время прохождения этапов различными группами пользователей, в часах, минутах, днях:\n",
    "grouped_pivot_total_events = round(pivot_total_events[['registration_level_hours', 'level_pack_minutes', 'pack_purchase_days', 'registration_purchase_days', 'group']].groupby(['group'], as_index = False).mean(), 2)\n",
    "grouped_pivot_total_events"
   ]
  },
  {
   "cell_type": "markdown",
   "metadata": {},
   "source": [
    "##### Теперь, загрузим и установим необходимые библиотеки для визуализации результатов нашего анализа:"
   ]
  },
  {
   "cell_type": "code",
   "execution_count": 24,
   "metadata": {},
   "outputs": [],
   "source": [
    "import matplotlib.pyplot as plt\n",
    "import numpy as np\n",
    "import seaborn as sns\n",
    "sns.set()\n",
    "%matplotlib inline"
   ]
  },
  {
   "cell_type": "code",
   "execution_count": 25,
   "metadata": {},
   "outputs": [
    {
     "name": "stdout",
     "output_type": "stream",
     "text": [
      "Requirement already satisfied: plotly in c:\\users\\max\\anaconda3\\lib\\site-packages (4.14.3)\n",
      "Requirement already satisfied: six in c:\\users\\max\\anaconda3\\lib\\site-packages (from plotly) (1.15.0)\n",
      "Requirement already satisfied: retrying>=1.3.3 in c:\\users\\max\\anaconda3\\lib\\site-packages (from plotly) (1.3.3)\n"
     ]
    }
   ],
   "source": [
    "!pip install plotly"
   ]
  },
  {
   "cell_type": "code",
   "execution_count": 285,
   "metadata": {},
   "outputs": [],
   "source": [
    "#!pip install cufflinks"
   ]
  },
  {
   "cell_type": "code",
   "execution_count": 26,
   "metadata": {},
   "outputs": [
    {
     "data": {
      "text/html": [
       "        <script type=\"text/javascript\">\n",
       "        window.PlotlyConfig = {MathJaxConfig: 'local'};\n",
       "        if (window.MathJax) {MathJax.Hub.Config({SVG: {font: \"STIX-Web\"}});}\n",
       "        if (typeof require !== 'undefined') {\n",
       "        require.undef(\"plotly\");\n",
       "        requirejs.config({\n",
       "            paths: {\n",
       "                'plotly': ['https://cdn.plot.ly/plotly-latest.min']\n",
       "            }\n",
       "        });\n",
       "        require(['plotly'], function(Plotly) {\n",
       "            window._Plotly = Plotly;\n",
       "        });\n",
       "        }\n",
       "        </script>\n",
       "        "
      ]
     },
     "metadata": {},
     "output_type": "display_data"
    },
    {
     "data": {
      "text/html": [
       "        <script type=\"text/javascript\">\n",
       "        window.PlotlyConfig = {MathJaxConfig: 'local'};\n",
       "        if (window.MathJax) {MathJax.Hub.Config({SVG: {font: \"STIX-Web\"}});}\n",
       "        if (typeof require !== 'undefined') {\n",
       "        require.undef(\"plotly\");\n",
       "        requirejs.config({\n",
       "            paths: {\n",
       "                'plotly': ['https://cdn.plot.ly/plotly-latest.min']\n",
       "            }\n",
       "        });\n",
       "        require(['plotly'], function(Plotly) {\n",
       "            window._Plotly = Plotly;\n",
       "        });\n",
       "        }\n",
       "        </script>\n",
       "        "
      ]
     },
     "metadata": {},
     "output_type": "display_data"
    }
   ],
   "source": [
    "import cufflinks as cf\n",
    "from plotly.offline import download_plotlyjs, init_notebook_mode, plot, iplot\n",
    "init_notebook_mode(connected = True) \n",
    "cf.go_offline()"
   ]
  },
  {
   "cell_type": "markdown",
   "metadata": {},
   "source": [
    "##### На основе нашей таблицы \n",
    "### 'grouped_pivot_total_events'\n",
    "##### , строим визуализацию среднего времени прохождения (в часах) каждого этапа: \n",
    "- 'registration', \n",
    "- 'level_choice', \n",
    "- 'pack_choice', \n",
    "- 'purchase') \n",
    "##### рассматриваемыми группами пользователей:\n",
    "- завершившими обучение,\n",
    "- ни разу не проходившими обучение\n",
    "- и начавшими, но не завершившими обучение"
   ]
  },
  {
   "cell_type": "code",
   "execution_count": 27,
   "metadata": {},
   "outputs": [
    {
     "data": {
      "text/plain": [
       "Text(0.5, 1.0, 'Регистрация > Покупка (дней)')"
      ]
     },
     "execution_count": 27,
     "metadata": {},
     "output_type": "execute_result"
    },
    {
     "data": {
      "image/png": "[encoded data removed]",
      "text/plain": [
       "<Figure size 1296x288 with 4 Axes>"
      ]
     },
     "metadata": {
      "needs_background": "light"
     },
     "output_type": "display_data"
    }
   ],
   "source": [
    "fig, axes = plt.subplots(1, 4, figsize = (18, 4))\n",
    "axes[0].bar(x = 'finished_tutorial', height = grouped_pivot_total_events['registration_level_hours'][0], color = 'darkblue')\n",
    "# axes[0].bar(x = 'not_finished_but_started_tutorial', height = grouped_pivot_total_events['registration_level_hours'][1])\n",
    "axes[0].bar(x = 'not_started_tutorial', height = grouped_pivot_total_events['registration_level_hours'][2], color = 'orange')\n",
    "axes[0].set_title('Регистрация > Уровень сложности (часов)')\n",
    "\n",
    "axes[1].bar(x = 'finished_tutorial', height = grouped_pivot_total_events['level_pack_minutes'][0], color = 'darkblue')\n",
    "# axes[1].bar(x = 'not_finished_but_started_tutorial', height = grouped_pivot_total_events['level_pack_minutes'][1])\n",
    "axes[1].bar(x = 'not_started_tutorial', height = grouped_pivot_total_events['level_pack_minutes'][2], color = 'orange')\n",
    "axes[1].set_title('Уровень сложности > Бесплатные вопросы (минут)')\n",
    "\n",
    "axes[2].bar(x = 'finished_tutorial', height = grouped_pivot_total_events['pack_purchase_days'][0], color = 'darkblue')\n",
    "# axes[0].bar(x = 'not_finished_but_started_tutorial', height = grouped_pivot_total_events['pack_purchase_days'][1])\n",
    "axes[2].bar(x = 'not_started_tutorial', height = grouped_pivot_total_events['pack_purchase_days'][2], color = 'orange')\n",
    "axes[2].set_title('Бесплатные вопросы > Покупка (дней)')\n",
    "\n",
    "axes[3].bar(x = 'finished_tutorial', height = grouped_pivot_total_events['registration_purchase_days'][0], color = 'darkblue')\n",
    "# axes[0].bar(x = 'not_finished_but_started_tutorial', height = grouped_pivot_total_events['registration_purchase_days'][1])\n",
    "axes[3].bar(x = 'not_started_tutorial', height = grouped_pivot_total_events['registration_purchase_days'][2], color = 'orange')\n",
    "axes[3].set_title('Регистрация > Покупка (дней)')"
   ]
  },
  {
   "cell_type": "markdown",
   "metadata": {},
   "source": [
    "На графиках выше, мы видим как отличается время прохождения различных этапов для пользователей, которые прошли обучение (finished_tutorial), от пользователей, не начинавших обучение (not_started_tutorial): \n",
    "\n",
    "- при переходе от этапа регистрации до выбора уровня сложности, среднее время прохождения у группы пользователей, прошедших обучение - 7.09 часов немного больше, чем у группы пользователей, не проходивших обучение - 5.26 часов.\n",
    "- при переходе от этапа выбора уровня сложности до выбора бесплатных вопросов, среднее время прохождения в двух рассматриваемых группах практически одинаковое: у пользователей, которые прошли обучение - 5.30 минут и у пользователей, не начинавших обучение - 5.40 минут. \n",
    "- при переходе от этапа выбора пакета бесплатных вопросов до покупки платных вопросов, среднее время прохождения у группы пользователей, которые прошли обучение составляет 3.72 дней - немного меньше, чем у группы пользователей, не начинавших обучение - 4.20 дня. \n",
    "- при прохождении этапов от регистрации до покупки платных вопросов, среднее время прохождения у группы пользователей, которые прошли обучение составляет 4.02 дня - также немного меньше, чем у группы пользователей, не начинавших обучение - 4.38 дня.  \n",
    "\n",
    "# 1.4 - Вывод 1:\n",
    "##### Таким образом, можно сделать вывод, что обучение никак не влияет на время прохождения этапов и соответственно не сокращает время их прохождения. "
   ]
  },
  {
   "cell_type": "markdown",
   "metadata": {},
   "source": [
    "# Задача 2:\n",
    "### Теперь проверим существует ли зависимость между вероятностью оплаты вопросов и количеством обучений, которые начинал или завершал пользователь и в случае необходимости докажем, что успешное обучение само по себе влияет на оплату, вне зависимости от того каким этапом оно шло.\n",
    "\n",
    "# 2.1 \n",
    "##### Для лучшего понимания зависимости между вероятностью оплаты и количеством обучений, определим конверсию на каждом из этапов воронки, от регистрации до оплаты\n",
    "# 2.2\n",
    "##### сгруппируем отдельно пользователей, которые начали обучение и тех, кто завершил обучение по количеству обучений и применим lambda-функцию\n",
    "# 2.3\n",
    "##### Объединим датафреймы с помощью функции merge() по параметру user_id, с использованием параметра how='inner', что позволит в объединённом датафрейме оставить только такие идентификаторы пользователей, которые есть в обоих датафреймах\n",
    "# 2.4 \n",
    "##### создадим новые переменные, в которых отдельно сгруппируем наших пользователей по количеству начатых обучений и покупок вопросов, а также завершённых обучений и покупок вопросов, выведем полученные результаты\n",
    "# 2.5\n",
    "##### посчитаем вероятность оплаты и выведем зависимость между вероятностью оплаты вопросов и количеством обучений\n",
    "# 2.6 - Вывод 2\n",
    "\n",
    "\n",
    "# 2.1"
   ]
  },
  {
   "cell_type": "code",
   "execution_count": 28,
   "metadata": {},
   "outputs": [
    {
     "name": "stdout",
     "output_type": "stream",
     "text": [
      "Общее количество зарегистрировавшихся в 2018 г.: 19926\n",
      "Количество пользователей, которые начали обучение: 11858\n",
      "Количество пользователей, не начинавших обучение: 8068\n",
      "Количество пользователей, закончивших своё обучение: 10250\n",
      "Количество пользователей, не завершивших обучение: 1608\n",
      "Количество пользователей, которые выбрали уровень сложности (level): 8342\n",
      "Количество пользователей, которые выбрали бесплатные вопросы (pack): 5737\n",
      "Количество пользователей, которые оплатили платные вопросы (purchase): 1600\n",
      "\n",
      "Процент пользователей, начавших обучение от зарегистрировавшихся: 59.51%\n",
      "Процент пользователей, не начавших обучение от зарегистрир-шихся: 40.49%\n",
      "Процент пользователей, закончивших обучение от начавших обучение: 86.44%\n",
      "Процент пользователей, закончивших обучение от зарегистрир-шихся: 51.44%\n",
      "Процент пользователей, не закончивших обучение от начавших обучение: 13.56%\n",
      "Процент пользователей, выбравших уровень сложности от зарегистрировавшихся.: 41.86%\n",
      "Процент пользователей, выбравших бесплатные вопросы от выбр. уров. сложности: 68.77%\n",
      "Процент пользователей, выбравших бесплатные вопросы от зарегистрировавшихся: 28.79%\n",
      "\n",
      "Процент пользователей, которые оплатили платные вопросы от начинавших обучение: 13.49%\n",
      "Процент пользователей, которые оплатили платные вопросы от не начинавших обучение: 19.83%\n",
      "Процент пользователей, которые оплатили платные вопросы от закончивших обучение: 15.61%\n",
      "Процент пользователей, оплативших платные вопросы от не закончивших обучение: 99.50%\n",
      "\n",
      "Процент пользователей, оплативших платные вопросы от выбравших уровень сложности: 19.18%\n",
      "Процент пользователей, оплативших платные вопросы от выбравших бесплатные вопросы: 27.89%\n",
      "Процент пользователей, которые оплатили платные вопросы от зарегистрировавшихся:    8.03%\n"
     ]
    }
   ],
   "source": [
    "# Для этого создадим переменные с количеством уникальных пользователей на каждом этапе:\n",
    "registered_users = total_events[total_events['event_type'] == 'registration']['user_id'].nunique()           # 1\n",
    "started_tutorial_users = total_events[total_events['event_type'] == 'tutorial_start']['user_id'].nunique()   # 2\n",
    "not_started_tutorial_users = registered_users - started_tutorial_users                                       # 3 = #1 - #2\n",
    "finished_tutorial_users = total_events[total_events['event_type'] == 'tutorial_finish']['user_id'].nunique() # 4\n",
    "not_finished_tutorial_users = started_tutorial_users - finished_tutorial_users                               # 5 = #2 - #4\n",
    "level_choice_users = total_events[total_events['event_type'] == 'level_choice']['user_id'].nunique()         # 6\n",
    "pack_choice_users = total_events[total_events['event_type'] == 'pack_choice']['user_id'].nunique()           # 7\n",
    "purchase_users = total_events[total_events['event_type'] == 'purchase']['user_id'].nunique()                 # 8\n",
    "\n",
    "print('Общее количество зарегистрировавшихся в 2018 г.: {}'.format(registered_users))\n",
    "print('Количество пользователей, которые начали обучение: {}'.format(started_tutorial_users))\n",
    "print('Количество пользователей, не начинавших обучение: {}'.format(not_started_tutorial_users))\n",
    "print('Количество пользователей, закончивших своё обучение: {}'.format(finished_tutorial_users))\n",
    "print('Количество пользователей, не завершивших обучение: {}'.format(not_finished_tutorial_users))\n",
    "print('Количество пользователей, которые выбрали уровень сложности (level): {}'.format(level_choice_users))\n",
    "print('Количество пользователей, которые выбрали бесплатные вопросы (pack): {}'.format(pack_choice_users))\n",
    "print('Количество пользователей, которые оплатили платные вопросы (purchase): {}'.format(purchase_users))\n",
    "print()\n",
    "\n",
    "# Посмотрим конверсию на каждом из этапов воронки:\n",
    "percent_started_tutorial_to_registered = started_tutorial_users / registered_users                           # 2/1\n",
    "percent_not_started_tutorial_to_registered = not_started_tutorial_users / registered_users                   # 3/1\n",
    "percent_tutorial_completion = finished_tutorial_users / started_tutorial_users                               # 4/2\n",
    "percent_finished_tutorial_to_registered = finished_tutorial_users / registered_users                         # 4/1\n",
    "percent_not_finished_to_started_tutorial = not_finished_tutorial_users / started_tutorial_users              # 5/2\n",
    "percent_level_choice_to_registered = level_choice_users / registered_users                                   # 6/1\n",
    "percent_pack_to_level_choice = pack_choice_users / level_choice_users                                        # 7/6\n",
    "percent_pack_choice_to_registered = pack_choice_users / registered_users                                     # 7/1\n",
    "\n",
    "print('Процент пользователей, начавших обучение от зарегистрировавшихся: {:.2%}'.format(percent_started_tutorial_to_registered))\n",
    "print('Процент пользователей, не начавших обучение от зарегистрир-шихся: {:.2%}'.format(percent_not_started_tutorial_to_registered))\n",
    "print('Процент пользователей, закончивших обучение от начавших обучение: {:.2%}'.format(percent_tutorial_completion))\n",
    "print('Процент пользователей, закончивших обучение от зарегистрир-шихся: {:.2%}'.format(percent_finished_tutorial_to_registered)) \n",
    "print('Процент пользователей, не закончивших обучение от начавших обучение: {:.2%}'.format(percent_not_finished_to_started_tutorial))\n",
    "print('Процент пользователей, выбравших уровень сложности от зарегистрировавшихся.: {:.2%}'.format(percent_level_choice_to_registered))\n",
    "print('Процент пользователей, выбравших бесплатные вопросы от выбр. уров. сложности: {:.2%}'.format(percent_pack_to_level_choice))\n",
    "print('Процент пользователей, выбравших бесплатные вопросы от зарегистрировавшихся: {:.2%}'.format(percent_pack_choice_to_registered))\n",
    "print()\n",
    "\n",
    "# Отдельно выделим соотношение этапа оплаты платных вопросов к этапам, связанным с обучением:\n",
    "percent_purchase_to_started_tutorial = purchase_users / started_tutorial_users                               # 8/2\n",
    "percent_purchase_to_not_started_tutorial = purchase_users / not_started_tutorial_users                       # 8/3\n",
    "percent_purchase_to_finished_tutorial = purchase_users / finished_tutorial_users                             # 8/4\n",
    "percent_purchase_to_not_finished_tutorial = purchase_users / not_finished_tutorial_users                     # 8/5\n",
    "\n",
    "percent_purchase_to_level_choice = purchase_users / level_choice_users                                       # 8/6\n",
    "percent_purchase_to_pack_choice = purchase_users / pack_choice_users                                         # 8/7\n",
    "percent_purchase_to_registered = purchase_users / registered_users                                           # 8/1\n",
    "\n",
    "print('Процент пользователей, которые оплатили платные вопросы от начинавших обучение: {:.2%}'.format(percent_purchase_to_started_tutorial))\n",
    "print('Процент пользователей, которые оплатили платные вопросы от не начинавших обучение: {:.2%}'.format(percent_purchase_to_not_started_tutorial))\n",
    "print('Процент пользователей, которые оплатили платные вопросы от закончивших обучение: {:.2%}'.format(percent_purchase_to_finished_tutorial))\n",
    "print('Процент пользователей, оплативших платные вопросы от не закончивших обучение: {:.2%}'.format(percent_purchase_to_not_finished_tutorial))\n",
    "print()\n",
    "print('Процент пользователей, оплативших платные вопросы от выбравших уровень сложности: {:.2%}'.format(percent_purchase_to_level_choice))\n",
    "print('Процент пользователей, оплативших платные вопросы от выбравших бесплатные вопросы: {:.2%}'.format(percent_purchase_to_pack_choice))\n",
    "print('Процент пользователей, которые оплатили платные вопросы от зарегистрировавшихся:    {:.2%}'.format(percent_purchase_to_registered))"
   ]
  },
  {
   "cell_type": "markdown",
   "metadata": {},
   "source": [
    "# 2.2\n",
    "##### Теперь, сгруппируем отдельно пользователей, которые начали обучение и тех, кто завершил обучение по количеству обучений и применяем lambda-функцию, которая возвращает строки:"
   ]
  },
  {
   "cell_type": "code",
   "execution_count": 29,
   "metadata": {},
   "outputs": [
    {
     "data": {
      "text/html": [
       "<div>\n",
       "<style scoped>\n",
       "    .dataframe tbody tr th:only-of-type {\n",
       "        vertical-align: middle;\n",
       "    }\n",
       "\n",
       "    .dataframe tbody tr th {\n",
       "        vertical-align: top;\n",
       "    }\n",
       "\n",
       "    .dataframe thead th {\n",
       "        text-align: right;\n",
       "    }\n",
       "</style>\n",
       "<table border=\"1\" class=\"dataframe\">\n",
       "  <thead>\n",
       "    <tr style=\"text-align: right;\">\n",
       "      <th></th>\n",
       "      <th>user_id</th>\n",
       "      <th>started_tutorial_count</th>\n",
       "    </tr>\n",
       "  </thead>\n",
       "  <tbody>\n",
       "    <tr>\n",
       "      <th>0</th>\n",
       "      <td>27832</td>\n",
       "      <td>0</td>\n",
       "    </tr>\n",
       "    <tr>\n",
       "      <th>1</th>\n",
       "      <td>27833</td>\n",
       "      <td>1</td>\n",
       "    </tr>\n",
       "    <tr>\n",
       "      <th>2</th>\n",
       "      <td>27834</td>\n",
       "      <td>1</td>\n",
       "    </tr>\n",
       "    <tr>\n",
       "      <th>3</th>\n",
       "      <td>27835</td>\n",
       "      <td>1</td>\n",
       "    </tr>\n",
       "    <tr>\n",
       "      <th>4</th>\n",
       "      <td>27836</td>\n",
       "      <td>2</td>\n",
       "    </tr>\n",
       "    <tr>\n",
       "      <th>...</th>\n",
       "      <td>...</td>\n",
       "      <td>...</td>\n",
       "    </tr>\n",
       "    <tr>\n",
       "      <th>19921</th>\n",
       "      <td>47753</td>\n",
       "      <td>1</td>\n",
       "    </tr>\n",
       "    <tr>\n",
       "      <th>19922</th>\n",
       "      <td>47754</td>\n",
       "      <td>0</td>\n",
       "    </tr>\n",
       "    <tr>\n",
       "      <th>19923</th>\n",
       "      <td>47755</td>\n",
       "      <td>1</td>\n",
       "    </tr>\n",
       "    <tr>\n",
       "      <th>19924</th>\n",
       "      <td>47756</td>\n",
       "      <td>1</td>\n",
       "    </tr>\n",
       "    <tr>\n",
       "      <th>19925</th>\n",
       "      <td>47757</td>\n",
       "      <td>0</td>\n",
       "    </tr>\n",
       "  </tbody>\n",
       "</table>\n",
       "<p>19926 rows × 2 columns</p>\n",
       "</div>"
      ],
      "text/plain": [
       "       user_id  started_tutorial_count\n",
       "0        27832                       0\n",
       "1        27833                       1\n",
       "2        27834                       1\n",
       "3        27835                       1\n",
       "4        27836                       2\n",
       "...        ...                     ...\n",
       "19921    47753                       1\n",
       "19922    47754                       0\n",
       "19923    47755                       1\n",
       "19924    47756                       1\n",
       "19925    47757                       0\n",
       "\n",
       "[19926 rows x 2 columns]"
      ]
     },
     "metadata": {},
     "output_type": "display_data"
    },
    {
     "data": {
      "text/html": [
       "<div>\n",
       "<style scoped>\n",
       "    .dataframe tbody tr th:only-of-type {\n",
       "        vertical-align: middle;\n",
       "    }\n",
       "\n",
       "    .dataframe tbody tr th {\n",
       "        vertical-align: top;\n",
       "    }\n",
       "\n",
       "    .dataframe thead th {\n",
       "        text-align: right;\n",
       "    }\n",
       "</style>\n",
       "<table border=\"1\" class=\"dataframe\">\n",
       "  <thead>\n",
       "    <tr style=\"text-align: right;\">\n",
       "      <th></th>\n",
       "      <th>user_id</th>\n",
       "      <th>finished_tutorial_count</th>\n",
       "    </tr>\n",
       "  </thead>\n",
       "  <tbody>\n",
       "    <tr>\n",
       "      <th>0</th>\n",
       "      <td>27832</td>\n",
       "      <td>0</td>\n",
       "    </tr>\n",
       "    <tr>\n",
       "      <th>1</th>\n",
       "      <td>27833</td>\n",
       "      <td>1</td>\n",
       "    </tr>\n",
       "    <tr>\n",
       "      <th>2</th>\n",
       "      <td>27834</td>\n",
       "      <td>1</td>\n",
       "    </tr>\n",
       "    <tr>\n",
       "      <th>3</th>\n",
       "      <td>27835</td>\n",
       "      <td>1</td>\n",
       "    </tr>\n",
       "    <tr>\n",
       "      <th>4</th>\n",
       "      <td>27836</td>\n",
       "      <td>1</td>\n",
       "    </tr>\n",
       "    <tr>\n",
       "      <th>...</th>\n",
       "      <td>...</td>\n",
       "      <td>...</td>\n",
       "    </tr>\n",
       "    <tr>\n",
       "      <th>19921</th>\n",
       "      <td>47753</td>\n",
       "      <td>1</td>\n",
       "    </tr>\n",
       "    <tr>\n",
       "      <th>19922</th>\n",
       "      <td>47754</td>\n",
       "      <td>0</td>\n",
       "    </tr>\n",
       "    <tr>\n",
       "      <th>19923</th>\n",
       "      <td>47755</td>\n",
       "      <td>1</td>\n",
       "    </tr>\n",
       "    <tr>\n",
       "      <th>19924</th>\n",
       "      <td>47756</td>\n",
       "      <td>1</td>\n",
       "    </tr>\n",
       "    <tr>\n",
       "      <th>19925</th>\n",
       "      <td>47757</td>\n",
       "      <td>0</td>\n",
       "    </tr>\n",
       "  </tbody>\n",
       "</table>\n",
       "<p>19926 rows × 2 columns</p>\n",
       "</div>"
      ],
      "text/plain": [
       "       user_id  finished_tutorial_count\n",
       "0        27832                        0\n",
       "1        27833                        1\n",
       "2        27834                        1\n",
       "3        27835                        1\n",
       "4        27836                        1\n",
       "...        ...                      ...\n",
       "19921    47753                        1\n",
       "19922    47754                        0\n",
       "19923    47755                        1\n",
       "19924    47756                        1\n",
       "19925    47757                        0\n",
       "\n",
       "[19926 rows x 2 columns]"
      ]
     },
     "metadata": {},
     "output_type": "display_data"
    },
    {
     "data": {
      "text/html": [
       "<div>\n",
       "<style scoped>\n",
       "    .dataframe tbody tr th:only-of-type {\n",
       "        vertical-align: middle;\n",
       "    }\n",
       "\n",
       "    .dataframe tbody tr th {\n",
       "        vertical-align: top;\n",
       "    }\n",
       "\n",
       "    .dataframe thead th {\n",
       "        text-align: right;\n",
       "    }\n",
       "</style>\n",
       "<table border=\"1\" class=\"dataframe\">\n",
       "  <thead>\n",
       "    <tr style=\"text-align: right;\">\n",
       "      <th></th>\n",
       "      <th>user_id</th>\n",
       "      <th>purchase_count</th>\n",
       "    </tr>\n",
       "  </thead>\n",
       "  <tbody>\n",
       "    <tr>\n",
       "      <th>0</th>\n",
       "      <td>27832</td>\n",
       "      <td>0</td>\n",
       "    </tr>\n",
       "    <tr>\n",
       "      <th>1</th>\n",
       "      <td>27833</td>\n",
       "      <td>0</td>\n",
       "    </tr>\n",
       "    <tr>\n",
       "      <th>2</th>\n",
       "      <td>27834</td>\n",
       "      <td>0</td>\n",
       "    </tr>\n",
       "    <tr>\n",
       "      <th>3</th>\n",
       "      <td>27835</td>\n",
       "      <td>0</td>\n",
       "    </tr>\n",
       "    <tr>\n",
       "      <th>4</th>\n",
       "      <td>27836</td>\n",
       "      <td>0</td>\n",
       "    </tr>\n",
       "    <tr>\n",
       "      <th>...</th>\n",
       "      <td>...</td>\n",
       "      <td>...</td>\n",
       "    </tr>\n",
       "    <tr>\n",
       "      <th>19921</th>\n",
       "      <td>47753</td>\n",
       "      <td>0</td>\n",
       "    </tr>\n",
       "    <tr>\n",
       "      <th>19922</th>\n",
       "      <td>47754</td>\n",
       "      <td>0</td>\n",
       "    </tr>\n",
       "    <tr>\n",
       "      <th>19923</th>\n",
       "      <td>47755</td>\n",
       "      <td>0</td>\n",
       "    </tr>\n",
       "    <tr>\n",
       "      <th>19924</th>\n",
       "      <td>47756</td>\n",
       "      <td>0</td>\n",
       "    </tr>\n",
       "    <tr>\n",
       "      <th>19925</th>\n",
       "      <td>47757</td>\n",
       "      <td>0</td>\n",
       "    </tr>\n",
       "  </tbody>\n",
       "</table>\n",
       "<p>19926 rows × 2 columns</p>\n",
       "</div>"
      ],
      "text/plain": [
       "       user_id  purchase_count\n",
       "0        27832               0\n",
       "1        27833               0\n",
       "2        27834               0\n",
       "3        27835               0\n",
       "4        27836               0\n",
       "...        ...             ...\n",
       "19921    47753               0\n",
       "19922    47754               0\n",
       "19923    47755               0\n",
       "19924    47756               0\n",
       "19925    47757               0\n",
       "\n",
       "[19926 rows x 2 columns]"
      ]
     },
     "metadata": {},
     "output_type": "display_data"
    }
   ],
   "source": [
    "# подсчитаем количество начатых обучений, сгруппированных по 'user_id':\n",
    "started_tutorial_users_grouped = total_events.groupby(['user_id'])['event_type'].apply(lambda x: (x == 'tutorial_start').sum()).\\\n",
    "                                reset_index().rename(columns = {'event_type': 'started_tutorial_count'})\n",
    "display(started_tutorial_users_grouped)\n",
    "\n",
    "# подсчитаем количество завершённых обучений, сгруппированных по 'user_id':\n",
    "finished_tutorial_users_grouped = total_events.groupby(['user_id'])['event_type'].apply(lambda x: (x == 'tutorial_finish').sum()).\\\n",
    "                                reset_index().rename(columns = {'event_type': 'finished_tutorial_count'})\n",
    "display(finished_tutorial_users_grouped)\n",
    "\n",
    "# подсчитаем количество покупок платных вопросов, сгруппированных по 'user_id':\n",
    "purchase_users_grouped = total_events.groupby(['user_id'])['event_type'].apply(lambda x: (x == 'purchase').sum()).\\\n",
    "                                reset_index().rename(columns = {'event_type': 'purchase_count'})\n",
    "display(purchase_users_grouped)"
   ]
  },
  {
   "cell_type": "markdown",
   "metadata": {},
   "source": [
    "# 2.3\n",
    "##### Объединим датафреймы с помощью функции merge() ..."
   ]
  },
  {
   "cell_type": "code",
   "execution_count": 30,
   "metadata": {},
   "outputs": [
    {
     "data": {
      "text/html": [
       "<div>\n",
       "<style scoped>\n",
       "    .dataframe tbody tr th:only-of-type {\n",
       "        vertical-align: middle;\n",
       "    }\n",
       "\n",
       "    .dataframe tbody tr th {\n",
       "        vertical-align: top;\n",
       "    }\n",
       "\n",
       "    .dataframe thead th {\n",
       "        text-align: right;\n",
       "    }\n",
       "</style>\n",
       "<table border=\"1\" class=\"dataframe\">\n",
       "  <thead>\n",
       "    <tr style=\"text-align: right;\">\n",
       "      <th></th>\n",
       "      <th>user_id</th>\n",
       "      <th>started_tutorial_count</th>\n",
       "      <th>purchase_count</th>\n",
       "    </tr>\n",
       "  </thead>\n",
       "  <tbody>\n",
       "    <tr>\n",
       "      <th>0</th>\n",
       "      <td>27832</td>\n",
       "      <td>0</td>\n",
       "      <td>0</td>\n",
       "    </tr>\n",
       "    <tr>\n",
       "      <th>1</th>\n",
       "      <td>27833</td>\n",
       "      <td>1</td>\n",
       "      <td>0</td>\n",
       "    </tr>\n",
       "    <tr>\n",
       "      <th>2</th>\n",
       "      <td>27834</td>\n",
       "      <td>1</td>\n",
       "      <td>0</td>\n",
       "    </tr>\n",
       "    <tr>\n",
       "      <th>3</th>\n",
       "      <td>27835</td>\n",
       "      <td>1</td>\n",
       "      <td>0</td>\n",
       "    </tr>\n",
       "    <tr>\n",
       "      <th>4</th>\n",
       "      <td>27836</td>\n",
       "      <td>2</td>\n",
       "      <td>0</td>\n",
       "    </tr>\n",
       "    <tr>\n",
       "      <th>...</th>\n",
       "      <td>...</td>\n",
       "      <td>...</td>\n",
       "      <td>...</td>\n",
       "    </tr>\n",
       "    <tr>\n",
       "      <th>19921</th>\n",
       "      <td>47753</td>\n",
       "      <td>1</td>\n",
       "      <td>0</td>\n",
       "    </tr>\n",
       "    <tr>\n",
       "      <th>19922</th>\n",
       "      <td>47754</td>\n",
       "      <td>0</td>\n",
       "      <td>0</td>\n",
       "    </tr>\n",
       "    <tr>\n",
       "      <th>19923</th>\n",
       "      <td>47755</td>\n",
       "      <td>1</td>\n",
       "      <td>0</td>\n",
       "    </tr>\n",
       "    <tr>\n",
       "      <th>19924</th>\n",
       "      <td>47756</td>\n",
       "      <td>1</td>\n",
       "      <td>0</td>\n",
       "    </tr>\n",
       "    <tr>\n",
       "      <th>19925</th>\n",
       "      <td>47757</td>\n",
       "      <td>0</td>\n",
       "      <td>0</td>\n",
       "    </tr>\n",
       "  </tbody>\n",
       "</table>\n",
       "<p>19926 rows × 3 columns</p>\n",
       "</div>"
      ],
      "text/plain": [
       "       user_id  started_tutorial_count  purchase_count\n",
       "0        27832                       0               0\n",
       "1        27833                       1               0\n",
       "2        27834                       1               0\n",
       "3        27835                       1               0\n",
       "4        27836                       2               0\n",
       "...        ...                     ...             ...\n",
       "19921    47753                       1               0\n",
       "19922    47754                       0               0\n",
       "19923    47755                       1               0\n",
       "19924    47756                       1               0\n",
       "19925    47757                       0               0\n",
       "\n",
       "[19926 rows x 3 columns]"
      ]
     },
     "metadata": {},
     "output_type": "display_data"
    },
    {
     "data": {
      "text/html": [
       "<div>\n",
       "<style scoped>\n",
       "    .dataframe tbody tr th:only-of-type {\n",
       "        vertical-align: middle;\n",
       "    }\n",
       "\n",
       "    .dataframe tbody tr th {\n",
       "        vertical-align: top;\n",
       "    }\n",
       "\n",
       "    .dataframe thead th {\n",
       "        text-align: right;\n",
       "    }\n",
       "</style>\n",
       "<table border=\"1\" class=\"dataframe\">\n",
       "  <thead>\n",
       "    <tr style=\"text-align: right;\">\n",
       "      <th></th>\n",
       "      <th>user_id</th>\n",
       "      <th>finished_tutorial_count</th>\n",
       "      <th>purchase_count</th>\n",
       "    </tr>\n",
       "  </thead>\n",
       "  <tbody>\n",
       "    <tr>\n",
       "      <th>0</th>\n",
       "      <td>27832</td>\n",
       "      <td>0</td>\n",
       "      <td>0</td>\n",
       "    </tr>\n",
       "    <tr>\n",
       "      <th>1</th>\n",
       "      <td>27833</td>\n",
       "      <td>1</td>\n",
       "      <td>0</td>\n",
       "    </tr>\n",
       "    <tr>\n",
       "      <th>2</th>\n",
       "      <td>27834</td>\n",
       "      <td>1</td>\n",
       "      <td>0</td>\n",
       "    </tr>\n",
       "    <tr>\n",
       "      <th>3</th>\n",
       "      <td>27835</td>\n",
       "      <td>1</td>\n",
       "      <td>0</td>\n",
       "    </tr>\n",
       "    <tr>\n",
       "      <th>4</th>\n",
       "      <td>27836</td>\n",
       "      <td>1</td>\n",
       "      <td>0</td>\n",
       "    </tr>\n",
       "    <tr>\n",
       "      <th>...</th>\n",
       "      <td>...</td>\n",
       "      <td>...</td>\n",
       "      <td>...</td>\n",
       "    </tr>\n",
       "    <tr>\n",
       "      <th>19921</th>\n",
       "      <td>47753</td>\n",
       "      <td>1</td>\n",
       "      <td>0</td>\n",
       "    </tr>\n",
       "    <tr>\n",
       "      <th>19922</th>\n",
       "      <td>47754</td>\n",
       "      <td>0</td>\n",
       "      <td>0</td>\n",
       "    </tr>\n",
       "    <tr>\n",
       "      <th>19923</th>\n",
       "      <td>47755</td>\n",
       "      <td>1</td>\n",
       "      <td>0</td>\n",
       "    </tr>\n",
       "    <tr>\n",
       "      <th>19924</th>\n",
       "      <td>47756</td>\n",
       "      <td>1</td>\n",
       "      <td>0</td>\n",
       "    </tr>\n",
       "    <tr>\n",
       "      <th>19925</th>\n",
       "      <td>47757</td>\n",
       "      <td>0</td>\n",
       "      <td>0</td>\n",
       "    </tr>\n",
       "  </tbody>\n",
       "</table>\n",
       "<p>19926 rows × 3 columns</p>\n",
       "</div>"
      ],
      "text/plain": [
       "       user_id  finished_tutorial_count  purchase_count\n",
       "0        27832                        0               0\n",
       "1        27833                        1               0\n",
       "2        27834                        1               0\n",
       "3        27835                        1               0\n",
       "4        27836                        1               0\n",
       "...        ...                      ...             ...\n",
       "19921    47753                        1               0\n",
       "19922    47754                        0               0\n",
       "19923    47755                        1               0\n",
       "19924    47756                        1               0\n",
       "19925    47757                        0               0\n",
       "\n",
       "[19926 rows x 3 columns]"
      ]
     },
     "metadata": {},
     "output_type": "display_data"
    }
   ],
   "source": [
    "merged_started_tutorial_purchase = started_tutorial_users_grouped.merge(purchase_users_grouped, how = 'inner', on = 'user_id')\n",
    "merged_finished_tutorial_purchase = finished_tutorial_users_grouped.merge(purchase_users_grouped, how = 'inner', on = 'user_id')\n",
    "\n",
    "display(merged_started_tutorial_purchase)\n",
    "display(merged_finished_tutorial_purchase)"
   ]
  },
  {
   "cell_type": "markdown",
   "metadata": {},
   "source": [
    "# 2.4\n",
    "##### сгруппируем наших пользователей по количеству начатых и количеству завершённых обучений и выведем соответствующее количество покупок вопросов для каждой группы:"
   ]
  },
  {
   "cell_type": "code",
   "execution_count": 31,
   "metadata": {},
   "outputs": [
    {
     "data": {
      "text/html": [
       "<div>\n",
       "<style scoped>\n",
       "    .dataframe tbody tr th:only-of-type {\n",
       "        vertical-align: middle;\n",
       "    }\n",
       "\n",
       "    .dataframe tbody tr th {\n",
       "        vertical-align: top;\n",
       "    }\n",
       "\n",
       "    .dataframe thead th {\n",
       "        text-align: right;\n",
       "    }\n",
       "</style>\n",
       "<table border=\"1\" class=\"dataframe\">\n",
       "  <thead>\n",
       "    <tr style=\"text-align: right;\">\n",
       "      <th></th>\n",
       "      <th>started_tutorial_count</th>\n",
       "      <th>user_id</th>\n",
       "      <th>purchase_count</th>\n",
       "    </tr>\n",
       "  </thead>\n",
       "  <tbody>\n",
       "    <tr>\n",
       "      <th>0</th>\n",
       "      <td>0</td>\n",
       "      <td>8068</td>\n",
       "      <td>22</td>\n",
       "    </tr>\n",
       "    <tr>\n",
       "      <th>1</th>\n",
       "      <td>1</td>\n",
       "      <td>9103</td>\n",
       "      <td>1207</td>\n",
       "    </tr>\n",
       "    <tr>\n",
       "      <th>2</th>\n",
       "      <td>2</td>\n",
       "      <td>1589</td>\n",
       "      <td>218</td>\n",
       "    </tr>\n",
       "    <tr>\n",
       "      <th>3</th>\n",
       "      <td>3</td>\n",
       "      <td>427</td>\n",
       "      <td>51</td>\n",
       "    </tr>\n",
       "    <tr>\n",
       "      <th>4</th>\n",
       "      <td>4</td>\n",
       "      <td>221</td>\n",
       "      <td>30</td>\n",
       "    </tr>\n",
       "    <tr>\n",
       "      <th>5</th>\n",
       "      <td>5</td>\n",
       "      <td>109</td>\n",
       "      <td>16</td>\n",
       "    </tr>\n",
       "    <tr>\n",
       "      <th>6</th>\n",
       "      <td>6</td>\n",
       "      <td>116</td>\n",
       "      <td>14</td>\n",
       "    </tr>\n",
       "    <tr>\n",
       "      <th>7</th>\n",
       "      <td>7</td>\n",
       "      <td>94</td>\n",
       "      <td>12</td>\n",
       "    </tr>\n",
       "    <tr>\n",
       "      <th>8</th>\n",
       "      <td>8</td>\n",
       "      <td>86</td>\n",
       "      <td>13</td>\n",
       "    </tr>\n",
       "    <tr>\n",
       "      <th>9</th>\n",
       "      <td>9</td>\n",
       "      <td>113</td>\n",
       "      <td>17</td>\n",
       "    </tr>\n",
       "  </tbody>\n",
       "</table>\n",
       "</div>"
      ],
      "text/plain": [
       "   started_tutorial_count  user_id  purchase_count\n",
       "0                       0     8068              22\n",
       "1                       1     9103            1207\n",
       "2                       2     1589             218\n",
       "3                       3      427              51\n",
       "4                       4      221              30\n",
       "5                       5      109              16\n",
       "6                       6      116              14\n",
       "7                       7       94              12\n",
       "8                       8       86              13\n",
       "9                       9      113              17"
      ]
     },
     "metadata": {},
     "output_type": "display_data"
    },
    {
     "data": {
      "text/html": [
       "<div>\n",
       "<style scoped>\n",
       "    .dataframe tbody tr th:only-of-type {\n",
       "        vertical-align: middle;\n",
       "    }\n",
       "\n",
       "    .dataframe tbody tr th {\n",
       "        vertical-align: top;\n",
       "    }\n",
       "\n",
       "    .dataframe thead th {\n",
       "        text-align: right;\n",
       "    }\n",
       "</style>\n",
       "<table border=\"1\" class=\"dataframe\">\n",
       "  <thead>\n",
       "    <tr style=\"text-align: right;\">\n",
       "      <th></th>\n",
       "      <th>finished_tutorial_count</th>\n",
       "      <th>user_id</th>\n",
       "      <th>purchase_count</th>\n",
       "    </tr>\n",
       "  </thead>\n",
       "  <tbody>\n",
       "    <tr>\n",
       "      <th>0</th>\n",
       "      <td>0</td>\n",
       "      <td>9676</td>\n",
       "      <td>153</td>\n",
       "    </tr>\n",
       "    <tr>\n",
       "      <th>1</th>\n",
       "      <td>1</td>\n",
       "      <td>8015</td>\n",
       "      <td>1143</td>\n",
       "    </tr>\n",
       "    <tr>\n",
       "      <th>2</th>\n",
       "      <td>2</td>\n",
       "      <td>1321</td>\n",
       "      <td>182</td>\n",
       "    </tr>\n",
       "    <tr>\n",
       "      <th>3</th>\n",
       "      <td>3</td>\n",
       "      <td>345</td>\n",
       "      <td>44</td>\n",
       "    </tr>\n",
       "    <tr>\n",
       "      <th>4</th>\n",
       "      <td>4</td>\n",
       "      <td>178</td>\n",
       "      <td>19</td>\n",
       "    </tr>\n",
       "    <tr>\n",
       "      <th>5</th>\n",
       "      <td>5</td>\n",
       "      <td>117</td>\n",
       "      <td>19</td>\n",
       "    </tr>\n",
       "    <tr>\n",
       "      <th>6</th>\n",
       "      <td>6</td>\n",
       "      <td>101</td>\n",
       "      <td>15</td>\n",
       "    </tr>\n",
       "    <tr>\n",
       "      <th>7</th>\n",
       "      <td>7</td>\n",
       "      <td>97</td>\n",
       "      <td>15</td>\n",
       "    </tr>\n",
       "    <tr>\n",
       "      <th>8</th>\n",
       "      <td>8</td>\n",
       "      <td>54</td>\n",
       "      <td>6</td>\n",
       "    </tr>\n",
       "    <tr>\n",
       "      <th>9</th>\n",
       "      <td>9</td>\n",
       "      <td>22</td>\n",
       "      <td>4</td>\n",
       "    </tr>\n",
       "  </tbody>\n",
       "</table>\n",
       "</div>"
      ],
      "text/plain": [
       "   finished_tutorial_count  user_id  purchase_count\n",
       "0                        0     9676             153\n",
       "1                        1     8015            1143\n",
       "2                        2     1321             182\n",
       "3                        3      345              44\n",
       "4                        4      178              19\n",
       "5                        5      117              19\n",
       "6                        6      101              15\n",
       "7                        7       97              15\n",
       "8                        8       54               6\n",
       "9                        9       22               4"
      ]
     },
     "metadata": {},
     "output_type": "display_data"
    }
   ],
   "source": [
    "# пользователи сгруппированы по количеству начатых обучений и количеству покупок вопросов:\n",
    "started_tutorials_purchases = merged_started_tutorial_purchase.groupby(['started_tutorial_count']).\\\n",
    "                            agg({'user_id': 'count', 'purchase_count': 'sum'}).reset_index()\n",
    "display(started_tutorials_purchases)\n",
    "\n",
    "# пользователи сгруппированы по количеству завершённых обучений и количеству покупок вопросов:\n",
    "finished_tutorials_purchases = merged_finished_tutorial_purchase.groupby(['finished_tutorial_count']).\\\n",
    "                            agg({'user_id': 'count', 'purchase_count': 'sum'}).reset_index()\n",
    "display(finished_tutorials_purchases)"
   ]
  },
  {
   "cell_type": "markdown",
   "metadata": {},
   "source": [
    "# 2.5"
   ]
  },
  {
   "cell_type": "code",
   "execution_count": 32,
   "metadata": {},
   "outputs": [
    {
     "data": {
      "text/plain": [
       "0    0.002727\n",
       "1    0.132594\n",
       "2    0.137193\n",
       "3    0.119438\n",
       "4    0.135747\n",
       "5    0.146789\n",
       "6    0.120690\n",
       "7    0.127660\n",
       "8    0.151163\n",
       "9    0.150442\n",
       "dtype: float64"
      ]
     },
     "metadata": {},
     "output_type": "display_data"
    },
    {
     "data": {
      "text/plain": [
       "0.12244417102151765"
      ]
     },
     "metadata": {},
     "output_type": "display_data"
    },
    {
     "data": {
      "text/plain": [
       "0    0.015812\n",
       "1    0.142608\n",
       "2    0.137774\n",
       "3    0.127536\n",
       "4    0.106742\n",
       "5    0.162393\n",
       "6    0.148515\n",
       "7    0.154639\n",
       "8    0.111111\n",
       "9    0.181818\n",
       "dtype: float64"
      ]
     },
     "metadata": {},
     "output_type": "display_data"
    },
    {
     "data": {
      "text/plain": [
       "0.12889486301763636"
      ]
     },
     "metadata": {},
     "output_type": "display_data"
    }
   ],
   "source": [
    "# посчитаем вероятность оплаты вопросов для каждой группы:\n",
    "\n",
    "percent_started_tutorials_to_purchases = started_tutorials_purchases['purchase_count']/started_tutorials_purchases['user_id']\n",
    "display(percent_started_tutorials_to_purchases)\n",
    "display(percent_started_tutorials_to_purchases.mean())\n",
    "\n",
    "percent_finished_tutorials_to_purchases = finished_tutorials_purchases['purchase_count']/finished_tutorials_purchases['user_id']\n",
    "display(percent_finished_tutorials_to_purchases)\n",
    "display(percent_finished_tutorials_to_purchases.mean())"
   ]
  },
  {
   "cell_type": "code",
   "execution_count": 33,
   "metadata": {},
   "outputs": [
    {
     "data": {
      "text/plain": [
       "Text(0, 0.5, 'Вероятность оплаты, в %')"
      ]
     },
     "execution_count": 33,
     "metadata": {},
     "output_type": "execute_result"
    },
    {
     "data": {
      "image/png": "[encoded data removed]",
      "text/plain": [
       "<Figure size 1296x432 with 2 Axes>"
      ]
     },
     "metadata": {
      "needs_background": "light"
     },
     "output_type": "display_data"
    }
   ],
   "source": [
    "# выведем зависимость между вероятностью оплаты вопросов и количеством обучений:\n",
    "\n",
    "fig, axes = plt.subplots(1, 2, figsize = (18, 6)) \n",
    "axes[0].scatter(x = started_tutorials_purchases['started_tutorial_count'], y = percent_started_tutorials_to_purchases, marker = 'o')\n",
    "axes[0].set_title('Зависимость количества обучений, начатых пользователем и вероятности оплаты вопросов')\n",
    "axes[0].set_xlabel('Количество начатых обучений')\n",
    "axes[0].set_ylabel('Вероятность оплаты, в %')\n",
    "\n",
    "axes[1].scatter(x = finished_tutorials_purchases['finished_tutorial_count'], y = percent_finished_tutorials_to_purchases, marker = 'o')\n",
    "axes[1].set_title('Зависимость количества обучений, завершённых пользователем и вероятности оплаты вопросов')\n",
    "axes[1].set_xlabel('Количество завершённых обучений')\n",
    "axes[1].set_ylabel('Вероятность оплаты, в %')"
   ]
  },
  {
   "cell_type": "markdown",
   "metadata": {},
   "source": [
    "# 2.6 - Вывод 2:\n",
    "##### На графиках выше отображается существующая зависимость между вероятностью оплаты вопросов и соответствующим количеством обучений для данного пользователя, который либо завершил, либо не начинал своё обучение. Если сделать допущение о наличии выбросов в обоих группах, то можно сказать, что у пользователей наблюдается определённая, но не сильная связь между количеством начатых обучений и вероятностью оплаты: \n",
    "\n",
    "##### в большей степени это прослеживается у пользователей, которые начали обучение: при количестве начатых обучений - 1, 2, 5, 8 вероятность оплаты составляет ~13.26%, 13.72%, 14.68%, 15.12% соответственно; \n",
    "\n",
    "##### у пользователей, которые завершили обучение: при количестве завершенных обучений -  4, 6, 7, 9 вероятность оплаты составляет ~10.67%, 14.85%, 15.46%, 18.18% соответственно. Однако у пользователей, завершивших обучение на определённых промежутках обучений наблюдается обратная зависимость между количеством завершённых обучений и вероятностью оплаты: например, с увеличением завершённых обучений (с 1 до 4 включительно, а также с 5 до 8, за исключением 7) вероятность оплаты снижается:\n",
    "- 1    0.142608\n",
    "- 2    0.137774\n",
    "- 3    0.127536\n",
    "- 4    0.106742\n",
    "\n",
    "- 5    0.162393\n",
    "- 6    0.148515\n",
    "- 8    0.111111"
   ]
  },
  {
   "cell_type": "markdown",
   "metadata": {},
   "source": [
    "# Дополнительная задача 3:\n",
    "##### Проверим как часто пользователи начинают обучение после того, как они выбрали уровень сложности - это позволит нам понять, насколько прозрачен процесс взаимодействия с игрой: если пользователи после выбора уровня сложности обращаются к обучению, значит, работа с приложением непонятна.\n",
    "\n",
    "# 3.1\n",
    "1. Выделим 2 отдельных датафрейма пользователей, начинавших обучение и выбиравших уровень сложности\n",
    "2. Объединим данные двух датафреймов с помощью функции merge(), по параметру user_id\n",
    "3. Рассчитаем положительную разницу во времени между выбором уровня сложности и повторным началом обучения, благодаря чему определим пользователей, которые начинали обучение после выбора уровня сложности.\n",
    "\n",
    "# 3.2\n",
    "1. Проверим существует ли зависимость между числом обучений, начатых после выбора уровня сложности и количеством соответствующих пользователей\n",
    "2. Отобразим полученные результаты в виде графика с использованием метода \n",
    "##### 'scatter'\n",
    "3. \n",
    "### предварительный вывод 1\n",
    "\n",
    "# 3.3\n",
    "1. Создадим 2 отдельных датафрейма c пользователями, которые начинали обучение после выбора уровня сложности и которые ни разу не начинали обучение после выбора уровня сложности\n",
    "2. Рассмотрим полученные датафреймы пользователей, которые начинали и не начинали свои обучения после выбора уровня сложности в объединённом и раздельном виде и проанализируем количество пользователей по числу соответствующих обучений\n",
    "3. Выразим количество пользователей с числом соответствующих обучений в процентном соотношении от общего количества пользователей в каждом датафрейме\n",
    "4. Отобразим графически данные объединённых и раздельных датафреймов с помощью метода \n",
    "##### subplots и функции pie()\n",
    "5. \n",
    "### предварительный вывод 2\n",
    "6. Отобразим графически данные раздельного датафрейма с помощью метода\n",
    "##### iplot()\n",
    "7. \n",
    "### предварительный вывод 3\n",
    "8. Отобразим графически данные объединённого датафрейма с помощью метода iplot()\n",
    "9. \n",
    "### предварительный вывод 4\n",
    " \n",
    "# 3.4 - Вывод 3\n",
    "\n",
    "### 3.5 - Дополнительный анализ уникальных пользовательских путей пользователей, которые начали обучение после выбора уровня сложности (смотреть не обязательно)\n",
    "для каждого пользователя создадим список, который будет содержать во временной последовательности все события, совершаемые данным пользователем: воспользуемся методом groupby (по столбцу event_type) и применим аргегирующую функцию apply(list). \n",
    "Таким образом, мы сгруппируем строки по пользователю, а затем объединим в списки содержимое столбца event_type по каждому пользователю. Запишем результат в датафрейм \n",
    "##### user_path\n",
    ", где для каждого пользователя в столбце event_type будут указаны последовательно все его события — пути пользователя.\n",
    "- преобразуем список событий в строку \n",
    "##### event_path \n",
    "для оптимизации скорости объединения, сгруппируем датафрейм по столбцу event_path, подсчитав число пользователей и выведем все последовательности рассматриваемых событий\n",
    "##### users_paths > users_paths2"
   ]
  },
  {
   "cell_type": "markdown",
   "metadata": {},
   "source": [
    "# 3.1"
   ]
  },
  {
   "cell_type": "code",
   "execution_count": 34,
   "metadata": {},
   "outputs": [
    {
     "data": {
      "text/html": [
       "<div>\n",
       "<style scoped>\n",
       "    .dataframe tbody tr th:only-of-type {\n",
       "        vertical-align: middle;\n",
       "    }\n",
       "\n",
       "    .dataframe tbody tr th {\n",
       "        vertical-align: top;\n",
       "    }\n",
       "\n",
       "    .dataframe thead th {\n",
       "        text-align: right;\n",
       "    }\n",
       "</style>\n",
       "<table border=\"1\" class=\"dataframe\">\n",
       "  <thead>\n",
       "    <tr style=\"text-align: right;\">\n",
       "      <th></th>\n",
       "      <th>tutorial_start_time</th>\n",
       "      <th>user_id</th>\n",
       "    </tr>\n",
       "  </thead>\n",
       "  <tbody>\n",
       "    <tr>\n",
       "      <th>51412</th>\n",
       "      <td>2018-01-01 14:54:40</td>\n",
       "      <td>27836</td>\n",
       "    </tr>\n",
       "    <tr>\n",
       "      <th>51413</th>\n",
       "      <td>2018-01-01 15:00:51</td>\n",
       "      <td>27835</td>\n",
       "    </tr>\n",
       "    <tr>\n",
       "      <th>51415</th>\n",
       "      <td>2018-01-01 15:40:43</td>\n",
       "      <td>27836</td>\n",
       "    </tr>\n",
       "    <tr>\n",
       "      <th>51417</th>\n",
       "      <td>2018-01-01 17:47:40</td>\n",
       "      <td>27833</td>\n",
       "    </tr>\n",
       "    <tr>\n",
       "      <th>51420</th>\n",
       "      <td>2018-01-01 19:11:36</td>\n",
       "      <td>27839</td>\n",
       "    </tr>\n",
       "  </tbody>\n",
       "</table>\n",
       "</div>"
      ],
      "text/plain": [
       "      tutorial_start_time  user_id\n",
       "51412 2018-01-01 14:54:40    27836\n",
       "51413 2018-01-01 15:00:51    27835\n",
       "51415 2018-01-01 15:40:43    27836\n",
       "51417 2018-01-01 17:47:40    27833\n",
       "51420 2018-01-01 19:11:36    27839"
      ]
     },
     "metadata": {},
     "output_type": "display_data"
    },
    {
     "data": {
      "text/html": [
       "<div>\n",
       "<style scoped>\n",
       "    .dataframe tbody tr th:only-of-type {\n",
       "        vertical-align: middle;\n",
       "    }\n",
       "\n",
       "    .dataframe tbody tr th {\n",
       "        vertical-align: top;\n",
       "    }\n",
       "\n",
       "    .dataframe thead th {\n",
       "        text-align: right;\n",
       "    }\n",
       "</style>\n",
       "<table border=\"1\" class=\"dataframe\">\n",
       "  <thead>\n",
       "    <tr style=\"text-align: right;\">\n",
       "      <th></th>\n",
       "      <th>level_choice_time</th>\n",
       "      <th>user_id</th>\n",
       "    </tr>\n",
       "  </thead>\n",
       "  <tbody>\n",
       "    <tr>\n",
       "      <th>51424</th>\n",
       "      <td>2018-01-01 20:37:22</td>\n",
       "      <td>27835</td>\n",
       "    </tr>\n",
       "    <tr>\n",
       "      <th>51428</th>\n",
       "      <td>2018-01-01 22:37:50</td>\n",
       "      <td>27839</td>\n",
       "    </tr>\n",
       "    <tr>\n",
       "      <th>51441</th>\n",
       "      <td>2018-01-02 05:18:42</td>\n",
       "      <td>27840</td>\n",
       "    </tr>\n",
       "    <tr>\n",
       "      <th>51443</th>\n",
       "      <td>2018-01-02 06:19:18</td>\n",
       "      <td>27845</td>\n",
       "    </tr>\n",
       "    <tr>\n",
       "      <th>51450</th>\n",
       "      <td>2018-01-02 08:46:03</td>\n",
       "      <td>27842</td>\n",
       "    </tr>\n",
       "  </tbody>\n",
       "</table>\n",
       "</div>"
      ],
      "text/plain": [
       "        level_choice_time  user_id\n",
       "51424 2018-01-01 20:37:22    27835\n",
       "51428 2018-01-01 22:37:50    27839\n",
       "51441 2018-01-02 05:18:42    27840\n",
       "51443 2018-01-02 06:19:18    27845\n",
       "51450 2018-01-02 08:46:03    27842"
      ]
     },
     "metadata": {},
     "output_type": "display_data"
    }
   ],
   "source": [
    "# 1. Выделим отдельные датафреймы для пользователей, которые начинали обучение и выбирали уровень сложности:\n",
    "# переименуем колонку event_time каждого датафрейма в tutorial_start_time и level_choice_time, соответственно:\n",
    "\n",
    "tutorial_start2018 = total_events[total_events['event_type'] == 'tutorial_start'][['event_time', 'user_id']].\\\n",
    "                    rename(columns = {'event_time': 'tutorial_start_time'})\n",
    "display(tutorial_start2018.head())\n",
    "\n",
    "level_choice2018 = total_events[total_events['event_type'] == 'level_choice'][['event_time', 'user_id']].\\\n",
    "                    rename(columns = {'event_time': 'level_choice_time'})\n",
    "display(level_choice2018.head())"
   ]
  },
  {
   "cell_type": "code",
   "execution_count": 35,
   "metadata": {},
   "outputs": [
    {
     "data": {
      "text/html": [
       "<div>\n",
       "<style scoped>\n",
       "    .dataframe tbody tr th:only-of-type {\n",
       "        vertical-align: middle;\n",
       "    }\n",
       "\n",
       "    .dataframe tbody tr th {\n",
       "        vertical-align: top;\n",
       "    }\n",
       "\n",
       "    .dataframe thead th {\n",
       "        text-align: right;\n",
       "    }\n",
       "</style>\n",
       "<table border=\"1\" class=\"dataframe\">\n",
       "  <thead>\n",
       "    <tr style=\"text-align: right;\">\n",
       "      <th></th>\n",
       "      <th>tutorial_start_time</th>\n",
       "      <th>user_id</th>\n",
       "      <th>level_choice_time</th>\n",
       "    </tr>\n",
       "  </thead>\n",
       "  <tbody>\n",
       "    <tr>\n",
       "      <th>0</th>\n",
       "      <td>2018-01-01 15:00:51</td>\n",
       "      <td>27835</td>\n",
       "      <td>2018-01-01 20:37:22</td>\n",
       "    </tr>\n",
       "    <tr>\n",
       "      <th>1</th>\n",
       "      <td>2018-01-01 19:11:36</td>\n",
       "      <td>27839</td>\n",
       "      <td>2018-01-01 22:37:50</td>\n",
       "    </tr>\n",
       "    <tr>\n",
       "      <th>2</th>\n",
       "      <td>2018-01-02 02:07:07</td>\n",
       "      <td>27840</td>\n",
       "      <td>2018-01-02 05:18:42</td>\n",
       "    </tr>\n",
       "    <tr>\n",
       "      <th>3</th>\n",
       "      <td>2018-01-02 03:03:44</td>\n",
       "      <td>27845</td>\n",
       "      <td>2018-01-02 06:19:18</td>\n",
       "    </tr>\n",
       "    <tr>\n",
       "      <th>4</th>\n",
       "      <td>2018-01-02 07:08:00</td>\n",
       "      <td>27845</td>\n",
       "      <td>2018-01-02 06:19:18</td>\n",
       "    </tr>\n",
       "    <tr>\n",
       "      <th>...</th>\n",
       "      <td>...</td>\n",
       "      <td>...</td>\n",
       "      <td>...</td>\n",
       "    </tr>\n",
       "    <tr>\n",
       "      <th>12681</th>\n",
       "      <td>2018-12-31 07:14:38</td>\n",
       "      <td>47732</td>\n",
       "      <td>2018-12-31 09:59:00</td>\n",
       "    </tr>\n",
       "    <tr>\n",
       "      <th>12682</th>\n",
       "      <td>2018-12-31 10:21:11</td>\n",
       "      <td>47747</td>\n",
       "      <td>2018-12-31 12:24:40</td>\n",
       "    </tr>\n",
       "    <tr>\n",
       "      <th>12683</th>\n",
       "      <td>2018-12-31 20:54:56</td>\n",
       "      <td>47753</td>\n",
       "      <td>2018-12-31 22:36:19</td>\n",
       "    </tr>\n",
       "    <tr>\n",
       "      <th>12684</th>\n",
       "      <td>2019-01-01 00:08:14</td>\n",
       "      <td>47755</td>\n",
       "      <td>2019-01-01 05:04:52</td>\n",
       "    </tr>\n",
       "    <tr>\n",
       "      <th>12685</th>\n",
       "      <td>2019-01-01 03:26:18</td>\n",
       "      <td>47756</td>\n",
       "      <td>2019-01-01 05:42:11</td>\n",
       "    </tr>\n",
       "  </tbody>\n",
       "</table>\n",
       "<p>12686 rows × 3 columns</p>\n",
       "</div>"
      ],
      "text/plain": [
       "      tutorial_start_time  user_id   level_choice_time\n",
       "0     2018-01-01 15:00:51    27835 2018-01-01 20:37:22\n",
       "1     2018-01-01 19:11:36    27839 2018-01-01 22:37:50\n",
       "2     2018-01-02 02:07:07    27840 2018-01-02 05:18:42\n",
       "3     2018-01-02 03:03:44    27845 2018-01-02 06:19:18\n",
       "4     2018-01-02 07:08:00    27845 2018-01-02 06:19:18\n",
       "...                   ...      ...                 ...\n",
       "12681 2018-12-31 07:14:38    47732 2018-12-31 09:59:00\n",
       "12682 2018-12-31 10:21:11    47747 2018-12-31 12:24:40\n",
       "12683 2018-12-31 20:54:56    47753 2018-12-31 22:36:19\n",
       "12684 2019-01-01 00:08:14    47755 2019-01-01 05:04:52\n",
       "12685 2019-01-01 03:26:18    47756 2019-01-01 05:42:11\n",
       "\n",
       "[12686 rows x 3 columns]"
      ]
     },
     "execution_count": 35,
     "metadata": {},
     "output_type": "execute_result"
    }
   ],
   "source": [
    "# 2. Объединим данные двух датафреймов с помощью функции merge(), по параметру user_id \n",
    "# - оставим только такие идентификаторы пользователей, которые есть в обоих датафреймах:\n",
    "\n",
    "merged_level_tutorial_start = tutorial_start2018.merge(level_choice2018, on = 'user_id', how = 'inner')\n",
    "merged_level_tutorial_start"
   ]
  },
  {
   "cell_type": "code",
   "execution_count": 36,
   "metadata": {},
   "outputs": [
    {
     "data": {
      "text/html": [
       "<div>\n",
       "<style scoped>\n",
       "    .dataframe tbody tr th:only-of-type {\n",
       "        vertical-align: middle;\n",
       "    }\n",
       "\n",
       "    .dataframe tbody tr th {\n",
       "        vertical-align: top;\n",
       "    }\n",
       "\n",
       "    .dataframe thead th {\n",
       "        text-align: right;\n",
       "    }\n",
       "</style>\n",
       "<table border=\"1\" class=\"dataframe\">\n",
       "  <thead>\n",
       "    <tr style=\"text-align: right;\">\n",
       "      <th></th>\n",
       "      <th>tutorial_start_time</th>\n",
       "      <th>user_id</th>\n",
       "      <th>level_choice_time</th>\n",
       "      <th>time_delta</th>\n",
       "    </tr>\n",
       "  </thead>\n",
       "  <tbody>\n",
       "    <tr>\n",
       "      <th>0</th>\n",
       "      <td>2018-01-02 07:08:00</td>\n",
       "      <td>27845</td>\n",
       "      <td>2018-01-02 06:19:18</td>\n",
       "      <td>0 days 00:48:42</td>\n",
       "    </tr>\n",
       "    <tr>\n",
       "      <th>1</th>\n",
       "      <td>2018-01-02 09:01:51</td>\n",
       "      <td>27842</td>\n",
       "      <td>2018-01-02 08:46:03</td>\n",
       "      <td>0 days 00:15:48</td>\n",
       "    </tr>\n",
       "    <tr>\n",
       "      <th>2</th>\n",
       "      <td>2018-01-02 18:08:01</td>\n",
       "      <td>27842</td>\n",
       "      <td>2018-01-02 08:46:03</td>\n",
       "      <td>0 days 09:21:58</td>\n",
       "    </tr>\n",
       "    <tr>\n",
       "      <th>3</th>\n",
       "      <td>2018-01-02 20:34:31</td>\n",
       "      <td>27852</td>\n",
       "      <td>2018-01-02 18:39:44</td>\n",
       "      <td>0 days 01:54:47</td>\n",
       "    </tr>\n",
       "    <tr>\n",
       "      <th>4</th>\n",
       "      <td>2018-01-03 11:17:41</td>\n",
       "      <td>27862</td>\n",
       "      <td>2018-01-03 04:19:32</td>\n",
       "      <td>0 days 06:58:09</td>\n",
       "    </tr>\n",
       "    <tr>\n",
       "      <th>...</th>\n",
       "      <td>...</td>\n",
       "      <td>...</td>\n",
       "      <td>...</td>\n",
       "      <td>...</td>\n",
       "    </tr>\n",
       "    <tr>\n",
       "      <th>2787</th>\n",
       "      <td>2018-12-28 17:28:42</td>\n",
       "      <td>47635</td>\n",
       "      <td>2018-12-28 11:43:38</td>\n",
       "      <td>0 days 05:45:04</td>\n",
       "    </tr>\n",
       "    <tr>\n",
       "      <th>2788</th>\n",
       "      <td>2018-12-28 21:44:13</td>\n",
       "      <td>47657</td>\n",
       "      <td>2018-12-28 21:25:49</td>\n",
       "      <td>0 days 00:18:24</td>\n",
       "    </tr>\n",
       "    <tr>\n",
       "      <th>2789</th>\n",
       "      <td>2018-12-28 21:53:06</td>\n",
       "      <td>47657</td>\n",
       "      <td>2018-12-28 21:25:49</td>\n",
       "      <td>0 days 00:27:17</td>\n",
       "    </tr>\n",
       "    <tr>\n",
       "      <th>2790</th>\n",
       "      <td>2018-12-29 22:50:57</td>\n",
       "      <td>47711</td>\n",
       "      <td>2018-12-29 21:23:23</td>\n",
       "      <td>0 days 01:27:34</td>\n",
       "    </tr>\n",
       "    <tr>\n",
       "      <th>2791</th>\n",
       "      <td>2018-12-31 02:47:53</td>\n",
       "      <td>47724</td>\n",
       "      <td>2018-12-30 13:21:12</td>\n",
       "      <td>0 days 13:26:41</td>\n",
       "    </tr>\n",
       "  </tbody>\n",
       "</table>\n",
       "<p>2792 rows × 4 columns</p>\n",
       "</div>"
      ],
      "text/plain": [
       "     tutorial_start_time  user_id   level_choice_time      time_delta\n",
       "0    2018-01-02 07:08:00    27845 2018-01-02 06:19:18 0 days 00:48:42\n",
       "1    2018-01-02 09:01:51    27842 2018-01-02 08:46:03 0 days 00:15:48\n",
       "2    2018-01-02 18:08:01    27842 2018-01-02 08:46:03 0 days 09:21:58\n",
       "3    2018-01-02 20:34:31    27852 2018-01-02 18:39:44 0 days 01:54:47\n",
       "4    2018-01-03 11:17:41    27862 2018-01-03 04:19:32 0 days 06:58:09\n",
       "...                  ...      ...                 ...             ...\n",
       "2787 2018-12-28 17:28:42    47635 2018-12-28 11:43:38 0 days 05:45:04\n",
       "2788 2018-12-28 21:44:13    47657 2018-12-28 21:25:49 0 days 00:18:24\n",
       "2789 2018-12-28 21:53:06    47657 2018-12-28 21:25:49 0 days 00:27:17\n",
       "2790 2018-12-29 22:50:57    47711 2018-12-29 21:23:23 0 days 01:27:34\n",
       "2791 2018-12-31 02:47:53    47724 2018-12-30 13:21:12 0 days 13:26:41\n",
       "\n",
       "[2792 rows x 4 columns]"
      ]
     },
     "execution_count": 36,
     "metadata": {},
     "output_type": "execute_result"
    }
   ],
   "source": [
    "# 3. Посчитаем разницу между временем начала обучения tutorial_start_time и временем выбора уровня сложности level_choice_time, \n",
    "# из которых оставим только положительные значения, отражающие пользователей начинавших обучение после выбора уровня сложности:\n",
    "\n",
    "merged_level_tutorial_start['time_delta'] = merged_level_tutorial_start['tutorial_start_time'] - merged_level_tutorial_start['level_choice_time']\n",
    "users_started_tutorial_after_level = merged_level_tutorial_start[merged_level_tutorial_start.time_delta > pd.Timedelta(0)].reset_index(drop = True)\n",
    "users_started_tutorial_after_level"
   ]
  },
  {
   "cell_type": "markdown",
   "metadata": {},
   "source": [
    "# 3.2"
   ]
  },
  {
   "cell_type": "code",
   "execution_count": 37,
   "metadata": {},
   "outputs": [
    {
     "data": {
      "text/html": [
       "<div>\n",
       "<style scoped>\n",
       "    .dataframe tbody tr th:only-of-type {\n",
       "        vertical-align: middle;\n",
       "    }\n",
       "\n",
       "    .dataframe tbody tr th {\n",
       "        vertical-align: top;\n",
       "    }\n",
       "\n",
       "    .dataframe thead th {\n",
       "        text-align: right;\n",
       "    }\n",
       "</style>\n",
       "<table border=\"1\" class=\"dataframe\">\n",
       "  <thead>\n",
       "    <tr style=\"text-align: right;\">\n",
       "      <th></th>\n",
       "      <th>tutorial_started_after_level_choice</th>\n",
       "      <th>users_quantity</th>\n",
       "    </tr>\n",
       "  </thead>\n",
       "  <tbody>\n",
       "    <tr>\n",
       "      <th>0</th>\n",
       "      <td>1</td>\n",
       "      <td>819</td>\n",
       "    </tr>\n",
       "    <tr>\n",
       "      <th>1</th>\n",
       "      <td>2</td>\n",
       "      <td>229</td>\n",
       "    </tr>\n",
       "    <tr>\n",
       "      <th>2</th>\n",
       "      <td>3</td>\n",
       "      <td>116</td>\n",
       "    </tr>\n",
       "    <tr>\n",
       "      <th>3</th>\n",
       "      <td>4</td>\n",
       "      <td>77</td>\n",
       "    </tr>\n",
       "    <tr>\n",
       "      <th>4</th>\n",
       "      <td>5</td>\n",
       "      <td>57</td>\n",
       "    </tr>\n",
       "    <tr>\n",
       "      <th>5</th>\n",
       "      <td>6</td>\n",
       "      <td>51</td>\n",
       "    </tr>\n",
       "    <tr>\n",
       "      <th>6</th>\n",
       "      <td>7</td>\n",
       "      <td>28</td>\n",
       "    </tr>\n",
       "    <tr>\n",
       "      <th>7</th>\n",
       "      <td>8</td>\n",
       "      <td>9</td>\n",
       "    </tr>\n",
       "  </tbody>\n",
       "</table>\n",
       "</div>"
      ],
      "text/plain": [
       "   tutorial_started_after_level_choice  users_quantity\n",
       "0                                    1             819\n",
       "1                                    2             229\n",
       "2                                    3             116\n",
       "3                                    4              77\n",
       "4                                    5              57\n",
       "5                                    6              51\n",
       "6                                    7              28\n",
       "7                                    8               9"
      ]
     },
     "metadata": {},
     "output_type": "display_data"
    },
    {
     "data": {
      "text/plain": [
       "1386"
      ]
     },
     "metadata": {},
     "output_type": "display_data"
    }
   ],
   "source": [
    "# 1. Подсчитаем уникальное количество пользователей, которое приходится на определённое число (повторных) обучений, \n",
    "# начатых после выбора уровня сложности:\n",
    "\n",
    "tutorial_started_after_level = users_started_tutorial_after_level.user_id.value_counts().reset_index().rename(columns = {'user_id': 'tutorial_started_after_level_choice'})\n",
    "users_per_tutorial_started_after_level = tutorial_started_after_level.groupby(['tutorial_started_after_level_choice']).count()\n",
    "users_per_tutorial_started_after_level = users_per_tutorial_started_after_level.rename(columns = {'index': 'users_quantity'})\n",
    "users_per_tutorial_started_after_level.reset_index(inplace = True)\n",
    "display(users_per_tutorial_started_after_level)\n",
    "display(users_per_tutorial_started_after_level['users_quantity'].sum())"
   ]
  },
  {
   "cell_type": "code",
   "execution_count": 38,
   "metadata": {},
   "outputs": [
    {
     "data": {
      "text/plain": [
       "Text(0, 0.5, 'Количество пользователей')"
      ]
     },
     "execution_count": 38,
     "metadata": {},
     "output_type": "execute_result"
    },
    {
     "data": {
      "image/png": "[encoded data removed]",
      "text/plain": [
       "<Figure size 432x288 with 1 Axes>"
      ]
     },
     "metadata": {
      "needs_background": "light"
     },
     "output_type": "display_data"
    }
   ],
   "source": [
    "# 2. Отобразим зависимость количества пользователей от числа повторно начинаемых обучений после выбора уровня сложности:\n",
    "## используем метод 'scatter'\n",
    "\n",
    "fig = plt.figure()\n",
    "axes = fig.add_axes([0, 0, 1, 1])\n",
    "axes.scatter(x = users_per_tutorial_started_after_level['tutorial_started_after_level_choice'], y = users_per_tutorial_started_after_level['users_quantity'], marker = 'o')\n",
    "axes.set_title('Число повторных обучений vs Количество пользователей')\n",
    "axes.set_xlabel('Число повторных обучений после выбора уровня сложности')\n",
    "axes.set_ylabel('Количество пользователей')"
   ]
  },
  {
   "cell_type": "markdown",
   "metadata": {},
   "source": [
    "3. \n",
    "На графике выше, мы наблюдаем обратную зависимость количества пользователей от числа повторно начинаемых обучений после выбора уровня сложности. Можно сделать \n",
    "### предварительный вывод 1:\n",
    "- положительным моментом является то, что по мере обращения к обучению после выбора уровня сложности количество таких пользователей линейно снижается, т.е. с каждым новым обучением процесс взаимодействия с игрой становится всё более прозрачным.\n",
    "- отрицательным моментом является то, что в процессе взаимодействия с игрой явно присутствует фактор \"недопонимания\" работы с приложением, о чём нам говорит наличие повторных обучений."
   ]
  },
  {
   "cell_type": "markdown",
   "metadata": {},
   "source": [
    "# 3.3"
   ]
  },
  {
   "cell_type": "code",
   "execution_count": 39,
   "metadata": {},
   "outputs": [
    {
     "data": {
      "text/html": [
       "<div>\n",
       "<style scoped>\n",
       "    .dataframe tbody tr th:only-of-type {\n",
       "        vertical-align: middle;\n",
       "    }\n",
       "\n",
       "    .dataframe tbody tr th {\n",
       "        vertical-align: top;\n",
       "    }\n",
       "\n",
       "    .dataframe thead th {\n",
       "        text-align: right;\n",
       "    }\n",
       "</style>\n",
       "<table border=\"1\" class=\"dataframe\">\n",
       "  <thead>\n",
       "    <tr style=\"text-align: right;\">\n",
       "      <th></th>\n",
       "      <th>tutorial_start_time</th>\n",
       "    </tr>\n",
       "    <tr>\n",
       "      <th>user_id</th>\n",
       "      <th></th>\n",
       "    </tr>\n",
       "  </thead>\n",
       "  <tbody>\n",
       "    <tr>\n",
       "      <th>27842</th>\n",
       "      <td>2</td>\n",
       "    </tr>\n",
       "    <tr>\n",
       "      <th>27845</th>\n",
       "      <td>1</td>\n",
       "    </tr>\n",
       "    <tr>\n",
       "      <th>27852</th>\n",
       "      <td>1</td>\n",
       "    </tr>\n",
       "    <tr>\n",
       "      <th>27862</th>\n",
       "      <td>4</td>\n",
       "    </tr>\n",
       "    <tr>\n",
       "      <th>27876</th>\n",
       "      <td>1</td>\n",
       "    </tr>\n",
       "    <tr>\n",
       "      <th>...</th>\n",
       "      <td>...</td>\n",
       "    </tr>\n",
       "    <tr>\n",
       "      <th>47595</th>\n",
       "      <td>1</td>\n",
       "    </tr>\n",
       "    <tr>\n",
       "      <th>47635</th>\n",
       "      <td>1</td>\n",
       "    </tr>\n",
       "    <tr>\n",
       "      <th>47657</th>\n",
       "      <td>2</td>\n",
       "    </tr>\n",
       "    <tr>\n",
       "      <th>47711</th>\n",
       "      <td>1</td>\n",
       "    </tr>\n",
       "    <tr>\n",
       "      <th>47724</th>\n",
       "      <td>1</td>\n",
       "    </tr>\n",
       "  </tbody>\n",
       "</table>\n",
       "<p>1386 rows × 1 columns</p>\n",
       "</div>"
      ],
      "text/plain": [
       "         tutorial_start_time\n",
       "user_id                     \n",
       "27842                      2\n",
       "27845                      1\n",
       "27852                      1\n",
       "27862                      4\n",
       "27876                      1\n",
       "...                      ...\n",
       "47595                      1\n",
       "47635                      1\n",
       "47657                      2\n",
       "47711                      1\n",
       "47724                      1\n",
       "\n",
       "[1386 rows x 1 columns]"
      ]
     },
     "metadata": {},
     "output_type": "display_data"
    },
    {
     "data": {
      "text/html": [
       "<div>\n",
       "<style scoped>\n",
       "    .dataframe tbody tr th:only-of-type {\n",
       "        vertical-align: middle;\n",
       "    }\n",
       "\n",
       "    .dataframe tbody tr th {\n",
       "        vertical-align: top;\n",
       "    }\n",
       "\n",
       "    .dataframe thead th {\n",
       "        text-align: right;\n",
       "    }\n",
       "</style>\n",
       "<table border=\"1\" class=\"dataframe\">\n",
       "  <thead>\n",
       "    <tr style=\"text-align: right;\">\n",
       "      <th></th>\n",
       "      <th>user_id</th>\n",
       "      <th>tutorial_start_time</th>\n",
       "    </tr>\n",
       "  </thead>\n",
       "  <tbody>\n",
       "    <tr>\n",
       "      <th>0</th>\n",
       "      <td>32773</td>\n",
       "      <td>0</td>\n",
       "    </tr>\n",
       "    <tr>\n",
       "      <th>1</th>\n",
       "      <td>32775</td>\n",
       "      <td>0</td>\n",
       "    </tr>\n",
       "    <tr>\n",
       "      <th>2</th>\n",
       "      <td>32778</td>\n",
       "      <td>0</td>\n",
       "    </tr>\n",
       "    <tr>\n",
       "      <th>3</th>\n",
       "      <td>32779</td>\n",
       "      <td>0</td>\n",
       "    </tr>\n",
       "    <tr>\n",
       "      <th>4</th>\n",
       "      <td>32784</td>\n",
       "      <td>0</td>\n",
       "    </tr>\n",
       "    <tr>\n",
       "      <th>...</th>\n",
       "      <td>...</td>\n",
       "      <td>...</td>\n",
       "    </tr>\n",
       "    <tr>\n",
       "      <th>6951</th>\n",
       "      <td>32755</td>\n",
       "      <td>0</td>\n",
       "    </tr>\n",
       "    <tr>\n",
       "      <th>6952</th>\n",
       "      <td>32759</td>\n",
       "      <td>0</td>\n",
       "    </tr>\n",
       "    <tr>\n",
       "      <th>6953</th>\n",
       "      <td>32763</td>\n",
       "      <td>0</td>\n",
       "    </tr>\n",
       "    <tr>\n",
       "      <th>6954</th>\n",
       "      <td>32764</td>\n",
       "      <td>0</td>\n",
       "    </tr>\n",
       "    <tr>\n",
       "      <th>6955</th>\n",
       "      <td>32767</td>\n",
       "      <td>0</td>\n",
       "    </tr>\n",
       "  </tbody>\n",
       "</table>\n",
       "<p>6956 rows × 2 columns</p>\n",
       "</div>"
      ],
      "text/plain": [
       "      user_id  tutorial_start_time\n",
       "0       32773                    0\n",
       "1       32775                    0\n",
       "2       32778                    0\n",
       "3       32779                    0\n",
       "4       32784                    0\n",
       "...       ...                  ...\n",
       "6951    32755                    0\n",
       "6952    32759                    0\n",
       "6953    32763                    0\n",
       "6954    32764                    0\n",
       "6955    32767                    0\n",
       "\n",
       "[6956 rows x 2 columns]"
      ]
     },
     "metadata": {},
     "output_type": "display_data"
    }
   ],
   "source": [
    "# 1.\n",
    "# Пользователи, которые начинали обучение после выбора уровня сложности:\n",
    "\n",
    "users_with_tutorials_after_level = users_started_tutorial_after_level[['user_id', 'tutorial_start_time']].groupby(['user_id']).count()\n",
    "unique_users_with_tutorials_after_level = users_with_tutorials_after_level.index.unique()\n",
    "display(users_with_tutorials_after_level)\n",
    "\n",
    "\n",
    "# Теперь, добавим в наш датафрейм пользователей, которые ни разу не начинали обучение после выбора уровня сложности:\n",
    "## уберём из множества всех уникальных пользователей когда-либо начинавших обучение (См. 1.1 > set_users_with_started_tutorial)\n",
    "## всех пользователей, начинавших обучение после выбора уровня сложности (unique_users_with_tutorials_after_level)\n",
    "\n",
    "level_choice_users = total_events[total_events['event_type'] == 'level_choice']['user_id'].unique()\n",
    "#set_users_with_started_tutorial = set(total_events[total_events['event_type'] == 'tutorial_start']['user_id'].unique())\n",
    "set_users_wo_tut_after_lev = (set(level_choice_users) - set(unique_users_with_tutorials_after_level))\n",
    "users_wo_tutorials_after_level = pd.DataFrame(set_users_wo_tut_after_lev, columns = ['user_id'])\n",
    "users_wo_tutorials_after_level['tutorial_start_time'] = 0\n",
    "display(users_wo_tutorials_after_level)"
   ]
  },
  {
   "cell_type": "code",
   "execution_count": 40,
   "metadata": {},
   "outputs": [
    {
     "data": {
      "text/html": [
       "<div>\n",
       "<style scoped>\n",
       "    .dataframe tbody tr th:only-of-type {\n",
       "        vertical-align: middle;\n",
       "    }\n",
       "\n",
       "    .dataframe tbody tr th {\n",
       "        vertical-align: top;\n",
       "    }\n",
       "\n",
       "    .dataframe thead th {\n",
       "        text-align: right;\n",
       "    }\n",
       "</style>\n",
       "<table border=\"1\" class=\"dataframe\">\n",
       "  <thead>\n",
       "    <tr style=\"text-align: right;\">\n",
       "      <th></th>\n",
       "      <th>Количество начатых обучений</th>\n",
       "      <th>Количество пользователей</th>\n",
       "    </tr>\n",
       "  </thead>\n",
       "  <tbody>\n",
       "    <tr>\n",
       "      <th>0</th>\n",
       "      <td>1</td>\n",
       "      <td>819</td>\n",
       "    </tr>\n",
       "    <tr>\n",
       "      <th>1</th>\n",
       "      <td>2</td>\n",
       "      <td>229</td>\n",
       "    </tr>\n",
       "    <tr>\n",
       "      <th>2</th>\n",
       "      <td>3</td>\n",
       "      <td>116</td>\n",
       "    </tr>\n",
       "    <tr>\n",
       "      <th>3</th>\n",
       "      <td>4</td>\n",
       "      <td>77</td>\n",
       "    </tr>\n",
       "    <tr>\n",
       "      <th>4</th>\n",
       "      <td>5</td>\n",
       "      <td>57</td>\n",
       "    </tr>\n",
       "    <tr>\n",
       "      <th>5</th>\n",
       "      <td>6</td>\n",
       "      <td>51</td>\n",
       "    </tr>\n",
       "    <tr>\n",
       "      <th>6</th>\n",
       "      <td>7</td>\n",
       "      <td>28</td>\n",
       "    </tr>\n",
       "    <tr>\n",
       "      <th>7</th>\n",
       "      <td>8</td>\n",
       "      <td>9</td>\n",
       "    </tr>\n",
       "  </tbody>\n",
       "</table>\n",
       "</div>"
      ],
      "text/plain": [
       "   Количество начатых обучений  Количество пользователей\n",
       "0                            1                       819\n",
       "1                            2                       229\n",
       "2                            3                       116\n",
       "3                            4                        77\n",
       "4                            5                        57\n",
       "5                            6                        51\n",
       "6                            7                        28\n",
       "7                            8                         9"
      ]
     },
     "metadata": {},
     "output_type": "display_data"
    },
    {
     "name": "stdout",
     "output_type": "stream",
     "text": [
      "Всего пользователей, которые начинали\n",
      "обучение после выбора уровня сложности:       1386\n"
     ]
    },
    {
     "data": {
      "text/html": [
       "<div>\n",
       "<style scoped>\n",
       "    .dataframe tbody tr th:only-of-type {\n",
       "        vertical-align: middle;\n",
       "    }\n",
       "\n",
       "    .dataframe tbody tr th {\n",
       "        vertical-align: top;\n",
       "    }\n",
       "\n",
       "    .dataframe thead th {\n",
       "        text-align: right;\n",
       "    }\n",
       "</style>\n",
       "<table border=\"1\" class=\"dataframe\">\n",
       "  <thead>\n",
       "    <tr style=\"text-align: right;\">\n",
       "      <th></th>\n",
       "      <th>Количество начатых обучений</th>\n",
       "      <th>Количество пользователей</th>\n",
       "    </tr>\n",
       "  </thead>\n",
       "  <tbody>\n",
       "    <tr>\n",
       "      <th>0</th>\n",
       "      <td>0</td>\n",
       "      <td>6956</td>\n",
       "    </tr>\n",
       "    <tr>\n",
       "      <th>1</th>\n",
       "      <td>1</td>\n",
       "      <td>819</td>\n",
       "    </tr>\n",
       "    <tr>\n",
       "      <th>2</th>\n",
       "      <td>2</td>\n",
       "      <td>229</td>\n",
       "    </tr>\n",
       "    <tr>\n",
       "      <th>3</th>\n",
       "      <td>3</td>\n",
       "      <td>116</td>\n",
       "    </tr>\n",
       "    <tr>\n",
       "      <th>4</th>\n",
       "      <td>4</td>\n",
       "      <td>77</td>\n",
       "    </tr>\n",
       "    <tr>\n",
       "      <th>5</th>\n",
       "      <td>5</td>\n",
       "      <td>57</td>\n",
       "    </tr>\n",
       "    <tr>\n",
       "      <th>6</th>\n",
       "      <td>6</td>\n",
       "      <td>51</td>\n",
       "    </tr>\n",
       "    <tr>\n",
       "      <th>7</th>\n",
       "      <td>7</td>\n",
       "      <td>28</td>\n",
       "    </tr>\n",
       "    <tr>\n",
       "      <th>8</th>\n",
       "      <td>8</td>\n",
       "      <td>9</td>\n",
       "    </tr>\n",
       "  </tbody>\n",
       "</table>\n",
       "</div>"
      ],
      "text/plain": [
       "   Количество начатых обучений  Количество пользователей\n",
       "0                            0                      6956\n",
       "1                            1                       819\n",
       "2                            2                       229\n",
       "3                            3                       116\n",
       "4                            4                        77\n",
       "5                            5                        57\n",
       "6                            6                        51\n",
       "7                            7                        28\n",
       "8                            8                         9"
      ]
     },
     "metadata": {},
     "output_type": "display_data"
    },
    {
     "name": "stdout",
     "output_type": "stream",
     "text": [
      "Всего пользователей, которые начинали и не\n",
      "начинали обучение после выб. уров. сложности: 8342\n"
     ]
    }
   ],
   "source": [
    "# 2. Рассмотрим раздельно и вместе пользователей, которые начинали и не начинали свои обучения после выбора уровня сложности:\n",
    "#    проанализируем количество пользователей по числу соответствующих обучений:\n",
    "\n",
    "## Рассмотрим раздельно пользователей, которые начинали свои обучения после выбора уровня сложности:\n",
    "\n",
    "started_tutorials_after_level = users_with_tutorials_after_level.rename(columns = {'tutorial_start_time': 'Количество начатых обучений'})\n",
    "started_tutorials_after_level['user_id'] = started_tutorials_after_level.index\n",
    "started_tutorials_after_level_users = started_tutorials_after_level.groupby(['Количество начатых обучений']).count().rename(columns = {'user_id': 'Количество пользователей'}).reset_index()\n",
    "display(started_tutorials_after_level_users)\n",
    "print('Всего пользователей, которые начинали\\nобучение после выбора уровня сложности:       {:}'.format(started_tutorials_after_level_users['Количество пользователей'].sum()))\n",
    "\n",
    "## Объединим полученные датафреймы и определим пользователей, которые начинали и не начинали свои обучения после выбора\n",
    "##  уровня сложности:\n",
    "\n",
    "all_tutorials_after_level = pd.concat([users_with_tutorials_after_level, users_wo_tutorials_after_level]).rename(columns = {'tutorial_start_time': 'Количество начатых обучений'})\n",
    "all_tutorials_after_level['user_id'] = all_tutorials_after_level.index\n",
    "all_tutorials_after_level_users = all_tutorials_after_level.groupby(['Количество начатых обучений']).count().rename(columns = {'user_id': 'Количество пользователей'}).reset_index()\n",
    "display(all_tutorials_after_level_users)\n",
    "print('Всего пользователей, которые начинали и не\\nначинали обучение после выб. уров. сложности: {:}'.format(all_tutorials_after_level_users['Количество пользователей'].sum()))"
   ]
  },
  {
   "cell_type": "code",
   "execution_count": 41,
   "metadata": {},
   "outputs": [
    {
     "data": {
      "text/html": [
       "<div>\n",
       "<style scoped>\n",
       "    .dataframe tbody tr th:only-of-type {\n",
       "        vertical-align: middle;\n",
       "    }\n",
       "\n",
       "    .dataframe tbody tr th {\n",
       "        vertical-align: top;\n",
       "    }\n",
       "\n",
       "    .dataframe thead th {\n",
       "        text-align: right;\n",
       "    }\n",
       "</style>\n",
       "<table border=\"1\" class=\"dataframe\">\n",
       "  <thead>\n",
       "    <tr style=\"text-align: right;\">\n",
       "      <th></th>\n",
       "      <th>Количество начатых обучений</th>\n",
       "      <th>Количество пользователей</th>\n",
       "      <th>Процент пользователей</th>\n",
       "    </tr>\n",
       "  </thead>\n",
       "  <tbody>\n",
       "    <tr>\n",
       "      <th>0</th>\n",
       "      <td>1</td>\n",
       "      <td>819</td>\n",
       "      <td>0.590909</td>\n",
       "    </tr>\n",
       "    <tr>\n",
       "      <th>1</th>\n",
       "      <td>2</td>\n",
       "      <td>229</td>\n",
       "      <td>0.165224</td>\n",
       "    </tr>\n",
       "    <tr>\n",
       "      <th>2</th>\n",
       "      <td>3</td>\n",
       "      <td>116</td>\n",
       "      <td>0.083694</td>\n",
       "    </tr>\n",
       "    <tr>\n",
       "      <th>3</th>\n",
       "      <td>4</td>\n",
       "      <td>77</td>\n",
       "      <td>0.055556</td>\n",
       "    </tr>\n",
       "    <tr>\n",
       "      <th>4</th>\n",
       "      <td>5</td>\n",
       "      <td>57</td>\n",
       "      <td>0.041126</td>\n",
       "    </tr>\n",
       "    <tr>\n",
       "      <th>5</th>\n",
       "      <td>6</td>\n",
       "      <td>51</td>\n",
       "      <td>0.036797</td>\n",
       "    </tr>\n",
       "    <tr>\n",
       "      <th>6</th>\n",
       "      <td>7</td>\n",
       "      <td>28</td>\n",
       "      <td>0.020202</td>\n",
       "    </tr>\n",
       "    <tr>\n",
       "      <th>7</th>\n",
       "      <td>8</td>\n",
       "      <td>9</td>\n",
       "      <td>0.006494</td>\n",
       "    </tr>\n",
       "  </tbody>\n",
       "</table>\n",
       "</div>"
      ],
      "text/plain": [
       "   Количество начатых обучений  Количество пользователей  \\\n",
       "0                            1                       819   \n",
       "1                            2                       229   \n",
       "2                            3                       116   \n",
       "3                            4                        77   \n",
       "4                            5                        57   \n",
       "5                            6                        51   \n",
       "6                            7                        28   \n",
       "7                            8                         9   \n",
       "\n",
       "   Процент пользователей  \n",
       "0               0.590909  \n",
       "1               0.165224  \n",
       "2               0.083694  \n",
       "3               0.055556  \n",
       "4               0.041126  \n",
       "5               0.036797  \n",
       "6               0.020202  \n",
       "7               0.006494  "
      ]
     },
     "metadata": {},
     "output_type": "display_data"
    },
    {
     "name": "stdout",
     "output_type": "stream",
     "text": [
      "Всего пользователей, которые начинали\n",
      "обучение после выбора уровня сложности:       1386\n"
     ]
    },
    {
     "data": {
      "text/html": [
       "<div>\n",
       "<style scoped>\n",
       "    .dataframe tbody tr th:only-of-type {\n",
       "        vertical-align: middle;\n",
       "    }\n",
       "\n",
       "    .dataframe tbody tr th {\n",
       "        vertical-align: top;\n",
       "    }\n",
       "\n",
       "    .dataframe thead th {\n",
       "        text-align: right;\n",
       "    }\n",
       "</style>\n",
       "<table border=\"1\" class=\"dataframe\">\n",
       "  <thead>\n",
       "    <tr style=\"text-align: right;\">\n",
       "      <th></th>\n",
       "      <th>Количество начатых обучений</th>\n",
       "      <th>Количество пользователей</th>\n",
       "      <th>Процент пользователей</th>\n",
       "    </tr>\n",
       "  </thead>\n",
       "  <tbody>\n",
       "    <tr>\n",
       "      <th>0</th>\n",
       "      <td>0</td>\n",
       "      <td>6956</td>\n",
       "      <td>0.833853</td>\n",
       "    </tr>\n",
       "    <tr>\n",
       "      <th>1</th>\n",
       "      <td>1</td>\n",
       "      <td>819</td>\n",
       "      <td>0.098178</td>\n",
       "    </tr>\n",
       "    <tr>\n",
       "      <th>2</th>\n",
       "      <td>2</td>\n",
       "      <td>229</td>\n",
       "      <td>0.027451</td>\n",
       "    </tr>\n",
       "    <tr>\n",
       "      <th>3</th>\n",
       "      <td>3</td>\n",
       "      <td>116</td>\n",
       "      <td>0.013906</td>\n",
       "    </tr>\n",
       "    <tr>\n",
       "      <th>4</th>\n",
       "      <td>4</td>\n",
       "      <td>77</td>\n",
       "      <td>0.009230</td>\n",
       "    </tr>\n",
       "    <tr>\n",
       "      <th>5</th>\n",
       "      <td>5</td>\n",
       "      <td>57</td>\n",
       "      <td>0.006833</td>\n",
       "    </tr>\n",
       "    <tr>\n",
       "      <th>6</th>\n",
       "      <td>6</td>\n",
       "      <td>51</td>\n",
       "      <td>0.006114</td>\n",
       "    </tr>\n",
       "    <tr>\n",
       "      <th>7</th>\n",
       "      <td>7</td>\n",
       "      <td>28</td>\n",
       "      <td>0.003357</td>\n",
       "    </tr>\n",
       "    <tr>\n",
       "      <th>8</th>\n",
       "      <td>8</td>\n",
       "      <td>9</td>\n",
       "      <td>0.001079</td>\n",
       "    </tr>\n",
       "  </tbody>\n",
       "</table>\n",
       "</div>"
      ],
      "text/plain": [
       "   Количество начатых обучений  Количество пользователей  \\\n",
       "0                            0                      6956   \n",
       "1                            1                       819   \n",
       "2                            2                       229   \n",
       "3                            3                       116   \n",
       "4                            4                        77   \n",
       "5                            5                        57   \n",
       "6                            6                        51   \n",
       "7                            7                        28   \n",
       "8                            8                         9   \n",
       "\n",
       "   Процент пользователей  \n",
       "0               0.833853  \n",
       "1               0.098178  \n",
       "2               0.027451  \n",
       "3               0.013906  \n",
       "4               0.009230  \n",
       "5               0.006833  \n",
       "6               0.006114  \n",
       "7               0.003357  \n",
       "8               0.001079  "
      ]
     },
     "metadata": {},
     "output_type": "display_data"
    },
    {
     "name": "stdout",
     "output_type": "stream",
     "text": [
      "Всего пользователей, которые начинали и не\n",
      "начинали обучение после выб. уров. сложности: 8342\n"
     ]
    }
   ],
   "source": [
    "# 3. Выразим количество пользователей с числом соответствующих обучений в процентном соотношении от общего количества \n",
    "#    пользователей в каждом датафрейме, добавим колонку ['Процент пользователей']:\n",
    "\n",
    "started_tutorials_after_level_users['Процент пользователей'] = started_tutorials_after_level_users['Количество пользователей']/\\\n",
    "                                                started_tutorials_after_level_users['Количество пользователей'].sum()\n",
    "display(started_tutorials_after_level_users)\n",
    "print('Всего пользователей, которые начинали\\nобучение после выбора уровня сложности:       {:}'.format(started_tutorials_after_level_users['Количество пользователей'].sum()))\n",
    "\n",
    "all_tutorials_after_level_users['Процент пользователей'] = all_tutorials_after_level_users['Количество пользователей']/\\\n",
    "                                                all_tutorials_after_level_users['Количество пользователей'].sum()\n",
    "display(all_tutorials_after_level_users)\n",
    "print('Всего пользователей, которые начинали и не\\nначинали обучение после выб. уров. сложности: {:}'.format(all_tutorials_after_level_users['Количество пользователей'].sum()))"
   ]
  },
  {
   "cell_type": "code",
   "execution_count": 42,
   "metadata": {},
   "outputs": [
    {
     "data": {
      "text/plain": [
       "Text(0.5, 1.0, 'Процентное соотношение пользователей, начинавших обучение n-раз после выбора уровня сложности, где n - это количество начатых обучений')"
      ]
     },
     "execution_count": 42,
     "metadata": {},
     "output_type": "execute_result"
    },
    {
     "data": {
      "image/png": "[encoded data removed]",
      "text/plain": [
       "<Figure size 720x648 with 1 Axes>"
      ]
     },
     "metadata": {},
     "output_type": "display_data"
    }
   ],
   "source": [
    "# 4. Отобразим данные из полученных датафреймов в виде графика с помощью метода subplots > pie():\n",
    "\n",
    "fig2, axes2 = plt.subplots(figsize = (10, 9))\n",
    "axes2.pie(started_tutorials_after_level_users['Количество пользователей'], labels = started_tutorials_after_level_users['Количество начатых обучений'],\\\n",
    "         explode = None, shadow = False, autopct = '%1.1f%%', radius = 1, pctdistance = 1.03, counterclock = False,\\\n",
    "         startangle = 90)\n",
    "axes2.axis('equal')\n",
    "axes2.set_title('Процентное соотношение пользователей, начинавших обучение n-раз после выбора уровня сложности, где n - это количество начатых обучений')"
   ]
  },
  {
   "cell_type": "markdown",
   "metadata": {},
   "source": [
    "5. \n",
    "### Предварительный вывод 2:\n",
    "График выше отображает процентное соотношение количества пользователей сгруппированных по числу начатых обучений к общему количеству пользователей, которые начинали обучение после выбора уровня сложности: данное распределение пользователей с повторными обучениями визуально подкрепляет наш \"предварительный вывод 1\" о наличии в работе с приложением фактора \"недопонимания\", о чём свидетельствуют повторные обучения: пользователи, которые повторно начинают обучение 2-8 раз составляют 40.9% (3-8 раз - почти 25%) от всех пользователей в данной выборке."
   ]
  },
  {
   "cell_type": "code",
   "execution_count": 43,
   "metadata": {},
   "outputs": [
    {
     "data": {
      "application/vnd.plotly.v1+json": {
       "config": {
        "linkText": "Export to plot.ly",
        "plotlyServerURL": "https://plot.ly",
        "showLink": true
       },
       "data": [
        {
         "marker": {
          "color": [
           "darkred",
           "darkred",
           "darkred",
           "darkred",
           "darkred",
           "darkred",
           "darkred",
           "darkred"
          ],
          "line": {
           "width": 1.3
          },
          "size": [
           112,
           39,
           25,
           20,
           17,
           17,
           14,
           12
          ],
          "symbol": "circle"
         },
         "mode": "markers",
         "text": "",
         "type": "scatter",
         "x": [
          1,
          2,
          3,
          4,
          5,
          6,
          7,
          8
         ],
         "y": [
          819,
          229,
          116,
          77,
          57,
          51,
          28,
          9
         ]
        }
       ],
       "layout": {
        "legend": {
         "bgcolor": "#F5F6F9",
         "font": {
          "color": "#4D5663"
         }
        },
        "paper_bgcolor": "#F5F6F9",
        "plot_bgcolor": "#F5F6F9",
        "template": {
         "data": {
          "bar": [
           {
            "error_x": {
             "color": "#2a3f5f"
            },
            "error_y": {
             "color": "#2a3f5f"
            },
            "marker": {
             "line": {
              "color": "#E5ECF6",
              "width": 0.5
             }
            },
            "type": "bar"
           }
          ],
          "barpolar": [
           {
            "marker": {
             "line": {
              "color": "#E5ECF6",
              "width": 0.5
             }
            },
            "type": "barpolar"
           }
          ],
          "carpet": [
           {
            "aaxis": {
             "endlinecolor": "#2a3f5f",
             "gridcolor": "white",
             "linecolor": "white",
             "minorgridcolor": "white",
             "startlinecolor": "#2a3f5f"
            },
            "baxis": {
             "endlinecolor": "#2a3f5f",
             "gridcolor": "white",
             "linecolor": "white",
             "minorgridcolor": "white",
             "startlinecolor": "#2a3f5f"
            },
            "type": "carpet"
           }
          ],
          "choropleth": [
           {
            "colorbar": {
             "outlinewidth": 0,
             "ticks": ""
            },
            "type": "choropleth"
           }
          ],
          "contour": [
           {
            "colorbar": {
             "outlinewidth": 0,
             "ticks": ""
            },
            "colorscale": [
             [
              0,
              "#0d0887"
             ],
             [
              0.1111111111111111,
              "#46039f"
             ],
             [
              0.2222222222222222,
              "#7201a8"
             ],
             [
              0.3333333333333333,
              "#9c179e"
             ],
             [
              0.4444444444444444,
              "#bd3786"
             ],
             [
              0.5555555555555556,
              "#d8576b"
             ],
             [
              0.6666666666666666,
              "#ed7953"
             ],
             [
              0.7777777777777778,
              "#fb9f3a"
             ],
             [
              0.8888888888888888,
              "#fdca26"
             ],
             [
              1,
              "#f0f921"
             ]
            ],
            "type": "contour"
           }
          ],
          "contourcarpet": [
           {
            "colorbar": {
             "outlinewidth": 0,
             "ticks": ""
            },
            "type": "contourcarpet"
           }
          ],
          "heatmap": [
           {
            "colorbar": {
             "outlinewidth": 0,
             "ticks": ""
            },
            "colorscale": [
             [
              0,
              "#0d0887"
             ],
             [
              0.1111111111111111,
              "#46039f"
             ],
             [
              0.2222222222222222,
              "#7201a8"
             ],
             [
              0.3333333333333333,
              "#9c179e"
             ],
             [
              0.4444444444444444,
              "#bd3786"
             ],
             [
              0.5555555555555556,
              "#d8576b"
             ],
             [
              0.6666666666666666,
              "#ed7953"
             ],
             [
              0.7777777777777778,
              "#fb9f3a"
             ],
             [
              0.8888888888888888,
              "#fdca26"
             ],
             [
              1,
              "#f0f921"
             ]
            ],
            "type": "heatmap"
           }
          ],
          "heatmapgl": [
           {
            "colorbar": {
             "outlinewidth": 0,
             "ticks": ""
            },
            "colorscale": [
             [
              0,
              "#0d0887"
             ],
             [
              0.1111111111111111,
              "#46039f"
             ],
             [
              0.2222222222222222,
              "#7201a8"
             ],
             [
              0.3333333333333333,
              "#9c179e"
             ],
             [
              0.4444444444444444,
              "#bd3786"
             ],
             [
              0.5555555555555556,
              "#d8576b"
             ],
             [
              0.6666666666666666,
              "#ed7953"
             ],
             [
              0.7777777777777778,
              "#fb9f3a"
             ],
             [
              0.8888888888888888,
              "#fdca26"
             ],
             [
              1,
              "#f0f921"
             ]
            ],
            "type": "heatmapgl"
           }
          ],
          "histogram": [
           {
            "marker": {
             "colorbar": {
              "outlinewidth": 0,
              "ticks": ""
             }
            },
            "type": "histogram"
           }
          ],
          "histogram2d": [
           {
            "colorbar": {
             "outlinewidth": 0,
             "ticks": ""
            },
            "colorscale": [
             [
              0,
              "#0d0887"
             ],
             [
              0.1111111111111111,
              "#46039f"
             ],
             [
              0.2222222222222222,
              "#7201a8"
             ],
             [
              0.3333333333333333,
              "#9c179e"
             ],
             [
              0.4444444444444444,
              "#bd3786"
             ],
             [
              0.5555555555555556,
              "#d8576b"
             ],
             [
              0.6666666666666666,
              "#ed7953"
             ],
             [
              0.7777777777777778,
              "#fb9f3a"
             ],
             [
              0.8888888888888888,
              "#fdca26"
             ],
             [
              1,
              "#f0f921"
             ]
            ],
            "type": "histogram2d"
           }
          ],
          "histogram2dcontour": [
           {
            "colorbar": {
             "outlinewidth": 0,
             "ticks": ""
            },
            "colorscale": [
             [
              0,
              "#0d0887"
             ],
             [
              0.1111111111111111,
              "#46039f"
             ],
             [
              0.2222222222222222,
              "#7201a8"
             ],
             [
              0.3333333333333333,
              "#9c179e"
             ],
             [
              0.4444444444444444,
              "#bd3786"
             ],
             [
              0.5555555555555556,
              "#d8576b"
             ],
             [
              0.6666666666666666,
              "#ed7953"
             ],
             [
              0.7777777777777778,
              "#fb9f3a"
             ],
             [
              0.8888888888888888,
              "#fdca26"
             ],
             [
              1,
              "#f0f921"
             ]
            ],
            "type": "histogram2dcontour"
           }
          ],
          "mesh3d": [
           {
            "colorbar": {
             "outlinewidth": 0,
             "ticks": ""
            },
            "type": "mesh3d"
           }
          ],
          "parcoords": [
           {
            "line": {
             "colorbar": {
              "outlinewidth": 0,
              "ticks": ""
             }
            },
            "type": "parcoords"
           }
          ],
          "pie": [
           {
            "automargin": true,
            "type": "pie"
           }
          ],
          "scatter": [
           {
            "marker": {
             "colorbar": {
              "outlinewidth": 0,
              "ticks": ""
             }
            },
            "type": "scatter"
           }
          ],
          "scatter3d": [
           {
            "line": {
             "colorbar": {
              "outlinewidth": 0,
              "ticks": ""
             }
            },
            "marker": {
             "colorbar": {
              "outlinewidth": 0,
              "ticks": ""
             }
            },
            "type": "scatter3d"
           }
          ],
          "scattercarpet": [
           {
            "marker": {
             "colorbar": {
              "outlinewidth": 0,
              "ticks": ""
             }
            },
            "type": "scattercarpet"
           }
          ],
          "scattergeo": [
           {
            "marker": {
             "colorbar": {
              "outlinewidth": 0,
              "ticks": ""
             }
            },
            "type": "scattergeo"
           }
          ],
          "scattergl": [
           {
            "marker": {
             "colorbar": {
              "outlinewidth": 0,
              "ticks": ""
             }
            },
            "type": "scattergl"
           }
          ],
          "scattermapbox": [
           {
            "marker": {
             "colorbar": {
              "outlinewidth": 0,
              "ticks": ""
             }
            },
            "type": "scattermapbox"
           }
          ],
          "scatterpolar": [
           {
            "marker": {
             "colorbar": {
              "outlinewidth": 0,
              "ticks": ""
             }
            },
            "type": "scatterpolar"
           }
          ],
          "scatterpolargl": [
           {
            "marker": {
             "colorbar": {
              "outlinewidth": 0,
              "ticks": ""
             }
            },
            "type": "scatterpolargl"
           }
          ],
          "scatterternary": [
           {
            "marker": {
             "colorbar": {
              "outlinewidth": 0,
              "ticks": ""
             }
            },
            "type": "scatterternary"
           }
          ],
          "surface": [
           {
            "colorbar": {
             "outlinewidth": 0,
             "ticks": ""
            },
            "colorscale": [
             [
              0,
              "#0d0887"
             ],
             [
              0.1111111111111111,
              "#46039f"
             ],
             [
              0.2222222222222222,
              "#7201a8"
             ],
             [
              0.3333333333333333,
              "#9c179e"
             ],
             [
              0.4444444444444444,
              "#bd3786"
             ],
             [
              0.5555555555555556,
              "#d8576b"
             ],
             [
              0.6666666666666666,
              "#ed7953"
             ],
             [
              0.7777777777777778,
              "#fb9f3a"
             ],
             [
              0.8888888888888888,
              "#fdca26"
             ],
             [
              1,
              "#f0f921"
             ]
            ],
            "type": "surface"
           }
          ],
          "table": [
           {
            "cells": {
             "fill": {
              "color": "#EBF0F8"
             },
             "line": {
              "color": "white"
             }
            },
            "header": {
             "fill": {
              "color": "#C8D4E3"
             },
             "line": {
              "color": "white"
             }
            },
            "type": "table"
           }
          ]
         },
         "layout": {
          "annotationdefaults": {
           "arrowcolor": "#2a3f5f",
           "arrowhead": 0,
           "arrowwidth": 1
          },
          "autotypenumbers": "strict",
          "coloraxis": {
           "colorbar": {
            "outlinewidth": 0,
            "ticks": ""
           }
          },
          "colorscale": {
           "diverging": [
            [
             0,
             "#8e0152"
            ],
            [
             0.1,
             "#c51b7d"
            ],
            [
             0.2,
             "#de77ae"
            ],
            [
             0.3,
             "#f1b6da"
            ],
            [
             0.4,
             "#fde0ef"
            ],
            [
             0.5,
             "#f7f7f7"
            ],
            [
             0.6,
             "#e6f5d0"
            ],
            [
             0.7,
             "#b8e186"
            ],
            [
             0.8,
             "#7fbc41"
            ],
            [
             0.9,
             "#4d9221"
            ],
            [
             1,
             "#276419"
            ]
           ],
           "sequential": [
            [
             0,
             "#0d0887"
            ],
            [
             0.1111111111111111,
             "#46039f"
            ],
            [
             0.2222222222222222,
             "#7201a8"
            ],
            [
             0.3333333333333333,
             "#9c179e"
            ],
            [
             0.4444444444444444,
             "#bd3786"
            ],
            [
             0.5555555555555556,
             "#d8576b"
            ],
            [
             0.6666666666666666,
             "#ed7953"
            ],
            [
             0.7777777777777778,
             "#fb9f3a"
            ],
            [
             0.8888888888888888,
             "#fdca26"
            ],
            [
             1,
             "#f0f921"
            ]
           ],
           "sequentialminus": [
            [
             0,
             "#0d0887"
            ],
            [
             0.1111111111111111,
             "#46039f"
            ],
            [
             0.2222222222222222,
             "#7201a8"
            ],
            [
             0.3333333333333333,
             "#9c179e"
            ],
            [
             0.4444444444444444,
             "#bd3786"
            ],
            [
             0.5555555555555556,
             "#d8576b"
            ],
            [
             0.6666666666666666,
             "#ed7953"
            ],
            [
             0.7777777777777778,
             "#fb9f3a"
            ],
            [
             0.8888888888888888,
             "#fdca26"
            ],
            [
             1,
             "#f0f921"
            ]
           ]
          },
          "colorway": [
           "#636efa",
           "#EF553B",
           "#00cc96",
           "#ab63fa",
           "#FFA15A",
           "#19d3f3",
           "#FF6692",
           "#B6E880",
           "#FF97FF",
           "#FECB52"
          ],
          "font": {
           "color": "#2a3f5f"
          },
          "geo": {
           "bgcolor": "white",
           "lakecolor": "white",
           "landcolor": "#E5ECF6",
           "showlakes": true,
           "showland": true,
           "subunitcolor": "white"
          },
          "hoverlabel": {
           "align": "left"
          },
          "hovermode": "closest",
          "mapbox": {
           "style": "light"
          },
          "paper_bgcolor": "white",
          "plot_bgcolor": "#E5ECF6",
          "polar": {
           "angularaxis": {
            "gridcolor": "white",
            "linecolor": "white",
            "ticks": ""
           },
           "bgcolor": "#E5ECF6",
           "radialaxis": {
            "gridcolor": "white",
            "linecolor": "white",
            "ticks": ""
           }
          },
          "scene": {
           "xaxis": {
            "backgroundcolor": "#E5ECF6",
            "gridcolor": "white",
            "gridwidth": 2,
            "linecolor": "white",
            "showbackground": true,
            "ticks": "",
            "zerolinecolor": "white"
           },
           "yaxis": {
            "backgroundcolor": "#E5ECF6",
            "gridcolor": "white",
            "gridwidth": 2,
            "linecolor": "white",
            "showbackground": true,
            "ticks": "",
            "zerolinecolor": "white"
           },
           "zaxis": {
            "backgroundcolor": "#E5ECF6",
            "gridcolor": "white",
            "gridwidth": 2,
            "linecolor": "white",
            "showbackground": true,
            "ticks": "",
            "zerolinecolor": "white"
           }
          },
          "shapedefaults": {
           "line": {
            "color": "#2a3f5f"
           }
          },
          "ternary": {
           "aaxis": {
            "gridcolor": "white",
            "linecolor": "white",
            "ticks": ""
           },
           "baxis": {
            "gridcolor": "white",
            "linecolor": "white",
            "ticks": ""
           },
           "bgcolor": "#E5ECF6",
           "caxis": {
            "gridcolor": "white",
            "linecolor": "white",
            "ticks": ""
           }
          },
          "title": {
           "x": 0.05
          },
          "xaxis": {
           "automargin": true,
           "gridcolor": "white",
           "linecolor": "white",
           "ticks": "",
           "title": {
            "standoff": 15
           },
           "zerolinecolor": "white",
           "zerolinewidth": 2
          },
          "yaxis": {
           "automargin": true,
           "gridcolor": "white",
           "linecolor": "white",
           "ticks": "",
           "title": {
            "standoff": 15
           },
           "zerolinecolor": "white",
           "zerolinewidth": 2
          }
         }
        },
        "title": {
         "font": {
          "color": "#4D5663"
         }
        },
        "xaxis": {
         "gridcolor": "#E1E5ED",
         "showgrid": true,
         "tickfont": {
          "color": "#4D5663"
         },
         "title": {
          "font": {
           "color": "#4D5663"
          },
          "text": ""
         },
         "zerolinecolor": "#E1E5ED"
        },
        "yaxis": {
         "gridcolor": "#E1E5ED",
         "showgrid": true,
         "tickfont": {
          "color": "#4D5663"
         },
         "title": {
          "font": {
           "color": "#4D5663"
          },
          "text": ""
         },
         "zerolinecolor": "#E1E5ED"
        }
       }
      },
      "text/html": [
       "<div>                            <div id=\"a4d1ab77-918d-4dc1-b81e-807ef9cbee00\" class=\"plotly-graph-div\" style=\"height:525px; width:100%;\"></div>            <script type=\"text/javascript\">                require([\"plotly\"], function(Plotly) {                    window.PLOTLYENV=window.PLOTLYENV || {};\n",
       "                    window.PLOTLYENV.BASE_URL='https://plot.ly';                                    if (document.getElementById(\"a4d1ab77-918d-4dc1-b81e-807ef9cbee00\")) {                    Plotly.newPlot(                        \"a4d1ab77-918d-4dc1-b81e-807ef9cbee00\",                        [{\"marker\": {\"color\": [\"darkred\", \"darkred\", \"darkred\", \"darkred\", \"darkred\", \"darkred\", \"darkred\", \"darkred\"], \"line\": {\"width\": 1.3}, \"size\": [112, 39, 25, 20, 17, 17, 14, 12], \"symbol\": \"circle\"}, \"mode\": \"markers\", \"text\": \"\", \"type\": \"scatter\", \"x\": [1, 2, 3, 4, 5, 6, 7, 8], \"y\": [819, 229, 116, 77, 57, 51, 28, 9]}],                        {\"legend\": {\"bgcolor\": \"#F5F6F9\", \"font\": {\"color\": \"#4D5663\"}}, \"paper_bgcolor\": \"#F5F6F9\", \"plot_bgcolor\": \"#F5F6F9\", \"template\": {\"data\": {\"bar\": [{\"error_x\": {\"color\": \"#2a3f5f\"}, \"error_y\": {\"color\": \"#2a3f5f\"}, \"marker\": {\"line\": {\"color\": \"#E5ECF6\", \"width\": 0.5}}, \"type\": \"bar\"}], \"barpolar\": [{\"marker\": {\"line\": {\"color\": \"#E5ECF6\", \"width\": 0.5}}, \"type\": \"barpolar\"}], \"carpet\": [{\"aaxis\": {\"endlinecolor\": \"#2a3f5f\", \"gridcolor\": \"white\", \"linecolor\": \"white\", \"minorgridcolor\": \"white\", \"startlinecolor\": \"#2a3f5f\"}, \"baxis\": {\"endlinecolor\": \"#2a3f5f\", \"gridcolor\": \"white\", \"linecolor\": \"white\", \"minorgridcolor\": \"white\", \"startlinecolor\": \"#2a3f5f\"}, \"type\": \"carpet\"}], \"choropleth\": [{\"colorbar\": {\"outlinewidth\": 0, \"ticks\": \"\"}, \"type\": \"choropleth\"}], \"contour\": [{\"colorbar\": {\"outlinewidth\": 0, \"ticks\": \"\"}, \"colorscale\": [[0.0, \"#0d0887\"], [0.1111111111111111, \"#46039f\"], [0.2222222222222222, \"#7201a8\"], [0.3333333333333333, \"#9c179e\"], [0.4444444444444444, \"#bd3786\"], [0.5555555555555556, \"#d8576b\"], [0.6666666666666666, \"#ed7953\"], [0.7777777777777778, \"#fb9f3a\"], [0.8888888888888888, \"#fdca26\"], [1.0, \"#f0f921\"]], \"type\": \"contour\"}], \"contourcarpet\": [{\"colorbar\": {\"outlinewidth\": 0, \"ticks\": \"\"}, \"type\": \"contourcarpet\"}], \"heatmap\": [{\"colorbar\": {\"outlinewidth\": 0, \"ticks\": \"\"}, \"colorscale\": [[0.0, \"#0d0887\"], [0.1111111111111111, \"#46039f\"], [0.2222222222222222, \"#7201a8\"], [0.3333333333333333, \"#9c179e\"], [0.4444444444444444, \"#bd3786\"], [0.5555555555555556, \"#d8576b\"], [0.6666666666666666, \"#ed7953\"], [0.7777777777777778, \"#fb9f3a\"], [0.8888888888888888, \"#fdca26\"], [1.0, \"#f0f921\"]], \"type\": \"heatmap\"}], \"heatmapgl\": [{\"colorbar\": {\"outlinewidth\": 0, \"ticks\": \"\"}, \"colorscale\": [[0.0, \"#0d0887\"], [0.1111111111111111, \"#46039f\"], [0.2222222222222222, \"#7201a8\"], [0.3333333333333333, \"#9c179e\"], [0.4444444444444444, \"#bd3786\"], [0.5555555555555556, \"#d8576b\"], [0.6666666666666666, \"#ed7953\"], [0.7777777777777778, \"#fb9f3a\"], [0.8888888888888888, \"#fdca26\"], [1.0, \"#f0f921\"]], \"type\": \"heatmapgl\"}], \"histogram\": [{\"marker\": {\"colorbar\": {\"outlinewidth\": 0, \"ticks\": \"\"}}, \"type\": \"histogram\"}], \"histogram2d\": [{\"colorbar\": {\"outlinewidth\": 0, \"ticks\": \"\"}, \"colorscale\": [[0.0, \"#0d0887\"], [0.1111111111111111, \"#46039f\"], [0.2222222222222222, \"#7201a8\"], [0.3333333333333333, \"#9c179e\"], [0.4444444444444444, \"#bd3786\"], [0.5555555555555556, \"#d8576b\"], [0.6666666666666666, \"#ed7953\"], [0.7777777777777778, \"#fb9f3a\"], [0.8888888888888888, \"#fdca26\"], [1.0, \"#f0f921\"]], \"type\": \"histogram2d\"}], \"histogram2dcontour\": [{\"colorbar\": {\"outlinewidth\": 0, \"ticks\": \"\"}, \"colorscale\": [[0.0, \"#0d0887\"], [0.1111111111111111, \"#46039f\"], [0.2222222222222222, \"#7201a8\"], [0.3333333333333333, \"#9c179e\"], [0.4444444444444444, \"#bd3786\"], [0.5555555555555556, \"#d8576b\"], [0.6666666666666666, \"#ed7953\"], [0.7777777777777778, \"#fb9f3a\"], [0.8888888888888888, \"#fdca26\"], [1.0, \"#f0f921\"]], \"type\": \"histogram2dcontour\"}], \"mesh3d\": [{\"colorbar\": {\"outlinewidth\": 0, \"ticks\": \"\"}, \"type\": \"mesh3d\"}], \"parcoords\": [{\"line\": {\"colorbar\": {\"outlinewidth\": 0, \"ticks\": \"\"}}, \"type\": \"parcoords\"}], \"pie\": [{\"automargin\": true, \"type\": \"pie\"}], \"scatter\": [{\"marker\": {\"colorbar\": {\"outlinewidth\": 0, \"ticks\": \"\"}}, \"type\": \"scatter\"}], \"scatter3d\": [{\"line\": {\"colorbar\": {\"outlinewidth\": 0, \"ticks\": \"\"}}, \"marker\": {\"colorbar\": {\"outlinewidth\": 0, \"ticks\": \"\"}}, \"type\": \"scatter3d\"}], \"scattercarpet\": [{\"marker\": {\"colorbar\": {\"outlinewidth\": 0, \"ticks\": \"\"}}, \"type\": \"scattercarpet\"}], \"scattergeo\": [{\"marker\": {\"colorbar\": {\"outlinewidth\": 0, \"ticks\": \"\"}}, \"type\": \"scattergeo\"}], \"scattergl\": [{\"marker\": {\"colorbar\": {\"outlinewidth\": 0, \"ticks\": \"\"}}, \"type\": \"scattergl\"}], \"scattermapbox\": [{\"marker\": {\"colorbar\": {\"outlinewidth\": 0, \"ticks\": \"\"}}, \"type\": \"scattermapbox\"}], \"scatterpolar\": [{\"marker\": {\"colorbar\": {\"outlinewidth\": 0, \"ticks\": \"\"}}, \"type\": \"scatterpolar\"}], \"scatterpolargl\": [{\"marker\": {\"colorbar\": {\"outlinewidth\": 0, \"ticks\": \"\"}}, \"type\": \"scatterpolargl\"}], \"scatterternary\": [{\"marker\": {\"colorbar\": {\"outlinewidth\": 0, \"ticks\": \"\"}}, \"type\": \"scatterternary\"}], \"surface\": [{\"colorbar\": {\"outlinewidth\": 0, \"ticks\": \"\"}, \"colorscale\": [[0.0, \"#0d0887\"], [0.1111111111111111, \"#46039f\"], [0.2222222222222222, \"#7201a8\"], [0.3333333333333333, \"#9c179e\"], [0.4444444444444444, \"#bd3786\"], [0.5555555555555556, \"#d8576b\"], [0.6666666666666666, \"#ed7953\"], [0.7777777777777778, \"#fb9f3a\"], [0.8888888888888888, \"#fdca26\"], [1.0, \"#f0f921\"]], \"type\": \"surface\"}], \"table\": [{\"cells\": {\"fill\": {\"color\": \"#EBF0F8\"}, \"line\": {\"color\": \"white\"}}, \"header\": {\"fill\": {\"color\": \"#C8D4E3\"}, \"line\": {\"color\": \"white\"}}, \"type\": \"table\"}]}, \"layout\": {\"annotationdefaults\": {\"arrowcolor\": \"#2a3f5f\", \"arrowhead\": 0, \"arrowwidth\": 1}, \"autotypenumbers\": \"strict\", \"coloraxis\": {\"colorbar\": {\"outlinewidth\": 0, \"ticks\": \"\"}}, \"colorscale\": {\"diverging\": [[0, \"#8e0152\"], [0.1, \"#c51b7d\"], [0.2, \"#de77ae\"], [0.3, \"#f1b6da\"], [0.4, \"#fde0ef\"], [0.5, \"#f7f7f7\"], [0.6, \"#e6f5d0\"], [0.7, \"#b8e186\"], [0.8, \"#7fbc41\"], [0.9, \"#4d9221\"], [1, \"#276419\"]], \"sequential\": [[0.0, \"#0d0887\"], [0.1111111111111111, \"#46039f\"], [0.2222222222222222, \"#7201a8\"], [0.3333333333333333, \"#9c179e\"], [0.4444444444444444, \"#bd3786\"], [0.5555555555555556, \"#d8576b\"], [0.6666666666666666, \"#ed7953\"], [0.7777777777777778, \"#fb9f3a\"], [0.8888888888888888, \"#fdca26\"], [1.0, \"#f0f921\"]], \"sequentialminus\": [[0.0, \"#0d0887\"], [0.1111111111111111, \"#46039f\"], [0.2222222222222222, \"#7201a8\"], [0.3333333333333333, \"#9c179e\"], [0.4444444444444444, \"#bd3786\"], [0.5555555555555556, \"#d8576b\"], [0.6666666666666666, \"#ed7953\"], [0.7777777777777778, \"#fb9f3a\"], [0.8888888888888888, \"#fdca26\"], [1.0, \"#f0f921\"]]}, \"colorway\": [\"#636efa\", \"#EF553B\", \"#00cc96\", \"#ab63fa\", \"#FFA15A\", \"#19d3f3\", \"#FF6692\", \"#B6E880\", \"#FF97FF\", \"#FECB52\"], \"font\": {\"color\": \"#2a3f5f\"}, \"geo\": {\"bgcolor\": \"white\", \"lakecolor\": \"white\", \"landcolor\": \"#E5ECF6\", \"showlakes\": true, \"showland\": true, \"subunitcolor\": \"white\"}, \"hoverlabel\": {\"align\": \"left\"}, \"hovermode\": \"closest\", \"mapbox\": {\"style\": \"light\"}, \"paper_bgcolor\": \"white\", \"plot_bgcolor\": \"#E5ECF6\", \"polar\": {\"angularaxis\": {\"gridcolor\": \"white\", \"linecolor\": \"white\", \"ticks\": \"\"}, \"bgcolor\": \"#E5ECF6\", \"radialaxis\": {\"gridcolor\": \"white\", \"linecolor\": \"white\", \"ticks\": \"\"}}, \"scene\": {\"xaxis\": {\"backgroundcolor\": \"#E5ECF6\", \"gridcolor\": \"white\", \"gridwidth\": 2, \"linecolor\": \"white\", \"showbackground\": true, \"ticks\": \"\", \"zerolinecolor\": \"white\"}, \"yaxis\": {\"backgroundcolor\": \"#E5ECF6\", \"gridcolor\": \"white\", \"gridwidth\": 2, \"linecolor\": \"white\", \"showbackground\": true, \"ticks\": \"\", \"zerolinecolor\": \"white\"}, \"zaxis\": {\"backgroundcolor\": \"#E5ECF6\", \"gridcolor\": \"white\", \"gridwidth\": 2, \"linecolor\": \"white\", \"showbackground\": true, \"ticks\": \"\", \"zerolinecolor\": \"white\"}}, \"shapedefaults\": {\"line\": {\"color\": \"#2a3f5f\"}}, \"ternary\": {\"aaxis\": {\"gridcolor\": \"white\", \"linecolor\": \"white\", \"ticks\": \"\"}, \"baxis\": {\"gridcolor\": \"white\", \"linecolor\": \"white\", \"ticks\": \"\"}, \"bgcolor\": \"#E5ECF6\", \"caxis\": {\"gridcolor\": \"white\", \"linecolor\": \"white\", \"ticks\": \"\"}}, \"title\": {\"x\": 0.05}, \"xaxis\": {\"automargin\": true, \"gridcolor\": \"white\", \"linecolor\": \"white\", \"ticks\": \"\", \"title\": {\"standoff\": 15}, \"zerolinecolor\": \"white\", \"zerolinewidth\": 2}, \"yaxis\": {\"automargin\": true, \"gridcolor\": \"white\", \"linecolor\": \"white\", \"ticks\": \"\", \"title\": {\"standoff\": 15}, \"zerolinecolor\": \"white\", \"zerolinewidth\": 2}}}, \"title\": {\"font\": {\"color\": \"#4D5663\"}}, \"xaxis\": {\"gridcolor\": \"#E1E5ED\", \"showgrid\": true, \"tickfont\": {\"color\": \"#4D5663\"}, \"title\": {\"font\": {\"color\": \"#4D5663\"}, \"text\": \"\"}, \"zerolinecolor\": \"#E1E5ED\"}, \"yaxis\": {\"gridcolor\": \"#E1E5ED\", \"showgrid\": true, \"tickfont\": {\"color\": \"#4D5663\"}, \"title\": {\"font\": {\"color\": \"#4D5663\"}, \"text\": \"\"}, \"zerolinecolor\": \"#E1E5ED\"}},                        {\"showLink\": true, \"linkText\": \"Export to plot.ly\", \"plotlyServerURL\": \"https://plot.ly\", \"responsive\": true}                    ).then(function(){\n",
       "                            \n",
       "var gd = document.getElementById('a4d1ab77-918d-4dc1-b81e-807ef9cbee00');\n",
       "var x = new MutationObserver(function (mutations, observer) {{\n",
       "        var display = window.getComputedStyle(gd).display;\n",
       "        if (!display || display === 'none') {{\n",
       "            console.log([gd, 'removed!']);\n",
       "            Plotly.purge(gd);\n",
       "            observer.disconnect();\n",
       "        }}\n",
       "}});\n",
       "\n",
       "// Listen for the removal of the full notebook cells\n",
       "var notebookContainer = gd.closest('#notebook-container');\n",
       "if (notebookContainer) {{\n",
       "    x.observe(notebookContainer, {childList: true});\n",
       "}}\n",
       "\n",
       "// Listen for the clearing of the current output cell\n",
       "var outputEl = gd.closest('.output');\n",
       "if (outputEl) {{\n",
       "    x.observe(outputEl, {childList: true});\n",
       "}}\n",
       "\n",
       "                        })                };                });            </script>        </div>"
      ]
     },
     "metadata": {},
     "output_type": "display_data"
    }
   ],
   "source": [
    "# 6. Отобразим данные раздельного датафрейма с пользователями, начинавшими обучение после выбора уровня сложности (iplot):\n",
    "\n",
    "started_tutorials_after_level_users.iplot(kind = 'bubble', x = 'Количество начатых обучений', y = 'Количество пользователей', size = 'Процент пользователей', color = 'darkred')"
   ]
  },
  {
   "cell_type": "markdown",
   "metadata": {},
   "source": [
    "7. \n",
    "### Предварительный вывод 3:\n",
    "На графике выше мы дополнительно видим, что большинство - 819 (59%) из рассматриваемых 1386 пользователей, которые начали первое обучение после выбора уровня сложности проходят обучение один раз, после чего большинство пользователей предположительно осваивают процесс взаимодействия с игрой, т.к. количество пользователей с повторными обучениями заметно снижается. Однако, совокупное количество пользователей с повторными обучениями (2-8) составляет 567 человек (41%), что может говорит нам о необходимости оптимизировать работу пользователя с приложением."
   ]
  },
  {
   "cell_type": "code",
   "execution_count": 44,
   "metadata": {},
   "outputs": [
    {
     "data": {
      "application/vnd.plotly.v1+json": {
       "config": {
        "linkText": "Export to plot.ly",
        "plotlyServerURL": "https://plot.ly",
        "showLink": true
       },
       "data": [
        {
         "marker": {
          "color": [
           "darkgreen",
           "darkred",
           "darkred",
           "darkred",
           "darkred",
           "darkred",
           "darkred",
           "darkred",
           "darkred"
          ],
          "line": {
           "width": 1.3
          },
          "size": [
           112,
           23,
           15,
           13,
           12,
           12,
           12,
           12,
           12
          ],
          "symbol": "circle"
         },
         "mode": "markers",
         "text": "",
         "type": "scatter",
         "x": [
          0,
          1,
          2,
          3,
          4,
          5,
          6,
          7,
          8
         ],
         "y": [
          6956,
          819,
          229,
          116,
          77,
          57,
          51,
          28,
          9
         ]
        }
       ],
       "layout": {
        "legend": {
         "bgcolor": "#F5F6F9",
         "font": {
          "color": "#4D5663"
         }
        },
        "paper_bgcolor": "#F5F6F9",
        "plot_bgcolor": "#F5F6F9",
        "template": {
         "data": {
          "bar": [
           {
            "error_x": {
             "color": "#2a3f5f"
            },
            "error_y": {
             "color": "#2a3f5f"
            },
            "marker": {
             "line": {
              "color": "#E5ECF6",
              "width": 0.5
             }
            },
            "type": "bar"
           }
          ],
          "barpolar": [
           {
            "marker": {
             "line": {
              "color": "#E5ECF6",
              "width": 0.5
             }
            },
            "type": "barpolar"
           }
          ],
          "carpet": [
           {
            "aaxis": {
             "endlinecolor": "#2a3f5f",
             "gridcolor": "white",
             "linecolor": "white",
             "minorgridcolor": "white",
             "startlinecolor": "#2a3f5f"
            },
            "baxis": {
             "endlinecolor": "#2a3f5f",
             "gridcolor": "white",
             "linecolor": "white",
             "minorgridcolor": "white",
             "startlinecolor": "#2a3f5f"
            },
            "type": "carpet"
           }
          ],
          "choropleth": [
           {
            "colorbar": {
             "outlinewidth": 0,
             "ticks": ""
            },
            "type": "choropleth"
           }
          ],
          "contour": [
           {
            "colorbar": {
             "outlinewidth": 0,
             "ticks": ""
            },
            "colorscale": [
             [
              0,
              "#0d0887"
             ],
             [
              0.1111111111111111,
              "#46039f"
             ],
             [
              0.2222222222222222,
              "#7201a8"
             ],
             [
              0.3333333333333333,
              "#9c179e"
             ],
             [
              0.4444444444444444,
              "#bd3786"
             ],
             [
              0.5555555555555556,
              "#d8576b"
             ],
             [
              0.6666666666666666,
              "#ed7953"
             ],
             [
              0.7777777777777778,
              "#fb9f3a"
             ],
             [
              0.8888888888888888,
              "#fdca26"
             ],
             [
              1,
              "#f0f921"
             ]
            ],
            "type": "contour"
           }
          ],
          "contourcarpet": [
           {
            "colorbar": {
             "outlinewidth": 0,
             "ticks": ""
            },
            "type": "contourcarpet"
           }
          ],
          "heatmap": [
           {
            "colorbar": {
             "outlinewidth": 0,
             "ticks": ""
            },
            "colorscale": [
             [
              0,
              "#0d0887"
             ],
             [
              0.1111111111111111,
              "#46039f"
             ],
             [
              0.2222222222222222,
              "#7201a8"
             ],
             [
              0.3333333333333333,
              "#9c179e"
             ],
             [
              0.4444444444444444,
              "#bd3786"
             ],
             [
              0.5555555555555556,
              "#d8576b"
             ],
             [
              0.6666666666666666,
              "#ed7953"
             ],
             [
              0.7777777777777778,
              "#fb9f3a"
             ],
             [
              0.8888888888888888,
              "#fdca26"
             ],
             [
              1,
              "#f0f921"
             ]
            ],
            "type": "heatmap"
           }
          ],
          "heatmapgl": [
           {
            "colorbar": {
             "outlinewidth": 0,
             "ticks": ""
            },
            "colorscale": [
             [
              0,
              "#0d0887"
             ],
             [
              0.1111111111111111,
              "#46039f"
             ],
             [
              0.2222222222222222,
              "#7201a8"
             ],
             [
              0.3333333333333333,
              "#9c179e"
             ],
             [
              0.4444444444444444,
              "#bd3786"
             ],
             [
              0.5555555555555556,
              "#d8576b"
             ],
             [
              0.6666666666666666,
              "#ed7953"
             ],
             [
              0.7777777777777778,
              "#fb9f3a"
             ],
             [
              0.8888888888888888,
              "#fdca26"
             ],
             [
              1,
              "#f0f921"
             ]
            ],
            "type": "heatmapgl"
           }
          ],
          "histogram": [
           {
            "marker": {
             "colorbar": {
              "outlinewidth": 0,
              "ticks": ""
             }
            },
            "type": "histogram"
           }
          ],
          "histogram2d": [
           {
            "colorbar": {
             "outlinewidth": 0,
             "ticks": ""
            },
            "colorscale": [
             [
              0,
              "#0d0887"
             ],
             [
              0.1111111111111111,
              "#46039f"
             ],
             [
              0.2222222222222222,
              "#7201a8"
             ],
             [
              0.3333333333333333,
              "#9c179e"
             ],
             [
              0.4444444444444444,
              "#bd3786"
             ],
             [
              0.5555555555555556,
              "#d8576b"
             ],
             [
              0.6666666666666666,
              "#ed7953"
             ],
             [
              0.7777777777777778,
              "#fb9f3a"
             ],
             [
              0.8888888888888888,
              "#fdca26"
             ],
             [
              1,
              "#f0f921"
             ]
            ],
            "type": "histogram2d"
           }
          ],
          "histogram2dcontour": [
           {
            "colorbar": {
             "outlinewidth": 0,
             "ticks": ""
            },
            "colorscale": [
             [
              0,
              "#0d0887"
             ],
             [
              0.1111111111111111,
              "#46039f"
             ],
             [
              0.2222222222222222,
              "#7201a8"
             ],
             [
              0.3333333333333333,
              "#9c179e"
             ],
             [
              0.4444444444444444,
              "#bd3786"
             ],
             [
              0.5555555555555556,
              "#d8576b"
             ],
             [
              0.6666666666666666,
              "#ed7953"
             ],
             [
              0.7777777777777778,
              "#fb9f3a"
             ],
             [
              0.8888888888888888,
              "#fdca26"
             ],
             [
              1,
              "#f0f921"
             ]
            ],
            "type": "histogram2dcontour"
           }
          ],
          "mesh3d": [
           {
            "colorbar": {
             "outlinewidth": 0,
             "ticks": ""
            },
            "type": "mesh3d"
           }
          ],
          "parcoords": [
           {
            "line": {
             "colorbar": {
              "outlinewidth": 0,
              "ticks": ""
             }
            },
            "type": "parcoords"
           }
          ],
          "pie": [
           {
            "automargin": true,
            "type": "pie"
           }
          ],
          "scatter": [
           {
            "marker": {
             "colorbar": {
              "outlinewidth": 0,
              "ticks": ""
             }
            },
            "type": "scatter"
           }
          ],
          "scatter3d": [
           {
            "line": {
             "colorbar": {
              "outlinewidth": 0,
              "ticks": ""
             }
            },
            "marker": {
             "colorbar": {
              "outlinewidth": 0,
              "ticks": ""
             }
            },
            "type": "scatter3d"
           }
          ],
          "scattercarpet": [
           {
            "marker": {
             "colorbar": {
              "outlinewidth": 0,
              "ticks": ""
             }
            },
            "type": "scattercarpet"
           }
          ],
          "scattergeo": [
           {
            "marker": {
             "colorbar": {
              "outlinewidth": 0,
              "ticks": ""
             }
            },
            "type": "scattergeo"
           }
          ],
          "scattergl": [
           {
            "marker": {
             "colorbar": {
              "outlinewidth": 0,
              "ticks": ""
             }
            },
            "type": "scattergl"
           }
          ],
          "scattermapbox": [
           {
            "marker": {
             "colorbar": {
              "outlinewidth": 0,
              "ticks": ""
             }
            },
            "type": "scattermapbox"
           }
          ],
          "scatterpolar": [
           {
            "marker": {
             "colorbar": {
              "outlinewidth": 0,
              "ticks": ""
             }
            },
            "type": "scatterpolar"
           }
          ],
          "scatterpolargl": [
           {
            "marker": {
             "colorbar": {
              "outlinewidth": 0,
              "ticks": ""
             }
            },
            "type": "scatterpolargl"
           }
          ],
          "scatterternary": [
           {
            "marker": {
             "colorbar": {
              "outlinewidth": 0,
              "ticks": ""
             }
            },
            "type": "scatterternary"
           }
          ],
          "surface": [
           {
            "colorbar": {
             "outlinewidth": 0,
             "ticks": ""
            },
            "colorscale": [
             [
              0,
              "#0d0887"
             ],
             [
              0.1111111111111111,
              "#46039f"
             ],
             [
              0.2222222222222222,
              "#7201a8"
             ],
             [
              0.3333333333333333,
              "#9c179e"
             ],
             [
              0.4444444444444444,
              "#bd3786"
             ],
             [
              0.5555555555555556,
              "#d8576b"
             ],
             [
              0.6666666666666666,
              "#ed7953"
             ],
             [
              0.7777777777777778,
              "#fb9f3a"
             ],
             [
              0.8888888888888888,
              "#fdca26"
             ],
             [
              1,
              "#f0f921"
             ]
            ],
            "type": "surface"
           }
          ],
          "table": [
           {
            "cells": {
             "fill": {
              "color": "#EBF0F8"
             },
             "line": {
              "color": "white"
             }
            },
            "header": {
             "fill": {
              "color": "#C8D4E3"
             },
             "line": {
              "color": "white"
             }
            },
            "type": "table"
           }
          ]
         },
         "layout": {
          "annotationdefaults": {
           "arrowcolor": "#2a3f5f",
           "arrowhead": 0,
           "arrowwidth": 1
          },
          "autotypenumbers": "strict",
          "coloraxis": {
           "colorbar": {
            "outlinewidth": 0,
            "ticks": ""
           }
          },
          "colorscale": {
           "diverging": [
            [
             0,
             "#8e0152"
            ],
            [
             0.1,
             "#c51b7d"
            ],
            [
             0.2,
             "#de77ae"
            ],
            [
             0.3,
             "#f1b6da"
            ],
            [
             0.4,
             "#fde0ef"
            ],
            [
             0.5,
             "#f7f7f7"
            ],
            [
             0.6,
             "#e6f5d0"
            ],
            [
             0.7,
             "#b8e186"
            ],
            [
             0.8,
             "#7fbc41"
            ],
            [
             0.9,
             "#4d9221"
            ],
            [
             1,
             "#276419"
            ]
           ],
           "sequential": [
            [
             0,
             "#0d0887"
            ],
            [
             0.1111111111111111,
             "#46039f"
            ],
            [
             0.2222222222222222,
             "#7201a8"
            ],
            [
             0.3333333333333333,
             "#9c179e"
            ],
            [
             0.4444444444444444,
             "#bd3786"
            ],
            [
             0.5555555555555556,
             "#d8576b"
            ],
            [
             0.6666666666666666,
             "#ed7953"
            ],
            [
             0.7777777777777778,
             "#fb9f3a"
            ],
            [
             0.8888888888888888,
             "#fdca26"
            ],
            [
             1,
             "#f0f921"
            ]
           ],
           "sequentialminus": [
            [
             0,
             "#0d0887"
            ],
            [
             0.1111111111111111,
             "#46039f"
            ],
            [
             0.2222222222222222,
             "#7201a8"
            ],
            [
             0.3333333333333333,
             "#9c179e"
            ],
            [
             0.4444444444444444,
             "#bd3786"
            ],
            [
             0.5555555555555556,
             "#d8576b"
            ],
            [
             0.6666666666666666,
             "#ed7953"
            ],
            [
             0.7777777777777778,
             "#fb9f3a"
            ],
            [
             0.8888888888888888,
             "#fdca26"
            ],
            [
             1,
             "#f0f921"
            ]
           ]
          },
          "colorway": [
           "#636efa",
           "#EF553B",
           "#00cc96",
           "#ab63fa",
           "#FFA15A",
           "#19d3f3",
           "#FF6692",
           "#B6E880",
           "#FF97FF",
           "#FECB52"
          ],
          "font": {
           "color": "#2a3f5f"
          },
          "geo": {
           "bgcolor": "white",
           "lakecolor": "white",
           "landcolor": "#E5ECF6",
           "showlakes": true,
           "showland": true,
           "subunitcolor": "white"
          },
          "hoverlabel": {
           "align": "left"
          },
          "hovermode": "closest",
          "mapbox": {
           "style": "light"
          },
          "paper_bgcolor": "white",
          "plot_bgcolor": "#E5ECF6",
          "polar": {
           "angularaxis": {
            "gridcolor": "white",
            "linecolor": "white",
            "ticks": ""
           },
           "bgcolor": "#E5ECF6",
           "radialaxis": {
            "gridcolor": "white",
            "linecolor": "white",
            "ticks": ""
           }
          },
          "scene": {
           "xaxis": {
            "backgroundcolor": "#E5ECF6",
            "gridcolor": "white",
            "gridwidth": 2,
            "linecolor": "white",
            "showbackground": true,
            "ticks": "",
            "zerolinecolor": "white"
           },
           "yaxis": {
            "backgroundcolor": "#E5ECF6",
            "gridcolor": "white",
            "gridwidth": 2,
            "linecolor": "white",
            "showbackground": true,
            "ticks": "",
            "zerolinecolor": "white"
           },
           "zaxis": {
            "backgroundcolor": "#E5ECF6",
            "gridcolor": "white",
            "gridwidth": 2,
            "linecolor": "white",
            "showbackground": true,
            "ticks": "",
            "zerolinecolor": "white"
           }
          },
          "shapedefaults": {
           "line": {
            "color": "#2a3f5f"
           }
          },
          "ternary": {
           "aaxis": {
            "gridcolor": "white",
            "linecolor": "white",
            "ticks": ""
           },
           "baxis": {
            "gridcolor": "white",
            "linecolor": "white",
            "ticks": ""
           },
           "bgcolor": "#E5ECF6",
           "caxis": {
            "gridcolor": "white",
            "linecolor": "white",
            "ticks": ""
           }
          },
          "title": {
           "x": 0.05
          },
          "xaxis": {
           "automargin": true,
           "gridcolor": "white",
           "linecolor": "white",
           "ticks": "",
           "title": {
            "standoff": 15
           },
           "zerolinecolor": "white",
           "zerolinewidth": 2
          },
          "yaxis": {
           "automargin": true,
           "gridcolor": "white",
           "linecolor": "white",
           "ticks": "",
           "title": {
            "standoff": 15
           },
           "zerolinecolor": "white",
           "zerolinewidth": 2
          }
         }
        },
        "title": {
         "font": {
          "color": "#4D5663"
         }
        },
        "xaxis": {
         "gridcolor": "#E1E5ED",
         "showgrid": true,
         "tickfont": {
          "color": "#4D5663"
         },
         "title": {
          "font": {
           "color": "#4D5663"
          },
          "text": ""
         },
         "zerolinecolor": "#E1E5ED"
        },
        "yaxis": {
         "gridcolor": "#E1E5ED",
         "showgrid": true,
         "tickfont": {
          "color": "#4D5663"
         },
         "title": {
          "font": {
           "color": "#4D5663"
          },
          "text": ""
         },
         "zerolinecolor": "#E1E5ED"
        }
       }
      },
      "text/html": [
       "<div>                            <div id=\"967b5a38-7180-47f4-b4a2-1fb9e46a2955\" class=\"plotly-graph-div\" style=\"height:525px; width:100%;\"></div>            <script type=\"text/javascript\">                require([\"plotly\"], function(Plotly) {                    window.PLOTLYENV=window.PLOTLYENV || {};\n",
       "                    window.PLOTLYENV.BASE_URL='https://plot.ly';                                    if (document.getElementById(\"967b5a38-7180-47f4-b4a2-1fb9e46a2955\")) {                    Plotly.newPlot(                        \"967b5a38-7180-47f4-b4a2-1fb9e46a2955\",                        [{\"marker\": {\"color\": [\"darkgreen\", \"darkred\", \"darkred\", \"darkred\", \"darkred\", \"darkred\", \"darkred\", \"darkred\", \"darkred\"], \"line\": {\"width\": 1.3}, \"size\": [112, 23, 15, 13, 12, 12, 12, 12, 12], \"symbol\": \"circle\"}, \"mode\": \"markers\", \"text\": \"\", \"type\": \"scatter\", \"x\": [0, 1, 2, 3, 4, 5, 6, 7, 8], \"y\": [6956, 819, 229, 116, 77, 57, 51, 28, 9]}],                        {\"legend\": {\"bgcolor\": \"#F5F6F9\", \"font\": {\"color\": \"#4D5663\"}}, \"paper_bgcolor\": \"#F5F6F9\", \"plot_bgcolor\": \"#F5F6F9\", \"template\": {\"data\": {\"bar\": [{\"error_x\": {\"color\": \"#2a3f5f\"}, \"error_y\": {\"color\": \"#2a3f5f\"}, \"marker\": {\"line\": {\"color\": \"#E5ECF6\", \"width\": 0.5}}, \"type\": \"bar\"}], \"barpolar\": [{\"marker\": {\"line\": {\"color\": \"#E5ECF6\", \"width\": 0.5}}, \"type\": \"barpolar\"}], \"carpet\": [{\"aaxis\": {\"endlinecolor\": \"#2a3f5f\", \"gridcolor\": \"white\", \"linecolor\": \"white\", \"minorgridcolor\": \"white\", \"startlinecolor\": \"#2a3f5f\"}, \"baxis\": {\"endlinecolor\": \"#2a3f5f\", \"gridcolor\": \"white\", \"linecolor\": \"white\", \"minorgridcolor\": \"white\", \"startlinecolor\": \"#2a3f5f\"}, \"type\": \"carpet\"}], \"choropleth\": [{\"colorbar\": {\"outlinewidth\": 0, \"ticks\": \"\"}, \"type\": \"choropleth\"}], \"contour\": [{\"colorbar\": {\"outlinewidth\": 0, \"ticks\": \"\"}, \"colorscale\": [[0.0, \"#0d0887\"], [0.1111111111111111, \"#46039f\"], [0.2222222222222222, \"#7201a8\"], [0.3333333333333333, \"#9c179e\"], [0.4444444444444444, \"#bd3786\"], [0.5555555555555556, \"#d8576b\"], [0.6666666666666666, \"#ed7953\"], [0.7777777777777778, \"#fb9f3a\"], [0.8888888888888888, \"#fdca26\"], [1.0, \"#f0f921\"]], \"type\": \"contour\"}], \"contourcarpet\": [{\"colorbar\": {\"outlinewidth\": 0, \"ticks\": \"\"}, \"type\": \"contourcarpet\"}], \"heatmap\": [{\"colorbar\": {\"outlinewidth\": 0, \"ticks\": \"\"}, \"colorscale\": [[0.0, \"#0d0887\"], [0.1111111111111111, \"#46039f\"], [0.2222222222222222, \"#7201a8\"], [0.3333333333333333, \"#9c179e\"], [0.4444444444444444, \"#bd3786\"], [0.5555555555555556, \"#d8576b\"], [0.6666666666666666, \"#ed7953\"], [0.7777777777777778, \"#fb9f3a\"], [0.8888888888888888, \"#fdca26\"], [1.0, \"#f0f921\"]], \"type\": \"heatmap\"}], \"heatmapgl\": [{\"colorbar\": {\"outlinewidth\": 0, \"ticks\": \"\"}, \"colorscale\": [[0.0, \"#0d0887\"], [0.1111111111111111, \"#46039f\"], [0.2222222222222222, \"#7201a8\"], [0.3333333333333333, \"#9c179e\"], [0.4444444444444444, \"#bd3786\"], [0.5555555555555556, \"#d8576b\"], [0.6666666666666666, \"#ed7953\"], [0.7777777777777778, \"#fb9f3a\"], [0.8888888888888888, \"#fdca26\"], [1.0, \"#f0f921\"]], \"type\": \"heatmapgl\"}], \"histogram\": [{\"marker\": {\"colorbar\": {\"outlinewidth\": 0, \"ticks\": \"\"}}, \"type\": \"histogram\"}], \"histogram2d\": [{\"colorbar\": {\"outlinewidth\": 0, \"ticks\": \"\"}, \"colorscale\": [[0.0, \"#0d0887\"], [0.1111111111111111, \"#46039f\"], [0.2222222222222222, \"#7201a8\"], [0.3333333333333333, \"#9c179e\"], [0.4444444444444444, \"#bd3786\"], [0.5555555555555556, \"#d8576b\"], [0.6666666666666666, \"#ed7953\"], [0.7777777777777778, \"#fb9f3a\"], [0.8888888888888888, \"#fdca26\"], [1.0, \"#f0f921\"]], \"type\": \"histogram2d\"}], \"histogram2dcontour\": [{\"colorbar\": {\"outlinewidth\": 0, \"ticks\": \"\"}, \"colorscale\": [[0.0, \"#0d0887\"], [0.1111111111111111, \"#46039f\"], [0.2222222222222222, \"#7201a8\"], [0.3333333333333333, \"#9c179e\"], [0.4444444444444444, \"#bd3786\"], [0.5555555555555556, \"#d8576b\"], [0.6666666666666666, \"#ed7953\"], [0.7777777777777778, \"#fb9f3a\"], [0.8888888888888888, \"#fdca26\"], [1.0, \"#f0f921\"]], \"type\": \"histogram2dcontour\"}], \"mesh3d\": [{\"colorbar\": {\"outlinewidth\": 0, \"ticks\": \"\"}, \"type\": \"mesh3d\"}], \"parcoords\": [{\"line\": {\"colorbar\": {\"outlinewidth\": 0, \"ticks\": \"\"}}, \"type\": \"parcoords\"}], \"pie\": [{\"automargin\": true, \"type\": \"pie\"}], \"scatter\": [{\"marker\": {\"colorbar\": {\"outlinewidth\": 0, \"ticks\": \"\"}}, \"type\": \"scatter\"}], \"scatter3d\": [{\"line\": {\"colorbar\": {\"outlinewidth\": 0, \"ticks\": \"\"}}, \"marker\": {\"colorbar\": {\"outlinewidth\": 0, \"ticks\": \"\"}}, \"type\": \"scatter3d\"}], \"scattercarpet\": [{\"marker\": {\"colorbar\": {\"outlinewidth\": 0, \"ticks\": \"\"}}, \"type\": \"scattercarpet\"}], \"scattergeo\": [{\"marker\": {\"colorbar\": {\"outlinewidth\": 0, \"ticks\": \"\"}}, \"type\": \"scattergeo\"}], \"scattergl\": [{\"marker\": {\"colorbar\": {\"outlinewidth\": 0, \"ticks\": \"\"}}, \"type\": \"scattergl\"}], \"scattermapbox\": [{\"marker\": {\"colorbar\": {\"outlinewidth\": 0, \"ticks\": \"\"}}, \"type\": \"scattermapbox\"}], \"scatterpolar\": [{\"marker\": {\"colorbar\": {\"outlinewidth\": 0, \"ticks\": \"\"}}, \"type\": \"scatterpolar\"}], \"scatterpolargl\": [{\"marker\": {\"colorbar\": {\"outlinewidth\": 0, \"ticks\": \"\"}}, \"type\": \"scatterpolargl\"}], \"scatterternary\": [{\"marker\": {\"colorbar\": {\"outlinewidth\": 0, \"ticks\": \"\"}}, \"type\": \"scatterternary\"}], \"surface\": [{\"colorbar\": {\"outlinewidth\": 0, \"ticks\": \"\"}, \"colorscale\": [[0.0, \"#0d0887\"], [0.1111111111111111, \"#46039f\"], [0.2222222222222222, \"#7201a8\"], [0.3333333333333333, \"#9c179e\"], [0.4444444444444444, \"#bd3786\"], [0.5555555555555556, \"#d8576b\"], [0.6666666666666666, \"#ed7953\"], [0.7777777777777778, \"#fb9f3a\"], [0.8888888888888888, \"#fdca26\"], [1.0, \"#f0f921\"]], \"type\": \"surface\"}], \"table\": [{\"cells\": {\"fill\": {\"color\": \"#EBF0F8\"}, \"line\": {\"color\": \"white\"}}, \"header\": {\"fill\": {\"color\": \"#C8D4E3\"}, \"line\": {\"color\": \"white\"}}, \"type\": \"table\"}]}, \"layout\": {\"annotationdefaults\": {\"arrowcolor\": \"#2a3f5f\", \"arrowhead\": 0, \"arrowwidth\": 1}, \"autotypenumbers\": \"strict\", \"coloraxis\": {\"colorbar\": {\"outlinewidth\": 0, \"ticks\": \"\"}}, \"colorscale\": {\"diverging\": [[0, \"#8e0152\"], [0.1, \"#c51b7d\"], [0.2, \"#de77ae\"], [0.3, \"#f1b6da\"], [0.4, \"#fde0ef\"], [0.5, \"#f7f7f7\"], [0.6, \"#e6f5d0\"], [0.7, \"#b8e186\"], [0.8, \"#7fbc41\"], [0.9, \"#4d9221\"], [1, \"#276419\"]], \"sequential\": [[0.0, \"#0d0887\"], [0.1111111111111111, \"#46039f\"], [0.2222222222222222, \"#7201a8\"], [0.3333333333333333, \"#9c179e\"], [0.4444444444444444, \"#bd3786\"], [0.5555555555555556, \"#d8576b\"], [0.6666666666666666, \"#ed7953\"], [0.7777777777777778, \"#fb9f3a\"], [0.8888888888888888, \"#fdca26\"], [1.0, \"#f0f921\"]], \"sequentialminus\": [[0.0, \"#0d0887\"], [0.1111111111111111, \"#46039f\"], [0.2222222222222222, \"#7201a8\"], [0.3333333333333333, \"#9c179e\"], [0.4444444444444444, \"#bd3786\"], [0.5555555555555556, \"#d8576b\"], [0.6666666666666666, \"#ed7953\"], [0.7777777777777778, \"#fb9f3a\"], [0.8888888888888888, \"#fdca26\"], [1.0, \"#f0f921\"]]}, \"colorway\": [\"#636efa\", \"#EF553B\", \"#00cc96\", \"#ab63fa\", \"#FFA15A\", \"#19d3f3\", \"#FF6692\", \"#B6E880\", \"#FF97FF\", \"#FECB52\"], \"font\": {\"color\": \"#2a3f5f\"}, \"geo\": {\"bgcolor\": \"white\", \"lakecolor\": \"white\", \"landcolor\": \"#E5ECF6\", \"showlakes\": true, \"showland\": true, \"subunitcolor\": \"white\"}, \"hoverlabel\": {\"align\": \"left\"}, \"hovermode\": \"closest\", \"mapbox\": {\"style\": \"light\"}, \"paper_bgcolor\": \"white\", \"plot_bgcolor\": \"#E5ECF6\", \"polar\": {\"angularaxis\": {\"gridcolor\": \"white\", \"linecolor\": \"white\", \"ticks\": \"\"}, \"bgcolor\": \"#E5ECF6\", \"radialaxis\": {\"gridcolor\": \"white\", \"linecolor\": \"white\", \"ticks\": \"\"}}, \"scene\": {\"xaxis\": {\"backgroundcolor\": \"#E5ECF6\", \"gridcolor\": \"white\", \"gridwidth\": 2, \"linecolor\": \"white\", \"showbackground\": true, \"ticks\": \"\", \"zerolinecolor\": \"white\"}, \"yaxis\": {\"backgroundcolor\": \"#E5ECF6\", \"gridcolor\": \"white\", \"gridwidth\": 2, \"linecolor\": \"white\", \"showbackground\": true, \"ticks\": \"\", \"zerolinecolor\": \"white\"}, \"zaxis\": {\"backgroundcolor\": \"#E5ECF6\", \"gridcolor\": \"white\", \"gridwidth\": 2, \"linecolor\": \"white\", \"showbackground\": true, \"ticks\": \"\", \"zerolinecolor\": \"white\"}}, \"shapedefaults\": {\"line\": {\"color\": \"#2a3f5f\"}}, \"ternary\": {\"aaxis\": {\"gridcolor\": \"white\", \"linecolor\": \"white\", \"ticks\": \"\"}, \"baxis\": {\"gridcolor\": \"white\", \"linecolor\": \"white\", \"ticks\": \"\"}, \"bgcolor\": \"#E5ECF6\", \"caxis\": {\"gridcolor\": \"white\", \"linecolor\": \"white\", \"ticks\": \"\"}}, \"title\": {\"x\": 0.05}, \"xaxis\": {\"automargin\": true, \"gridcolor\": \"white\", \"linecolor\": \"white\", \"ticks\": \"\", \"title\": {\"standoff\": 15}, \"zerolinecolor\": \"white\", \"zerolinewidth\": 2}, \"yaxis\": {\"automargin\": true, \"gridcolor\": \"white\", \"linecolor\": \"white\", \"ticks\": \"\", \"title\": {\"standoff\": 15}, \"zerolinecolor\": \"white\", \"zerolinewidth\": 2}}}, \"title\": {\"font\": {\"color\": \"#4D5663\"}}, \"xaxis\": {\"gridcolor\": \"#E1E5ED\", \"showgrid\": true, \"tickfont\": {\"color\": \"#4D5663\"}, \"title\": {\"font\": {\"color\": \"#4D5663\"}, \"text\": \"\"}, \"zerolinecolor\": \"#E1E5ED\"}, \"yaxis\": {\"gridcolor\": \"#E1E5ED\", \"showgrid\": true, \"tickfont\": {\"color\": \"#4D5663\"}, \"title\": {\"font\": {\"color\": \"#4D5663\"}, \"text\": \"\"}, \"zerolinecolor\": \"#E1E5ED\"}},                        {\"showLink\": true, \"linkText\": \"Export to plot.ly\", \"plotlyServerURL\": \"https://plot.ly\", \"responsive\": true}                    ).then(function(){\n",
       "                            \n",
       "var gd = document.getElementById('967b5a38-7180-47f4-b4a2-1fb9e46a2955');\n",
       "var x = new MutationObserver(function (mutations, observer) {{\n",
       "        var display = window.getComputedStyle(gd).display;\n",
       "        if (!display || display === 'none') {{\n",
       "            console.log([gd, 'removed!']);\n",
       "            Plotly.purge(gd);\n",
       "            observer.disconnect();\n",
       "        }}\n",
       "}});\n",
       "\n",
       "// Listen for the removal of the full notebook cells\n",
       "var notebookContainer = gd.closest('#notebook-container');\n",
       "if (notebookContainer) {{\n",
       "    x.observe(notebookContainer, {childList: true});\n",
       "}}\n",
       "\n",
       "// Listen for the clearing of the current output cell\n",
       "var outputEl = gd.closest('.output');\n",
       "if (outputEl) {{\n",
       "    x.observe(outputEl, {childList: true});\n",
       "}}\n",
       "\n",
       "                        })                };                });            </script>        </div>"
      ]
     },
     "metadata": {},
     "output_type": "display_data"
    }
   ],
   "source": [
    "# 8. \n",
    "\n",
    "color_t = ['darkgreen', 'darkred', 'darkred', 'darkred', 'darkred', 'darkred', 'darkred', 'darkred', 'darkred']\n",
    "all_tutorials_after_level_users.iplot(kind = 'bubble', x = 'Количество начатых обучений', y = 'Количество пользователей', size = 'Процент пользователей', color = color_t)"
   ]
  },
  {
   "cell_type": "markdown",
   "metadata": {},
   "source": [
    "9. \n",
    "### Предварительный вывод 4:\n",
    "\n",
    "На графике выше мы можем визуально сравнить количество пользователей, которые не начинали обучение после выбора уровня сложности - 6956 (зелёный шар) с количеством пользователей, сгруппированных по числу начатых обучений после выбора уровня сложности - 1386 (совокупность всех красных шаров) от общего количества пользователей, которые выбрали уровень сложности (8342). \n",
    "\n",
    "\n",
    "Если подытожить все предварительные выводы по дополнительной задаче, то можно сделать следующий вывод: \n",
    "\n",
    "# 3.4 - Вывод 3:\n",
    "С учётом допущения, что повторное обращение пользователей к обучению после выбора уровня сложности свидетельствует о наличии у пользователей вопросов по работе с приложением, то максимальное количество повторных обучений и совокупность пользователей, которые начинали обучение после выбора уровня сложности в 16.61% от общего количества пользователей, выбравших уровень сложности говорит нам о том, что процесс взаимодействия с игрой недостаточно прозрачен и в дальнейшем может быть оптимизирован."
   ]
  },
  {
   "cell_type": "markdown",
   "metadata": {},
   "source": [
    "*******************************************************************************************************************************"
   ]
  },
  {
   "cell_type": "markdown",
   "metadata": {},
   "source": [
    "# 3.5\n",
    "### Дополнительный анализ (вне задач проекта):"
   ]
  },
  {
   "cell_type": "code",
   "execution_count": 114,
   "metadata": {},
   "outputs": [
    {
     "data": {
      "text/html": [
       "<div>\n",
       "<style scoped>\n",
       "    .dataframe tbody tr th:only-of-type {\n",
       "        vertical-align: middle;\n",
       "    }\n",
       "\n",
       "    .dataframe tbody tr th {\n",
       "        vertical-align: top;\n",
       "    }\n",
       "\n",
       "    .dataframe thead th {\n",
       "        text-align: right;\n",
       "    }\n",
       "</style>\n",
       "<table border=\"1\" class=\"dataframe\">\n",
       "  <thead>\n",
       "    <tr style=\"text-align: right;\">\n",
       "      <th></th>\n",
       "      <th>event_id</th>\n",
       "      <th>event_type</th>\n",
       "      <th>selected_level</th>\n",
       "      <th>tutorial_start_time</th>\n",
       "      <th>tutorial_id</th>\n",
       "      <th>user_id</th>\n",
       "      <th>purchase_id</th>\n",
       "      <th>amount</th>\n",
       "    </tr>\n",
       "  </thead>\n",
       "  <tbody>\n",
       "    <tr>\n",
       "      <th>51412</th>\n",
       "      <td>80315.0</td>\n",
       "      <td>tutorial_start</td>\n",
       "      <td>NaN</td>\n",
       "      <td>2018-01-01 14:54:40</td>\n",
       "      <td>31505.0</td>\n",
       "      <td>27836</td>\n",
       "      <td>NaN</td>\n",
       "      <td>NaN</td>\n",
       "    </tr>\n",
       "    <tr>\n",
       "      <th>51413</th>\n",
       "      <td>80316.0</td>\n",
       "      <td>tutorial_start</td>\n",
       "      <td>NaN</td>\n",
       "      <td>2018-01-01 15:00:51</td>\n",
       "      <td>31506.0</td>\n",
       "      <td>27835</td>\n",
       "      <td>NaN</td>\n",
       "      <td>NaN</td>\n",
       "    </tr>\n",
       "    <tr>\n",
       "      <th>51415</th>\n",
       "      <td>80318.0</td>\n",
       "      <td>tutorial_start</td>\n",
       "      <td>NaN</td>\n",
       "      <td>2018-01-01 15:40:43</td>\n",
       "      <td>31507.0</td>\n",
       "      <td>27836</td>\n",
       "      <td>NaN</td>\n",
       "      <td>NaN</td>\n",
       "    </tr>\n",
       "    <tr>\n",
       "      <th>51417</th>\n",
       "      <td>80320.0</td>\n",
       "      <td>tutorial_start</td>\n",
       "      <td>NaN</td>\n",
       "      <td>2018-01-01 17:47:40</td>\n",
       "      <td>31508.0</td>\n",
       "      <td>27833</td>\n",
       "      <td>NaN</td>\n",
       "      <td>NaN</td>\n",
       "    </tr>\n",
       "    <tr>\n",
       "      <th>51420</th>\n",
       "      <td>80323.0</td>\n",
       "      <td>tutorial_start</td>\n",
       "      <td>NaN</td>\n",
       "      <td>2018-01-01 19:11:36</td>\n",
       "      <td>31509.0</td>\n",
       "      <td>27839</td>\n",
       "      <td>NaN</td>\n",
       "      <td>NaN</td>\n",
       "    </tr>\n",
       "    <tr>\n",
       "      <th>...</th>\n",
       "      <td>...</td>\n",
       "      <td>...</td>\n",
       "      <td>...</td>\n",
       "      <td>...</td>\n",
       "      <td>...</td>\n",
       "      <td>...</td>\n",
       "      <td>...</td>\n",
       "      <td>...</td>\n",
       "    </tr>\n",
       "    <tr>\n",
       "      <th>118339</th>\n",
       "      <td>147242.0</td>\n",
       "      <td>tutorial_start</td>\n",
       "      <td>NaN</td>\n",
       "      <td>2018-12-31 10:21:11</td>\n",
       "      <td>49550.0</td>\n",
       "      <td>47747</td>\n",
       "      <td>NaN</td>\n",
       "      <td>NaN</td>\n",
       "    </tr>\n",
       "    <tr>\n",
       "      <th>118348</th>\n",
       "      <td>147251.0</td>\n",
       "      <td>tutorial_start</td>\n",
       "      <td>NaN</td>\n",
       "      <td>2018-12-31 19:38:14</td>\n",
       "      <td>49551.0</td>\n",
       "      <td>47751</td>\n",
       "      <td>NaN</td>\n",
       "      <td>NaN</td>\n",
       "    </tr>\n",
       "    <tr>\n",
       "      <th>118350</th>\n",
       "      <td>147253.0</td>\n",
       "      <td>tutorial_start</td>\n",
       "      <td>NaN</td>\n",
       "      <td>2018-12-31 20:54:56</td>\n",
       "      <td>49552.0</td>\n",
       "      <td>47753</td>\n",
       "      <td>NaN</td>\n",
       "      <td>NaN</td>\n",
       "    </tr>\n",
       "    <tr>\n",
       "      <th>118357</th>\n",
       "      <td>147260.0</td>\n",
       "      <td>tutorial_start</td>\n",
       "      <td>NaN</td>\n",
       "      <td>2019-01-01 00:08:14</td>\n",
       "      <td>49553.0</td>\n",
       "      <td>47755</td>\n",
       "      <td>NaN</td>\n",
       "      <td>NaN</td>\n",
       "    </tr>\n",
       "    <tr>\n",
       "      <th>118359</th>\n",
       "      <td>147262.0</td>\n",
       "      <td>tutorial_start</td>\n",
       "      <td>NaN</td>\n",
       "      <td>2019-01-01 03:26:18</td>\n",
       "      <td>49554.0</td>\n",
       "      <td>47756</td>\n",
       "      <td>NaN</td>\n",
       "      <td>NaN</td>\n",
       "    </tr>\n",
       "  </tbody>\n",
       "</table>\n",
       "<p>18050 rows × 8 columns</p>\n",
       "</div>"
      ],
      "text/plain": [
       "        event_id      event_type selected_level tutorial_start_time  \\\n",
       "51412    80315.0  tutorial_start            NaN 2018-01-01 14:54:40   \n",
       "51413    80316.0  tutorial_start            NaN 2018-01-01 15:00:51   \n",
       "51415    80318.0  tutorial_start            NaN 2018-01-01 15:40:43   \n",
       "51417    80320.0  tutorial_start            NaN 2018-01-01 17:47:40   \n",
       "51420    80323.0  tutorial_start            NaN 2018-01-01 19:11:36   \n",
       "...          ...             ...            ...                 ...   \n",
       "118339  147242.0  tutorial_start            NaN 2018-12-31 10:21:11   \n",
       "118348  147251.0  tutorial_start            NaN 2018-12-31 19:38:14   \n",
       "118350  147253.0  tutorial_start            NaN 2018-12-31 20:54:56   \n",
       "118357  147260.0  tutorial_start            NaN 2019-01-01 00:08:14   \n",
       "118359  147262.0  tutorial_start            NaN 2019-01-01 03:26:18   \n",
       "\n",
       "        tutorial_id  user_id  purchase_id  amount  \n",
       "51412       31505.0    27836          NaN     NaN  \n",
       "51413       31506.0    27835          NaN     NaN  \n",
       "51415       31507.0    27836          NaN     NaN  \n",
       "51417       31508.0    27833          NaN     NaN  \n",
       "51420       31509.0    27839          NaN     NaN  \n",
       "...             ...      ...          ...     ...  \n",
       "118339      49550.0    47747          NaN     NaN  \n",
       "118348      49551.0    47751          NaN     NaN  \n",
       "118350      49552.0    47753          NaN     NaN  \n",
       "118357      49553.0    47755          NaN     NaN  \n",
       "118359      49554.0    47756          NaN     NaN  \n",
       "\n",
       "[18050 rows x 8 columns]"
      ]
     },
     "execution_count": 114,
     "metadata": {},
     "output_type": "execute_result"
    }
   ],
   "source": [
    "tut_start = total_events[total_events['event_type'] == 'tutorial_start'].rename(columns = {'event_time': 'tutorial_start_time'})\n",
    "tut_start"
   ]
  },
  {
   "cell_type": "code",
   "execution_count": 115,
   "metadata": {},
   "outputs": [
    {
     "data": {
      "text/html": [
       "<div>\n",
       "<style scoped>\n",
       "    .dataframe tbody tr th:only-of-type {\n",
       "        vertical-align: middle;\n",
       "    }\n",
       "\n",
       "    .dataframe tbody tr th {\n",
       "        vertical-align: top;\n",
       "    }\n",
       "\n",
       "    .dataframe thead th {\n",
       "        text-align: right;\n",
       "    }\n",
       "</style>\n",
       "<table border=\"1\" class=\"dataframe\">\n",
       "  <thead>\n",
       "    <tr style=\"text-align: right;\">\n",
       "      <th></th>\n",
       "      <th>event_id</th>\n",
       "      <th>event_type</th>\n",
       "      <th>selected_level</th>\n",
       "      <th>level_choice_time</th>\n",
       "      <th>tutorial_id</th>\n",
       "      <th>user_id</th>\n",
       "      <th>purchase_id</th>\n",
       "      <th>amount</th>\n",
       "    </tr>\n",
       "  </thead>\n",
       "  <tbody>\n",
       "    <tr>\n",
       "      <th>51424</th>\n",
       "      <td>80327.0</td>\n",
       "      <td>level_choice</td>\n",
       "      <td>medium</td>\n",
       "      <td>2018-01-01 20:37:22</td>\n",
       "      <td>NaN</td>\n",
       "      <td>27835</td>\n",
       "      <td>NaN</td>\n",
       "      <td>NaN</td>\n",
       "    </tr>\n",
       "    <tr>\n",
       "      <th>51428</th>\n",
       "      <td>80331.0</td>\n",
       "      <td>level_choice</td>\n",
       "      <td>hard</td>\n",
       "      <td>2018-01-01 22:37:50</td>\n",
       "      <td>NaN</td>\n",
       "      <td>27839</td>\n",
       "      <td>NaN</td>\n",
       "      <td>NaN</td>\n",
       "    </tr>\n",
       "    <tr>\n",
       "      <th>51441</th>\n",
       "      <td>80344.0</td>\n",
       "      <td>level_choice</td>\n",
       "      <td>medium</td>\n",
       "      <td>2018-01-02 05:18:42</td>\n",
       "      <td>NaN</td>\n",
       "      <td>27840</td>\n",
       "      <td>NaN</td>\n",
       "      <td>NaN</td>\n",
       "    </tr>\n",
       "    <tr>\n",
       "      <th>51443</th>\n",
       "      <td>80346.0</td>\n",
       "      <td>level_choice</td>\n",
       "      <td>hard</td>\n",
       "      <td>2018-01-02 06:19:18</td>\n",
       "      <td>NaN</td>\n",
       "      <td>27845</td>\n",
       "      <td>NaN</td>\n",
       "      <td>NaN</td>\n",
       "    </tr>\n",
       "    <tr>\n",
       "      <th>51450</th>\n",
       "      <td>80353.0</td>\n",
       "      <td>level_choice</td>\n",
       "      <td>easy</td>\n",
       "      <td>2018-01-02 08:46:03</td>\n",
       "      <td>NaN</td>\n",
       "      <td>27842</td>\n",
       "      <td>NaN</td>\n",
       "      <td>NaN</td>\n",
       "    </tr>\n",
       "    <tr>\n",
       "      <th>...</th>\n",
       "      <td>...</td>\n",
       "      <td>...</td>\n",
       "      <td>...</td>\n",
       "      <td>...</td>\n",
       "      <td>...</td>\n",
       "      <td>...</td>\n",
       "      <td>...</td>\n",
       "      <td>...</td>\n",
       "    </tr>\n",
       "    <tr>\n",
       "      <th>118337</th>\n",
       "      <td>147240.0</td>\n",
       "      <td>level_choice</td>\n",
       "      <td>medium</td>\n",
       "      <td>2018-12-31 09:59:00</td>\n",
       "      <td>NaN</td>\n",
       "      <td>47732</td>\n",
       "      <td>NaN</td>\n",
       "      <td>NaN</td>\n",
       "    </tr>\n",
       "    <tr>\n",
       "      <th>118342</th>\n",
       "      <td>147245.0</td>\n",
       "      <td>level_choice</td>\n",
       "      <td>medium</td>\n",
       "      <td>2018-12-31 12:24:40</td>\n",
       "      <td>NaN</td>\n",
       "      <td>47747</td>\n",
       "      <td>NaN</td>\n",
       "      <td>NaN</td>\n",
       "    </tr>\n",
       "    <tr>\n",
       "      <th>118353</th>\n",
       "      <td>147256.0</td>\n",
       "      <td>level_choice</td>\n",
       "      <td>medium</td>\n",
       "      <td>2018-12-31 22:36:19</td>\n",
       "      <td>NaN</td>\n",
       "      <td>47753</td>\n",
       "      <td>NaN</td>\n",
       "      <td>NaN</td>\n",
       "    </tr>\n",
       "    <tr>\n",
       "      <th>118362</th>\n",
       "      <td>147265.0</td>\n",
       "      <td>level_choice</td>\n",
       "      <td>easy</td>\n",
       "      <td>2019-01-01 05:04:52</td>\n",
       "      <td>NaN</td>\n",
       "      <td>47755</td>\n",
       "      <td>NaN</td>\n",
       "      <td>NaN</td>\n",
       "    </tr>\n",
       "    <tr>\n",
       "      <th>118363</th>\n",
       "      <td>147266.0</td>\n",
       "      <td>level_choice</td>\n",
       "      <td>medium</td>\n",
       "      <td>2019-01-01 05:42:11</td>\n",
       "      <td>NaN</td>\n",
       "      <td>47756</td>\n",
       "      <td>NaN</td>\n",
       "      <td>NaN</td>\n",
       "    </tr>\n",
       "  </tbody>\n",
       "</table>\n",
       "<p>8342 rows × 8 columns</p>\n",
       "</div>"
      ],
      "text/plain": [
       "        event_id    event_type selected_level   level_choice_time  \\\n",
       "51424    80327.0  level_choice         medium 2018-01-01 20:37:22   \n",
       "51428    80331.0  level_choice           hard 2018-01-01 22:37:50   \n",
       "51441    80344.0  level_choice         medium 2018-01-02 05:18:42   \n",
       "51443    80346.0  level_choice           hard 2018-01-02 06:19:18   \n",
       "51450    80353.0  level_choice           easy 2018-01-02 08:46:03   \n",
       "...          ...           ...            ...                 ...   \n",
       "118337  147240.0  level_choice         medium 2018-12-31 09:59:00   \n",
       "118342  147245.0  level_choice         medium 2018-12-31 12:24:40   \n",
       "118353  147256.0  level_choice         medium 2018-12-31 22:36:19   \n",
       "118362  147265.0  level_choice           easy 2019-01-01 05:04:52   \n",
       "118363  147266.0  level_choice         medium 2019-01-01 05:42:11   \n",
       "\n",
       "        tutorial_id  user_id  purchase_id  amount  \n",
       "51424           NaN    27835          NaN     NaN  \n",
       "51428           NaN    27839          NaN     NaN  \n",
       "51441           NaN    27840          NaN     NaN  \n",
       "51443           NaN    27845          NaN     NaN  \n",
       "51450           NaN    27842          NaN     NaN  \n",
       "...             ...      ...          ...     ...  \n",
       "118337          NaN    47732          NaN     NaN  \n",
       "118342          NaN    47747          NaN     NaN  \n",
       "118353          NaN    47753          NaN     NaN  \n",
       "118362          NaN    47755          NaN     NaN  \n",
       "118363          NaN    47756          NaN     NaN  \n",
       "\n",
       "[8342 rows x 8 columns]"
      ]
     },
     "execution_count": 115,
     "metadata": {},
     "output_type": "execute_result"
    }
   ],
   "source": [
    "lev_choice = total_events[total_events['event_type'] == 'level_choice'].rename(columns = {'event_time': 'level_choice_time'})\n",
    "lev_choice"
   ]
  },
  {
   "cell_type": "code",
   "execution_count": 173,
   "metadata": {},
   "outputs": [
    {
     "data": {
      "text/html": [
       "<div>\n",
       "<style scoped>\n",
       "    .dataframe tbody tr th:only-of-type {\n",
       "        vertical-align: middle;\n",
       "    }\n",
       "\n",
       "    .dataframe tbody tr th {\n",
       "        vertical-align: top;\n",
       "    }\n",
       "\n",
       "    .dataframe thead th {\n",
       "        text-align: right;\n",
       "    }\n",
       "</style>\n",
       "<table border=\"1\" class=\"dataframe\">\n",
       "  <thead>\n",
       "    <tr style=\"text-align: right;\">\n",
       "      <th></th>\n",
       "      <th>event_id</th>\n",
       "      <th>event_type_x</th>\n",
       "      <th>selected_level_x</th>\n",
       "      <th>level_choice_time</th>\n",
       "      <th>tutorial_id_x</th>\n",
       "      <th>user_id</th>\n",
       "      <th>purchase_id_x</th>\n",
       "      <th>amount_x</th>\n",
       "      <th>event_id_y</th>\n",
       "      <th>event_type_y</th>\n",
       "      <th>selected_level_y</th>\n",
       "      <th>tutorial_start_time</th>\n",
       "      <th>tutorial_id_y</th>\n",
       "      <th>purchase_id_y</th>\n",
       "      <th>amount_y</th>\n",
       "      <th>time_delta</th>\n",
       "    </tr>\n",
       "  </thead>\n",
       "  <tbody>\n",
       "    <tr>\n",
       "      <th>0</th>\n",
       "      <td>80346.0</td>\n",
       "      <td>level_choice</td>\n",
       "      <td>hard</td>\n",
       "      <td>2018-01-02 06:19:18</td>\n",
       "      <td>NaN</td>\n",
       "      <td>27845</td>\n",
       "      <td>NaN</td>\n",
       "      <td>NaN</td>\n",
       "      <td>80349.0</td>\n",
       "      <td>tutorial_start</td>\n",
       "      <td>NaN</td>\n",
       "      <td>2018-01-02 07:08:00</td>\n",
       "      <td>31514.0</td>\n",
       "      <td>NaN</td>\n",
       "      <td>NaN</td>\n",
       "      <td>0 days 00:48:42</td>\n",
       "    </tr>\n",
       "    <tr>\n",
       "      <th>1</th>\n",
       "      <td>80353.0</td>\n",
       "      <td>level_choice</td>\n",
       "      <td>easy</td>\n",
       "      <td>2018-01-02 08:46:03</td>\n",
       "      <td>NaN</td>\n",
       "      <td>27842</td>\n",
       "      <td>NaN</td>\n",
       "      <td>NaN</td>\n",
       "      <td>80354.0</td>\n",
       "      <td>tutorial_start</td>\n",
       "      <td>NaN</td>\n",
       "      <td>2018-01-02 09:01:51</td>\n",
       "      <td>31516.0</td>\n",
       "      <td>NaN</td>\n",
       "      <td>NaN</td>\n",
       "      <td>0 days 00:15:48</td>\n",
       "    </tr>\n",
       "    <tr>\n",
       "      <th>2</th>\n",
       "      <td>80353.0</td>\n",
       "      <td>level_choice</td>\n",
       "      <td>easy</td>\n",
       "      <td>2018-01-02 08:46:03</td>\n",
       "      <td>NaN</td>\n",
       "      <td>27842</td>\n",
       "      <td>NaN</td>\n",
       "      <td>NaN</td>\n",
       "      <td>80375.0</td>\n",
       "      <td>tutorial_start</td>\n",
       "      <td>NaN</td>\n",
       "      <td>2018-01-02 18:08:01</td>\n",
       "      <td>31522.0</td>\n",
       "      <td>NaN</td>\n",
       "      <td>NaN</td>\n",
       "      <td>0 days 09:21:58</td>\n",
       "    </tr>\n",
       "    <tr>\n",
       "      <th>3</th>\n",
       "      <td>80378.0</td>\n",
       "      <td>level_choice</td>\n",
       "      <td>medium</td>\n",
       "      <td>2018-01-02 18:39:44</td>\n",
       "      <td>NaN</td>\n",
       "      <td>27852</td>\n",
       "      <td>NaN</td>\n",
       "      <td>NaN</td>\n",
       "      <td>80381.0</td>\n",
       "      <td>tutorial_start</td>\n",
       "      <td>NaN</td>\n",
       "      <td>2018-01-02 20:34:31</td>\n",
       "      <td>31524.0</td>\n",
       "      <td>NaN</td>\n",
       "      <td>NaN</td>\n",
       "      <td>0 days 01:54:47</td>\n",
       "    </tr>\n",
       "    <tr>\n",
       "      <th>4</th>\n",
       "      <td>80405.0</td>\n",
       "      <td>level_choice</td>\n",
       "      <td>medium</td>\n",
       "      <td>2018-01-03 04:19:32</td>\n",
       "      <td>NaN</td>\n",
       "      <td>27862</td>\n",
       "      <td>NaN</td>\n",
       "      <td>NaN</td>\n",
       "      <td>80419.0</td>\n",
       "      <td>tutorial_start</td>\n",
       "      <td>NaN</td>\n",
       "      <td>2018-01-03 11:17:41</td>\n",
       "      <td>31533.0</td>\n",
       "      <td>NaN</td>\n",
       "      <td>NaN</td>\n",
       "      <td>0 days 06:58:09</td>\n",
       "    </tr>\n",
       "    <tr>\n",
       "      <th>...</th>\n",
       "      <td>...</td>\n",
       "      <td>...</td>\n",
       "      <td>...</td>\n",
       "      <td>...</td>\n",
       "      <td>...</td>\n",
       "      <td>...</td>\n",
       "      <td>...</td>\n",
       "      <td>...</td>\n",
       "      <td>...</td>\n",
       "      <td>...</td>\n",
       "      <td>...</td>\n",
       "      <td>...</td>\n",
       "      <td>...</td>\n",
       "      <td>...</td>\n",
       "      <td>...</td>\n",
       "      <td>...</td>\n",
       "    </tr>\n",
       "    <tr>\n",
       "      <th>2787</th>\n",
       "      <td>146911.0</td>\n",
       "      <td>level_choice</td>\n",
       "      <td>medium</td>\n",
       "      <td>2018-12-28 11:43:38</td>\n",
       "      <td>NaN</td>\n",
       "      <td>47635</td>\n",
       "      <td>NaN</td>\n",
       "      <td>NaN</td>\n",
       "      <td>146957.0</td>\n",
       "      <td>tutorial_start</td>\n",
       "      <td>NaN</td>\n",
       "      <td>2018-12-28 17:28:42</td>\n",
       "      <td>49480.0</td>\n",
       "      <td>NaN</td>\n",
       "      <td>NaN</td>\n",
       "      <td>0 days 05:45:04</td>\n",
       "    </tr>\n",
       "    <tr>\n",
       "      <th>2788</th>\n",
       "      <td>146995.0</td>\n",
       "      <td>level_choice</td>\n",
       "      <td>medium</td>\n",
       "      <td>2018-12-28 21:25:49</td>\n",
       "      <td>NaN</td>\n",
       "      <td>47657</td>\n",
       "      <td>NaN</td>\n",
       "      <td>NaN</td>\n",
       "      <td>147000.0</td>\n",
       "      <td>tutorial_start</td>\n",
       "      <td>NaN</td>\n",
       "      <td>2018-12-28 21:44:13</td>\n",
       "      <td>49491.0</td>\n",
       "      <td>NaN</td>\n",
       "      <td>NaN</td>\n",
       "      <td>0 days 00:18:24</td>\n",
       "    </tr>\n",
       "    <tr>\n",
       "      <th>2789</th>\n",
       "      <td>146995.0</td>\n",
       "      <td>level_choice</td>\n",
       "      <td>medium</td>\n",
       "      <td>2018-12-28 21:25:49</td>\n",
       "      <td>NaN</td>\n",
       "      <td>47657</td>\n",
       "      <td>NaN</td>\n",
       "      <td>NaN</td>\n",
       "      <td>147002.0</td>\n",
       "      <td>tutorial_start</td>\n",
       "      <td>NaN</td>\n",
       "      <td>2018-12-28 21:53:06</td>\n",
       "      <td>49492.0</td>\n",
       "      <td>NaN</td>\n",
       "      <td>NaN</td>\n",
       "      <td>0 days 00:27:17</td>\n",
       "    </tr>\n",
       "    <tr>\n",
       "      <th>2790</th>\n",
       "      <td>147124.0</td>\n",
       "      <td>level_choice</td>\n",
       "      <td>medium</td>\n",
       "      <td>2018-12-29 21:23:23</td>\n",
       "      <td>NaN</td>\n",
       "      <td>47711</td>\n",
       "      <td>NaN</td>\n",
       "      <td>NaN</td>\n",
       "      <td>147130.0</td>\n",
       "      <td>tutorial_start</td>\n",
       "      <td>NaN</td>\n",
       "      <td>2018-12-29 22:50:57</td>\n",
       "      <td>49521.0</td>\n",
       "      <td>NaN</td>\n",
       "      <td>NaN</td>\n",
       "      <td>0 days 01:27:34</td>\n",
       "    </tr>\n",
       "    <tr>\n",
       "      <th>2791</th>\n",
       "      <td>147174.0</td>\n",
       "      <td>level_choice</td>\n",
       "      <td>medium</td>\n",
       "      <td>2018-12-30 13:21:12</td>\n",
       "      <td>NaN</td>\n",
       "      <td>47724</td>\n",
       "      <td>NaN</td>\n",
       "      <td>NaN</td>\n",
       "      <td>147224.0</td>\n",
       "      <td>tutorial_start</td>\n",
       "      <td>NaN</td>\n",
       "      <td>2018-12-31 02:47:53</td>\n",
       "      <td>49545.0</td>\n",
       "      <td>NaN</td>\n",
       "      <td>NaN</td>\n",
       "      <td>0 days 13:26:41</td>\n",
       "    </tr>\n",
       "  </tbody>\n",
       "</table>\n",
       "<p>2792 rows × 16 columns</p>\n",
       "</div>"
      ],
      "text/plain": [
       "      event_id  event_type_x selected_level_x   level_choice_time  \\\n",
       "0      80346.0  level_choice             hard 2018-01-02 06:19:18   \n",
       "1      80353.0  level_choice             easy 2018-01-02 08:46:03   \n",
       "2      80353.0  level_choice             easy 2018-01-02 08:46:03   \n",
       "3      80378.0  level_choice           medium 2018-01-02 18:39:44   \n",
       "4      80405.0  level_choice           medium 2018-01-03 04:19:32   \n",
       "...        ...           ...              ...                 ...   \n",
       "2787  146911.0  level_choice           medium 2018-12-28 11:43:38   \n",
       "2788  146995.0  level_choice           medium 2018-12-28 21:25:49   \n",
       "2789  146995.0  level_choice           medium 2018-12-28 21:25:49   \n",
       "2790  147124.0  level_choice           medium 2018-12-29 21:23:23   \n",
       "2791  147174.0  level_choice           medium 2018-12-30 13:21:12   \n",
       "\n",
       "      tutorial_id_x  user_id  purchase_id_x  amount_x  event_id_y  \\\n",
       "0               NaN    27845            NaN       NaN     80349.0   \n",
       "1               NaN    27842            NaN       NaN     80354.0   \n",
       "2               NaN    27842            NaN       NaN     80375.0   \n",
       "3               NaN    27852            NaN       NaN     80381.0   \n",
       "4               NaN    27862            NaN       NaN     80419.0   \n",
       "...             ...      ...            ...       ...         ...   \n",
       "2787            NaN    47635            NaN       NaN    146957.0   \n",
       "2788            NaN    47657            NaN       NaN    147000.0   \n",
       "2789            NaN    47657            NaN       NaN    147002.0   \n",
       "2790            NaN    47711            NaN       NaN    147130.0   \n",
       "2791            NaN    47724            NaN       NaN    147224.0   \n",
       "\n",
       "        event_type_y selected_level_y tutorial_start_time  tutorial_id_y  \\\n",
       "0     tutorial_start              NaN 2018-01-02 07:08:00        31514.0   \n",
       "1     tutorial_start              NaN 2018-01-02 09:01:51        31516.0   \n",
       "2     tutorial_start              NaN 2018-01-02 18:08:01        31522.0   \n",
       "3     tutorial_start              NaN 2018-01-02 20:34:31        31524.0   \n",
       "4     tutorial_start              NaN 2018-01-03 11:17:41        31533.0   \n",
       "...              ...              ...                 ...            ...   \n",
       "2787  tutorial_start              NaN 2018-12-28 17:28:42        49480.0   \n",
       "2788  tutorial_start              NaN 2018-12-28 21:44:13        49491.0   \n",
       "2789  tutorial_start              NaN 2018-12-28 21:53:06        49492.0   \n",
       "2790  tutorial_start              NaN 2018-12-29 22:50:57        49521.0   \n",
       "2791  tutorial_start              NaN 2018-12-31 02:47:53        49545.0   \n",
       "\n",
       "      purchase_id_y  amount_y      time_delta  \n",
       "0               NaN       NaN 0 days 00:48:42  \n",
       "1               NaN       NaN 0 days 00:15:48  \n",
       "2               NaN       NaN 0 days 09:21:58  \n",
       "3               NaN       NaN 0 days 01:54:47  \n",
       "4               NaN       NaN 0 days 06:58:09  \n",
       "...             ...       ...             ...  \n",
       "2787            NaN       NaN 0 days 05:45:04  \n",
       "2788            NaN       NaN 0 days 00:18:24  \n",
       "2789            NaN       NaN 0 days 00:27:17  \n",
       "2790            NaN       NaN 0 days 01:27:34  \n",
       "2791            NaN       NaN 0 days 13:26:41  \n",
       "\n",
       "[2792 rows x 16 columns]"
      ]
     },
     "execution_count": 173,
     "metadata": {},
     "output_type": "execute_result"
    }
   ],
   "source": [
    "merged_lev_tut_start = lev_choice.merge(tut_start, on = 'user_id', how = 'inner')\n",
    "\n",
    "merged_lev_tut_start['time_delta'] = merged_lev_tut_start['tutorial_start_time'] - merged_lev_tut_start['level_choice_time']\n",
    "#display(merged_lev_tut_start)\n",
    "\n",
    "merged_lev_tut_start2 = merged_lev_tut_start[merged_lev_tut_start.time_delta > pd.Timedelta(0)].reset_index(drop = True).\\\n",
    "                        rename(columns = {'event_id_x': 'event_id'})\n",
    "merged_lev_tut_start2"
   ]
  },
  {
   "cell_type": "code",
   "execution_count": 181,
   "metadata": {},
   "outputs": [
    {
     "data": {
      "text/html": [
       "<div>\n",
       "<style scoped>\n",
       "    .dataframe tbody tr th:only-of-type {\n",
       "        vertical-align: middle;\n",
       "    }\n",
       "\n",
       "    .dataframe tbody tr th {\n",
       "        vertical-align: top;\n",
       "    }\n",
       "\n",
       "    .dataframe thead th {\n",
       "        text-align: right;\n",
       "    }\n",
       "</style>\n",
       "<table border=\"1\" class=\"dataframe\">\n",
       "  <thead>\n",
       "    <tr style=\"text-align: right;\">\n",
       "      <th></th>\n",
       "      <th>user_id</th>\n",
       "      <th>event_type_x</th>\n",
       "    </tr>\n",
       "  </thead>\n",
       "  <tbody>\n",
       "    <tr>\n",
       "      <th>0</th>\n",
       "      <td>27842</td>\n",
       "      <td>[level_choice, level_choice]</td>\n",
       "    </tr>\n",
       "    <tr>\n",
       "      <th>1</th>\n",
       "      <td>27845</td>\n",
       "      <td>[level_choice]</td>\n",
       "    </tr>\n",
       "    <tr>\n",
       "      <th>2</th>\n",
       "      <td>27852</td>\n",
       "      <td>[level_choice]</td>\n",
       "    </tr>\n",
       "    <tr>\n",
       "      <th>3</th>\n",
       "      <td>27862</td>\n",
       "      <td>[level_choice, level_choice, level_choice, lev...</td>\n",
       "    </tr>\n",
       "    <tr>\n",
       "      <th>4</th>\n",
       "      <td>27876</td>\n",
       "      <td>[level_choice]</td>\n",
       "    </tr>\n",
       "    <tr>\n",
       "      <th>...</th>\n",
       "      <td>...</td>\n",
       "      <td>...</td>\n",
       "    </tr>\n",
       "    <tr>\n",
       "      <th>1381</th>\n",
       "      <td>47595</td>\n",
       "      <td>[level_choice]</td>\n",
       "    </tr>\n",
       "    <tr>\n",
       "      <th>1382</th>\n",
       "      <td>47635</td>\n",
       "      <td>[level_choice]</td>\n",
       "    </tr>\n",
       "    <tr>\n",
       "      <th>1383</th>\n",
       "      <td>47657</td>\n",
       "      <td>[level_choice, level_choice]</td>\n",
       "    </tr>\n",
       "    <tr>\n",
       "      <th>1384</th>\n",
       "      <td>47711</td>\n",
       "      <td>[level_choice]</td>\n",
       "    </tr>\n",
       "    <tr>\n",
       "      <th>1385</th>\n",
       "      <td>47724</td>\n",
       "      <td>[level_choice]</td>\n",
       "    </tr>\n",
       "  </tbody>\n",
       "</table>\n",
       "<p>1386 rows × 2 columns</p>\n",
       "</div>"
      ],
      "text/plain": [
       "      user_id                                       event_type_x\n",
       "0       27842                       [level_choice, level_choice]\n",
       "1       27845                                     [level_choice]\n",
       "2       27852                                     [level_choice]\n",
       "3       27862  [level_choice, level_choice, level_choice, lev...\n",
       "4       27876                                     [level_choice]\n",
       "...       ...                                                ...\n",
       "1381    47595                                     [level_choice]\n",
       "1382    47635                                     [level_choice]\n",
       "1383    47657                       [level_choice, level_choice]\n",
       "1384    47711                                     [level_choice]\n",
       "1385    47724                                     [level_choice]\n",
       "\n",
       "[1386 rows x 2 columns]"
      ]
     },
     "execution_count": 181,
     "metadata": {},
     "output_type": "execute_result"
    }
   ],
   "source": [
    "users_started_tut_after_lev = merged_lev_tut_start2.groupby(['user_id'])['event_type_x'].apply(list).reset_index()\n",
    "users_started_tut_after_lev"
   ]
  },
  {
   "cell_type": "code",
   "execution_count": 182,
   "metadata": {},
   "outputs": [
    {
     "data": {
      "text/html": [
       "<div>\n",
       "<style scoped>\n",
       "    .dataframe tbody tr th:only-of-type {\n",
       "        vertical-align: middle;\n",
       "    }\n",
       "\n",
       "    .dataframe tbody tr th {\n",
       "        vertical-align: top;\n",
       "    }\n",
       "\n",
       "    .dataframe thead th {\n",
       "        text-align: right;\n",
       "    }\n",
       "</style>\n",
       "<table border=\"1\" class=\"dataframe\">\n",
       "  <thead>\n",
       "    <tr style=\"text-align: right;\">\n",
       "      <th></th>\n",
       "      <th>user_id</th>\n",
       "      <th>event_type_y</th>\n",
       "    </tr>\n",
       "  </thead>\n",
       "  <tbody>\n",
       "    <tr>\n",
       "      <th>0</th>\n",
       "      <td>27842</td>\n",
       "      <td>[tutorial_start, tutorial_start]</td>\n",
       "    </tr>\n",
       "    <tr>\n",
       "      <th>1</th>\n",
       "      <td>27845</td>\n",
       "      <td>[tutorial_start]</td>\n",
       "    </tr>\n",
       "    <tr>\n",
       "      <th>2</th>\n",
       "      <td>27852</td>\n",
       "      <td>[tutorial_start]</td>\n",
       "    </tr>\n",
       "    <tr>\n",
       "      <th>3</th>\n",
       "      <td>27862</td>\n",
       "      <td>[tutorial_start, tutorial_start, tutorial_star...</td>\n",
       "    </tr>\n",
       "    <tr>\n",
       "      <th>4</th>\n",
       "      <td>27876</td>\n",
       "      <td>[tutorial_start]</td>\n",
       "    </tr>\n",
       "    <tr>\n",
       "      <th>...</th>\n",
       "      <td>...</td>\n",
       "      <td>...</td>\n",
       "    </tr>\n",
       "    <tr>\n",
       "      <th>1381</th>\n",
       "      <td>47595</td>\n",
       "      <td>[tutorial_start]</td>\n",
       "    </tr>\n",
       "    <tr>\n",
       "      <th>1382</th>\n",
       "      <td>47635</td>\n",
       "      <td>[tutorial_start]</td>\n",
       "    </tr>\n",
       "    <tr>\n",
       "      <th>1383</th>\n",
       "      <td>47657</td>\n",
       "      <td>[tutorial_start, tutorial_start]</td>\n",
       "    </tr>\n",
       "    <tr>\n",
       "      <th>1384</th>\n",
       "      <td>47711</td>\n",
       "      <td>[tutorial_start]</td>\n",
       "    </tr>\n",
       "    <tr>\n",
       "      <th>1385</th>\n",
       "      <td>47724</td>\n",
       "      <td>[tutorial_start]</td>\n",
       "    </tr>\n",
       "  </tbody>\n",
       "</table>\n",
       "<p>1386 rows × 2 columns</p>\n",
       "</div>"
      ],
      "text/plain": [
       "      user_id                                       event_type_y\n",
       "0       27842                   [tutorial_start, tutorial_start]\n",
       "1       27845                                   [tutorial_start]\n",
       "2       27852                                   [tutorial_start]\n",
       "3       27862  [tutorial_start, tutorial_start, tutorial_star...\n",
       "4       27876                                   [tutorial_start]\n",
       "...       ...                                                ...\n",
       "1381    47595                                   [tutorial_start]\n",
       "1382    47635                                   [tutorial_start]\n",
       "1383    47657                   [tutorial_start, tutorial_start]\n",
       "1384    47711                                   [tutorial_start]\n",
       "1385    47724                                   [tutorial_start]\n",
       "\n",
       "[1386 rows x 2 columns]"
      ]
     },
     "execution_count": 182,
     "metadata": {},
     "output_type": "execute_result"
    }
   ],
   "source": [
    "users_started_tut_after_lev2 = merged_lev_tut_start2.groupby(['user_id'])['event_type_y'].apply(list).reset_index()\n",
    "users_started_tut_after_lev2"
   ]
  },
  {
   "cell_type": "code",
   "execution_count": 189,
   "metadata": {},
   "outputs": [
    {
     "data": {
      "text/plain": [
       "0                               level_choice>level_choice\n",
       "1                                            level_choice\n",
       "2                                            level_choice\n",
       "3       level_choice>level_choice>level_choice>level_c...\n",
       "4                                            level_choice\n",
       "                              ...                        \n",
       "1381                                         level_choice\n",
       "1382                                         level_choice\n",
       "1383                            level_choice>level_choice\n",
       "1384                                         level_choice\n",
       "1385                                         level_choice\n",
       "Name: event_path, Length: 1386, dtype: object"
      ]
     },
     "execution_count": 189,
     "metadata": {},
     "output_type": "execute_result"
    }
   ],
   "source": [
    "users_started_tut_after_lev['event_path'] = users_started_tut_after_lev['event_type_x'].apply(lambda x: '>'.join(x))\n",
    "users_started_tut_after_lev['event_path']"
   ]
  },
  {
   "cell_type": "code",
   "execution_count": 190,
   "metadata": {},
   "outputs": [
    {
     "data": {
      "text/plain": [
       "0                           tutorial_start>tutorial_start\n",
       "1                                          tutorial_start\n",
       "2                                          tutorial_start\n",
       "3       tutorial_start>tutorial_start>tutorial_start>t...\n",
       "4                                          tutorial_start\n",
       "                              ...                        \n",
       "1381                                       tutorial_start\n",
       "1382                                       tutorial_start\n",
       "1383                        tutorial_start>tutorial_start\n",
       "1384                                       tutorial_start\n",
       "1385                                       tutorial_start\n",
       "Name: event_path, Length: 1386, dtype: object"
      ]
     },
     "execution_count": 190,
     "metadata": {},
     "output_type": "execute_result"
    }
   ],
   "source": [
    "users_started_tut_after_lev2['event_path'] = users_started_tut_after_lev2['event_type_y'].apply(lambda x: '>'.join(x))\n",
    "users_started_tut_after_lev2['event_path']"
   ]
  },
  {
   "cell_type": "code",
   "execution_count": 98,
   "metadata": {},
   "outputs": [],
   "source": [
    "# посмотрим какое количество пользователей содержат последовательности с событиями level_choice и tutorial_start:"
   ]
  },
  {
   "cell_type": "code",
   "execution_count": 193,
   "metadata": {},
   "outputs": [
    {
     "data": {
      "text/plain": [
       "event_path\n",
       "level_choice                                                                                               819\n",
       "level_choice>level_choice                                                                                  229\n",
       "level_choice>level_choice>level_choice                                                                     116\n",
       "level_choice>level_choice>level_choice>level_choice                                                         77\n",
       "level_choice>level_choice>level_choice>level_choice>level_choice                                            57\n",
       "level_choice>level_choice>level_choice>level_choice>level_choice>level_choice                               51\n",
       "level_choice>level_choice>level_choice>level_choice>level_choice>level_choice>level_choice                  28\n",
       "level_choice>level_choice>level_choice>level_choice>level_choice>level_choice>level_choice>level_choice      9\n",
       "Name: user_id, dtype: int64"
      ]
     },
     "metadata": {},
     "output_type": "display_data"
    }
   ],
   "source": [
    "users_paths = users_started_tut_after_lev.groupby(['event_path'])['user_id'].nunique().sort_values(ascending = False)\n",
    "users_paths[users_paths.index.str.contains('level_choice')]\n",
    "display(users_paths)"
   ]
  },
  {
   "cell_type": "code",
   "execution_count": 234,
   "metadata": {},
   "outputs": [
    {
     "data": {
      "text/plain": [
       "event_path\n",
       "tutorial_start                                                                                                             819\n",
       "tutorial_start>tutorial_start                                                                                              229\n",
       "tutorial_start>tutorial_start>tutorial_start                                                                               116\n",
       "tutorial_start>tutorial_start>tutorial_start>tutorial_start                                                                 77\n",
       "tutorial_start>tutorial_start>tutorial_start>tutorial_start>tutorial_start                                                  57\n",
       "tutorial_start>tutorial_start>tutorial_start>tutorial_start>tutorial_start>tutorial_start                                   51\n",
       "tutorial_start>tutorial_start>tutorial_start>tutorial_start>tutorial_start>tutorial_start>tutorial_start                    28\n",
       "tutorial_start>tutorial_start>tutorial_start>tutorial_start>tutorial_start>tutorial_start>tutorial_start>tutorial_start      9\n",
       "Name: user_id, dtype: int64"
      ]
     },
     "execution_count": 234,
     "metadata": {},
     "output_type": "execute_result"
    }
   ],
   "source": [
    "users_paths2 = users_started_tut_after_lev2.groupby(['event_path'])['user_id'].nunique().sort_values(ascending = False)\n",
    "users_paths2[users_paths2.index.str.contains('tutorial_start')]"
   ]
  },
  {
   "cell_type": "code",
   "execution_count": 229,
   "metadata": {},
   "outputs": [],
   "source": [
    "users_paths2 = users_paths2.to_frame()"
   ]
  },
  {
   "cell_type": "code",
   "execution_count": 231,
   "metadata": {},
   "outputs": [],
   "source": [
    "users_paths2['tutorial_start_count'] = users_paths2.index.str.count('>') + 1"
   ]
  },
  {
   "cell_type": "code",
   "execution_count": 232,
   "metadata": {},
   "outputs": [
    {
     "data": {
      "text/html": [
       "<div>\n",
       "<style scoped>\n",
       "    .dataframe tbody tr th:only-of-type {\n",
       "        vertical-align: middle;\n",
       "    }\n",
       "\n",
       "    .dataframe tbody tr th {\n",
       "        vertical-align: top;\n",
       "    }\n",
       "\n",
       "    .dataframe thead th {\n",
       "        text-align: right;\n",
       "    }\n",
       "</style>\n",
       "<table border=\"1\" class=\"dataframe\">\n",
       "  <thead>\n",
       "    <tr style=\"text-align: right;\">\n",
       "      <th></th>\n",
       "      <th>user_id</th>\n",
       "      <th>tutorial_start_count</th>\n",
       "    </tr>\n",
       "    <tr>\n",
       "      <th>event_path</th>\n",
       "      <th></th>\n",
       "      <th></th>\n",
       "    </tr>\n",
       "  </thead>\n",
       "  <tbody>\n",
       "    <tr>\n",
       "      <th>tutorial_start</th>\n",
       "      <td>819</td>\n",
       "      <td>1</td>\n",
       "    </tr>\n",
       "    <tr>\n",
       "      <th>tutorial_start&gt;tutorial_start</th>\n",
       "      <td>229</td>\n",
       "      <td>2</td>\n",
       "    </tr>\n",
       "    <tr>\n",
       "      <th>tutorial_start&gt;tutorial_start&gt;tutorial_start</th>\n",
       "      <td>116</td>\n",
       "      <td>3</td>\n",
       "    </tr>\n",
       "    <tr>\n",
       "      <th>tutorial_start&gt;tutorial_start&gt;tutorial_start&gt;tutorial_start</th>\n",
       "      <td>77</td>\n",
       "      <td>4</td>\n",
       "    </tr>\n",
       "    <tr>\n",
       "      <th>tutorial_start&gt;tutorial_start&gt;tutorial_start&gt;tutorial_start&gt;tutorial_start</th>\n",
       "      <td>57</td>\n",
       "      <td>5</td>\n",
       "    </tr>\n",
       "    <tr>\n",
       "      <th>tutorial_start&gt;tutorial_start&gt;tutorial_start&gt;tutorial_start&gt;tutorial_start&gt;tutorial_start</th>\n",
       "      <td>51</td>\n",
       "      <td>6</td>\n",
       "    </tr>\n",
       "    <tr>\n",
       "      <th>tutorial_start&gt;tutorial_start&gt;tutorial_start&gt;tutorial_start&gt;tutorial_start&gt;tutorial_start&gt;tutorial_start</th>\n",
       "      <td>28</td>\n",
       "      <td>7</td>\n",
       "    </tr>\n",
       "    <tr>\n",
       "      <th>tutorial_start&gt;tutorial_start&gt;tutorial_start&gt;tutorial_start&gt;tutorial_start&gt;tutorial_start&gt;tutorial_start&gt;tutorial_start</th>\n",
       "      <td>9</td>\n",
       "      <td>8</td>\n",
       "    </tr>\n",
       "  </tbody>\n",
       "</table>\n",
       "</div>"
      ],
      "text/plain": [
       "                                                    user_id  \\\n",
       "event_path                                                    \n",
       "tutorial_start                                          819   \n",
       "tutorial_start>tutorial_start                           229   \n",
       "tutorial_start>tutorial_start>tutorial_start            116   \n",
       "tutorial_start>tutorial_start>tutorial_start>tu...       77   \n",
       "tutorial_start>tutorial_start>tutorial_start>tu...       57   \n",
       "tutorial_start>tutorial_start>tutorial_start>tu...       51   \n",
       "tutorial_start>tutorial_start>tutorial_start>tu...       28   \n",
       "tutorial_start>tutorial_start>tutorial_start>tu...        9   \n",
       "\n",
       "                                                    tutorial_start_count  \n",
       "event_path                                                                \n",
       "tutorial_start                                                         1  \n",
       "tutorial_start>tutorial_start                                          2  \n",
       "tutorial_start>tutorial_start>tutorial_start                           3  \n",
       "tutorial_start>tutorial_start>tutorial_start>tu...                     4  \n",
       "tutorial_start>tutorial_start>tutorial_start>tu...                     5  \n",
       "tutorial_start>tutorial_start>tutorial_start>tu...                     6  \n",
       "tutorial_start>tutorial_start>tutorial_start>tu...                     7  \n",
       "tutorial_start>tutorial_start>tutorial_start>tu...                     8  "
      ]
     },
     "execution_count": 232,
     "metadata": {},
     "output_type": "execute_result"
    }
   ],
   "source": [
    "# Посмотрим на пути пользователей, которые начали обучение после выбора уровня сложности \n",
    "# в разрезе количества пользователей и числа начатых обучений после выбора уровня сложности:\n",
    "\n",
    "users_paths2"
   ]
  },
  {
   "cell_type": "code",
   "execution_count": null,
   "metadata": {},
   "outputs": [],
   "source": []
  },
  {
   "cell_type": "code",
   "execution_count": null,
   "metadata": {},
   "outputs": [],
   "source": []
  },
  {
   "cell_type": "code",
   "execution_count": null,
   "metadata": {},
   "outputs": [],
   "source": []
  },
  {
   "cell_type": "code",
   "execution_count": null,
   "metadata": {},
   "outputs": [],
   "source": []
  },
  {
   "cell_type": "code",
   "execution_count": null,
   "metadata": {},
   "outputs": [],
   "source": []
  },
  {
   "cell_type": "code",
   "execution_count": null,
   "metadata": {},
   "outputs": [],
   "source": []
  },
  {
   "cell_type": "code",
   "execution_count": null,
   "metadata": {},
   "outputs": [],
   "source": []
  },
  {
   "cell_type": "code",
   "execution_count": null,
   "metadata": {},
   "outputs": [],
   "source": []
  },
  {
   "cell_type": "code",
   "execution_count": null,
   "metadata": {},
   "outputs": [],
   "source": []
  },
  {
   "cell_type": "code",
   "execution_count": null,
   "metadata": {},
   "outputs": [],
   "source": []
  },
  {
   "cell_type": "code",
   "execution_count": null,
   "metadata": {},
   "outputs": [],
   "source": []
  },
  {
   "cell_type": "code",
   "execution_count": null,
   "metadata": {},
   "outputs": [],
   "source": []
  },
  {
   "cell_type": "code",
   "execution_count": null,
   "metadata": {},
   "outputs": [],
   "source": []
  },
  {
   "cell_type": "code",
   "execution_count": null,
   "metadata": {},
   "outputs": [],
   "source": []
  },
  {
   "cell_type": "code",
   "execution_count": null,
   "metadata": {},
   "outputs": [],
   "source": []
  },
  {
   "cell_type": "code",
   "execution_count": null,
   "metadata": {},
   "outputs": [],
   "source": []
  },
  {
   "cell_type": "code",
   "execution_count": null,
   "metadata": {},
   "outputs": [],
   "source": []
  },
  {
   "cell_type": "code",
   "execution_count": null,
   "metadata": {},
   "outputs": [],
   "source": []
  },
  {
   "cell_type": "code",
   "execution_count": null,
   "metadata": {},
   "outputs": [],
   "source": []
  },
  {
   "cell_type": "code",
   "execution_count": null,
   "metadata": {},
   "outputs": [],
   "source": []
  },
  {
   "cell_type": "code",
   "execution_count": null,
   "metadata": {},
   "outputs": [],
   "source": []
  },
  {
   "cell_type": "code",
   "execution_count": null,
   "metadata": {},
   "outputs": [],
   "source": []
  },
  {
   "cell_type": "code",
   "execution_count": null,
   "metadata": {},
   "outputs": [],
   "source": []
  },
  {
   "cell_type": "code",
   "execution_count": null,
   "metadata": {},
   "outputs": [],
   "source": []
  },
  {
   "cell_type": "code",
   "execution_count": null,
   "metadata": {},
   "outputs": [],
   "source": []
  },
  {
   "cell_type": "code",
   "execution_count": null,
   "metadata": {},
   "outputs": [],
   "source": []
  },
  {
   "cell_type": "code",
   "execution_count": null,
   "metadata": {},
   "outputs": [],
   "source": []
  },
  {
   "cell_type": "code",
   "execution_count": null,
   "metadata": {},
   "outputs": [],
   "source": []
  },
  {
   "cell_type": "code",
   "execution_count": null,
   "metadata": {},
   "outputs": [],
   "source": []
  },
  {
   "cell_type": "code",
   "execution_count": null,
   "metadata": {},
   "outputs": [],
   "source": []
  },
  {
   "cell_type": "code",
   "execution_count": null,
   "metadata": {},
   "outputs": [],
   "source": []
  },
  {
   "cell_type": "code",
   "execution_count": null,
   "metadata": {},
   "outputs": [],
   "source": []
  },
  {
   "cell_type": "code",
   "execution_count": null,
   "metadata": {},
   "outputs": [],
   "source": []
  },
  {
   "cell_type": "code",
   "execution_count": null,
   "metadata": {},
   "outputs": [],
   "source": []
  },
  {
   "cell_type": "code",
   "execution_count": null,
   "metadata": {},
   "outputs": [],
   "source": []
  },
  {
   "cell_type": "code",
   "execution_count": null,
   "metadata": {},
   "outputs": [],
   "source": []
  },
  {
   "cell_type": "code",
   "execution_count": null,
   "metadata": {},
   "outputs": [],
   "source": []
  },
  {
   "cell_type": "code",
   "execution_count": null,
   "metadata": {},
   "outputs": [],
   "source": []
  },
  {
   "cell_type": "code",
   "execution_count": null,
   "metadata": {},
   "outputs": [],
   "source": []
  },
  {
   "cell_type": "code",
   "execution_count": null,
   "metadata": {},
   "outputs": [],
   "source": []
  },
  {
   "cell_type": "code",
   "execution_count": null,
   "metadata": {},
   "outputs": [],
   "source": []
  },
  {
   "cell_type": "code",
   "execution_count": null,
   "metadata": {},
   "outputs": [],
   "source": []
  },
  {
   "cell_type": "code",
   "execution_count": null,
   "metadata": {},
   "outputs": [],
   "source": []
  },
  {
   "cell_type": "code",
   "execution_count": null,
   "metadata": {},
   "outputs": [],
   "source": []
  },
  {
   "cell_type": "code",
   "execution_count": null,
   "metadata": {},
   "outputs": [],
   "source": []
  },
  {
   "cell_type": "code",
   "execution_count": null,
   "metadata": {},
   "outputs": [],
   "source": []
  },
  {
   "cell_type": "code",
   "execution_count": null,
   "metadata": {},
   "outputs": [],
   "source": []
  },
  {
   "cell_type": "code",
   "execution_count": null,
   "metadata": {},
   "outputs": [],
   "source": []
  },
  {
   "cell_type": "code",
   "execution_count": null,
   "metadata": {},
   "outputs": [],
   "source": []
  },
  {
   "cell_type": "code",
   "execution_count": null,
   "metadata": {},
   "outputs": [],
   "source": []
  },
  {
   "cell_type": "code",
   "execution_count": null,
   "metadata": {},
   "outputs": [],
   "source": []
  },
  {
   "cell_type": "code",
   "execution_count": null,
   "metadata": {},
   "outputs": [],
   "source": []
  },
  {
   "cell_type": "code",
   "execution_count": null,
   "metadata": {},
   "outputs": [],
   "source": []
  },
  {
   "cell_type": "code",
   "execution_count": null,
   "metadata": {},
   "outputs": [],
   "source": []
  },
  {
   "cell_type": "code",
   "execution_count": null,
   "metadata": {},
   "outputs": [],
   "source": []
  },
  {
   "cell_type": "code",
   "execution_count": null,
   "metadata": {},
   "outputs": [],
   "source": []
  },
  {
   "cell_type": "code",
   "execution_count": null,
   "metadata": {},
   "outputs": [],
   "source": []
  },
  {
   "cell_type": "code",
   "execution_count": null,
   "metadata": {},
   "outputs": [],
   "source": []
  },
  {
   "cell_type": "code",
   "execution_count": null,
   "metadata": {},
   "outputs": [],
   "source": []
  },
  {
   "cell_type": "code",
   "execution_count": null,
   "metadata": {},
   "outputs": [],
   "source": []
  },
  {
   "cell_type": "code",
   "execution_count": null,
   "metadata": {},
   "outputs": [],
   "source": []
  },
  {
   "cell_type": "code",
   "execution_count": null,
   "metadata": {},
   "outputs": [],
   "source": []
  },
  {
   "cell_type": "code",
   "execution_count": null,
   "metadata": {},
   "outputs": [],
   "source": []
  },
  {
   "cell_type": "code",
   "execution_count": null,
   "metadata": {},
   "outputs": [],
   "source": []
  },
  {
   "cell_type": "code",
   "execution_count": null,
   "metadata": {},
   "outputs": [],
   "source": []
  },
  {
   "cell_type": "code",
   "execution_count": null,
   "metadata": {},
   "outputs": [],
   "source": []
  },
  {
   "cell_type": "code",
   "execution_count": null,
   "metadata": {},
   "outputs": [],
   "source": []
  },
  {
   "cell_type": "code",
   "execution_count": null,
   "metadata": {},
   "outputs": [],
   "source": []
  },
  {
   "cell_type": "code",
   "execution_count": null,
   "metadata": {},
   "outputs": [],
   "source": []
  },
  {
   "cell_type": "code",
   "execution_count": null,
   "metadata": {},
   "outputs": [],
   "source": []
  },
  {
   "cell_type": "code",
   "execution_count": null,
   "metadata": {},
   "outputs": [],
   "source": []
  },
  {
   "cell_type": "code",
   "execution_count": null,
   "metadata": {},
   "outputs": [],
   "source": []
  },
  {
   "cell_type": "code",
   "execution_count": null,
   "metadata": {},
   "outputs": [],
   "source": []
  },
  {
   "cell_type": "code",
   "execution_count": null,
   "metadata": {},
   "outputs": [],
   "source": []
  },
  {
   "cell_type": "code",
   "execution_count": null,
   "metadata": {},
   "outputs": [],
   "source": []
  },
  {
   "cell_type": "code",
   "execution_count": null,
   "metadata": {},
   "outputs": [],
   "source": []
  },
  {
   "cell_type": "code",
   "execution_count": null,
   "metadata": {},
   "outputs": [],
   "source": []
  },
  {
   "cell_type": "code",
   "execution_count": null,
   "metadata": {},
   "outputs": [],
   "source": []
  },
  {
   "cell_type": "code",
   "execution_count": null,
   "metadata": {},
   "outputs": [],
   "source": []
  },
  {
   "cell_type": "code",
   "execution_count": null,
   "metadata": {},
   "outputs": [],
   "source": []
  },
  {
   "cell_type": "code",
   "execution_count": null,
   "metadata": {},
   "outputs": [],
   "source": []
  },
  {
   "cell_type": "code",
   "execution_count": null,
   "metadata": {},
   "outputs": [],
   "source": []
  },
  {
   "cell_type": "code",
   "execution_count": null,
   "metadata": {},
   "outputs": [],
   "source": []
  },
  {
   "cell_type": "code",
   "execution_count": null,
   "metadata": {},
   "outputs": [],
   "source": []
  },
  {
   "cell_type": "code",
   "execution_count": null,
   "metadata": {},
   "outputs": [],
   "source": []
  },
  {
   "cell_type": "code",
   "execution_count": null,
   "metadata": {},
   "outputs": [],
   "source": []
  },
  {
   "cell_type": "code",
   "execution_count": null,
   "metadata": {},
   "outputs": [],
   "source": []
  },
  {
   "cell_type": "code",
   "execution_count": null,
   "metadata": {},
   "outputs": [],
   "source": []
  },
  {
   "cell_type": "code",
   "execution_count": null,
   "metadata": {},
   "outputs": [],
   "source": []
  },
  {
   "cell_type": "code",
   "execution_count": null,
   "metadata": {},
   "outputs": [],
   "source": []
  },
  {
   "cell_type": "code",
   "execution_count": null,
   "metadata": {},
   "outputs": [],
   "source": []
  },
  {
   "cell_type": "code",
   "execution_count": null,
   "metadata": {},
   "outputs": [],
   "source": []
  },
  {
   "cell_type": "code",
   "execution_count": null,
   "metadata": {},
   "outputs": [],
   "source": []
  },
  {
   "cell_type": "code",
   "execution_count": null,
   "metadata": {},
   "outputs": [],
   "source": []
  },
  {
   "cell_type": "code",
   "execution_count": null,
   "metadata": {},
   "outputs": [],
   "source": []
  },
  {
   "cell_type": "code",
   "execution_count": null,
   "metadata": {},
   "outputs": [],
   "source": []
  },
  {
   "cell_type": "code",
   "execution_count": null,
   "metadata": {},
   "outputs": [],
   "source": []
  },
  {
   "cell_type": "code",
   "execution_count": null,
   "metadata": {},
   "outputs": [],
   "source": []
  },
  {
   "cell_type": "code",
   "execution_count": null,
   "metadata": {},
   "outputs": [],
   "source": []
  },
  {
   "cell_type": "code",
   "execution_count": null,
   "metadata": {},
   "outputs": [],
   "source": []
  },
  {
   "cell_type": "code",
   "execution_count": null,
   "metadata": {},
   "outputs": [],
   "source": []
  },
  {
   "cell_type": "code",
   "execution_count": null,
   "metadata": {},
   "outputs": [],
   "source": []
  },
  {
   "cell_type": "code",
   "execution_count": null,
   "metadata": {},
   "outputs": [],
   "source": []
  },
  {
   "cell_type": "code",
   "execution_count": null,
   "metadata": {},
   "outputs": [],
   "source": []
  },
  {
   "cell_type": "code",
   "execution_count": null,
   "metadata": {},
   "outputs": [],
   "source": []
  },
  {
   "cell_type": "code",
   "execution_count": null,
   "metadata": {},
   "outputs": [],
   "source": []
  },
  {
   "cell_type": "code",
   "execution_count": null,
   "metadata": {},
   "outputs": [],
   "source": []
  },
  {
   "cell_type": "code",
   "execution_count": null,
   "metadata": {},
   "outputs": [],
   "source": []
  },
  {
   "cell_type": "code",
   "execution_count": null,
   "metadata": {},
   "outputs": [],
   "source": []
  },
  {
   "cell_type": "code",
   "execution_count": null,
   "metadata": {},
   "outputs": [],
   "source": []
  },
  {
   "cell_type": "code",
   "execution_count": null,
   "metadata": {},
   "outputs": [],
   "source": []
  },
  {
   "cell_type": "code",
   "execution_count": null,
   "metadata": {},
   "outputs": [],
   "source": []
  },
  {
   "cell_type": "code",
   "execution_count": null,
   "metadata": {},
   "outputs": [],
   "source": []
  },
  {
   "cell_type": "code",
   "execution_count": null,
   "metadata": {},
   "outputs": [],
   "source": []
  },
  {
   "cell_type": "code",
   "execution_count": null,
   "metadata": {},
   "outputs": [],
   "source": []
  },
  {
   "cell_type": "code",
   "execution_count": null,
   "metadata": {},
   "outputs": [],
   "source": []
  },
  {
   "cell_type": "code",
   "execution_count": null,
   "metadata": {},
   "outputs": [],
   "source": []
  },
  {
   "cell_type": "code",
   "execution_count": null,
   "metadata": {},
   "outputs": [],
   "source": []
  },
  {
   "cell_type": "code",
   "execution_count": null,
   "metadata": {},
   "outputs": [],
   "source": []
  },
  {
   "cell_type": "code",
   "execution_count": null,
   "metadata": {},
   "outputs": [],
   "source": []
  },
  {
   "cell_type": "code",
   "execution_count": null,
   "metadata": {},
   "outputs": [],
   "source": []
  },
  {
   "cell_type": "code",
   "execution_count": null,
   "metadata": {},
   "outputs": [],
   "source": []
  },
  {
   "cell_type": "code",
   "execution_count": null,
   "metadata": {},
   "outputs": [],
   "source": []
  },
  {
   "cell_type": "code",
   "execution_count": null,
   "metadata": {},
   "outputs": [],
   "source": []
  },
  {
   "cell_type": "code",
   "execution_count": null,
   "metadata": {},
   "outputs": [],
   "source": []
  },
  {
   "cell_type": "code",
   "execution_count": null,
   "metadata": {},
   "outputs": [],
   "source": []
  },
  {
   "cell_type": "code",
   "execution_count": null,
   "metadata": {},
   "outputs": [],
   "source": []
  },
  {
   "cell_type": "code",
   "execution_count": null,
   "metadata": {},
   "outputs": [],
   "source": []
  },
  {
   "cell_type": "code",
   "execution_count": null,
   "metadata": {},
   "outputs": [],
   "source": []
  },
  {
   "cell_type": "code",
   "execution_count": null,
   "metadata": {},
   "outputs": [],
   "source": []
  },
  {
   "cell_type": "code",
   "execution_count": null,
   "metadata": {},
   "outputs": [],
   "source": []
  },
  {
   "cell_type": "code",
   "execution_count": null,
   "metadata": {},
   "outputs": [],
   "source": []
  },
  {
   "cell_type": "code",
   "execution_count": null,
   "metadata": {},
   "outputs": [],
   "source": []
  },
  {
   "cell_type": "code",
   "execution_count": null,
   "metadata": {},
   "outputs": [],
   "source": []
  },
  {
   "cell_type": "code",
   "execution_count": null,
   "metadata": {},
   "outputs": [],
   "source": []
  },
  {
   "cell_type": "code",
   "execution_count": null,
   "metadata": {},
   "outputs": [],
   "source": []
  },
  {
   "cell_type": "code",
   "execution_count": null,
   "metadata": {},
   "outputs": [],
   "source": []
  },
  {
   "cell_type": "code",
   "execution_count": null,
   "metadata": {},
   "outputs": [],
   "source": []
  },
  {
   "cell_type": "code",
   "execution_count": null,
   "metadata": {},
   "outputs": [],
   "source": []
  },
  {
   "cell_type": "code",
   "execution_count": null,
   "metadata": {},
   "outputs": [],
   "source": []
  },
  {
   "cell_type": "code",
   "execution_count": null,
   "metadata": {},
   "outputs": [],
   "source": []
  },
  {
   "cell_type": "code",
   "execution_count": null,
   "metadata": {},
   "outputs": [],
   "source": []
  },
  {
   "cell_type": "code",
   "execution_count": null,
   "metadata": {},
   "outputs": [],
   "source": []
  },
  {
   "cell_type": "code",
   "execution_count": null,
   "metadata": {},
   "outputs": [],
   "source": []
  },
  {
   "cell_type": "code",
   "execution_count": null,
   "metadata": {},
   "outputs": [],
   "source": []
  },
  {
   "cell_type": "code",
   "execution_count": null,
   "metadata": {},
   "outputs": [],
   "source": []
  },
  {
   "cell_type": "code",
   "execution_count": null,
   "metadata": {},
   "outputs": [],
   "source": []
  },
  {
   "cell_type": "code",
   "execution_count": null,
   "metadata": {},
   "outputs": [],
   "source": []
  },
  {
   "cell_type": "code",
   "execution_count": null,
   "metadata": {},
   "outputs": [],
   "source": []
  },
  {
   "cell_type": "code",
   "execution_count": null,
   "metadata": {},
   "outputs": [],
   "source": []
  },
  {
   "cell_type": "code",
   "execution_count": null,
   "metadata": {},
   "outputs": [],
   "source": []
  },
  {
   "cell_type": "code",
   "execution_count": null,
   "metadata": {},
   "outputs": [],
   "source": []
  },
  {
   "cell_type": "code",
   "execution_count": null,
   "metadata": {},
   "outputs": [],
   "source": []
  },
  {
   "cell_type": "code",
   "execution_count": null,
   "metadata": {},
   "outputs": [],
   "source": []
  },
  {
   "cell_type": "code",
   "execution_count": null,
   "metadata": {},
   "outputs": [],
   "source": []
  },
  {
   "cell_type": "code",
   "execution_count": null,
   "metadata": {},
   "outputs": [],
   "source": []
  },
  {
   "cell_type": "code",
   "execution_count": null,
   "metadata": {},
   "outputs": [],
   "source": []
  },
  {
   "cell_type": "code",
   "execution_count": null,
   "metadata": {},
   "outputs": [],
   "source": []
  },
  {
   "cell_type": "code",
   "execution_count": null,
   "metadata": {},
   "outputs": [],
   "source": []
  },
  {
   "cell_type": "code",
   "execution_count": null,
   "metadata": {},
   "outputs": [],
   "source": []
  },
  {
   "cell_type": "code",
   "execution_count": null,
   "metadata": {},
   "outputs": [],
   "source": []
  },
  {
   "cell_type": "code",
   "execution_count": null,
   "metadata": {},
   "outputs": [],
   "source": []
  },
  {
   "cell_type": "code",
   "execution_count": null,
   "metadata": {},
   "outputs": [],
   "source": []
  },
  {
   "cell_type": "code",
   "execution_count": null,
   "metadata": {},
   "outputs": [],
   "source": []
  },
  {
   "cell_type": "code",
   "execution_count": null,
   "metadata": {},
   "outputs": [],
   "source": []
  },
  {
   "cell_type": "code",
   "execution_count": null,
   "metadata": {},
   "outputs": [],
   "source": []
  },
  {
   "cell_type": "code",
   "execution_count": null,
   "metadata": {},
   "outputs": [],
   "source": []
  },
  {
   "cell_type": "code",
   "execution_count": null,
   "metadata": {},
   "outputs": [],
   "source": []
  },
  {
   "cell_type": "code",
   "execution_count": null,
   "metadata": {},
   "outputs": [],
   "source": []
  },
  {
   "cell_type": "code",
   "execution_count": null,
   "metadata": {},
   "outputs": [],
   "source": []
  },
  {
   "cell_type": "code",
   "execution_count": null,
   "metadata": {},
   "outputs": [],
   "source": []
  },
  {
   "cell_type": "code",
   "execution_count": null,
   "metadata": {},
   "outputs": [],
   "source": []
  },
  {
   "cell_type": "code",
   "execution_count": null,
   "metadata": {},
   "outputs": [],
   "source": []
  },
  {
   "cell_type": "code",
   "execution_count": null,
   "metadata": {},
   "outputs": [],
   "source": []
  },
  {
   "cell_type": "code",
   "execution_count": null,
   "metadata": {},
   "outputs": [],
   "source": []
  },
  {
   "cell_type": "code",
   "execution_count": null,
   "metadata": {},
   "outputs": [],
   "source": []
  },
  {
   "cell_type": "code",
   "execution_count": null,
   "metadata": {},
   "outputs": [],
   "source": []
  },
  {
   "cell_type": "code",
   "execution_count": null,
   "metadata": {},
   "outputs": [],
   "source": []
  },
  {
   "cell_type": "code",
   "execution_count": null,
   "metadata": {},
   "outputs": [],
   "source": []
  },
  {
   "cell_type": "code",
   "execution_count": null,
   "metadata": {},
   "outputs": [],
   "source": []
  },
  {
   "cell_type": "code",
   "execution_count": null,
   "metadata": {},
   "outputs": [],
   "source": []
  },
  {
   "cell_type": "code",
   "execution_count": null,
   "metadata": {},
   "outputs": [],
   "source": []
  },
  {
   "cell_type": "code",
   "execution_count": null,
   "metadata": {},
   "outputs": [],
   "source": []
  },
  {
   "cell_type": "code",
   "execution_count": null,
   "metadata": {},
   "outputs": [],
   "source": []
  },
  {
   "cell_type": "code",
   "execution_count": null,
   "metadata": {},
   "outputs": [],
   "source": []
  },
  {
   "cell_type": "code",
   "execution_count": null,
   "metadata": {},
   "outputs": [],
   "source": []
  },
  {
   "cell_type": "code",
   "execution_count": null,
   "metadata": {},
   "outputs": [],
   "source": []
  },
  {
   "cell_type": "code",
   "execution_count": null,
   "metadata": {},
   "outputs": [],
   "source": []
  },
  {
   "cell_type": "code",
   "execution_count": null,
   "metadata": {},
   "outputs": [],
   "source": []
  },
  {
   "cell_type": "code",
   "execution_count": null,
   "metadata": {},
   "outputs": [],
   "source": []
  },
  {
   "cell_type": "code",
   "execution_count": null,
   "metadata": {},
   "outputs": [],
   "source": []
  },
  {
   "cell_type": "code",
   "execution_count": null,
   "metadata": {},
   "outputs": [],
   "source": []
  },
  {
   "cell_type": "code",
   "execution_count": null,
   "metadata": {},
   "outputs": [],
   "source": []
  },
  {
   "cell_type": "code",
   "execution_count": null,
   "metadata": {},
   "outputs": [],
   "source": []
  },
  {
   "cell_type": "code",
   "execution_count": null,
   "metadata": {},
   "outputs": [],
   "source": []
  },
  {
   "cell_type": "code",
   "execution_count": null,
   "metadata": {},
   "outputs": [],
   "source": []
  },
  {
   "cell_type": "code",
   "execution_count": null,
   "metadata": {},
   "outputs": [],
   "source": []
  },
  {
   "cell_type": "code",
   "execution_count": null,
   "metadata": {},
   "outputs": [],
   "source": []
  },
  {
   "cell_type": "code",
   "execution_count": null,
   "metadata": {},
   "outputs": [],
   "source": []
  },
  {
   "cell_type": "code",
   "execution_count": null,
   "metadata": {},
   "outputs": [],
   "source": []
  },
  {
   "cell_type": "code",
   "execution_count": null,
   "metadata": {},
   "outputs": [],
   "source": []
  },
  {
   "cell_type": "code",
   "execution_count": null,
   "metadata": {},
   "outputs": [],
   "source": []
  },
  {
   "cell_type": "code",
   "execution_count": null,
   "metadata": {},
   "outputs": [],
   "source": []
  },
  {
   "cell_type": "code",
   "execution_count": null,
   "metadata": {},
   "outputs": [],
   "source": []
  },
  {
   "cell_type": "code",
   "execution_count": null,
   "metadata": {},
   "outputs": [],
   "source": []
  },
  {
   "cell_type": "code",
   "execution_count": null,
   "metadata": {},
   "outputs": [],
   "source": []
  },
  {
   "cell_type": "code",
   "execution_count": null,
   "metadata": {},
   "outputs": [],
   "source": []
  },
  {
   "cell_type": "code",
   "execution_count": null,
   "metadata": {},
   "outputs": [],
   "source": []
  },
  {
   "cell_type": "code",
   "execution_count": null,
   "metadata": {},
   "outputs": [],
   "source": []
  },
  {
   "cell_type": "code",
   "execution_count": null,
   "metadata": {},
   "outputs": [],
   "source": []
  },
  {
   "cell_type": "code",
   "execution_count": null,
   "metadata": {},
   "outputs": [],
   "source": []
  },
  {
   "cell_type": "code",
   "execution_count": null,
   "metadata": {},
   "outputs": [],
   "source": []
  },
  {
   "cell_type": "code",
   "execution_count": null,
   "metadata": {},
   "outputs": [],
   "source": []
  },
  {
   "cell_type": "code",
   "execution_count": null,
   "metadata": {},
   "outputs": [],
   "source": []
  },
  {
   "cell_type": "code",
   "execution_count": null,
   "metadata": {},
   "outputs": [],
   "source": []
  },
  {
   "cell_type": "code",
   "execution_count": null,
   "metadata": {},
   "outputs": [],
   "source": []
  },
  {
   "cell_type": "code",
   "execution_count": null,
   "metadata": {},
   "outputs": [],
   "source": []
  },
  {
   "cell_type": "code",
   "execution_count": null,
   "metadata": {},
   "outputs": [],
   "source": []
  },
  {
   "cell_type": "code",
   "execution_count": null,
   "metadata": {},
   "outputs": [],
   "source": []
  },
  {
   "cell_type": "code",
   "execution_count": null,
   "metadata": {},
   "outputs": [],
   "source": []
  },
  {
   "cell_type": "code",
   "execution_count": null,
   "metadata": {},
   "outputs": [],
   "source": []
  },
  {
   "cell_type": "code",
   "execution_count": null,
   "metadata": {},
   "outputs": [],
   "source": []
  },
  {
   "cell_type": "code",
   "execution_count": null,
   "metadata": {},
   "outputs": [],
   "source": []
  },
  {
   "cell_type": "code",
   "execution_count": null,
   "metadata": {},
   "outputs": [],
   "source": []
  },
  {
   "cell_type": "code",
   "execution_count": null,
   "metadata": {},
   "outputs": [],
   "source": []
  },
  {
   "cell_type": "code",
   "execution_count": null,
   "metadata": {},
   "outputs": [],
   "source": []
  },
  {
   "cell_type": "code",
   "execution_count": null,
   "metadata": {},
   "outputs": [],
   "source": []
  },
  {
   "cell_type": "code",
   "execution_count": null,
   "metadata": {},
   "outputs": [],
   "source": []
  },
  {
   "cell_type": "code",
   "execution_count": null,
   "metadata": {},
   "outputs": [],
   "source": []
  },
  {
   "cell_type": "code",
   "execution_count": null,
   "metadata": {},
   "outputs": [],
   "source": []
  },
  {
   "cell_type": "code",
   "execution_count": null,
   "metadata": {},
   "outputs": [],
   "source": []
  },
  {
   "cell_type": "code",
   "execution_count": null,
   "metadata": {},
   "outputs": [],
   "source": []
  },
  {
   "cell_type": "code",
   "execution_count": null,
   "metadata": {},
   "outputs": [],
   "source": []
  },
  {
   "cell_type": "code",
   "execution_count": null,
   "metadata": {},
   "outputs": [],
   "source": []
  },
  {
   "cell_type": "code",
   "execution_count": null,
   "metadata": {},
   "outputs": [],
   "source": []
  },
  {
   "cell_type": "code",
   "execution_count": null,
   "metadata": {},
   "outputs": [],
   "source": []
  },
  {
   "cell_type": "code",
   "execution_count": null,
   "metadata": {},
   "outputs": [],
   "source": []
  },
  {
   "cell_type": "code",
   "execution_count": null,
   "metadata": {},
   "outputs": [],
   "source": []
  },
  {
   "cell_type": "code",
   "execution_count": null,
   "metadata": {},
   "outputs": [],
   "source": []
  },
  {
   "cell_type": "code",
   "execution_count": null,
   "metadata": {},
   "outputs": [],
   "source": []
  },
  {
   "cell_type": "code",
   "execution_count": null,
   "metadata": {},
   "outputs": [],
   "source": []
  },
  {
   "cell_type": "code",
   "execution_count": null,
   "metadata": {},
   "outputs": [],
   "source": []
  },
  {
   "cell_type": "code",
   "execution_count": null,
   "metadata": {},
   "outputs": [],
   "source": []
  },
  {
   "cell_type": "code",
   "execution_count": null,
   "metadata": {},
   "outputs": [],
   "source": []
  },
  {
   "cell_type": "code",
   "execution_count": null,
   "metadata": {},
   "outputs": [],
   "source": []
  },
  {
   "cell_type": "code",
   "execution_count": null,
   "metadata": {},
   "outputs": [],
   "source": []
  },
  {
   "cell_type": "code",
   "execution_count": null,
   "metadata": {},
   "outputs": [],
   "source": []
  },
  {
   "cell_type": "code",
   "execution_count": null,
   "metadata": {},
   "outputs": [],
   "source": []
  },
  {
   "cell_type": "code",
   "execution_count": null,
   "metadata": {},
   "outputs": [],
   "source": []
  },
  {
   "cell_type": "code",
   "execution_count": null,
   "metadata": {},
   "outputs": [],
   "source": []
  },
  {
   "cell_type": "code",
   "execution_count": null,
   "metadata": {},
   "outputs": [],
   "source": []
  },
  {
   "cell_type": "code",
   "execution_count": null,
   "metadata": {},
   "outputs": [],
   "source": []
  },
  {
   "cell_type": "code",
   "execution_count": null,
   "metadata": {},
   "outputs": [],
   "source": []
  },
  {
   "cell_type": "code",
   "execution_count": null,
   "metadata": {},
   "outputs": [],
   "source": []
  },
  {
   "cell_type": "code",
   "execution_count": null,
   "metadata": {},
   "outputs": [],
   "source": []
  },
  {
   "cell_type": "code",
   "execution_count": null,
   "metadata": {},
   "outputs": [],
   "source": []
  },
  {
   "cell_type": "code",
   "execution_count": null,
   "metadata": {},
   "outputs": [],
   "source": []
  }
 ],
 "metadata": {
  "kernelspec": {
   "display_name": "Python 3",
   "language": "python",
   "name": "python3"
  },
  "language_info": {
   "codemirror_mode": {
    "name": "ipython",
    "version": 3
   },
   "file_extension": ".py",
   "mimetype": "text/x-python",
   "name": "python",
   "nbconvert_exporter": "python",
   "pygments_lexer": "ipython3",
   "version": "3.8.5"
  }
 },
 "nbformat": 4,
 "nbformat_minor": 4
}
