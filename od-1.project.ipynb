{
 "cells": [
  {
   "cell_type": "markdown",
   "metadata": {},
   "source": [
    "Skillfactory > DA > 9.10. PROJECT. Determining the number of bots on the site\n",
    "\n",
    "# INDEPENDENT WORK\n",
    "\n",
    "Exercise:\n",
    "\n",
    "1. Estimate the number of bots that visit our site and their share of the total traffic?\n",
    "2. Determine what sources and at what daily time robots most often come from?\n",
    "\n",
    "\n",
    "Note. Robots can be search engine spiders that index blog content, or various content parsers and aggregators. Yandex.Metrica allows you to find these robots and shows them in a separate parameter ym:s:isRobot, and also counts their share in the special metric ym:s:robotPercentage.\n",
    "\n",
    "\n",
    "### Notes:\n",
    "* The answer must be in the form of an ipynb file.\n",
    "* The ipynb file should start and run without having to change the order of steps. That is, when you click the Restart Kernel & Re-run the whole notebook button, the laptop should run without errors and give the result of checking the second hypothesis at the end.\n",
    "* The result of the assignment is a written algorithm that performs calculations and displays data, on the basis of which it is possible to confirm or refute the hypothesis.\n",
    "* Mandatory presence of outputs in cell format with Markdown.\n",
    "* It will be a big plus (but this is not a prerequisite) if during the algorithm comments are given to the code (in the form of Python comments or in Markdown markup in Jupyter Notebook) describing the purpose of the variables and expressions created.\n",
    "\n",
    "### Note to reviewer:\n",
    "- to check the project, in the parameters (params = ... > token = ... instead of MY TOKEN, insert your working Yandex Metrica token)"
   ]
  },
  {
   "cell_type": "markdown",
   "metadata": {},
   "source": [
    "### Data collection"
   ]
  },
  {
   "cell_type": "code",
   "execution_count": 1,
   "metadata": {},
   "outputs": [],
   "source": [
    "# Importing required working libraries:\n",
    "\n",
    "import pandas as pd\n",
    "import numpy as np # imported for \"if needed\" cases\n",
    "import json\n",
    "import requests\n",
    "from pprint import pprint"
   ]
  },
  {
   "cell_type": "code",
   "execution_count": 2,
   "metadata": {},
   "outputs": [],
   "source": [
    "# Defining query parameters, indicating final technical names of the metrics:\n",
    "\n",
    "params = {'metrics':'ym:s:visits,ym:s:robotPercentage',\n",
    "         'dimensions':'ym:s:lastsignTrafficSource,ym:s:hour',\n",
    "         'date1':'2020-09-01',\n",
    "         'date2':'2020-09-30',\n",
    "         'ids':30177909,\n",
    "         'accuracy': 'full', \n",
    "         'limit': 100000}\n",
    "\n",
    "# Setting authorization token to the 'token' variable:\n",
    "token = 'MY TOKEN' \n",
    "# Creating a headers dictionary that will contain the HTTP header parameters:\n",
    "headers = {'Authorization': 'OAuth' + token}"
   ]
  },
  {
   "cell_type": "code",
   "execution_count": 3,
   "metadata": {},
   "outputs": [
    {
     "name": "stdout",
     "output_type": "stream",
     "text": [
      "403\n"
     ]
    }
   ],
   "source": [
    "# By using the 'requests' library, we make an http request to Yandex.Metrics API and get our data:\n",
    "response = requests.get('https://api-metrika.yandex.net/stat/v1/data', params=params, headers=headers)\n",
    "# We make sure that the request was made correctly and the API sent a response - a 200 code was received:\n",
    "print(response.status_code)"
   ]
  },
  {
   "cell_type": "code",
   "execution_count": 4,
   "metadata": {},
   "outputs": [],
   "source": [
    "# Let's write the response data to the metrica_data variable:\n",
    "metrika_data = response.json()"
   ]
  },
  {
   "cell_type": "code",
   "execution_count": 5,
   "metadata": {},
   "outputs": [
    {
     "ename": "KeyError",
     "evalue": "'data'",
     "output_type": "error",
     "traceback": [
      "\u001b[1;31m---------------------------------------------------------------------------\u001b[0m",
      "\u001b[1;31mKeyError\u001b[0m                                  Traceback (most recent call last)",
      "\u001b[1;32m<ipython-input-5-921f778da9e9>\u001b[0m in \u001b[0;36m<module>\u001b[1;34m\u001b[0m\n\u001b[0;32m      2\u001b[0m \u001b[1;31m## dimensions - grouping values that we specified in the request,\u001b[0m\u001b[1;33m\u001b[0m\u001b[1;33m\u001b[0m\u001b[1;33m\u001b[0m\u001b[0m\n\u001b[0;32m      3\u001b[0m \u001b[1;31m## metrics - metrics values that are specified in the request\u001b[0m\u001b[1;33m\u001b[0m\u001b[1;33m\u001b[0m\u001b[1;33m\u001b[0m\u001b[0m\n\u001b[1;32m----> 4\u001b[1;33m \u001b[0mpprint\u001b[0m\u001b[1;33m(\u001b[0m\u001b[0mmetrika_data\u001b[0m\u001b[1;33m[\u001b[0m\u001b[1;34m'data'\u001b[0m\u001b[1;33m]\u001b[0m\u001b[1;33m[\u001b[0m\u001b[1;36m0\u001b[0m\u001b[1;33m:\u001b[0m\u001b[1;36m5\u001b[0m\u001b[1;33m]\u001b[0m\u001b[1;33m)\u001b[0m\u001b[1;33m\u001b[0m\u001b[1;33m\u001b[0m\u001b[0m\n\u001b[0m",
      "\u001b[1;31mKeyError\u001b[0m: 'data'"
     ]
    }
   ],
   "source": [
    "# Let's display the statistics of the first 5 dictionaries that contain 2 keys:\n",
    "## dimensions - grouping values that we specified in the request,\n",
    "## metrics - metrics values that are specified in the request\n",
    "pprint(metrika_data['data'][0:5])"
   ]
  },
  {
   "cell_type": "markdown",
   "metadata": {},
   "source": [
    "### Data transformation:"
   ]
  },
  {
   "cell_type": "code",
   "execution_count": 6,
   "metadata": {},
   "outputs": [
    {
     "data": {
      "text/html": [
       "<div>\n",
       "<style scoped>\n",
       "    .dataframe tbody tr th:only-of-type {\n",
       "        vertical-align: middle;\n",
       "    }\n",
       "\n",
       "    .dataframe tbody tr th {\n",
       "        vertical-align: top;\n",
       "    }\n",
       "\n",
       "    .dataframe thead th {\n",
       "        text-align: right;\n",
       "    }\n",
       "</style>\n",
       "<table border=\"1\" class=\"dataframe\">\n",
       "  <thead>\n",
       "    <tr style=\"text-align: right;\">\n",
       "      <th></th>\n",
       "      <th>dimensions</th>\n",
       "      <th>metrics</th>\n",
       "    </tr>\n",
       "  </thead>\n",
       "  <tbody>\n",
       "    <tr>\n",
       "      <th>0</th>\n",
       "      <td>[{'icon_id': '2', 'icon_type': 'traffic-source...</td>\n",
       "      <td>[251.0, 24.70119522]</td>\n",
       "    </tr>\n",
       "    <tr>\n",
       "      <th>1</th>\n",
       "      <td>[{'icon_id': '2', 'icon_type': 'traffic-source...</td>\n",
       "      <td>[240.0, 26.25]</td>\n",
       "    </tr>\n",
       "    <tr>\n",
       "      <th>2</th>\n",
       "      <td>[{'icon_id': '2', 'icon_type': 'traffic-source...</td>\n",
       "      <td>[228.0, 25.87719298]</td>\n",
       "    </tr>\n",
       "    <tr>\n",
       "      <th>3</th>\n",
       "      <td>[{'icon_id': '2', 'icon_type': 'traffic-source...</td>\n",
       "      <td>[227.0, 28.1938326]</td>\n",
       "    </tr>\n",
       "    <tr>\n",
       "      <th>4</th>\n",
       "      <td>[{'icon_id': '2', 'icon_type': 'traffic-source...</td>\n",
       "      <td>[225.0, 24.88888889]</td>\n",
       "    </tr>\n",
       "    <tr>\n",
       "      <th>...</th>\n",
       "      <td>...</td>\n",
       "      <td>...</td>\n",
       "    </tr>\n",
       "    <tr>\n",
       "      <th>102</th>\n",
       "      <td>[{'icon_id': '8', 'icon_type': 'traffic-source...</td>\n",
       "      <td>[1.0, 0.0]</td>\n",
       "    </tr>\n",
       "    <tr>\n",
       "      <th>103</th>\n",
       "      <td>[{'icon_id': '8', 'icon_type': 'traffic-source...</td>\n",
       "      <td>[1.0, 0.0]</td>\n",
       "    </tr>\n",
       "    <tr>\n",
       "      <th>104</th>\n",
       "      <td>[{'icon_id': '8', 'icon_type': 'traffic-source...</td>\n",
       "      <td>[1.0, 0.0]</td>\n",
       "    </tr>\n",
       "    <tr>\n",
       "      <th>105</th>\n",
       "      <td>[{'icon_id': '9', 'icon_type': 'traffic-source...</td>\n",
       "      <td>[1.0, 0.0]</td>\n",
       "    </tr>\n",
       "    <tr>\n",
       "      <th>106</th>\n",
       "      <td>[{'icon_id': '9', 'icon_type': 'traffic-source...</td>\n",
       "      <td>[1.0, 0.0]</td>\n",
       "    </tr>\n",
       "  </tbody>\n",
       "</table>\n",
       "<p>107 rows × 2 columns</p>\n",
       "</div>"
      ],
      "text/plain": [
       "                                            dimensions               metrics\n",
       "0    [{'icon_id': '2', 'icon_type': 'traffic-source...  [251.0, 24.70119522]\n",
       "1    [{'icon_id': '2', 'icon_type': 'traffic-source...        [240.0, 26.25]\n",
       "2    [{'icon_id': '2', 'icon_type': 'traffic-source...  [228.0, 25.87719298]\n",
       "3    [{'icon_id': '2', 'icon_type': 'traffic-source...   [227.0, 28.1938326]\n",
       "4    [{'icon_id': '2', 'icon_type': 'traffic-source...  [225.0, 24.88888889]\n",
       "..                                                 ...                   ...\n",
       "102  [{'icon_id': '8', 'icon_type': 'traffic-source...            [1.0, 0.0]\n",
       "103  [{'icon_id': '8', 'icon_type': 'traffic-source...            [1.0, 0.0]\n",
       "104  [{'icon_id': '8', 'icon_type': 'traffic-source...            [1.0, 0.0]\n",
       "105  [{'icon_id': '9', 'icon_type': 'traffic-source...            [1.0, 0.0]\n",
       "106  [{'icon_id': '9', 'icon_type': 'traffic-source...            [1.0, 0.0]\n",
       "\n",
       "[107 rows x 2 columns]"
      ]
     },
     "metadata": {},
     "output_type": "display_data"
    }
   ],
   "source": [
    "# Creating metrica_df dataframe from statistic data metrica_data['data']\n",
    "metrika_df = pd.DataFrame(metrika_data['data'])\n",
    "display(metrika_df)"
   ]
  },
  {
   "cell_type": "code",
   "execution_count": 7,
   "metadata": {},
   "outputs": [],
   "source": [
    "# Converting data into a convenient working form\n",
    "# - let's get rid of nested dictionaries by using the getMetrikaDataInListOfDicts function:\n",
    "def getMetrikaDataInListOfDicts(metrika_data):\n",
    "    list_of_dicts = []\n",
    "    dimensions_list = metrika_data['query']['dimensions']\n",
    "    metrics_list = metrika_data['query']['metrics']\n",
    "    for data_item in metrika_data['data']:\n",
    "        d = {}\n",
    "        for i, dimension in enumerate(data_item['dimensions']):\n",
    "            d[dimensions_list[i]] = dimension['name']\n",
    "        for i, metric in enumerate(data_item['metrics']):\n",
    "            d[metrics_list[i]] = metric\n",
    "        list_of_dicts.append(d)\n",
    "    return list_of_dicts"
   ]
  },
  {
   "cell_type": "code",
   "execution_count": 8,
   "metadata": {},
   "outputs": [],
   "source": [
    "# Creating new variable 'metrica_list_of_dicts' - applying the function to metrika_data:\n",
    "metrika_list_of_dicts = getMetrikaDataInListOfDicts(metrika_data)"
   ]
  },
  {
   "cell_type": "code",
   "execution_count": 9,
   "metadata": {},
   "outputs": [
    {
     "data": {
      "text/html": [
       "<div>\n",
       "<style scoped>\n",
       "    .dataframe tbody tr th:only-of-type {\n",
       "        vertical-align: middle;\n",
       "    }\n",
       "\n",
       "    .dataframe tbody tr th {\n",
       "        vertical-align: top;\n",
       "    }\n",
       "\n",
       "    .dataframe thead th {\n",
       "        text-align: right;\n",
       "    }\n",
       "</style>\n",
       "<table border=\"1\" class=\"dataframe\">\n",
       "  <thead>\n",
       "    <tr style=\"text-align: right;\">\n",
       "      <th></th>\n",
       "      <th>ym:s:lastsignTrafficSource</th>\n",
       "      <th>ym:s:hour</th>\n",
       "      <th>ym:s:visits</th>\n",
       "      <th>ym:s:robotPercentage</th>\n",
       "    </tr>\n",
       "  </thead>\n",
       "  <tbody>\n",
       "    <tr>\n",
       "      <th>0</th>\n",
       "      <td>Search engine traffic</td>\n",
       "      <td>16:00</td>\n",
       "      <td>251.0</td>\n",
       "      <td>24.701195</td>\n",
       "    </tr>\n",
       "    <tr>\n",
       "      <th>1</th>\n",
       "      <td>Search engine traffic</td>\n",
       "      <td>15:00</td>\n",
       "      <td>240.0</td>\n",
       "      <td>26.250000</td>\n",
       "    </tr>\n",
       "    <tr>\n",
       "      <th>2</th>\n",
       "      <td>Search engine traffic</td>\n",
       "      <td>11:00</td>\n",
       "      <td>228.0</td>\n",
       "      <td>25.877193</td>\n",
       "    </tr>\n",
       "    <tr>\n",
       "      <th>3</th>\n",
       "      <td>Search engine traffic</td>\n",
       "      <td>13:00</td>\n",
       "      <td>227.0</td>\n",
       "      <td>28.193833</td>\n",
       "    </tr>\n",
       "    <tr>\n",
       "      <th>4</th>\n",
       "      <td>Search engine traffic</td>\n",
       "      <td>12:00</td>\n",
       "      <td>225.0</td>\n",
       "      <td>24.888889</td>\n",
       "    </tr>\n",
       "    <tr>\n",
       "      <th>5</th>\n",
       "      <td>Search engine traffic</td>\n",
       "      <td>14:00</td>\n",
       "      <td>225.0</td>\n",
       "      <td>25.777778</td>\n",
       "    </tr>\n",
       "    <tr>\n",
       "      <th>6</th>\n",
       "      <td>Search engine traffic</td>\n",
       "      <td>17:00</td>\n",
       "      <td>209.0</td>\n",
       "      <td>26.315789</td>\n",
       "    </tr>\n",
       "    <tr>\n",
       "      <th>7</th>\n",
       "      <td>Search engine traffic</td>\n",
       "      <td>10:00</td>\n",
       "      <td>186.0</td>\n",
       "      <td>19.354839</td>\n",
       "    </tr>\n",
       "    <tr>\n",
       "      <th>8</th>\n",
       "      <td>Search engine traffic</td>\n",
       "      <td>21:00</td>\n",
       "      <td>166.0</td>\n",
       "      <td>17.469880</td>\n",
       "    </tr>\n",
       "    <tr>\n",
       "      <th>9</th>\n",
       "      <td>Search engine traffic</td>\n",
       "      <td>19:00</td>\n",
       "      <td>161.0</td>\n",
       "      <td>23.602484</td>\n",
       "    </tr>\n",
       "  </tbody>\n",
       "</table>\n",
       "</div>"
      ],
      "text/plain": [
       "  ym:s:lastsignTrafficSource ym:s:hour  ym:s:visits  ym:s:robotPercentage\n",
       "0      Search engine traffic     16:00        251.0             24.701195\n",
       "1      Search engine traffic     15:00        240.0             26.250000\n",
       "2      Search engine traffic     11:00        228.0             25.877193\n",
       "3      Search engine traffic     13:00        227.0             28.193833\n",
       "4      Search engine traffic     12:00        225.0             24.888889\n",
       "5      Search engine traffic     14:00        225.0             25.777778\n",
       "6      Search engine traffic     17:00        209.0             26.315789\n",
       "7      Search engine traffic     10:00        186.0             19.354839\n",
       "8      Search engine traffic     21:00        166.0             17.469880\n",
       "9      Search engine traffic     19:00        161.0             23.602484"
      ]
     },
     "metadata": {},
     "output_type": "display_data"
    }
   ],
   "source": [
    "# Creating a new dataframe from the resulting structure:\n",
    "metrika_df2 = pd.DataFrame(metrika_list_of_dicts)\n",
    "display(metrika_df2.head(10))"
   ]
  },
  {
   "cell_type": "code",
   "execution_count": 10,
   "metadata": {},
   "outputs": [
    {
     "data": {
      "text/html": [
       "<div>\n",
       "<style scoped>\n",
       "    .dataframe tbody tr th:only-of-type {\n",
       "        vertical-align: middle;\n",
       "    }\n",
       "\n",
       "    .dataframe tbody tr th {\n",
       "        vertical-align: top;\n",
       "    }\n",
       "\n",
       "    .dataframe thead th {\n",
       "        text-align: right;\n",
       "    }\n",
       "</style>\n",
       "<table border=\"1\" class=\"dataframe\">\n",
       "  <thead>\n",
       "    <tr style=\"text-align: right;\">\n",
       "      <th></th>\n",
       "      <th>Source</th>\n",
       "      <th>Time</th>\n",
       "      <th>Visits</th>\n",
       "      <th>RobotPercentage</th>\n",
       "    </tr>\n",
       "  </thead>\n",
       "  <tbody>\n",
       "    <tr>\n",
       "      <th>0</th>\n",
       "      <td>Search engine traffic</td>\n",
       "      <td>16:00</td>\n",
       "      <td>251.0</td>\n",
       "      <td>24.701195</td>\n",
       "    </tr>\n",
       "    <tr>\n",
       "      <th>1</th>\n",
       "      <td>Search engine traffic</td>\n",
       "      <td>15:00</td>\n",
       "      <td>240.0</td>\n",
       "      <td>26.250000</td>\n",
       "    </tr>\n",
       "    <tr>\n",
       "      <th>2</th>\n",
       "      <td>Search engine traffic</td>\n",
       "      <td>11:00</td>\n",
       "      <td>228.0</td>\n",
       "      <td>25.877193</td>\n",
       "    </tr>\n",
       "    <tr>\n",
       "      <th>3</th>\n",
       "      <td>Search engine traffic</td>\n",
       "      <td>13:00</td>\n",
       "      <td>227.0</td>\n",
       "      <td>28.193833</td>\n",
       "    </tr>\n",
       "    <tr>\n",
       "      <th>4</th>\n",
       "      <td>Search engine traffic</td>\n",
       "      <td>12:00</td>\n",
       "      <td>225.0</td>\n",
       "      <td>24.888889</td>\n",
       "    </tr>\n",
       "    <tr>\n",
       "      <th>...</th>\n",
       "      <td>...</td>\n",
       "      <td>...</td>\n",
       "      <td>...</td>\n",
       "      <td>...</td>\n",
       "    </tr>\n",
       "    <tr>\n",
       "      <th>102</th>\n",
       "      <td>Social network traffic</td>\n",
       "      <td>02:00</td>\n",
       "      <td>1.0</td>\n",
       "      <td>0.000000</td>\n",
       "    </tr>\n",
       "    <tr>\n",
       "      <th>103</th>\n",
       "      <td>Social network traffic</td>\n",
       "      <td>04:00</td>\n",
       "      <td>1.0</td>\n",
       "      <td>0.000000</td>\n",
       "    </tr>\n",
       "    <tr>\n",
       "      <th>104</th>\n",
       "      <td>Social network traffic</td>\n",
       "      <td>10:00</td>\n",
       "      <td>1.0</td>\n",
       "      <td>0.000000</td>\n",
       "    </tr>\n",
       "    <tr>\n",
       "      <th>105</th>\n",
       "      <td>Recommendation system traffic</td>\n",
       "      <td>08:00</td>\n",
       "      <td>1.0</td>\n",
       "      <td>0.000000</td>\n",
       "    </tr>\n",
       "    <tr>\n",
       "      <th>106</th>\n",
       "      <td>Recommendation system traffic</td>\n",
       "      <td>14:00</td>\n",
       "      <td>1.0</td>\n",
       "      <td>0.000000</td>\n",
       "    </tr>\n",
       "  </tbody>\n",
       "</table>\n",
       "<p>107 rows × 4 columns</p>\n",
       "</div>"
      ],
      "text/plain": [
       "                            Source   Time  Visits  RobotPercentage\n",
       "0            Search engine traffic  16:00   251.0        24.701195\n",
       "1            Search engine traffic  15:00   240.0        26.250000\n",
       "2            Search engine traffic  11:00   228.0        25.877193\n",
       "3            Search engine traffic  13:00   227.0        28.193833\n",
       "4            Search engine traffic  12:00   225.0        24.888889\n",
       "..                             ...    ...     ...              ...\n",
       "102         Social network traffic  02:00     1.0         0.000000\n",
       "103         Social network traffic  04:00     1.0         0.000000\n",
       "104         Social network traffic  10:00     1.0         0.000000\n",
       "105  Recommendation system traffic  08:00     1.0         0.000000\n",
       "106  Recommendation system traffic  14:00     1.0         0.000000\n",
       "\n",
       "[107 rows x 4 columns]"
      ]
     },
     "metadata": {},
     "output_type": "display_data"
    }
   ],
   "source": [
    "# Renaming columns to match with their corresponding values:\n",
    "# The column called 'RobotPercentage' contains the percentage of visits by robots in each visit row:\n",
    "metrika_df2.columns = ['Source','Time','Visits','RobotPercentage']\n",
    "display(metrika_df2)"
   ]
  },
  {
   "cell_type": "code",
   "execution_count": 11,
   "metadata": {},
   "outputs": [
    {
     "data": {
      "text/html": [
       "<div>\n",
       "<style scoped>\n",
       "    .dataframe tbody tr th:only-of-type {\n",
       "        vertical-align: middle;\n",
       "    }\n",
       "\n",
       "    .dataframe tbody tr th {\n",
       "        vertical-align: top;\n",
       "    }\n",
       "\n",
       "    .dataframe thead th {\n",
       "        text-align: right;\n",
       "    }\n",
       "</style>\n",
       "<table border=\"1\" class=\"dataframe\">\n",
       "  <thead>\n",
       "    <tr style=\"text-align: right;\">\n",
       "      <th></th>\n",
       "      <th>Source</th>\n",
       "      <th>Time</th>\n",
       "      <th>Visits</th>\n",
       "      <th>RobotPercentage</th>\n",
       "      <th>Robots</th>\n",
       "      <th>People</th>\n",
       "    </tr>\n",
       "  </thead>\n",
       "  <tbody>\n",
       "    <tr>\n",
       "      <th>0</th>\n",
       "      <td>Search engine traffic</td>\n",
       "      <td>16:00</td>\n",
       "      <td>251.0</td>\n",
       "      <td>24.701195</td>\n",
       "      <td>62.0</td>\n",
       "      <td>189.0</td>\n",
       "    </tr>\n",
       "    <tr>\n",
       "      <th>1</th>\n",
       "      <td>Search engine traffic</td>\n",
       "      <td>15:00</td>\n",
       "      <td>240.0</td>\n",
       "      <td>26.250000</td>\n",
       "      <td>63.0</td>\n",
       "      <td>177.0</td>\n",
       "    </tr>\n",
       "    <tr>\n",
       "      <th>2</th>\n",
       "      <td>Search engine traffic</td>\n",
       "      <td>11:00</td>\n",
       "      <td>228.0</td>\n",
       "      <td>25.877193</td>\n",
       "      <td>59.0</td>\n",
       "      <td>169.0</td>\n",
       "    </tr>\n",
       "    <tr>\n",
       "      <th>3</th>\n",
       "      <td>Search engine traffic</td>\n",
       "      <td>13:00</td>\n",
       "      <td>227.0</td>\n",
       "      <td>28.193833</td>\n",
       "      <td>64.0</td>\n",
       "      <td>163.0</td>\n",
       "    </tr>\n",
       "    <tr>\n",
       "      <th>4</th>\n",
       "      <td>Search engine traffic</td>\n",
       "      <td>12:00</td>\n",
       "      <td>225.0</td>\n",
       "      <td>24.888889</td>\n",
       "      <td>56.0</td>\n",
       "      <td>169.0</td>\n",
       "    </tr>\n",
       "    <tr>\n",
       "      <th>...</th>\n",
       "      <td>...</td>\n",
       "      <td>...</td>\n",
       "      <td>...</td>\n",
       "      <td>...</td>\n",
       "      <td>...</td>\n",
       "      <td>...</td>\n",
       "    </tr>\n",
       "    <tr>\n",
       "      <th>102</th>\n",
       "      <td>Social network traffic</td>\n",
       "      <td>02:00</td>\n",
       "      <td>1.0</td>\n",
       "      <td>0.000000</td>\n",
       "      <td>0.0</td>\n",
       "      <td>1.0</td>\n",
       "    </tr>\n",
       "    <tr>\n",
       "      <th>103</th>\n",
       "      <td>Social network traffic</td>\n",
       "      <td>04:00</td>\n",
       "      <td>1.0</td>\n",
       "      <td>0.000000</td>\n",
       "      <td>0.0</td>\n",
       "      <td>1.0</td>\n",
       "    </tr>\n",
       "    <tr>\n",
       "      <th>104</th>\n",
       "      <td>Social network traffic</td>\n",
       "      <td>10:00</td>\n",
       "      <td>1.0</td>\n",
       "      <td>0.000000</td>\n",
       "      <td>0.0</td>\n",
       "      <td>1.0</td>\n",
       "    </tr>\n",
       "    <tr>\n",
       "      <th>105</th>\n",
       "      <td>Recommendation system traffic</td>\n",
       "      <td>08:00</td>\n",
       "      <td>1.0</td>\n",
       "      <td>0.000000</td>\n",
       "      <td>0.0</td>\n",
       "      <td>1.0</td>\n",
       "    </tr>\n",
       "    <tr>\n",
       "      <th>106</th>\n",
       "      <td>Recommendation system traffic</td>\n",
       "      <td>14:00</td>\n",
       "      <td>1.0</td>\n",
       "      <td>0.000000</td>\n",
       "      <td>0.0</td>\n",
       "      <td>1.0</td>\n",
       "    </tr>\n",
       "  </tbody>\n",
       "</table>\n",
       "<p>107 rows × 6 columns</p>\n",
       "</div>"
      ],
      "text/plain": [
       "                            Source   Time  Visits  RobotPercentage  Robots  \\\n",
       "0            Search engine traffic  16:00   251.0        24.701195    62.0   \n",
       "1            Search engine traffic  15:00   240.0        26.250000    63.0   \n",
       "2            Search engine traffic  11:00   228.0        25.877193    59.0   \n",
       "3            Search engine traffic  13:00   227.0        28.193833    64.0   \n",
       "4            Search engine traffic  12:00   225.0        24.888889    56.0   \n",
       "..                             ...    ...     ...              ...     ...   \n",
       "102         Social network traffic  02:00     1.0         0.000000     0.0   \n",
       "103         Social network traffic  04:00     1.0         0.000000     0.0   \n",
       "104         Social network traffic  10:00     1.0         0.000000     0.0   \n",
       "105  Recommendation system traffic  08:00     1.0         0.000000     0.0   \n",
       "106  Recommendation system traffic  14:00     1.0         0.000000     0.0   \n",
       "\n",
       "     People  \n",
       "0     189.0  \n",
       "1     177.0  \n",
       "2     169.0  \n",
       "3     163.0  \n",
       "4     169.0  \n",
       "..      ...  \n",
       "102     1.0  \n",
       "103     1.0  \n",
       "104     1.0  \n",
       "105     1.0  \n",
       "106     1.0  \n",
       "\n",
       "[107 rows x 6 columns]"
      ]
     },
     "execution_count": 11,
     "metadata": {},
     "output_type": "execute_result"
    }
   ],
   "source": [
    "# Adding two additional columns to calculate separately the number of visits by humans - Humans\n",
    "# and the number of visits by robots - Robots:\n",
    "metrika_df2['Robots'] = metrika_df2['Visits']*(metrika_df2['RobotPercentage']/100)\n",
    "metrika_df2['Humans'] = metrika_df2['Visits']-metrika_df2['Robots']\n",
    "metrika_df2"
   ]
  },
  {
   "cell_type": "markdown",
   "metadata": {},
   "source": [
    "Table above displays total number of visits by humans and robots (Visits), individual number of visits by humans (Humans) and robots (Robots), share of robots from all traffic (RobotPercentage), source of transition and specific time of the day (Time) at which humans and robots visit the web page."
   ]
  },
  {
   "cell_type": "code",
   "execution_count": 12,
   "metadata": {},
   "outputs": [
    {
     "data": {
      "text/html": [
       "<div>\n",
       "<style scoped>\n",
       "    .dataframe tbody tr th:only-of-type {\n",
       "        vertical-align: middle;\n",
       "    }\n",
       "\n",
       "    .dataframe tbody tr th {\n",
       "        vertical-align: top;\n",
       "    }\n",
       "\n",
       "    .dataframe thead th {\n",
       "        text-align: right;\n",
       "    }\n",
       "</style>\n",
       "<table border=\"1\" class=\"dataframe\">\n",
       "  <thead>\n",
       "    <tr style=\"text-align: right;\">\n",
       "      <th></th>\n",
       "      <th>People</th>\n",
       "      <th>Robots</th>\n",
       "    </tr>\n",
       "    <tr>\n",
       "      <th>Source</th>\n",
       "      <th></th>\n",
       "      <th></th>\n",
       "    </tr>\n",
       "  </thead>\n",
       "  <tbody>\n",
       "    <tr>\n",
       "      <th>Cached page traffic</th>\n",
       "      <td>5</td>\n",
       "      <td>1</td>\n",
       "    </tr>\n",
       "    <tr>\n",
       "      <th>Direct traffic</th>\n",
       "      <td>580</td>\n",
       "      <td>177</td>\n",
       "    </tr>\n",
       "    <tr>\n",
       "      <th>Internal traffic</th>\n",
       "      <td>7</td>\n",
       "      <td>3</td>\n",
       "    </tr>\n",
       "    <tr>\n",
       "      <th>Link traffic</th>\n",
       "      <td>95</td>\n",
       "      <td>31</td>\n",
       "    </tr>\n",
       "    <tr>\n",
       "      <th>Recommendation system traffic</th>\n",
       "      <td>2</td>\n",
       "      <td>0</td>\n",
       "    </tr>\n",
       "    <tr>\n",
       "      <th>Search engine traffic</th>\n",
       "      <td>2595</td>\n",
       "      <td>739</td>\n",
       "    </tr>\n",
       "    <tr>\n",
       "      <th>Social network traffic</th>\n",
       "      <td>69</td>\n",
       "      <td>11</td>\n",
       "    </tr>\n",
       "  </tbody>\n",
       "</table>\n",
       "</div>"
      ],
      "text/plain": [
       "                               People  Robots\n",
       "Source                                       \n",
       "Cached page traffic                 5       1\n",
       "Direct traffic                    580     177\n",
       "Internal traffic                    7       3\n",
       "Link traffic                       95      31\n",
       "Recommendation system traffic       2       0\n",
       "Search engine traffic            2595     739\n",
       "Social network traffic             69      11"
      ]
     },
     "execution_count": 12,
     "metadata": {},
     "output_type": "execute_result"
    }
   ],
   "source": [
    "# Creating a pivot table of visits by humans and robots, grouped by traffic source:\n",
    "pivot_df = metrika_df2.pivot_table(\n",
    "    index=['Source'],\n",
    "    values=['Robots', 'Humans'],\n",
    "    aggfunc='sum',\n",
    "    fill_value=0) # replacing gaps with \"0\" value\n",
    "pivot_df"
   ]
  },
  {
   "cell_type": "markdown",
   "metadata": {},
   "source": [
    "### Conclusion 1:\n",
    "Assuming that data is collected and converted correctly, we see that the total number of robots - bots that visit our site from all type of sources - 962 visits, which is several times (~ 3-5) less than the total number of visits made by humans - 3353 visits. For example, according to the Direct traffic source: the total number of visits by humans - 580, by robots - 177; a similar proportion is observed for other traffic sources. The share of robots in all traffic (4315 visits - 100%) is 22.29%."
   ]
  },
  {
   "cell_type": "code",
   "execution_count": 13,
   "metadata": {},
   "outputs": [
    {
     "data": {
      "text/html": [
       "<div>\n",
       "<style scoped>\n",
       "    .dataframe tbody tr th:only-of-type {\n",
       "        vertical-align: middle;\n",
       "    }\n",
       "\n",
       "    .dataframe tbody tr th {\n",
       "        vertical-align: top;\n",
       "    }\n",
       "\n",
       "    .dataframe thead th {\n",
       "        text-align: right;\n",
       "    }\n",
       "</style>\n",
       "<table border=\"1\" class=\"dataframe\">\n",
       "  <thead>\n",
       "    <tr style=\"text-align: right;\">\n",
       "      <th>Time</th>\n",
       "      <th>00:00</th>\n",
       "      <th>01:00</th>\n",
       "      <th>02:00</th>\n",
       "      <th>03:00</th>\n",
       "      <th>04:00</th>\n",
       "      <th>05:00</th>\n",
       "      <th>06:00</th>\n",
       "      <th>07:00</th>\n",
       "      <th>08:00</th>\n",
       "      <th>09:00</th>\n",
       "      <th>...</th>\n",
       "      <th>14:00</th>\n",
       "      <th>15:00</th>\n",
       "      <th>16:00</th>\n",
       "      <th>17:00</th>\n",
       "      <th>18:00</th>\n",
       "      <th>19:00</th>\n",
       "      <th>20:00</th>\n",
       "      <th>21:00</th>\n",
       "      <th>22:00</th>\n",
       "      <th>23:00</th>\n",
       "    </tr>\n",
       "    <tr>\n",
       "      <th>Source</th>\n",
       "      <th></th>\n",
       "      <th></th>\n",
       "      <th></th>\n",
       "      <th></th>\n",
       "      <th></th>\n",
       "      <th></th>\n",
       "      <th></th>\n",
       "      <th></th>\n",
       "      <th></th>\n",
       "      <th></th>\n",
       "      <th></th>\n",
       "      <th></th>\n",
       "      <th></th>\n",
       "      <th></th>\n",
       "      <th></th>\n",
       "      <th></th>\n",
       "      <th></th>\n",
       "      <th></th>\n",
       "      <th></th>\n",
       "      <th></th>\n",
       "      <th></th>\n",
       "    </tr>\n",
       "  </thead>\n",
       "  <tbody>\n",
       "    <tr>\n",
       "      <th>Cached page traffic</th>\n",
       "      <td>0</td>\n",
       "      <td>1</td>\n",
       "      <td>0</td>\n",
       "      <td>0</td>\n",
       "      <td>0</td>\n",
       "      <td>0</td>\n",
       "      <td>0</td>\n",
       "      <td>0</td>\n",
       "      <td>0</td>\n",
       "      <td>0</td>\n",
       "      <td>...</td>\n",
       "      <td>0</td>\n",
       "      <td>0</td>\n",
       "      <td>0</td>\n",
       "      <td>0</td>\n",
       "      <td>0</td>\n",
       "      <td>0</td>\n",
       "      <td>0</td>\n",
       "      <td>0</td>\n",
       "      <td>0</td>\n",
       "      <td>0</td>\n",
       "    </tr>\n",
       "    <tr>\n",
       "      <th>Direct traffic</th>\n",
       "      <td>2</td>\n",
       "      <td>4</td>\n",
       "      <td>2</td>\n",
       "      <td>2</td>\n",
       "      <td>3</td>\n",
       "      <td>3</td>\n",
       "      <td>3</td>\n",
       "      <td>5</td>\n",
       "      <td>5</td>\n",
       "      <td>12</td>\n",
       "      <td>...</td>\n",
       "      <td>14</td>\n",
       "      <td>6</td>\n",
       "      <td>8</td>\n",
       "      <td>9</td>\n",
       "      <td>9</td>\n",
       "      <td>10</td>\n",
       "      <td>8</td>\n",
       "      <td>13</td>\n",
       "      <td>6</td>\n",
       "      <td>8</td>\n",
       "    </tr>\n",
       "    <tr>\n",
       "      <th>Internal traffic</th>\n",
       "      <td>0</td>\n",
       "      <td>0</td>\n",
       "      <td>0</td>\n",
       "      <td>0</td>\n",
       "      <td>0</td>\n",
       "      <td>0</td>\n",
       "      <td>0</td>\n",
       "      <td>0</td>\n",
       "      <td>0</td>\n",
       "      <td>1</td>\n",
       "      <td>...</td>\n",
       "      <td>0</td>\n",
       "      <td>0</td>\n",
       "      <td>1</td>\n",
       "      <td>0</td>\n",
       "      <td>0</td>\n",
       "      <td>0</td>\n",
       "      <td>0</td>\n",
       "      <td>0</td>\n",
       "      <td>0</td>\n",
       "      <td>0</td>\n",
       "    </tr>\n",
       "    <tr>\n",
       "      <th>Link traffic</th>\n",
       "      <td>0</td>\n",
       "      <td>0</td>\n",
       "      <td>0</td>\n",
       "      <td>1</td>\n",
       "      <td>0</td>\n",
       "      <td>0</td>\n",
       "      <td>2</td>\n",
       "      <td>1</td>\n",
       "      <td>1</td>\n",
       "      <td>1</td>\n",
       "      <td>...</td>\n",
       "      <td>2</td>\n",
       "      <td>1</td>\n",
       "      <td>3</td>\n",
       "      <td>2</td>\n",
       "      <td>1</td>\n",
       "      <td>0</td>\n",
       "      <td>2</td>\n",
       "      <td>0</td>\n",
       "      <td>1</td>\n",
       "      <td>1</td>\n",
       "    </tr>\n",
       "    <tr>\n",
       "      <th>Recommendation system traffic</th>\n",
       "      <td>0</td>\n",
       "      <td>0</td>\n",
       "      <td>0</td>\n",
       "      <td>0</td>\n",
       "      <td>0</td>\n",
       "      <td>0</td>\n",
       "      <td>0</td>\n",
       "      <td>0</td>\n",
       "      <td>0</td>\n",
       "      <td>0</td>\n",
       "      <td>...</td>\n",
       "      <td>0</td>\n",
       "      <td>0</td>\n",
       "      <td>0</td>\n",
       "      <td>0</td>\n",
       "      <td>0</td>\n",
       "      <td>0</td>\n",
       "      <td>0</td>\n",
       "      <td>0</td>\n",
       "      <td>0</td>\n",
       "      <td>0</td>\n",
       "    </tr>\n",
       "    <tr>\n",
       "      <th>Search engine traffic</th>\n",
       "      <td>17</td>\n",
       "      <td>8</td>\n",
       "      <td>5</td>\n",
       "      <td>3</td>\n",
       "      <td>3</td>\n",
       "      <td>1</td>\n",
       "      <td>3</td>\n",
       "      <td>6</td>\n",
       "      <td>29</td>\n",
       "      <td>36</td>\n",
       "      <td>...</td>\n",
       "      <td>58</td>\n",
       "      <td>63</td>\n",
       "      <td>62</td>\n",
       "      <td>55</td>\n",
       "      <td>31</td>\n",
       "      <td>38</td>\n",
       "      <td>26</td>\n",
       "      <td>29</td>\n",
       "      <td>30</td>\n",
       "      <td>21</td>\n",
       "    </tr>\n",
       "    <tr>\n",
       "      <th>Social network traffic</th>\n",
       "      <td>0</td>\n",
       "      <td>0</td>\n",
       "      <td>0</td>\n",
       "      <td>0</td>\n",
       "      <td>0</td>\n",
       "      <td>0</td>\n",
       "      <td>0</td>\n",
       "      <td>0</td>\n",
       "      <td>1</td>\n",
       "      <td>1</td>\n",
       "      <td>...</td>\n",
       "      <td>0</td>\n",
       "      <td>1</td>\n",
       "      <td>1</td>\n",
       "      <td>0</td>\n",
       "      <td>0</td>\n",
       "      <td>0</td>\n",
       "      <td>0</td>\n",
       "      <td>1</td>\n",
       "      <td>3</td>\n",
       "      <td>0</td>\n",
       "    </tr>\n",
       "  </tbody>\n",
       "</table>\n",
       "<p>7 rows × 24 columns</p>\n",
       "</div>"
      ],
      "text/plain": [
       "Time                           00:00  01:00  02:00  03:00  04:00  05:00  \\\n",
       "Source                                                                    \n",
       "Cached page traffic                0      1      0      0      0      0   \n",
       "Direct traffic                     2      4      2      2      3      3   \n",
       "Internal traffic                   0      0      0      0      0      0   \n",
       "Link traffic                       0      0      0      1      0      0   \n",
       "Recommendation system traffic      0      0      0      0      0      0   \n",
       "Search engine traffic             17      8      5      3      3      1   \n",
       "Social network traffic             0      0      0      0      0      0   \n",
       "\n",
       "Time                           06:00  07:00  08:00  09:00  ...  14:00  15:00  \\\n",
       "Source                                                     ...                 \n",
       "Cached page traffic                0      0      0      0  ...      0      0   \n",
       "Direct traffic                     3      5      5     12  ...     14      6   \n",
       "Internal traffic                   0      0      0      1  ...      0      0   \n",
       "Link traffic                       2      1      1      1  ...      2      1   \n",
       "Recommendation system traffic      0      0      0      0  ...      0      0   \n",
       "Search engine traffic              3      6     29     36  ...     58     63   \n",
       "Social network traffic             0      0      1      1  ...      0      1   \n",
       "\n",
       "Time                           16:00  17:00  18:00  19:00  20:00  21:00  \\\n",
       "Source                                                                    \n",
       "Cached page traffic                0      0      0      0      0      0   \n",
       "Direct traffic                     8      9      9     10      8     13   \n",
       "Internal traffic                   1      0      0      0      0      0   \n",
       "Link traffic                       3      2      1      0      2      0   \n",
       "Recommendation system traffic      0      0      0      0      0      0   \n",
       "Search engine traffic             62     55     31     38     26     29   \n",
       "Social network traffic             1      0      0      0      0      1   \n",
       "\n",
       "Time                           22:00  23:00  \n",
       "Source                                       \n",
       "Cached page traffic                0      0  \n",
       "Direct traffic                     6      8  \n",
       "Internal traffic                   0      0  \n",
       "Link traffic                       1      1  \n",
       "Recommendation system traffic      0      0  \n",
       "Search engine traffic             30     21  \n",
       "Social network traffic             3      0  \n",
       "\n",
       "[7 rows x 24 columns]"
      ]
     },
     "execution_count": 13,
     "metadata": {},
     "output_type": "execute_result"
    }
   ],
   "source": [
    "# Create a new pivot table of visits by robots, grouped by traffic source in terms of daily time:\n",
    "pivot_df2 = metrika_df2.pivot_table(\n",
    "    index = 'Source',\n",
    "    columns = 'Time',\n",
    "    values='Robots',\n",
    "    aggfunc='sum',\n",
    "    fill_value=0) # replacing gaps with \"0\" value\n",
    "pivot_df2"
   ]
  },
  {
   "cell_type": "code",
   "execution_count": 14,
   "metadata": {},
   "outputs": [
    {
     "data": {
      "text/html": [
       "<div>\n",
       "<style scoped>\n",
       "    .dataframe tbody tr th:only-of-type {\n",
       "        vertical-align: middle;\n",
       "    }\n",
       "\n",
       "    .dataframe tbody tr th {\n",
       "        vertical-align: top;\n",
       "    }\n",
       "\n",
       "    .dataframe thead th {\n",
       "        text-align: right;\n",
       "    }\n",
       "</style>\n",
       "<table border=\"1\" class=\"dataframe\">\n",
       "  <thead>\n",
       "    <tr style=\"text-align: right;\">\n",
       "      <th>Source</th>\n",
       "      <th>Cached page traffic</th>\n",
       "      <th>Direct traffic</th>\n",
       "      <th>Internal traffic</th>\n",
       "      <th>Link traffic</th>\n",
       "      <th>Recommendation system traffic</th>\n",
       "      <th>Search engine traffic</th>\n",
       "      <th>Social network traffic</th>\n",
       "    </tr>\n",
       "    <tr>\n",
       "      <th>Time</th>\n",
       "      <th></th>\n",
       "      <th></th>\n",
       "      <th></th>\n",
       "      <th></th>\n",
       "      <th></th>\n",
       "      <th></th>\n",
       "      <th></th>\n",
       "    </tr>\n",
       "  </thead>\n",
       "  <tbody>\n",
       "    <tr>\n",
       "      <th>00:00</th>\n",
       "      <td>0</td>\n",
       "      <td>2</td>\n",
       "      <td>0</td>\n",
       "      <td>0</td>\n",
       "      <td>0</td>\n",
       "      <td>17</td>\n",
       "      <td>0</td>\n",
       "    </tr>\n",
       "    <tr>\n",
       "      <th>01:00</th>\n",
       "      <td>1</td>\n",
       "      <td>4</td>\n",
       "      <td>0</td>\n",
       "      <td>0</td>\n",
       "      <td>0</td>\n",
       "      <td>8</td>\n",
       "      <td>0</td>\n",
       "    </tr>\n",
       "    <tr>\n",
       "      <th>02:00</th>\n",
       "      <td>0</td>\n",
       "      <td>2</td>\n",
       "      <td>0</td>\n",
       "      <td>0</td>\n",
       "      <td>0</td>\n",
       "      <td>5</td>\n",
       "      <td>0</td>\n",
       "    </tr>\n",
       "    <tr>\n",
       "      <th>03:00</th>\n",
       "      <td>0</td>\n",
       "      <td>2</td>\n",
       "      <td>0</td>\n",
       "      <td>1</td>\n",
       "      <td>0</td>\n",
       "      <td>3</td>\n",
       "      <td>0</td>\n",
       "    </tr>\n",
       "    <tr>\n",
       "      <th>04:00</th>\n",
       "      <td>0</td>\n",
       "      <td>3</td>\n",
       "      <td>0</td>\n",
       "      <td>0</td>\n",
       "      <td>0</td>\n",
       "      <td>3</td>\n",
       "      <td>0</td>\n",
       "    </tr>\n",
       "    <tr>\n",
       "      <th>05:00</th>\n",
       "      <td>0</td>\n",
       "      <td>3</td>\n",
       "      <td>0</td>\n",
       "      <td>0</td>\n",
       "      <td>0</td>\n",
       "      <td>1</td>\n",
       "      <td>0</td>\n",
       "    </tr>\n",
       "    <tr>\n",
       "      <th>06:00</th>\n",
       "      <td>0</td>\n",
       "      <td>3</td>\n",
       "      <td>0</td>\n",
       "      <td>2</td>\n",
       "      <td>0</td>\n",
       "      <td>3</td>\n",
       "      <td>0</td>\n",
       "    </tr>\n",
       "    <tr>\n",
       "      <th>07:00</th>\n",
       "      <td>0</td>\n",
       "      <td>5</td>\n",
       "      <td>0</td>\n",
       "      <td>1</td>\n",
       "      <td>0</td>\n",
       "      <td>6</td>\n",
       "      <td>0</td>\n",
       "    </tr>\n",
       "    <tr>\n",
       "      <th>08:00</th>\n",
       "      <td>0</td>\n",
       "      <td>5</td>\n",
       "      <td>0</td>\n",
       "      <td>1</td>\n",
       "      <td>0</td>\n",
       "      <td>29</td>\n",
       "      <td>1</td>\n",
       "    </tr>\n",
       "    <tr>\n",
       "      <th>09:00</th>\n",
       "      <td>0</td>\n",
       "      <td>12</td>\n",
       "      <td>1</td>\n",
       "      <td>1</td>\n",
       "      <td>0</td>\n",
       "      <td>36</td>\n",
       "      <td>1</td>\n",
       "    </tr>\n",
       "    <tr>\n",
       "      <th>10:00</th>\n",
       "      <td>0</td>\n",
       "      <td>9</td>\n",
       "      <td>0</td>\n",
       "      <td>6</td>\n",
       "      <td>0</td>\n",
       "      <td>36</td>\n",
       "      <td>0</td>\n",
       "    </tr>\n",
       "    <tr>\n",
       "      <th>11:00</th>\n",
       "      <td>0</td>\n",
       "      <td>8</td>\n",
       "      <td>0</td>\n",
       "      <td>3</td>\n",
       "      <td>0</td>\n",
       "      <td>59</td>\n",
       "      <td>0</td>\n",
       "    </tr>\n",
       "    <tr>\n",
       "      <th>12:00</th>\n",
       "      <td>0</td>\n",
       "      <td>15</td>\n",
       "      <td>1</td>\n",
       "      <td>2</td>\n",
       "      <td>0</td>\n",
       "      <td>56</td>\n",
       "      <td>1</td>\n",
       "    </tr>\n",
       "    <tr>\n",
       "      <th>13:00</th>\n",
       "      <td>0</td>\n",
       "      <td>13</td>\n",
       "      <td>0</td>\n",
       "      <td>1</td>\n",
       "      <td>0</td>\n",
       "      <td>64</td>\n",
       "      <td>2</td>\n",
       "    </tr>\n",
       "    <tr>\n",
       "      <th>14:00</th>\n",
       "      <td>0</td>\n",
       "      <td>14</td>\n",
       "      <td>0</td>\n",
       "      <td>2</td>\n",
       "      <td>0</td>\n",
       "      <td>58</td>\n",
       "      <td>0</td>\n",
       "    </tr>\n",
       "    <tr>\n",
       "      <th>15:00</th>\n",
       "      <td>0</td>\n",
       "      <td>6</td>\n",
       "      <td>0</td>\n",
       "      <td>1</td>\n",
       "      <td>0</td>\n",
       "      <td>63</td>\n",
       "      <td>1</td>\n",
       "    </tr>\n",
       "    <tr>\n",
       "      <th>16:00</th>\n",
       "      <td>0</td>\n",
       "      <td>8</td>\n",
       "      <td>1</td>\n",
       "      <td>3</td>\n",
       "      <td>0</td>\n",
       "      <td>62</td>\n",
       "      <td>1</td>\n",
       "    </tr>\n",
       "    <tr>\n",
       "      <th>17:00</th>\n",
       "      <td>0</td>\n",
       "      <td>9</td>\n",
       "      <td>0</td>\n",
       "      <td>2</td>\n",
       "      <td>0</td>\n",
       "      <td>55</td>\n",
       "      <td>0</td>\n",
       "    </tr>\n",
       "    <tr>\n",
       "      <th>18:00</th>\n",
       "      <td>0</td>\n",
       "      <td>9</td>\n",
       "      <td>0</td>\n",
       "      <td>1</td>\n",
       "      <td>0</td>\n",
       "      <td>31</td>\n",
       "      <td>0</td>\n",
       "    </tr>\n",
       "    <tr>\n",
       "      <th>19:00</th>\n",
       "      <td>0</td>\n",
       "      <td>10</td>\n",
       "      <td>0</td>\n",
       "      <td>0</td>\n",
       "      <td>0</td>\n",
       "      <td>38</td>\n",
       "      <td>0</td>\n",
       "    </tr>\n",
       "    <tr>\n",
       "      <th>20:00</th>\n",
       "      <td>0</td>\n",
       "      <td>8</td>\n",
       "      <td>0</td>\n",
       "      <td>2</td>\n",
       "      <td>0</td>\n",
       "      <td>26</td>\n",
       "      <td>0</td>\n",
       "    </tr>\n",
       "    <tr>\n",
       "      <th>21:00</th>\n",
       "      <td>0</td>\n",
       "      <td>13</td>\n",
       "      <td>0</td>\n",
       "      <td>0</td>\n",
       "      <td>0</td>\n",
       "      <td>29</td>\n",
       "      <td>1</td>\n",
       "    </tr>\n",
       "    <tr>\n",
       "      <th>22:00</th>\n",
       "      <td>0</td>\n",
       "      <td>6</td>\n",
       "      <td>0</td>\n",
       "      <td>1</td>\n",
       "      <td>0</td>\n",
       "      <td>30</td>\n",
       "      <td>3</td>\n",
       "    </tr>\n",
       "    <tr>\n",
       "      <th>23:00</th>\n",
       "      <td>0</td>\n",
       "      <td>8</td>\n",
       "      <td>0</td>\n",
       "      <td>1</td>\n",
       "      <td>0</td>\n",
       "      <td>21</td>\n",
       "      <td>0</td>\n",
       "    </tr>\n",
       "  </tbody>\n",
       "</table>\n",
       "</div>"
      ],
      "text/plain": [
       "Source  Cached page traffic  Direct traffic  Internal traffic  Link traffic  \\\n",
       "Time                                                                          \n",
       "00:00                     0               2                 0             0   \n",
       "01:00                     1               4                 0             0   \n",
       "02:00                     0               2                 0             0   \n",
       "03:00                     0               2                 0             1   \n",
       "04:00                     0               3                 0             0   \n",
       "05:00                     0               3                 0             0   \n",
       "06:00                     0               3                 0             2   \n",
       "07:00                     0               5                 0             1   \n",
       "08:00                     0               5                 0             1   \n",
       "09:00                     0              12                 1             1   \n",
       "10:00                     0               9                 0             6   \n",
       "11:00                     0               8                 0             3   \n",
       "12:00                     0              15                 1             2   \n",
       "13:00                     0              13                 0             1   \n",
       "14:00                     0              14                 0             2   \n",
       "15:00                     0               6                 0             1   \n",
       "16:00                     0               8                 1             3   \n",
       "17:00                     0               9                 0             2   \n",
       "18:00                     0               9                 0             1   \n",
       "19:00                     0              10                 0             0   \n",
       "20:00                     0               8                 0             2   \n",
       "21:00                     0              13                 0             0   \n",
       "22:00                     0               6                 0             1   \n",
       "23:00                     0               8                 0             1   \n",
       "\n",
       "Source  Recommendation system traffic  Search engine traffic  \\\n",
       "Time                                                           \n",
       "00:00                               0                     17   \n",
       "01:00                               0                      8   \n",
       "02:00                               0                      5   \n",
       "03:00                               0                      3   \n",
       "04:00                               0                      3   \n",
       "05:00                               0                      1   \n",
       "06:00                               0                      3   \n",
       "07:00                               0                      6   \n",
       "08:00                               0                     29   \n",
       "09:00                               0                     36   \n",
       "10:00                               0                     36   \n",
       "11:00                               0                     59   \n",
       "12:00                               0                     56   \n",
       "13:00                               0                     64   \n",
       "14:00                               0                     58   \n",
       "15:00                               0                     63   \n",
       "16:00                               0                     62   \n",
       "17:00                               0                     55   \n",
       "18:00                               0                     31   \n",
       "19:00                               0                     38   \n",
       "20:00                               0                     26   \n",
       "21:00                               0                     29   \n",
       "22:00                               0                     30   \n",
       "23:00                               0                     21   \n",
       "\n",
       "Source  Social network traffic  \n",
       "Time                            \n",
       "00:00                        0  \n",
       "01:00                        0  \n",
       "02:00                        0  \n",
       "03:00                        0  \n",
       "04:00                        0  \n",
       "05:00                        0  \n",
       "06:00                        0  \n",
       "07:00                        0  \n",
       "08:00                        1  \n",
       "09:00                        1  \n",
       "10:00                        0  \n",
       "11:00                        0  \n",
       "12:00                        1  \n",
       "13:00                        2  \n",
       "14:00                        0  \n",
       "15:00                        1  \n",
       "16:00                        1  \n",
       "17:00                        0  \n",
       "18:00                        0  \n",
       "19:00                        0  \n",
       "20:00                        0  \n",
       "21:00                        1  \n",
       "22:00                        3  \n",
       "23:00                        0  "
      ]
     },
     "execution_count": 14,
     "metadata": {},
     "output_type": "execute_result"
    }
   ],
   "source": [
    "pivot_df2.T"
   ]
  },
  {
   "cell_type": "code",
   "execution_count": 15,
   "metadata": {},
   "outputs": [
    {
     "data": {
      "text/plain": [
       "1"
      ]
     },
     "metadata": {},
     "output_type": "display_data"
    },
    {
     "data": {
      "text/plain": [
       "177"
      ]
     },
     "metadata": {},
     "output_type": "display_data"
    },
    {
     "data": {
      "text/plain": [
       "3"
      ]
     },
     "metadata": {},
     "output_type": "display_data"
    },
    {
     "data": {
      "text/plain": [
       "31"
      ]
     },
     "metadata": {},
     "output_type": "display_data"
    },
    {
     "data": {
      "text/plain": [
       "0"
      ]
     },
     "metadata": {},
     "output_type": "display_data"
    },
    {
     "data": {
      "text/plain": [
       "739"
      ]
     },
     "metadata": {},
     "output_type": "display_data"
    },
    {
     "data": {
      "text/plain": [
       "11"
      ]
     },
     "metadata": {},
     "output_type": "display_data"
    }
   ],
   "source": [
    "# Counting the number of visits by traffic source (Source) - pivot df2:\n",
    "display(pivot_df2.T['Cached page traffic'].sum())\n",
    "display(pivot_df2.T['Direct traffic'].sum())\n",
    "display(pivot_df2.T['Internal traffic'].sum())\n",
    "display(pivot_df2.T['Link traffic'].sum())\n",
    "display(pivot_df2.T['Recommendation system traffic'].sum())\n",
    "display(pivot_df2.T['Search engine traffic'].sum())\n",
    "display(pivot_df2.T['Social network traffic'].sum())"
   ]
  },
  {
   "cell_type": "code",
   "execution_count": 16,
   "metadata": {},
   "outputs": [
    {
     "data": {
      "text/html": [
       "<div>\n",
       "<style scoped>\n",
       "    .dataframe tbody tr th:only-of-type {\n",
       "        vertical-align: middle;\n",
       "    }\n",
       "\n",
       "    .dataframe tbody tr th {\n",
       "        vertical-align: top;\n",
       "    }\n",
       "\n",
       "    .dataframe thead th {\n",
       "        text-align: right;\n",
       "    }\n",
       "</style>\n",
       "<table border=\"1\" class=\"dataframe\">\n",
       "  <thead>\n",
       "    <tr style=\"text-align: right;\">\n",
       "      <th>Source</th>\n",
       "      <th>Cached page traffic</th>\n",
       "      <th>Direct traffic</th>\n",
       "      <th>Internal traffic</th>\n",
       "      <th>Link traffic</th>\n",
       "      <th>Recommendation system traffic</th>\n",
       "      <th>Search engine traffic</th>\n",
       "      <th>Social network traffic</th>\n",
       "    </tr>\n",
       "    <tr>\n",
       "      <th>Time</th>\n",
       "      <th></th>\n",
       "      <th></th>\n",
       "      <th></th>\n",
       "      <th></th>\n",
       "      <th></th>\n",
       "      <th></th>\n",
       "      <th></th>\n",
       "    </tr>\n",
       "  </thead>\n",
       "  <tbody>\n",
       "    <tr>\n",
       "      <th>00:00</th>\n",
       "      <td>0</td>\n",
       "      <td>2</td>\n",
       "      <td>0</td>\n",
       "      <td>0</td>\n",
       "      <td>0</td>\n",
       "      <td>17</td>\n",
       "      <td>0</td>\n",
       "    </tr>\n",
       "    <tr>\n",
       "      <th>01:00</th>\n",
       "      <td>1</td>\n",
       "      <td>4</td>\n",
       "      <td>0</td>\n",
       "      <td>0</td>\n",
       "      <td>0</td>\n",
       "      <td>8</td>\n",
       "      <td>0</td>\n",
       "    </tr>\n",
       "    <tr>\n",
       "      <th>02:00</th>\n",
       "      <td>0</td>\n",
       "      <td>2</td>\n",
       "      <td>0</td>\n",
       "      <td>0</td>\n",
       "      <td>0</td>\n",
       "      <td>5</td>\n",
       "      <td>0</td>\n",
       "    </tr>\n",
       "    <tr>\n",
       "      <th>03:00</th>\n",
       "      <td>0</td>\n",
       "      <td>2</td>\n",
       "      <td>0</td>\n",
       "      <td>1</td>\n",
       "      <td>0</td>\n",
       "      <td>3</td>\n",
       "      <td>0</td>\n",
       "    </tr>\n",
       "    <tr>\n",
       "      <th>04:00</th>\n",
       "      <td>0</td>\n",
       "      <td>3</td>\n",
       "      <td>0</td>\n",
       "      <td>0</td>\n",
       "      <td>0</td>\n",
       "      <td>3</td>\n",
       "      <td>0</td>\n",
       "    </tr>\n",
       "    <tr>\n",
       "      <th>05:00</th>\n",
       "      <td>0</td>\n",
       "      <td>3</td>\n",
       "      <td>0</td>\n",
       "      <td>0</td>\n",
       "      <td>0</td>\n",
       "      <td>1</td>\n",
       "      <td>0</td>\n",
       "    </tr>\n",
       "    <tr>\n",
       "      <th>06:00</th>\n",
       "      <td>0</td>\n",
       "      <td>3</td>\n",
       "      <td>0</td>\n",
       "      <td>2</td>\n",
       "      <td>0</td>\n",
       "      <td>3</td>\n",
       "      <td>0</td>\n",
       "    </tr>\n",
       "    <tr>\n",
       "      <th>07:00</th>\n",
       "      <td>0</td>\n",
       "      <td>5</td>\n",
       "      <td>0</td>\n",
       "      <td>1</td>\n",
       "      <td>0</td>\n",
       "      <td>6</td>\n",
       "      <td>0</td>\n",
       "    </tr>\n",
       "    <tr>\n",
       "      <th>08:00</th>\n",
       "      <td>0</td>\n",
       "      <td>5</td>\n",
       "      <td>0</td>\n",
       "      <td>1</td>\n",
       "      <td>0</td>\n",
       "      <td>29</td>\n",
       "      <td>1</td>\n",
       "    </tr>\n",
       "    <tr>\n",
       "      <th>09:00</th>\n",
       "      <td>0</td>\n",
       "      <td>12</td>\n",
       "      <td>1</td>\n",
       "      <td>1</td>\n",
       "      <td>0</td>\n",
       "      <td>36</td>\n",
       "      <td>1</td>\n",
       "    </tr>\n",
       "    <tr>\n",
       "      <th>10:00</th>\n",
       "      <td>0</td>\n",
       "      <td>9</td>\n",
       "      <td>0</td>\n",
       "      <td>6</td>\n",
       "      <td>0</td>\n",
       "      <td>36</td>\n",
       "      <td>0</td>\n",
       "    </tr>\n",
       "    <tr>\n",
       "      <th>11:00</th>\n",
       "      <td>0</td>\n",
       "      <td>8</td>\n",
       "      <td>0</td>\n",
       "      <td>3</td>\n",
       "      <td>0</td>\n",
       "      <td>59</td>\n",
       "      <td>0</td>\n",
       "    </tr>\n",
       "    <tr>\n",
       "      <th>12:00</th>\n",
       "      <td>0</td>\n",
       "      <td>15</td>\n",
       "      <td>1</td>\n",
       "      <td>2</td>\n",
       "      <td>0</td>\n",
       "      <td>56</td>\n",
       "      <td>1</td>\n",
       "    </tr>\n",
       "    <tr>\n",
       "      <th>13:00</th>\n",
       "      <td>0</td>\n",
       "      <td>13</td>\n",
       "      <td>0</td>\n",
       "      <td>1</td>\n",
       "      <td>0</td>\n",
       "      <td>64</td>\n",
       "      <td>2</td>\n",
       "    </tr>\n",
       "    <tr>\n",
       "      <th>14:00</th>\n",
       "      <td>0</td>\n",
       "      <td>14</td>\n",
       "      <td>0</td>\n",
       "      <td>2</td>\n",
       "      <td>0</td>\n",
       "      <td>58</td>\n",
       "      <td>0</td>\n",
       "    </tr>\n",
       "    <tr>\n",
       "      <th>15:00</th>\n",
       "      <td>0</td>\n",
       "      <td>6</td>\n",
       "      <td>0</td>\n",
       "      <td>1</td>\n",
       "      <td>0</td>\n",
       "      <td>63</td>\n",
       "      <td>1</td>\n",
       "    </tr>\n",
       "    <tr>\n",
       "      <th>16:00</th>\n",
       "      <td>0</td>\n",
       "      <td>8</td>\n",
       "      <td>1</td>\n",
       "      <td>3</td>\n",
       "      <td>0</td>\n",
       "      <td>62</td>\n",
       "      <td>1</td>\n",
       "    </tr>\n",
       "    <tr>\n",
       "      <th>17:00</th>\n",
       "      <td>0</td>\n",
       "      <td>9</td>\n",
       "      <td>0</td>\n",
       "      <td>2</td>\n",
       "      <td>0</td>\n",
       "      <td>55</td>\n",
       "      <td>0</td>\n",
       "    </tr>\n",
       "    <tr>\n",
       "      <th>18:00</th>\n",
       "      <td>0</td>\n",
       "      <td>9</td>\n",
       "      <td>0</td>\n",
       "      <td>1</td>\n",
       "      <td>0</td>\n",
       "      <td>31</td>\n",
       "      <td>0</td>\n",
       "    </tr>\n",
       "    <tr>\n",
       "      <th>19:00</th>\n",
       "      <td>0</td>\n",
       "      <td>10</td>\n",
       "      <td>0</td>\n",
       "      <td>0</td>\n",
       "      <td>0</td>\n",
       "      <td>38</td>\n",
       "      <td>0</td>\n",
       "    </tr>\n",
       "    <tr>\n",
       "      <th>20:00</th>\n",
       "      <td>0</td>\n",
       "      <td>8</td>\n",
       "      <td>0</td>\n",
       "      <td>2</td>\n",
       "      <td>0</td>\n",
       "      <td>26</td>\n",
       "      <td>0</td>\n",
       "    </tr>\n",
       "    <tr>\n",
       "      <th>21:00</th>\n",
       "      <td>0</td>\n",
       "      <td>13</td>\n",
       "      <td>0</td>\n",
       "      <td>0</td>\n",
       "      <td>0</td>\n",
       "      <td>29</td>\n",
       "      <td>1</td>\n",
       "    </tr>\n",
       "    <tr>\n",
       "      <th>22:00</th>\n",
       "      <td>0</td>\n",
       "      <td>6</td>\n",
       "      <td>0</td>\n",
       "      <td>1</td>\n",
       "      <td>0</td>\n",
       "      <td>30</td>\n",
       "      <td>3</td>\n",
       "    </tr>\n",
       "    <tr>\n",
       "      <th>23:00</th>\n",
       "      <td>0</td>\n",
       "      <td>8</td>\n",
       "      <td>0</td>\n",
       "      <td>1</td>\n",
       "      <td>0</td>\n",
       "      <td>21</td>\n",
       "      <td>0</td>\n",
       "    </tr>\n",
       "  </tbody>\n",
       "</table>\n",
       "</div>"
      ],
      "text/plain": [
       "Source  Cached page traffic  Direct traffic  Internal traffic  Link traffic  \\\n",
       "Time                                                                          \n",
       "00:00                     0               2                 0             0   \n",
       "01:00                     1               4                 0             0   \n",
       "02:00                     0               2                 0             0   \n",
       "03:00                     0               2                 0             1   \n",
       "04:00                     0               3                 0             0   \n",
       "05:00                     0               3                 0             0   \n",
       "06:00                     0               3                 0             2   \n",
       "07:00                     0               5                 0             1   \n",
       "08:00                     0               5                 0             1   \n",
       "09:00                     0              12                 1             1   \n",
       "10:00                     0               9                 0             6   \n",
       "11:00                     0               8                 0             3   \n",
       "12:00                     0              15                 1             2   \n",
       "13:00                     0              13                 0             1   \n",
       "14:00                     0              14                 0             2   \n",
       "15:00                     0               6                 0             1   \n",
       "16:00                     0               8                 1             3   \n",
       "17:00                     0               9                 0             2   \n",
       "18:00                     0               9                 0             1   \n",
       "19:00                     0              10                 0             0   \n",
       "20:00                     0               8                 0             2   \n",
       "21:00                     0              13                 0             0   \n",
       "22:00                     0               6                 0             1   \n",
       "23:00                     0               8                 0             1   \n",
       "\n",
       "Source  Recommendation system traffic  Search engine traffic  \\\n",
       "Time                                                           \n",
       "00:00                               0                     17   \n",
       "01:00                               0                      8   \n",
       "02:00                               0                      5   \n",
       "03:00                               0                      3   \n",
       "04:00                               0                      3   \n",
       "05:00                               0                      1   \n",
       "06:00                               0                      3   \n",
       "07:00                               0                      6   \n",
       "08:00                               0                     29   \n",
       "09:00                               0                     36   \n",
       "10:00                               0                     36   \n",
       "11:00                               0                     59   \n",
       "12:00                               0                     56   \n",
       "13:00                               0                     64   \n",
       "14:00                               0                     58   \n",
       "15:00                               0                     63   \n",
       "16:00                               0                     62   \n",
       "17:00                               0                     55   \n",
       "18:00                               0                     31   \n",
       "19:00                               0                     38   \n",
       "20:00                               0                     26   \n",
       "21:00                               0                     29   \n",
       "22:00                               0                     30   \n",
       "23:00                               0                     21   \n",
       "\n",
       "Source  Social network traffic  \n",
       "Time                            \n",
       "00:00                        0  \n",
       "01:00                        0  \n",
       "02:00                        0  \n",
       "03:00                        0  \n",
       "04:00                        0  \n",
       "05:00                        0  \n",
       "06:00                        0  \n",
       "07:00                        0  \n",
       "08:00                        1  \n",
       "09:00                        1  \n",
       "10:00                        0  \n",
       "11:00                        0  \n",
       "12:00                        1  \n",
       "13:00                        2  \n",
       "14:00                        0  \n",
       "15:00                        1  \n",
       "16:00                        1  \n",
       "17:00                        0  \n",
       "18:00                        0  \n",
       "19:00                        0  \n",
       "20:00                        0  \n",
       "21:00                        1  \n",
       "22:00                        3  \n",
       "23:00                        0  "
      ]
     },
     "execution_count": 16,
     "metadata": {},
     "output_type": "execute_result"
    }
   ],
   "source": [
    "# Creating an additional pivot_df3 dataset to count the number of visits at different times of the day (Time):\n",
    "pivot_df3 = metrika_df2.pivot_table(\n",
    "    index = 'Time',\n",
    "    columns = 'Source',\n",
    "    values='Robots',\n",
    "    aggfunc='sum',\n",
    "    fill_value=0) # replacing gaps with \"0\" value\n",
    "pivot_df3"
   ]
  },
  {
   "cell_type": "code",
   "execution_count": 17,
   "metadata": {},
   "outputs": [
    {
     "data": {
      "text/plain": [
       "19"
      ]
     },
     "metadata": {},
     "output_type": "display_data"
    },
    {
     "data": {
      "text/plain": [
       "13"
      ]
     },
     "metadata": {},
     "output_type": "display_data"
    },
    {
     "data": {
      "text/plain": [
       "7"
      ]
     },
     "metadata": {},
     "output_type": "display_data"
    },
    {
     "data": {
      "text/plain": [
       "6"
      ]
     },
     "metadata": {},
     "output_type": "display_data"
    },
    {
     "data": {
      "text/plain": [
       "6"
      ]
     },
     "metadata": {},
     "output_type": "display_data"
    },
    {
     "data": {
      "text/plain": [
       "4"
      ]
     },
     "metadata": {},
     "output_type": "display_data"
    },
    {
     "data": {
      "text/plain": [
       "8"
      ]
     },
     "metadata": {},
     "output_type": "display_data"
    },
    {
     "data": {
      "text/plain": [
       "12"
      ]
     },
     "metadata": {},
     "output_type": "display_data"
    },
    {
     "data": {
      "text/plain": [
       "36"
      ]
     },
     "metadata": {},
     "output_type": "display_data"
    },
    {
     "data": {
      "text/plain": [
       "51"
      ]
     },
     "metadata": {},
     "output_type": "display_data"
    },
    {
     "data": {
      "text/plain": [
       "51"
      ]
     },
     "metadata": {},
     "output_type": "display_data"
    },
    {
     "data": {
      "text/plain": [
       "70"
      ]
     },
     "metadata": {},
     "output_type": "display_data"
    },
    {
     "data": {
      "text/plain": [
       "75"
      ]
     },
     "metadata": {},
     "output_type": "display_data"
    },
    {
     "data": {
      "text/plain": [
       "80"
      ]
     },
     "metadata": {},
     "output_type": "display_data"
    },
    {
     "data": {
      "text/plain": [
       "74"
      ]
     },
     "metadata": {},
     "output_type": "display_data"
    },
    {
     "data": {
      "text/plain": [
       "71"
      ]
     },
     "metadata": {},
     "output_type": "display_data"
    },
    {
     "data": {
      "text/plain": [
       "75"
      ]
     },
     "metadata": {},
     "output_type": "display_data"
    },
    {
     "data": {
      "text/plain": [
       "66"
      ]
     },
     "metadata": {},
     "output_type": "display_data"
    },
    {
     "data": {
      "text/plain": [
       "41"
      ]
     },
     "metadata": {},
     "output_type": "display_data"
    },
    {
     "data": {
      "text/plain": [
       "48"
      ]
     },
     "metadata": {},
     "output_type": "display_data"
    },
    {
     "data": {
      "text/plain": [
       "36"
      ]
     },
     "metadata": {},
     "output_type": "display_data"
    },
    {
     "data": {
      "text/plain": [
       "43"
      ]
     },
     "metadata": {},
     "output_type": "display_data"
    },
    {
     "data": {
      "text/plain": [
       "40"
      ]
     },
     "metadata": {},
     "output_type": "display_data"
    },
    {
     "data": {
      "text/plain": [
       "30"
      ]
     },
     "metadata": {},
     "output_type": "display_data"
    }
   ],
   "source": [
    "# Counting the number of visits at different times of the day (Time) - pivot_df3:\n",
    "\n",
    "display(pivot_df3.T['00:00'].sum())\n",
    "display(pivot_df3.T['01:00'].sum())\n",
    "display(pivot_df3.T['02:00'].sum())\n",
    "display(pivot_df3.T['03:00'].sum())\n",
    "display(pivot_df3.T['04:00'].sum())\n",
    "display(pivot_df3.T['05:00'].sum())\n",
    "display(pivot_df3.T['06:00'].sum())\n",
    "display(pivot_df3.T['07:00'].sum())\n",
    "display(pivot_df3.T['08:00'].sum())\n",
    "display(pivot_df3.T['09:00'].sum())\n",
    "display(pivot_df3.T['10:00'].sum())\n",
    "display(pivot_df3.T['11:00'].sum())\n",
    "display(pivot_df3.T['12:00'].sum())\n",
    "display(pivot_df3.T['13:00'].sum())\n",
    "display(pivot_df3.T['14:00'].sum())\n",
    "display(pivot_df3.T['15:00'].sum())\n",
    "display(pivot_df3.T['16:00'].sum())\n",
    "display(pivot_df3.T['17:00'].sum())\n",
    "display(pivot_df3.T['18:00'].sum())\n",
    "display(pivot_df3.T['19:00'].sum())\n",
    "display(pivot_df3.T['20:00'].sum())\n",
    "display(pivot_df3.T['21:00'].sum())\n",
    "display(pivot_df3.T['22:00'].sum())\n",
    "display(pivot_df3.T['23:00'].sum())"
   ]
  },
  {
   "cell_type": "markdown",
   "metadata": {},
   "source": [
    "### Conclusion 2:\n",
    "Assuming that data is collected and converted correctly, the above table displays the number of visits by robots - bots to our site from different sources at different times of the day: most often the site is visited from the following sources: Search engine traffic - 739; Direct traffic - 177; much less for Link traffic - 31 and at the following times of the day: 13:00 - 80; 12:00, 16:00 - 75; 14:00 - 74 visits, respectively."
   ]
  },
  {
   "cell_type": "markdown",
   "metadata": {},
   "source": [
    "### Visualization"
   ]
  },
  {
   "cell_type": "code",
   "execution_count": 18,
   "metadata": {},
   "outputs": [
    {
     "data": {
      "text/html": [
       "        <script type=\"text/javascript\">\n",
       "        window.PlotlyConfig = {MathJaxConfig: 'local'};\n",
       "        if (window.MathJax) {MathJax.Hub.Config({SVG: {font: \"STIX-Web\"}});}\n",
       "        if (typeof require !== 'undefined') {\n",
       "        require.undef(\"plotly\");\n",
       "        requirejs.config({\n",
       "            paths: {\n",
       "                'plotly': ['https://cdn.plot.ly/plotly-latest.min']\n",
       "            }\n",
       "        });\n",
       "        require(['plotly'], function(Plotly) {\n",
       "            window._Plotly = Plotly;\n",
       "        });\n",
       "        }\n",
       "        </script>\n",
       "        "
      ]
     },
     "metadata": {},
     "output_type": "display_data"
    },
    {
     "data": {
      "text/html": [
       "        <script type=\"text/javascript\">\n",
       "        window.PlotlyConfig = {MathJaxConfig: 'local'};\n",
       "        if (window.MathJax) {MathJax.Hub.Config({SVG: {font: \"STIX-Web\"}});}\n",
       "        if (typeof require !== 'undefined') {\n",
       "        require.undef(\"plotly\");\n",
       "        requirejs.config({\n",
       "            paths: {\n",
       "                'plotly': ['https://cdn.plot.ly/plotly-latest.min']\n",
       "            }\n",
       "        });\n",
       "        require(['plotly'], function(Plotly) {\n",
       "            window._Plotly = Plotly;\n",
       "        });\n",
       "        }\n",
       "        </script>\n",
       "        "
      ]
     },
     "metadata": {},
     "output_type": "display_data"
    }
   ],
   "source": [
    "import matplotlib.pyplot as plt\n",
    "import plotly.express as px\n",
    "%matplotlib inline\n",
    "import cufflinks as cf\n",
    "from plotly.offline import download_plotlyjs, init_notebook_mode, plot, iplot\n",
    "init_notebook_mode(connected = True) \n",
    "cf.go_offline()"
   ]
  },
  {
   "cell_type": "code",
   "execution_count": 19,
   "metadata": {},
   "outputs": [
    {
     "name": "stdout",
     "output_type": "stream",
     "text": [
      "Requirement already satisfied: plotly in c:\\users\\max\\anaconda3\\lib\\site-packages (4.14.3)\n",
      "Requirement already satisfied: retrying>=1.3.3 in c:\\users\\max\\anaconda3\\lib\\site-packages (from plotly) (1.3.3)\n",
      "Requirement already satisfied: six in c:\\users\\max\\anaconda3\\lib\\site-packages (from plotly) (1.15.0)\n"
     ]
    }
   ],
   "source": [
    "%pip install plotly"
   ]
  },
  {
   "cell_type": "code",
   "execution_count": 20,
   "metadata": {},
   "outputs": [
    {
     "data": {
      "text/plain": [
       "Text(0.5, 1.0, 'Визиты людей (син.), роботов (оран.), Link')"
      ]
     },
     "execution_count": 20,
     "metadata": {},
     "output_type": "execute_result"
    },
    {
     "data": {
      "image/png": "[encoded data removed]",
      "text/plain": [
       "<Figure size 1296x288 with 3 Axes>"
      ]
     },
     "metadata": {
      "needs_background": "light"
     },
     "output_type": "display_data"
    }
   ],
   "source": [
    "# Visualizing the ratio of visits by humans and robots on the site according to three sources mostly visited by robots:\n",
    "fig, axes = plt.subplots(1, 3, figsize = (18, 4))\n",
    "axes[0].bar(x = 'Source', height = pivot_df['Humans']['Search engine traffic'], color = 'darkblue')\n",
    "axes[0].bar(x = 'Source', height = pivot_df['Robots']['Search engine traffic'], color = 'orange')\n",
    "axes[0].set_title('Visits by humans (blue), robots (orange), Search engine')\n",
    "\n",
    "axes[1].bar(x = 'Source', height = pivot_df['Humans']['Direct traffic'], color = 'darkblue')\n",
    "axes[1].bar(x = 'Source', height = pivot_df['Robots']['Direct traffic'], color = 'orange')\n",
    "axes[1].set_title('Visits by humans (blue), robots (orange) , Direct')\n",
    "\n",
    "axes[2].bar(x = 'Source', height = pivot_df['Humans']['Link traffic'], color = 'darkblue')\n",
    "axes[2].bar(x = 'Source', height = pivot_df['Robots']['Link traffic'], color = 'orange')\n",
    "axes[2].set_title('Visits by humans (blue), robots (orange), Link')"
   ]
  },
  {
   "cell_type": "code",
   "execution_count": 21,
   "metadata": {},
   "outputs": [
    {
     "data": {
      "text/plain": [
       "Text(0, 0.5, 'Количество визитов людей, в %')"
      ]
     },
     "execution_count": 21,
     "metadata": {},
     "output_type": "execute_result"
    },
    {
     "data": {
      "image/png": "[encoded data removed]",
      "text/plain": [
       "<Figure size 1296x432 with 2 Axes>"
      ]
     },
     "metadata": {
      "needs_background": "light"
     },
     "output_type": "display_data"
    }
   ],
   "source": [
    "fig, axes = plt.subplots(1, 2, figsize = (18, 6)) \n",
    "axes[0].scatter(x = pivot_df['Humans'], y = pivot_df['Robots'], marker = 'o')\n",
    "axes[0].set_title('Dependence of human and robot visits on the site')\n",
    "axes[0].set_xlabel('Number of human visits')\n",
    "axes[0].set_ylabel('Number of robot visits, in %')\n",
    "\n",
    "axes[1].scatter(x = pivot_df['Robots'], y = pivot_df['Humans'], marker = 'v')\n",
    "axes[1].set_title('Dependence of robot and human visits on the site')\n",
    "axes[1].set_xlabel('Number of robot visitors')\n",
    "axes[1].set_ylabel('Number of human visitors, in %')"
   ]
  },
  {
   "cell_type": "markdown",
   "metadata": {},
   "source": [
    "As we can see on the graph above, there is a direct dependence of the number of visits by robots from the number of visits by humans:\n",
    "- the more humans visit the site, the higher number of visits by robots is observed, respectively\n",
    "\n",
    "\n",
    "Note: we make an assumption that the data we have collected is sufficient to determine the dependencies between the variables."
   ]
  },
  {
   "cell_type": "code",
   "execution_count": 22,
   "metadata": {},
   "outputs": [
    {
     "data": {
      "text/html": [
       "<div>\n",
       "<style scoped>\n",
       "    .dataframe tbody tr th:only-of-type {\n",
       "        vertical-align: middle;\n",
       "    }\n",
       "\n",
       "    .dataframe tbody tr th {\n",
       "        vertical-align: top;\n",
       "    }\n",
       "\n",
       "    .dataframe thead th {\n",
       "        text-align: right;\n",
       "    }\n",
       "</style>\n",
       "<table border=\"1\" class=\"dataframe\">\n",
       "  <thead>\n",
       "    <tr style=\"text-align: right;\">\n",
       "      <th></th>\n",
       "      <th>Source</th>\n",
       "      <th>People</th>\n",
       "      <th>Robots</th>\n",
       "    </tr>\n",
       "  </thead>\n",
       "  <tbody>\n",
       "    <tr>\n",
       "      <th>0</th>\n",
       "      <td>Cached page traffic</td>\n",
       "      <td>5</td>\n",
       "      <td>1</td>\n",
       "    </tr>\n",
       "    <tr>\n",
       "      <th>1</th>\n",
       "      <td>Direct traffic</td>\n",
       "      <td>580</td>\n",
       "      <td>177</td>\n",
       "    </tr>\n",
       "    <tr>\n",
       "      <th>2</th>\n",
       "      <td>Internal traffic</td>\n",
       "      <td>7</td>\n",
       "      <td>3</td>\n",
       "    </tr>\n",
       "    <tr>\n",
       "      <th>3</th>\n",
       "      <td>Link traffic</td>\n",
       "      <td>95</td>\n",
       "      <td>31</td>\n",
       "    </tr>\n",
       "    <tr>\n",
       "      <th>4</th>\n",
       "      <td>Recommendation system traffic</td>\n",
       "      <td>2</td>\n",
       "      <td>0</td>\n",
       "    </tr>\n",
       "    <tr>\n",
       "      <th>5</th>\n",
       "      <td>Search engine traffic</td>\n",
       "      <td>2595</td>\n",
       "      <td>739</td>\n",
       "    </tr>\n",
       "    <tr>\n",
       "      <th>6</th>\n",
       "      <td>Social network traffic</td>\n",
       "      <td>69</td>\n",
       "      <td>11</td>\n",
       "    </tr>\n",
       "  </tbody>\n",
       "</table>\n",
       "</div>"
      ],
      "text/plain": [
       "                          Source  People  Robots\n",
       "0            Cached page traffic       5       1\n",
       "1                 Direct traffic     580     177\n",
       "2               Internal traffic       7       3\n",
       "3                   Link traffic      95      31\n",
       "4  Recommendation system traffic       2       0\n",
       "5          Search engine traffic    2595     739\n",
       "6         Social network traffic      69      11"
      ]
     },
     "execution_count": 22,
     "metadata": {},
     "output_type": "execute_result"
    }
   ],
   "source": [
    "pivot_df.rename(columns = {'index': 'Source'})\n",
    "pivot_df.reset_index(inplace=True)\n",
    "pivot_df"
   ]
  },
  {
   "cell_type": "code",
   "execution_count": 23,
   "metadata": {},
   "outputs": [
    {
     "data": {
      "text/plain": [
       "Text(0, 0.5, 'Количество визитов роботов')"
      ]
     },
     "execution_count": 23,
     "metadata": {},
     "output_type": "execute_result"
    },
    {
     "data": {
      "image/png": "[encoded data removed]",
      "text/plain": [
       "<Figure size 1728x504 with 2 Axes>"
      ]
     },
     "metadata": {
      "needs_background": "light"
     },
     "output_type": "display_data"
    }
   ],
   "source": [
    "# Visualization of dependencies of visits by humans from traffic sources and visits by robots from traffic sources:\n",
    "fig, axes = plt.subplots(1, 2, figsize = (24, 7)) \n",
    "axes[0].scatter(x = pivot_df['Source'], y = pivot_df['Humans'], marker = 'o')\n",
    "\n",
    "axes[1].scatter(x = pivot_df['Source'], y = pivot_df['Robots'], marker = 'o')\n",
    "\n",
    "axes[0].set_title('Dependence of human visits on the site from traffic source')\n",
    "axes[0].set_xlabel('Traffic source')\n",
    "axes[0].set_ylabel('Number of visit by humans')\n",
    "axes[1].set_title('Dependence of robot visits on the site from traffic source')\n",
    "axes[1].set_xlabel('Traffic source')\n",
    "axes[1].set_ylabel('Number of visit by robots')"
   ]
  },
  {
   "cell_type": "markdown",
   "metadata": {},
   "source": [
    "Как мы видим, зависимость визитов роботов от источников траффика полностью коррелирует с зависимостью визитов людей от источников траффика.\n",
    "As we can see, the dependence of robot visits from traffic sources fully correlates with the dependence of human visits from traffic sources."
   ]
  },
  {
   "cell_type": "code",
   "execution_count": 24,
   "metadata": {},
   "outputs": [
    {
     "data": {
      "text/plain": [
       "0       5\n",
       "1     580\n",
       "2       7\n",
       "3      95\n",
       "4       2\n",
       "5    2595\n",
       "6      69\n",
       "Name: People, dtype: int64"
      ]
     },
     "execution_count": 24,
     "metadata": {},
     "output_type": "execute_result"
    }
   ],
   "source": [
    "pivot_df['Humans']"
   ]
  },
  {
   "cell_type": "code",
   "execution_count": 25,
   "metadata": {},
   "outputs": [
    {
     "data": {
      "text/plain": [
       "0      1\n",
       "1    177\n",
       "2      3\n",
       "3     31\n",
       "4      0\n",
       "5    739\n",
       "6     11\n",
       "Name: Robots, dtype: int64"
      ]
     },
     "execution_count": 25,
     "metadata": {},
     "output_type": "execute_result"
    }
   ],
   "source": [
    "pivot_df['Robots']"
   ]
  },
  {
   "cell_type": "code",
   "execution_count": 26,
   "metadata": {},
   "outputs": [
    {
     "data": {
      "application/vnd.plotly.v1+json": {
       "config": {
        "linkText": "Export to plot.ly",
        "plotlyServerURL": "https://plot.ly",
        "showLink": true
       },
       "data": [
        {
         "marker": {
          "color": [
           "darkred",
           "darkred",
           "darkred",
           "darkred",
           "darkred",
           "darkred",
           "darkred"
          ],
          "line": {
           "width": 1.3
          },
          "size": [
           12,
           34,
           12,
           15,
           12,
           112,
           14
          ],
          "symbol": "circle"
         },
         "mode": "markers",
         "text": "",
         "type": "scatter",
         "x": [
          1,
          177,
          3,
          31,
          0,
          739,
          11
         ],
         "y": [
          "Cached page traffic",
          "Direct traffic",
          "Internal traffic",
          "Link traffic",
          "Recommendation system traffic",
          "Search engine traffic",
          "Social network traffic"
         ]
        }
       ],
       "layout": {
        "legend": {
         "bgcolor": "#F5F6F9",
         "font": {
          "color": "#4D5663"
         }
        },
        "paper_bgcolor": "#F5F6F9",
        "plot_bgcolor": "#F5F6F9",
        "template": {
         "data": {
          "bar": [
           {
            "error_x": {
             "color": "#2a3f5f"
            },
            "error_y": {
             "color": "#2a3f5f"
            },
            "marker": {
             "line": {
              "color": "#E5ECF6",
              "width": 0.5
             }
            },
            "type": "bar"
           }
          ],
          "barpolar": [
           {
            "marker": {
             "line": {
              "color": "#E5ECF6",
              "width": 0.5
             }
            },
            "type": "barpolar"
           }
          ],
          "carpet": [
           {
            "aaxis": {
             "endlinecolor": "#2a3f5f",
             "gridcolor": "white",
             "linecolor": "white",
             "minorgridcolor": "white",
             "startlinecolor": "#2a3f5f"
            },
            "baxis": {
             "endlinecolor": "#2a3f5f",
             "gridcolor": "white",
             "linecolor": "white",
             "minorgridcolor": "white",
             "startlinecolor": "#2a3f5f"
            },
            "type": "carpet"
           }
          ],
          "choropleth": [
           {
            "colorbar": {
             "outlinewidth": 0,
             "ticks": ""
            },
            "type": "choropleth"
           }
          ],
          "contour": [
           {
            "colorbar": {
             "outlinewidth": 0,
             "ticks": ""
            },
            "colorscale": [
             [
              0,
              "#0d0887"
             ],
             [
              0.1111111111111111,
              "#46039f"
             ],
             [
              0.2222222222222222,
              "#7201a8"
             ],
             [
              0.3333333333333333,
              "#9c179e"
             ],
             [
              0.4444444444444444,
              "#bd3786"
             ],
             [
              0.5555555555555556,
              "#d8576b"
             ],
             [
              0.6666666666666666,
              "#ed7953"
             ],
             [
              0.7777777777777778,
              "#fb9f3a"
             ],
             [
              0.8888888888888888,
              "#fdca26"
             ],
             [
              1,
              "#f0f921"
             ]
            ],
            "type": "contour"
           }
          ],
          "contourcarpet": [
           {
            "colorbar": {
             "outlinewidth": 0,
             "ticks": ""
            },
            "type": "contourcarpet"
           }
          ],
          "heatmap": [
           {
            "colorbar": {
             "outlinewidth": 0,
             "ticks": ""
            },
            "colorscale": [
             [
              0,
              "#0d0887"
             ],
             [
              0.1111111111111111,
              "#46039f"
             ],
             [
              0.2222222222222222,
              "#7201a8"
             ],
             [
              0.3333333333333333,
              "#9c179e"
             ],
             [
              0.4444444444444444,
              "#bd3786"
             ],
             [
              0.5555555555555556,
              "#d8576b"
             ],
             [
              0.6666666666666666,
              "#ed7953"
             ],
             [
              0.7777777777777778,
              "#fb9f3a"
             ],
             [
              0.8888888888888888,
              "#fdca26"
             ],
             [
              1,
              "#f0f921"
             ]
            ],
            "type": "heatmap"
           }
          ],
          "heatmapgl": [
           {
            "colorbar": {
             "outlinewidth": 0,
             "ticks": ""
            },
            "colorscale": [
             [
              0,
              "#0d0887"
             ],
             [
              0.1111111111111111,
              "#46039f"
             ],
             [
              0.2222222222222222,
              "#7201a8"
             ],
             [
              0.3333333333333333,
              "#9c179e"
             ],
             [
              0.4444444444444444,
              "#bd3786"
             ],
             [
              0.5555555555555556,
              "#d8576b"
             ],
             [
              0.6666666666666666,
              "#ed7953"
             ],
             [
              0.7777777777777778,
              "#fb9f3a"
             ],
             [
              0.8888888888888888,
              "#fdca26"
             ],
             [
              1,
              "#f0f921"
             ]
            ],
            "type": "heatmapgl"
           }
          ],
          "histogram": [
           {
            "marker": {
             "colorbar": {
              "outlinewidth": 0,
              "ticks": ""
             }
            },
            "type": "histogram"
           }
          ],
          "histogram2d": [
           {
            "colorbar": {
             "outlinewidth": 0,
             "ticks": ""
            },
            "colorscale": [
             [
              0,
              "#0d0887"
             ],
             [
              0.1111111111111111,
              "#46039f"
             ],
             [
              0.2222222222222222,
              "#7201a8"
             ],
             [
              0.3333333333333333,
              "#9c179e"
             ],
             [
              0.4444444444444444,
              "#bd3786"
             ],
             [
              0.5555555555555556,
              "#d8576b"
             ],
             [
              0.6666666666666666,
              "#ed7953"
             ],
             [
              0.7777777777777778,
              "#fb9f3a"
             ],
             [
              0.8888888888888888,
              "#fdca26"
             ],
             [
              1,
              "#f0f921"
             ]
            ],
            "type": "histogram2d"
           }
          ],
          "histogram2dcontour": [
           {
            "colorbar": {
             "outlinewidth": 0,
             "ticks": ""
            },
            "colorscale": [
             [
              0,
              "#0d0887"
             ],
             [
              0.1111111111111111,
              "#46039f"
             ],
             [
              0.2222222222222222,
              "#7201a8"
             ],
             [
              0.3333333333333333,
              "#9c179e"
             ],
             [
              0.4444444444444444,
              "#bd3786"
             ],
             [
              0.5555555555555556,
              "#d8576b"
             ],
             [
              0.6666666666666666,
              "#ed7953"
             ],
             [
              0.7777777777777778,
              "#fb9f3a"
             ],
             [
              0.8888888888888888,
              "#fdca26"
             ],
             [
              1,
              "#f0f921"
             ]
            ],
            "type": "histogram2dcontour"
           }
          ],
          "mesh3d": [
           {
            "colorbar": {
             "outlinewidth": 0,
             "ticks": ""
            },
            "type": "mesh3d"
           }
          ],
          "parcoords": [
           {
            "line": {
             "colorbar": {
              "outlinewidth": 0,
              "ticks": ""
             }
            },
            "type": "parcoords"
           }
          ],
          "pie": [
           {
            "automargin": true,
            "type": "pie"
           }
          ],
          "scatter": [
           {
            "marker": {
             "colorbar": {
              "outlinewidth": 0,
              "ticks": ""
             }
            },
            "type": "scatter"
           }
          ],
          "scatter3d": [
           {
            "line": {
             "colorbar": {
              "outlinewidth": 0,
              "ticks": ""
             }
            },
            "marker": {
             "colorbar": {
              "outlinewidth": 0,
              "ticks": ""
             }
            },
            "type": "scatter3d"
           }
          ],
          "scattercarpet": [
           {
            "marker": {
             "colorbar": {
              "outlinewidth": 0,
              "ticks": ""
             }
            },
            "type": "scattercarpet"
           }
          ],
          "scattergeo": [
           {
            "marker": {
             "colorbar": {
              "outlinewidth": 0,
              "ticks": ""
             }
            },
            "type": "scattergeo"
           }
          ],
          "scattergl": [
           {
            "marker": {
             "colorbar": {
              "outlinewidth": 0,
              "ticks": ""
             }
            },
            "type": "scattergl"
           }
          ],
          "scattermapbox": [
           {
            "marker": {
             "colorbar": {
              "outlinewidth": 0,
              "ticks": ""
             }
            },
            "type": "scattermapbox"
           }
          ],
          "scatterpolar": [
           {
            "marker": {
             "colorbar": {
              "outlinewidth": 0,
              "ticks": ""
             }
            },
            "type": "scatterpolar"
           }
          ],
          "scatterpolargl": [
           {
            "marker": {
             "colorbar": {
              "outlinewidth": 0,
              "ticks": ""
             }
            },
            "type": "scatterpolargl"
           }
          ],
          "scatterternary": [
           {
            "marker": {
             "colorbar": {
              "outlinewidth": 0,
              "ticks": ""
             }
            },
            "type": "scatterternary"
           }
          ],
          "surface": [
           {
            "colorbar": {
             "outlinewidth": 0,
             "ticks": ""
            },
            "colorscale": [
             [
              0,
              "#0d0887"
             ],
             [
              0.1111111111111111,
              "#46039f"
             ],
             [
              0.2222222222222222,
              "#7201a8"
             ],
             [
              0.3333333333333333,
              "#9c179e"
             ],
             [
              0.4444444444444444,
              "#bd3786"
             ],
             [
              0.5555555555555556,
              "#d8576b"
             ],
             [
              0.6666666666666666,
              "#ed7953"
             ],
             [
              0.7777777777777778,
              "#fb9f3a"
             ],
             [
              0.8888888888888888,
              "#fdca26"
             ],
             [
              1,
              "#f0f921"
             ]
            ],
            "type": "surface"
           }
          ],
          "table": [
           {
            "cells": {
             "fill": {
              "color": "#EBF0F8"
             },
             "line": {
              "color": "white"
             }
            },
            "header": {
             "fill": {
              "color": "#C8D4E3"
             },
             "line": {
              "color": "white"
             }
            },
            "type": "table"
           }
          ]
         },
         "layout": {
          "annotationdefaults": {
           "arrowcolor": "#2a3f5f",
           "arrowhead": 0,
           "arrowwidth": 1
          },
          "autotypenumbers": "strict",
          "coloraxis": {
           "colorbar": {
            "outlinewidth": 0,
            "ticks": ""
           }
          },
          "colorscale": {
           "diverging": [
            [
             0,
             "#8e0152"
            ],
            [
             0.1,
             "#c51b7d"
            ],
            [
             0.2,
             "#de77ae"
            ],
            [
             0.3,
             "#f1b6da"
            ],
            [
             0.4,
             "#fde0ef"
            ],
            [
             0.5,
             "#f7f7f7"
            ],
            [
             0.6,
             "#e6f5d0"
            ],
            [
             0.7,
             "#b8e186"
            ],
            [
             0.8,
             "#7fbc41"
            ],
            [
             0.9,
             "#4d9221"
            ],
            [
             1,
             "#276419"
            ]
           ],
           "sequential": [
            [
             0,
             "#0d0887"
            ],
            [
             0.1111111111111111,
             "#46039f"
            ],
            [
             0.2222222222222222,
             "#7201a8"
            ],
            [
             0.3333333333333333,
             "#9c179e"
            ],
            [
             0.4444444444444444,
             "#bd3786"
            ],
            [
             0.5555555555555556,
             "#d8576b"
            ],
            [
             0.6666666666666666,
             "#ed7953"
            ],
            [
             0.7777777777777778,
             "#fb9f3a"
            ],
            [
             0.8888888888888888,
             "#fdca26"
            ],
            [
             1,
             "#f0f921"
            ]
           ],
           "sequentialminus": [
            [
             0,
             "#0d0887"
            ],
            [
             0.1111111111111111,
             "#46039f"
            ],
            [
             0.2222222222222222,
             "#7201a8"
            ],
            [
             0.3333333333333333,
             "#9c179e"
            ],
            [
             0.4444444444444444,
             "#bd3786"
            ],
            [
             0.5555555555555556,
             "#d8576b"
            ],
            [
             0.6666666666666666,
             "#ed7953"
            ],
            [
             0.7777777777777778,
             "#fb9f3a"
            ],
            [
             0.8888888888888888,
             "#fdca26"
            ],
            [
             1,
             "#f0f921"
            ]
           ]
          },
          "colorway": [
           "#636efa",
           "#EF553B",
           "#00cc96",
           "#ab63fa",
           "#FFA15A",
           "#19d3f3",
           "#FF6692",
           "#B6E880",
           "#FF97FF",
           "#FECB52"
          ],
          "font": {
           "color": "#2a3f5f"
          },
          "geo": {
           "bgcolor": "white",
           "lakecolor": "white",
           "landcolor": "#E5ECF6",
           "showlakes": true,
           "showland": true,
           "subunitcolor": "white"
          },
          "hoverlabel": {
           "align": "left"
          },
          "hovermode": "closest",
          "mapbox": {
           "style": "light"
          },
          "paper_bgcolor": "white",
          "plot_bgcolor": "#E5ECF6",
          "polar": {
           "angularaxis": {
            "gridcolor": "white",
            "linecolor": "white",
            "ticks": ""
           },
           "bgcolor": "#E5ECF6",
           "radialaxis": {
            "gridcolor": "white",
            "linecolor": "white",
            "ticks": ""
           }
          },
          "scene": {
           "xaxis": {
            "backgroundcolor": "#E5ECF6",
            "gridcolor": "white",
            "gridwidth": 2,
            "linecolor": "white",
            "showbackground": true,
            "ticks": "",
            "zerolinecolor": "white"
           },
           "yaxis": {
            "backgroundcolor": "#E5ECF6",
            "gridcolor": "white",
            "gridwidth": 2,
            "linecolor": "white",
            "showbackground": true,
            "ticks": "",
            "zerolinecolor": "white"
           },
           "zaxis": {
            "backgroundcolor": "#E5ECF6",
            "gridcolor": "white",
            "gridwidth": 2,
            "linecolor": "white",
            "showbackground": true,
            "ticks": "",
            "zerolinecolor": "white"
           }
          },
          "shapedefaults": {
           "line": {
            "color": "#2a3f5f"
           }
          },
          "ternary": {
           "aaxis": {
            "gridcolor": "white",
            "linecolor": "white",
            "ticks": ""
           },
           "baxis": {
            "gridcolor": "white",
            "linecolor": "white",
            "ticks": ""
           },
           "bgcolor": "#E5ECF6",
           "caxis": {
            "gridcolor": "white",
            "linecolor": "white",
            "ticks": ""
           }
          },
          "title": {
           "x": 0.05
          },
          "xaxis": {
           "automargin": true,
           "gridcolor": "white",
           "linecolor": "white",
           "ticks": "",
           "title": {
            "standoff": 15
           },
           "zerolinecolor": "white",
           "zerolinewidth": 2
          },
          "yaxis": {
           "automargin": true,
           "gridcolor": "white",
           "linecolor": "white",
           "ticks": "",
           "title": {
            "standoff": 15
           },
           "zerolinecolor": "white",
           "zerolinewidth": 2
          }
         }
        },
        "title": {
         "font": {
          "color": "#4D5663"
         }
        },
        "xaxis": {
         "gridcolor": "#E1E5ED",
         "showgrid": true,
         "tickfont": {
          "color": "#4D5663"
         },
         "title": {
          "font": {
           "color": "#4D5663"
          },
          "text": ""
         },
         "zerolinecolor": "#E1E5ED"
        },
        "yaxis": {
         "gridcolor": "#E1E5ED",
         "showgrid": true,
         "tickfont": {
          "color": "#4D5663"
         },
         "title": {
          "font": {
           "color": "#4D5663"
          },
          "text": ""
         },
         "zerolinecolor": "#E1E5ED"
        }
       }
      },
      "text/html": [
       "<div>                            <div id=\"1062bc3b-97a3-4bad-932b-0f64fe5942ee\" class=\"plotly-graph-div\" style=\"height:525px; width:100%;\"></div>            <script type=\"text/javascript\">                require([\"plotly\"], function(Plotly) {                    window.PLOTLYENV=window.PLOTLYENV || {};\n",
       "                    window.PLOTLYENV.BASE_URL='https://plot.ly';                                    if (document.getElementById(\"1062bc3b-97a3-4bad-932b-0f64fe5942ee\")) {                    Plotly.newPlot(                        \"1062bc3b-97a3-4bad-932b-0f64fe5942ee\",                        [{\"marker\": {\"color\": [\"darkred\", \"darkred\", \"darkred\", \"darkred\", \"darkred\", \"darkred\", \"darkred\"], \"line\": {\"width\": 1.3}, \"size\": [12, 34, 12, 15, 12, 112, 14], \"symbol\": \"circle\"}, \"mode\": \"markers\", \"text\": \"\", \"type\": \"scatter\", \"x\": [1, 177, 3, 31, 0, 739, 11], \"y\": [\"Cached page traffic\", \"Direct traffic\", \"Internal traffic\", \"Link traffic\", \"Recommendation system traffic\", \"Search engine traffic\", \"Social network traffic\"]}],                        {\"legend\": {\"bgcolor\": \"#F5F6F9\", \"font\": {\"color\": \"#4D5663\"}}, \"paper_bgcolor\": \"#F5F6F9\", \"plot_bgcolor\": \"#F5F6F9\", \"template\": {\"data\": {\"bar\": [{\"error_x\": {\"color\": \"#2a3f5f\"}, \"error_y\": {\"color\": \"#2a3f5f\"}, \"marker\": {\"line\": {\"color\": \"#E5ECF6\", \"width\": 0.5}}, \"type\": \"bar\"}], \"barpolar\": [{\"marker\": {\"line\": {\"color\": \"#E5ECF6\", \"width\": 0.5}}, \"type\": \"barpolar\"}], \"carpet\": [{\"aaxis\": {\"endlinecolor\": \"#2a3f5f\", \"gridcolor\": \"white\", \"linecolor\": \"white\", \"minorgridcolor\": \"white\", \"startlinecolor\": \"#2a3f5f\"}, \"baxis\": {\"endlinecolor\": \"#2a3f5f\", \"gridcolor\": \"white\", \"linecolor\": \"white\", \"minorgridcolor\": \"white\", \"startlinecolor\": \"#2a3f5f\"}, \"type\": \"carpet\"}], \"choropleth\": [{\"colorbar\": {\"outlinewidth\": 0, \"ticks\": \"\"}, \"type\": \"choropleth\"}], \"contour\": [{\"colorbar\": {\"outlinewidth\": 0, \"ticks\": \"\"}, \"colorscale\": [[0.0, \"#0d0887\"], [0.1111111111111111, \"#46039f\"], [0.2222222222222222, \"#7201a8\"], [0.3333333333333333, \"#9c179e\"], [0.4444444444444444, \"#bd3786\"], [0.5555555555555556, \"#d8576b\"], [0.6666666666666666, \"#ed7953\"], [0.7777777777777778, \"#fb9f3a\"], [0.8888888888888888, \"#fdca26\"], [1.0, \"#f0f921\"]], \"type\": \"contour\"}], \"contourcarpet\": [{\"colorbar\": {\"outlinewidth\": 0, \"ticks\": \"\"}, \"type\": \"contourcarpet\"}], \"heatmap\": [{\"colorbar\": {\"outlinewidth\": 0, \"ticks\": \"\"}, \"colorscale\": [[0.0, \"#0d0887\"], [0.1111111111111111, \"#46039f\"], [0.2222222222222222, \"#7201a8\"], [0.3333333333333333, \"#9c179e\"], [0.4444444444444444, \"#bd3786\"], [0.5555555555555556, \"#d8576b\"], [0.6666666666666666, \"#ed7953\"], [0.7777777777777778, \"#fb9f3a\"], [0.8888888888888888, \"#fdca26\"], [1.0, \"#f0f921\"]], \"type\": \"heatmap\"}], \"heatmapgl\": [{\"colorbar\": {\"outlinewidth\": 0, \"ticks\": \"\"}, \"colorscale\": [[0.0, \"#0d0887\"], [0.1111111111111111, \"#46039f\"], [0.2222222222222222, \"#7201a8\"], [0.3333333333333333, \"#9c179e\"], [0.4444444444444444, \"#bd3786\"], [0.5555555555555556, \"#d8576b\"], [0.6666666666666666, \"#ed7953\"], [0.7777777777777778, \"#fb9f3a\"], [0.8888888888888888, \"#fdca26\"], [1.0, \"#f0f921\"]], \"type\": \"heatmapgl\"}], \"histogram\": [{\"marker\": {\"colorbar\": {\"outlinewidth\": 0, \"ticks\": \"\"}}, \"type\": \"histogram\"}], \"histogram2d\": [{\"colorbar\": {\"outlinewidth\": 0, \"ticks\": \"\"}, \"colorscale\": [[0.0, \"#0d0887\"], [0.1111111111111111, \"#46039f\"], [0.2222222222222222, \"#7201a8\"], [0.3333333333333333, \"#9c179e\"], [0.4444444444444444, \"#bd3786\"], [0.5555555555555556, \"#d8576b\"], [0.6666666666666666, \"#ed7953\"], [0.7777777777777778, \"#fb9f3a\"], [0.8888888888888888, \"#fdca26\"], [1.0, \"#f0f921\"]], \"type\": \"histogram2d\"}], \"histogram2dcontour\": [{\"colorbar\": {\"outlinewidth\": 0, \"ticks\": \"\"}, \"colorscale\": [[0.0, \"#0d0887\"], [0.1111111111111111, \"#46039f\"], [0.2222222222222222, \"#7201a8\"], [0.3333333333333333, \"#9c179e\"], [0.4444444444444444, \"#bd3786\"], [0.5555555555555556, \"#d8576b\"], [0.6666666666666666, \"#ed7953\"], [0.7777777777777778, \"#fb9f3a\"], [0.8888888888888888, \"#fdca26\"], [1.0, \"#f0f921\"]], \"type\": \"histogram2dcontour\"}], \"mesh3d\": [{\"colorbar\": {\"outlinewidth\": 0, \"ticks\": \"\"}, \"type\": \"mesh3d\"}], \"parcoords\": [{\"line\": {\"colorbar\": {\"outlinewidth\": 0, \"ticks\": \"\"}}, \"type\": \"parcoords\"}], \"pie\": [{\"automargin\": true, \"type\": \"pie\"}], \"scatter\": [{\"marker\": {\"colorbar\": {\"outlinewidth\": 0, \"ticks\": \"\"}}, \"type\": \"scatter\"}], \"scatter3d\": [{\"line\": {\"colorbar\": {\"outlinewidth\": 0, \"ticks\": \"\"}}, \"marker\": {\"colorbar\": {\"outlinewidth\": 0, \"ticks\": \"\"}}, \"type\": \"scatter3d\"}], \"scattercarpet\": [{\"marker\": {\"colorbar\": {\"outlinewidth\": 0, \"ticks\": \"\"}}, \"type\": \"scattercarpet\"}], \"scattergeo\": [{\"marker\": {\"colorbar\": {\"outlinewidth\": 0, \"ticks\": \"\"}}, \"type\": \"scattergeo\"}], \"scattergl\": [{\"marker\": {\"colorbar\": {\"outlinewidth\": 0, \"ticks\": \"\"}}, \"type\": \"scattergl\"}], \"scattermapbox\": [{\"marker\": {\"colorbar\": {\"outlinewidth\": 0, \"ticks\": \"\"}}, \"type\": \"scattermapbox\"}], \"scatterpolar\": [{\"marker\": {\"colorbar\": {\"outlinewidth\": 0, \"ticks\": \"\"}}, \"type\": \"scatterpolar\"}], \"scatterpolargl\": [{\"marker\": {\"colorbar\": {\"outlinewidth\": 0, \"ticks\": \"\"}}, \"type\": \"scatterpolargl\"}], \"scatterternary\": [{\"marker\": {\"colorbar\": {\"outlinewidth\": 0, \"ticks\": \"\"}}, \"type\": \"scatterternary\"}], \"surface\": [{\"colorbar\": {\"outlinewidth\": 0, \"ticks\": \"\"}, \"colorscale\": [[0.0, \"#0d0887\"], [0.1111111111111111, \"#46039f\"], [0.2222222222222222, \"#7201a8\"], [0.3333333333333333, \"#9c179e\"], [0.4444444444444444, \"#bd3786\"], [0.5555555555555556, \"#d8576b\"], [0.6666666666666666, \"#ed7953\"], [0.7777777777777778, \"#fb9f3a\"], [0.8888888888888888, \"#fdca26\"], [1.0, \"#f0f921\"]], \"type\": \"surface\"}], \"table\": [{\"cells\": {\"fill\": {\"color\": \"#EBF0F8\"}, \"line\": {\"color\": \"white\"}}, \"header\": {\"fill\": {\"color\": \"#C8D4E3\"}, \"line\": {\"color\": \"white\"}}, \"type\": \"table\"}]}, \"layout\": {\"annotationdefaults\": {\"arrowcolor\": \"#2a3f5f\", \"arrowhead\": 0, \"arrowwidth\": 1}, \"autotypenumbers\": \"strict\", \"coloraxis\": {\"colorbar\": {\"outlinewidth\": 0, \"ticks\": \"\"}}, \"colorscale\": {\"diverging\": [[0, \"#8e0152\"], [0.1, \"#c51b7d\"], [0.2, \"#de77ae\"], [0.3, \"#f1b6da\"], [0.4, \"#fde0ef\"], [0.5, \"#f7f7f7\"], [0.6, \"#e6f5d0\"], [0.7, \"#b8e186\"], [0.8, \"#7fbc41\"], [0.9, \"#4d9221\"], [1, \"#276419\"]], \"sequential\": [[0.0, \"#0d0887\"], [0.1111111111111111, \"#46039f\"], [0.2222222222222222, \"#7201a8\"], [0.3333333333333333, \"#9c179e\"], [0.4444444444444444, \"#bd3786\"], [0.5555555555555556, \"#d8576b\"], [0.6666666666666666, \"#ed7953\"], [0.7777777777777778, \"#fb9f3a\"], [0.8888888888888888, \"#fdca26\"], [1.0, \"#f0f921\"]], \"sequentialminus\": [[0.0, \"#0d0887\"], [0.1111111111111111, \"#46039f\"], [0.2222222222222222, \"#7201a8\"], [0.3333333333333333, \"#9c179e\"], [0.4444444444444444, \"#bd3786\"], [0.5555555555555556, \"#d8576b\"], [0.6666666666666666, \"#ed7953\"], [0.7777777777777778, \"#fb9f3a\"], [0.8888888888888888, \"#fdca26\"], [1.0, \"#f0f921\"]]}, \"colorway\": [\"#636efa\", \"#EF553B\", \"#00cc96\", \"#ab63fa\", \"#FFA15A\", \"#19d3f3\", \"#FF6692\", \"#B6E880\", \"#FF97FF\", \"#FECB52\"], \"font\": {\"color\": \"#2a3f5f\"}, \"geo\": {\"bgcolor\": \"white\", \"lakecolor\": \"white\", \"landcolor\": \"#E5ECF6\", \"showlakes\": true, \"showland\": true, \"subunitcolor\": \"white\"}, \"hoverlabel\": {\"align\": \"left\"}, \"hovermode\": \"closest\", \"mapbox\": {\"style\": \"light\"}, \"paper_bgcolor\": \"white\", \"plot_bgcolor\": \"#E5ECF6\", \"polar\": {\"angularaxis\": {\"gridcolor\": \"white\", \"linecolor\": \"white\", \"ticks\": \"\"}, \"bgcolor\": \"#E5ECF6\", \"radialaxis\": {\"gridcolor\": \"white\", \"linecolor\": \"white\", \"ticks\": \"\"}}, \"scene\": {\"xaxis\": {\"backgroundcolor\": \"#E5ECF6\", \"gridcolor\": \"white\", \"gridwidth\": 2, \"linecolor\": \"white\", \"showbackground\": true, \"ticks\": \"\", \"zerolinecolor\": \"white\"}, \"yaxis\": {\"backgroundcolor\": \"#E5ECF6\", \"gridcolor\": \"white\", \"gridwidth\": 2, \"linecolor\": \"white\", \"showbackground\": true, \"ticks\": \"\", \"zerolinecolor\": \"white\"}, \"zaxis\": {\"backgroundcolor\": \"#E5ECF6\", \"gridcolor\": \"white\", \"gridwidth\": 2, \"linecolor\": \"white\", \"showbackground\": true, \"ticks\": \"\", \"zerolinecolor\": \"white\"}}, \"shapedefaults\": {\"line\": {\"color\": \"#2a3f5f\"}}, \"ternary\": {\"aaxis\": {\"gridcolor\": \"white\", \"linecolor\": \"white\", \"ticks\": \"\"}, \"baxis\": {\"gridcolor\": \"white\", \"linecolor\": \"white\", \"ticks\": \"\"}, \"bgcolor\": \"#E5ECF6\", \"caxis\": {\"gridcolor\": \"white\", \"linecolor\": \"white\", \"ticks\": \"\"}}, \"title\": {\"x\": 0.05}, \"xaxis\": {\"automargin\": true, \"gridcolor\": \"white\", \"linecolor\": \"white\", \"ticks\": \"\", \"title\": {\"standoff\": 15}, \"zerolinecolor\": \"white\", \"zerolinewidth\": 2}, \"yaxis\": {\"automargin\": true, \"gridcolor\": \"white\", \"linecolor\": \"white\", \"ticks\": \"\", \"title\": {\"standoff\": 15}, \"zerolinecolor\": \"white\", \"zerolinewidth\": 2}}}, \"title\": {\"font\": {\"color\": \"#4D5663\"}}, \"xaxis\": {\"gridcolor\": \"#E1E5ED\", \"showgrid\": true, \"tickfont\": {\"color\": \"#4D5663\"}, \"title\": {\"font\": {\"color\": \"#4D5663\"}, \"text\": \"\"}, \"zerolinecolor\": \"#E1E5ED\"}, \"yaxis\": {\"gridcolor\": \"#E1E5ED\", \"showgrid\": true, \"tickfont\": {\"color\": \"#4D5663\"}, \"title\": {\"font\": {\"color\": \"#4D5663\"}, \"text\": \"\"}, \"zerolinecolor\": \"#E1E5ED\"}},                        {\"showLink\": true, \"linkText\": \"Export to plot.ly\", \"plotlyServerURL\": \"https://plot.ly\", \"responsive\": true}                    ).then(function(){\n",
       "                            \n",
       "var gd = document.getElementById('1062bc3b-97a3-4bad-932b-0f64fe5942ee');\n",
       "var x = new MutationObserver(function (mutations, observer) {{\n",
       "        var display = window.getComputedStyle(gd).display;\n",
       "        if (!display || display === 'none') {{\n",
       "            console.log([gd, 'removed!']);\n",
       "            Plotly.purge(gd);\n",
       "            observer.disconnect();\n",
       "        }}\n",
       "}});\n",
       "\n",
       "// Listen for the removal of the full notebook cells\n",
       "var notebookContainer = gd.closest('#notebook-container');\n",
       "if (notebookContainer) {{\n",
       "    x.observe(notebookContainer, {childList: true});\n",
       "}}\n",
       "\n",
       "// Listen for the clearing of the current output cell\n",
       "var outputEl = gd.closest('.output');\n",
       "if (outputEl) {{\n",
       "    x.observe(outputEl, {childList: true});\n",
       "}}\n",
       "\n",
       "                        })                };                });            </script>        </div>"
      ]
     },
     "metadata": {},
     "output_type": "display_data"
    }
   ],
   "source": [
    "# Let's visualize the number of visits by robots (bots) for each traffic source:\n",
    "pivot_df.iplot(kind = 'bubble', x = 'Robots', y = 'Source', size = 'Humans', color = 'darkred')"
   ]
  },
  {
   "cell_type": "code",
   "execution_count": 27,
   "metadata": {},
   "outputs": [
    {
     "data": {
      "application/vnd.plotly.v1+json": {
       "config": {
        "plotlyServerURL": "https://plot.ly"
       },
       "data": [
        {
         "hovertemplate": "<b>%{hovertext}</b><br><br>Source=%{y}<br>Time=%{x}<br>Robots=%{marker.size}<extra></extra>",
         "hovertext": [
          62.0000000022,
          63,
          58.99999999440001,
          64.00000000200001,
          56.0000000025,
          58.000000005,
          54.999999992300005,
          36.0000000006,
          29.000000003199997,
          37.999999996700005,
          25.999999993499998,
          30.000000003100006,
          36.0000000024,
          31.0000000024,
          29,
          21,
          17.000000003400004,
          5.999999997700001,
          7.9999999986,
          4.999999999500001,
          2.9999999994000004,
          2.9999999988,
          1,
          2.9999999998
         ],
         "legendgroup": "Search engine traffic",
         "marker": {
          "color": "#636efa",
          "size": [
           62.0000000022,
           63,
           58.99999999440001,
           64.00000000200001,
           56.0000000025,
           58.000000005,
           54.999999992300005,
           36.0000000006,
           29.000000003199997,
           37.999999996700005,
           25.999999993499998,
           30.000000003100006,
           36.0000000024,
           31.0000000024,
           29,
           21,
           17.000000003400004,
           5.999999997700001,
           7.9999999986,
           4.999999999500001,
           2.9999999994000004,
           2.9999999988,
           1,
           2.9999999998
          ],
          "sizemode": "area",
          "sizeref": 0.025600000000800004,
          "symbol": "circle"
         },
         "mode": "markers",
         "name": "Search engine traffic",
         "orientation": "v",
         "showlegend": true,
         "type": "scatter",
         "x": [
          "16:00",
          "15:00",
          "11:00",
          "13:00",
          "12:00",
          "14:00",
          "17:00",
          "10:00",
          "21:00",
          "19:00",
          "20:00",
          "22:00",
          "09:00",
          "18:00",
          "08:00",
          "23:00",
          "00:00",
          "07:00",
          "01:00",
          "02:00",
          "06:00",
          "03:00",
          "05:00",
          "04:00"
         ],
         "xaxis": "x",
         "y": [
          "Search engine traffic",
          "Search engine traffic",
          "Search engine traffic",
          "Search engine traffic",
          "Search engine traffic",
          "Search engine traffic",
          "Search engine traffic",
          "Search engine traffic",
          "Search engine traffic",
          "Search engine traffic",
          "Search engine traffic",
          "Search engine traffic",
          "Search engine traffic",
          "Search engine traffic",
          "Search engine traffic",
          "Search engine traffic",
          "Search engine traffic",
          "Search engine traffic",
          "Search engine traffic",
          "Search engine traffic",
          "Search engine traffic",
          "Search engine traffic",
          "Search engine traffic",
          "Search engine traffic"
         ],
         "yaxis": "y"
        },
        {
         "hovertemplate": "<b>%{hovertext}</b><br><br>Source=%{y}<br>Time=%{x}<br>Robots=%{marker.size}<extra></extra>",
         "hovertext": [
          14.000000001,
          14.9999999973,
          13.0000000017,
          8.9999999994,
          9.0000000008,
          7.9999999988,
          8.000000001,
          5.999999999399999,
          10,
          9.0000000012,
          11.999999999099998,
          7.9999999984,
          5.9999999994,
          13,
          8.0000000001,
          5.000000000100001,
          4.9999999993,
          4,
          3,
          1.9999999998,
          2.9999999997000004,
          2,
          1.9999999998,
          2.9999999997000004
         ],
         "legendgroup": "Direct traffic",
         "marker": {
          "color": "#EF553B",
          "size": [
           14.000000001,
           14.9999999973,
           13.0000000017,
           8.9999999994,
           9.0000000008,
           7.9999999988,
           8.000000001,
           5.999999999399999,
           10,
           9.0000000012,
           11.999999999099998,
           7.9999999984,
           5.9999999994,
           13,
           8.0000000001,
           5.000000000100001,
           4.9999999993,
           4,
           3,
           1.9999999998,
           2.9999999997000004,
           2,
           1.9999999998,
           2.9999999997000004
          ],
          "sizemode": "area",
          "sizeref": 0.025600000000800004,
          "symbol": "circle"
         },
         "mode": "markers",
         "name": "Direct traffic",
         "orientation": "v",
         "showlegend": true,
         "type": "scatter",
         "x": [
          "14:00",
          "12:00",
          "21:00",
          "18:00",
          "10:00",
          "11:00",
          "16:00",
          "15:00",
          "19:00",
          "17:00",
          "09:00",
          "20:00",
          "22:00",
          "13:00",
          "23:00",
          "08:00",
          "07:00",
          "01:00",
          "05:00",
          "02:00",
          "06:00",
          "00:00",
          "03:00",
          "04:00"
         ],
         "xaxis": "x",
         "y": [
          "Direct traffic",
          "Direct traffic",
          "Direct traffic",
          "Direct traffic",
          "Direct traffic",
          "Direct traffic",
          "Direct traffic",
          "Direct traffic",
          "Direct traffic",
          "Direct traffic",
          "Direct traffic",
          "Direct traffic",
          "Direct traffic",
          "Direct traffic",
          "Direct traffic",
          "Direct traffic",
          "Direct traffic",
          "Direct traffic",
          "Direct traffic",
          "Direct traffic",
          "Direct traffic",
          "Direct traffic",
          "Direct traffic",
          "Direct traffic"
         ],
         "yaxis": "y"
        },
        {
         "hovertemplate": "<b>%{hovertext}</b><br><br>Source=%{y}<br>Time=%{x}<br>Robots=%{marker.size}<extra></extra>",
         "hovertext": [
          3.0000000002,
          0.9999999996000001,
          1.9999999998,
          6,
          2,
          1,
          3.0000000002,
          1.0000000002999998,
          1.9999999998999998,
          0,
          2,
          2,
          1,
          1,
          0,
          0.9999999999000001,
          0,
          0,
          0,
          1,
          1,
          1
         ],
         "legendgroup": "Link traffic",
         "marker": {
          "color": "#00cc96",
          "size": [
           3.0000000002,
           0.9999999996000001,
           1.9999999998,
           6,
           2,
           1,
           3.0000000002,
           1.0000000002999998,
           1.9999999998999998,
           0,
           2,
           2,
           1,
           1,
           0,
           0.9999999999000001,
           0,
           0,
           0,
           1,
           1,
           1
          ],
          "sizemode": "area",
          "sizeref": 0.025600000000800004,
          "symbol": "circle"
         },
         "mode": "markers",
         "name": "Link traffic",
         "orientation": "v",
         "showlegend": true,
         "type": "scatter",
         "x": [
          "16:00",
          "15:00",
          "12:00",
          "10:00",
          "17:00",
          "09:00",
          "11:00",
          "13:00",
          "20:00",
          "21:00",
          "14:00",
          "06:00",
          "08:00",
          "18:00",
          "00:00",
          "07:00",
          "01:00",
          "02:00",
          "19:00",
          "22:00",
          "23:00",
          "03:00"
         ],
         "xaxis": "x",
         "y": [
          "Link traffic",
          "Link traffic",
          "Link traffic",
          "Link traffic",
          "Link traffic",
          "Link traffic",
          "Link traffic",
          "Link traffic",
          "Link traffic",
          "Link traffic",
          "Link traffic",
          "Link traffic",
          "Link traffic",
          "Link traffic",
          "Link traffic",
          "Link traffic",
          "Link traffic",
          "Link traffic",
          "Link traffic",
          "Link traffic",
          "Link traffic",
          "Link traffic"
         ],
         "yaxis": "y"
        },
        {
         "hovertemplate": "<b>%{hovertext}</b><br><br>Source=%{y}<br>Time=%{x}<br>Robots=%{marker.size}<extra></extra>",
         "hovertext": [
          0.9999999999,
          1,
          1.9999999998999998,
          0,
          3,
          0,
          0,
          0,
          1,
          0.9999999999000001,
          0.9999999999000001,
          0,
          0,
          0,
          0,
          0,
          1,
          0,
          0,
          0,
          0,
          0
         ],
         "legendgroup": "Social network traffic",
         "marker": {
          "color": "#ab63fa",
          "size": [
           0.9999999999,
           1,
           1.9999999998999998,
           0,
           3,
           0,
           0,
           0,
           1,
           0.9999999999000001,
           0.9999999999000001,
           0,
           0,
           0,
           0,
           0,
           1,
           0,
           0,
           0,
           0,
           0
          ],
          "sizemode": "area",
          "sizeref": 0.025600000000800004,
          "symbol": "circle"
         },
         "mode": "markers",
         "name": "Social network traffic",
         "orientation": "v",
         "showlegend": true,
         "type": "scatter",
         "x": [
          "09:00",
          "21:00",
          "13:00",
          "19:00",
          "22:00",
          "18:00",
          "20:00",
          "06:00",
          "15:00",
          "08:00",
          "12:00",
          "14:00",
          "23:00",
          "05:00",
          "07:00",
          "11:00",
          "16:00",
          "17:00",
          "01:00",
          "02:00",
          "04:00",
          "10:00"
         ],
         "xaxis": "x",
         "y": [
          "Social network traffic",
          "Social network traffic",
          "Social network traffic",
          "Social network traffic",
          "Social network traffic",
          "Social network traffic",
          "Social network traffic",
          "Social network traffic",
          "Social network traffic",
          "Social network traffic",
          "Social network traffic",
          "Social network traffic",
          "Social network traffic",
          "Social network traffic",
          "Social network traffic",
          "Social network traffic",
          "Social network traffic",
          "Social network traffic",
          "Social network traffic",
          "Social network traffic",
          "Social network traffic",
          "Social network traffic"
         ],
         "yaxis": "y"
        },
        {
         "hovertemplate": "<b>%{hovertext}</b><br><br>Source=%{y}<br>Time=%{x}<br>Robots=%{marker.size}<extra></extra>",
         "hovertext": [
          1,
          1,
          0,
          0,
          0,
          0,
          1,
          0
         ],
         "legendgroup": "Internal traffic",
         "marker": {
          "color": "#FFA15A",
          "size": [
           1,
           1,
           0,
           0,
           0,
           0,
           1,
           0
          ],
          "sizemode": "area",
          "sizeref": 0.025600000000800004,
          "symbol": "circle"
         },
         "mode": "markers",
         "name": "Internal traffic",
         "orientation": "v",
         "showlegend": true,
         "type": "scatter",
         "x": [
          "09:00",
          "12:00",
          "02:00",
          "08:00",
          "11:00",
          "14:00",
          "16:00",
          "17:00"
         ],
         "xaxis": "x",
         "y": [
          "Internal traffic",
          "Internal traffic",
          "Internal traffic",
          "Internal traffic",
          "Internal traffic",
          "Internal traffic",
          "Internal traffic",
          "Internal traffic"
         ],
         "yaxis": "y"
        },
        {
         "hovertemplate": "<b>%{hovertext}</b><br><br>Source=%{y}<br>Time=%{x}<br>Robots=%{marker.size}<extra></extra>",
         "hovertext": [
          1,
          0,
          0,
          0,
          0
         ],
         "legendgroup": "Cached page traffic",
         "marker": {
          "color": "#19d3f3",
          "size": [
           1,
           0,
           0,
           0,
           0
          ],
          "sizemode": "area",
          "sizeref": 0.025600000000800004,
          "symbol": "circle"
         },
         "mode": "markers",
         "name": "Cached page traffic",
         "orientation": "v",
         "showlegend": true,
         "type": "scatter",
         "x": [
          "01:00",
          "08:00",
          "11:00",
          "12:00",
          "17:00"
         ],
         "xaxis": "x",
         "y": [
          "Cached page traffic",
          "Cached page traffic",
          "Cached page traffic",
          "Cached page traffic",
          "Cached page traffic"
         ],
         "yaxis": "y"
        },
        {
         "hovertemplate": "<b>%{hovertext}</b><br><br>Source=%{y}<br>Time=%{x}<br>Robots=%{marker.size}<extra></extra>",
         "hovertext": [
          0,
          0
         ],
         "legendgroup": "Recommendation system traffic",
         "marker": {
          "color": "#FF6692",
          "size": [
           0,
           0
          ],
          "sizemode": "area",
          "sizeref": 0.025600000000800004,
          "symbol": "circle"
         },
         "mode": "markers",
         "name": "Recommendation system traffic",
         "orientation": "v",
         "showlegend": true,
         "type": "scatter",
         "x": [
          "08:00",
          "14:00"
         ],
         "xaxis": "x",
         "y": [
          "Recommendation system traffic",
          "Recommendation system traffic"
         ],
         "yaxis": "y"
        }
       ],
       "layout": {
        "legend": {
         "itemsizing": "constant",
         "title": {
          "text": "Source"
         },
         "tracegroupgap": 0
        },
        "margin": {
         "t": 60
        },
        "template": {
         "data": {
          "bar": [
           {
            "error_x": {
             "color": "#2a3f5f"
            },
            "error_y": {
             "color": "#2a3f5f"
            },
            "marker": {
             "line": {
              "color": "#E5ECF6",
              "width": 0.5
             }
            },
            "type": "bar"
           }
          ],
          "barpolar": [
           {
            "marker": {
             "line": {
              "color": "#E5ECF6",
              "width": 0.5
             }
            },
            "type": "barpolar"
           }
          ],
          "carpet": [
           {
            "aaxis": {
             "endlinecolor": "#2a3f5f",
             "gridcolor": "white",
             "linecolor": "white",
             "minorgridcolor": "white",
             "startlinecolor": "#2a3f5f"
            },
            "baxis": {
             "endlinecolor": "#2a3f5f",
             "gridcolor": "white",
             "linecolor": "white",
             "minorgridcolor": "white",
             "startlinecolor": "#2a3f5f"
            },
            "type": "carpet"
           }
          ],
          "choropleth": [
           {
            "colorbar": {
             "outlinewidth": 0,
             "ticks": ""
            },
            "type": "choropleth"
           }
          ],
          "contour": [
           {
            "colorbar": {
             "outlinewidth": 0,
             "ticks": ""
            },
            "colorscale": [
             [
              0,
              "#0d0887"
             ],
             [
              0.1111111111111111,
              "#46039f"
             ],
             [
              0.2222222222222222,
              "#7201a8"
             ],
             [
              0.3333333333333333,
              "#9c179e"
             ],
             [
              0.4444444444444444,
              "#bd3786"
             ],
             [
              0.5555555555555556,
              "#d8576b"
             ],
             [
              0.6666666666666666,
              "#ed7953"
             ],
             [
              0.7777777777777778,
              "#fb9f3a"
             ],
             [
              0.8888888888888888,
              "#fdca26"
             ],
             [
              1,
              "#f0f921"
             ]
            ],
            "type": "contour"
           }
          ],
          "contourcarpet": [
           {
            "colorbar": {
             "outlinewidth": 0,
             "ticks": ""
            },
            "type": "contourcarpet"
           }
          ],
          "heatmap": [
           {
            "colorbar": {
             "outlinewidth": 0,
             "ticks": ""
            },
            "colorscale": [
             [
              0,
              "#0d0887"
             ],
             [
              0.1111111111111111,
              "#46039f"
             ],
             [
              0.2222222222222222,
              "#7201a8"
             ],
             [
              0.3333333333333333,
              "#9c179e"
             ],
             [
              0.4444444444444444,
              "#bd3786"
             ],
             [
              0.5555555555555556,
              "#d8576b"
             ],
             [
              0.6666666666666666,
              "#ed7953"
             ],
             [
              0.7777777777777778,
              "#fb9f3a"
             ],
             [
              0.8888888888888888,
              "#fdca26"
             ],
             [
              1,
              "#f0f921"
             ]
            ],
            "type": "heatmap"
           }
          ],
          "heatmapgl": [
           {
            "colorbar": {
             "outlinewidth": 0,
             "ticks": ""
            },
            "colorscale": [
             [
              0,
              "#0d0887"
             ],
             [
              0.1111111111111111,
              "#46039f"
             ],
             [
              0.2222222222222222,
              "#7201a8"
             ],
             [
              0.3333333333333333,
              "#9c179e"
             ],
             [
              0.4444444444444444,
              "#bd3786"
             ],
             [
              0.5555555555555556,
              "#d8576b"
             ],
             [
              0.6666666666666666,
              "#ed7953"
             ],
             [
              0.7777777777777778,
              "#fb9f3a"
             ],
             [
              0.8888888888888888,
              "#fdca26"
             ],
             [
              1,
              "#f0f921"
             ]
            ],
            "type": "heatmapgl"
           }
          ],
          "histogram": [
           {
            "marker": {
             "colorbar": {
              "outlinewidth": 0,
              "ticks": ""
             }
            },
            "type": "histogram"
           }
          ],
          "histogram2d": [
           {
            "colorbar": {
             "outlinewidth": 0,
             "ticks": ""
            },
            "colorscale": [
             [
              0,
              "#0d0887"
             ],
             [
              0.1111111111111111,
              "#46039f"
             ],
             [
              0.2222222222222222,
              "#7201a8"
             ],
             [
              0.3333333333333333,
              "#9c179e"
             ],
             [
              0.4444444444444444,
              "#bd3786"
             ],
             [
              0.5555555555555556,
              "#d8576b"
             ],
             [
              0.6666666666666666,
              "#ed7953"
             ],
             [
              0.7777777777777778,
              "#fb9f3a"
             ],
             [
              0.8888888888888888,
              "#fdca26"
             ],
             [
              1,
              "#f0f921"
             ]
            ],
            "type": "histogram2d"
           }
          ],
          "histogram2dcontour": [
           {
            "colorbar": {
             "outlinewidth": 0,
             "ticks": ""
            },
            "colorscale": [
             [
              0,
              "#0d0887"
             ],
             [
              0.1111111111111111,
              "#46039f"
             ],
             [
              0.2222222222222222,
              "#7201a8"
             ],
             [
              0.3333333333333333,
              "#9c179e"
             ],
             [
              0.4444444444444444,
              "#bd3786"
             ],
             [
              0.5555555555555556,
              "#d8576b"
             ],
             [
              0.6666666666666666,
              "#ed7953"
             ],
             [
              0.7777777777777778,
              "#fb9f3a"
             ],
             [
              0.8888888888888888,
              "#fdca26"
             ],
             [
              1,
              "#f0f921"
             ]
            ],
            "type": "histogram2dcontour"
           }
          ],
          "mesh3d": [
           {
            "colorbar": {
             "outlinewidth": 0,
             "ticks": ""
            },
            "type": "mesh3d"
           }
          ],
          "parcoords": [
           {
            "line": {
             "colorbar": {
              "outlinewidth": 0,
              "ticks": ""
             }
            },
            "type": "parcoords"
           }
          ],
          "pie": [
           {
            "automargin": true,
            "type": "pie"
           }
          ],
          "scatter": [
           {
            "marker": {
             "colorbar": {
              "outlinewidth": 0,
              "ticks": ""
             }
            },
            "type": "scatter"
           }
          ],
          "scatter3d": [
           {
            "line": {
             "colorbar": {
              "outlinewidth": 0,
              "ticks": ""
             }
            },
            "marker": {
             "colorbar": {
              "outlinewidth": 0,
              "ticks": ""
             }
            },
            "type": "scatter3d"
           }
          ],
          "scattercarpet": [
           {
            "marker": {
             "colorbar": {
              "outlinewidth": 0,
              "ticks": ""
             }
            },
            "type": "scattercarpet"
           }
          ],
          "scattergeo": [
           {
            "marker": {
             "colorbar": {
              "outlinewidth": 0,
              "ticks": ""
             }
            },
            "type": "scattergeo"
           }
          ],
          "scattergl": [
           {
            "marker": {
             "colorbar": {
              "outlinewidth": 0,
              "ticks": ""
             }
            },
            "type": "scattergl"
           }
          ],
          "scattermapbox": [
           {
            "marker": {
             "colorbar": {
              "outlinewidth": 0,
              "ticks": ""
             }
            },
            "type": "scattermapbox"
           }
          ],
          "scatterpolar": [
           {
            "marker": {
             "colorbar": {
              "outlinewidth": 0,
              "ticks": ""
             }
            },
            "type": "scatterpolar"
           }
          ],
          "scatterpolargl": [
           {
            "marker": {
             "colorbar": {
              "outlinewidth": 0,
              "ticks": ""
             }
            },
            "type": "scatterpolargl"
           }
          ],
          "scatterternary": [
           {
            "marker": {
             "colorbar": {
              "outlinewidth": 0,
              "ticks": ""
             }
            },
            "type": "scatterternary"
           }
          ],
          "surface": [
           {
            "colorbar": {
             "outlinewidth": 0,
             "ticks": ""
            },
            "colorscale": [
             [
              0,
              "#0d0887"
             ],
             [
              0.1111111111111111,
              "#46039f"
             ],
             [
              0.2222222222222222,
              "#7201a8"
             ],
             [
              0.3333333333333333,
              "#9c179e"
             ],
             [
              0.4444444444444444,
              "#bd3786"
             ],
             [
              0.5555555555555556,
              "#d8576b"
             ],
             [
              0.6666666666666666,
              "#ed7953"
             ],
             [
              0.7777777777777778,
              "#fb9f3a"
             ],
             [
              0.8888888888888888,
              "#fdca26"
             ],
             [
              1,
              "#f0f921"
             ]
            ],
            "type": "surface"
           }
          ],
          "table": [
           {
            "cells": {
             "fill": {
              "color": "#EBF0F8"
             },
             "line": {
              "color": "white"
             }
            },
            "header": {
             "fill": {
              "color": "#C8D4E3"
             },
             "line": {
              "color": "white"
             }
            },
            "type": "table"
           }
          ]
         },
         "layout": {
          "annotationdefaults": {
           "arrowcolor": "#2a3f5f",
           "arrowhead": 0,
           "arrowwidth": 1
          },
          "autotypenumbers": "strict",
          "coloraxis": {
           "colorbar": {
            "outlinewidth": 0,
            "ticks": ""
           }
          },
          "colorscale": {
           "diverging": [
            [
             0,
             "#8e0152"
            ],
            [
             0.1,
             "#c51b7d"
            ],
            [
             0.2,
             "#de77ae"
            ],
            [
             0.3,
             "#f1b6da"
            ],
            [
             0.4,
             "#fde0ef"
            ],
            [
             0.5,
             "#f7f7f7"
            ],
            [
             0.6,
             "#e6f5d0"
            ],
            [
             0.7,
             "#b8e186"
            ],
            [
             0.8,
             "#7fbc41"
            ],
            [
             0.9,
             "#4d9221"
            ],
            [
             1,
             "#276419"
            ]
           ],
           "sequential": [
            [
             0,
             "#0d0887"
            ],
            [
             0.1111111111111111,
             "#46039f"
            ],
            [
             0.2222222222222222,
             "#7201a8"
            ],
            [
             0.3333333333333333,
             "#9c179e"
            ],
            [
             0.4444444444444444,
             "#bd3786"
            ],
            [
             0.5555555555555556,
             "#d8576b"
            ],
            [
             0.6666666666666666,
             "#ed7953"
            ],
            [
             0.7777777777777778,
             "#fb9f3a"
            ],
            [
             0.8888888888888888,
             "#fdca26"
            ],
            [
             1,
             "#f0f921"
            ]
           ],
           "sequentialminus": [
            [
             0,
             "#0d0887"
            ],
            [
             0.1111111111111111,
             "#46039f"
            ],
            [
             0.2222222222222222,
             "#7201a8"
            ],
            [
             0.3333333333333333,
             "#9c179e"
            ],
            [
             0.4444444444444444,
             "#bd3786"
            ],
            [
             0.5555555555555556,
             "#d8576b"
            ],
            [
             0.6666666666666666,
             "#ed7953"
            ],
            [
             0.7777777777777778,
             "#fb9f3a"
            ],
            [
             0.8888888888888888,
             "#fdca26"
            ],
            [
             1,
             "#f0f921"
            ]
           ]
          },
          "colorway": [
           "#636efa",
           "#EF553B",
           "#00cc96",
           "#ab63fa",
           "#FFA15A",
           "#19d3f3",
           "#FF6692",
           "#B6E880",
           "#FF97FF",
           "#FECB52"
          ],
          "font": {
           "color": "#2a3f5f"
          },
          "geo": {
           "bgcolor": "white",
           "lakecolor": "white",
           "landcolor": "#E5ECF6",
           "showlakes": true,
           "showland": true,
           "subunitcolor": "white"
          },
          "hoverlabel": {
           "align": "left"
          },
          "hovermode": "closest",
          "mapbox": {
           "style": "light"
          },
          "paper_bgcolor": "white",
          "plot_bgcolor": "#E5ECF6",
          "polar": {
           "angularaxis": {
            "gridcolor": "white",
            "linecolor": "white",
            "ticks": ""
           },
           "bgcolor": "#E5ECF6",
           "radialaxis": {
            "gridcolor": "white",
            "linecolor": "white",
            "ticks": ""
           }
          },
          "scene": {
           "xaxis": {
            "backgroundcolor": "#E5ECF6",
            "gridcolor": "white",
            "gridwidth": 2,
            "linecolor": "white",
            "showbackground": true,
            "ticks": "",
            "zerolinecolor": "white"
           },
           "yaxis": {
            "backgroundcolor": "#E5ECF6",
            "gridcolor": "white",
            "gridwidth": 2,
            "linecolor": "white",
            "showbackground": true,
            "ticks": "",
            "zerolinecolor": "white"
           },
           "zaxis": {
            "backgroundcolor": "#E5ECF6",
            "gridcolor": "white",
            "gridwidth": 2,
            "linecolor": "white",
            "showbackground": true,
            "ticks": "",
            "zerolinecolor": "white"
           }
          },
          "shapedefaults": {
           "line": {
            "color": "#2a3f5f"
           }
          },
          "ternary": {
           "aaxis": {
            "gridcolor": "white",
            "linecolor": "white",
            "ticks": ""
           },
           "baxis": {
            "gridcolor": "white",
            "linecolor": "white",
            "ticks": ""
           },
           "bgcolor": "#E5ECF6",
           "caxis": {
            "gridcolor": "white",
            "linecolor": "white",
            "ticks": ""
           }
          },
          "title": {
           "x": 0.05
          },
          "xaxis": {
           "automargin": true,
           "gridcolor": "white",
           "linecolor": "white",
           "ticks": "",
           "title": {
            "standoff": 15
           },
           "zerolinecolor": "white",
           "zerolinewidth": 2
          },
          "yaxis": {
           "automargin": true,
           "gridcolor": "white",
           "linecolor": "white",
           "ticks": "",
           "title": {
            "standoff": 15
           },
           "zerolinecolor": "white",
           "zerolinewidth": 2
          }
         }
        },
        "xaxis": {
         "anchor": "y",
         "domain": [
          0,
          1
         ],
         "title": {
          "text": "Time"
         }
        },
        "yaxis": {
         "anchor": "x",
         "categoryarray": [
          "Recommendation system traffic",
          "Cached page traffic",
          "Internal traffic",
          "Social network traffic",
          "Link traffic",
          "Direct traffic",
          "Search engine traffic"
         ],
         "categoryorder": "array",
         "domain": [
          0,
          1
         ],
         "title": {
          "text": "Source"
         }
        }
       }
      },
      "text/html": [
       "<div>                            <div id=\"8a51b067-5b0f-4bcb-96a9-f6619a04acba\" class=\"plotly-graph-div\" style=\"height:525px; width:100%;\"></div>            <script type=\"text/javascript\">                require([\"plotly\"], function(Plotly) {                    window.PLOTLYENV=window.PLOTLYENV || {};                                    if (document.getElementById(\"8a51b067-5b0f-4bcb-96a9-f6619a04acba\")) {                    Plotly.newPlot(                        \"8a51b067-5b0f-4bcb-96a9-f6619a04acba\",                        [{\"hovertemplate\": \"<b>%{hovertext}</b><br><br>Source=%{y}<br>Time=%{x}<br>Robots=%{marker.size}<extra></extra>\", \"hovertext\": [62.0000000022, 63.0, 58.99999999440001, 64.00000000200001, 56.0000000025, 58.000000005, 54.999999992300005, 36.0000000006, 29.000000003199997, 37.999999996700005, 25.999999993499998, 30.000000003100006, 36.0000000024, 31.0000000024, 29.0, 21.0, 17.000000003400004, 5.999999997700001, 7.9999999986, 4.999999999500001, 2.9999999994000004, 2.9999999988, 1.0, 2.9999999998], \"legendgroup\": \"Search engine traffic\", \"marker\": {\"color\": \"#636efa\", \"size\": [62.0000000022, 63.0, 58.99999999440001, 64.00000000200001, 56.0000000025, 58.000000005, 54.999999992300005, 36.0000000006, 29.000000003199997, 37.999999996700005, 25.999999993499998, 30.000000003100006, 36.0000000024, 31.0000000024, 29.0, 21.0, 17.000000003400004, 5.999999997700001, 7.9999999986, 4.999999999500001, 2.9999999994000004, 2.9999999988, 1.0, 2.9999999998], \"sizemode\": \"area\", \"sizeref\": 0.025600000000800004, \"symbol\": \"circle\"}, \"mode\": \"markers\", \"name\": \"Search engine traffic\", \"orientation\": \"v\", \"showlegend\": true, \"type\": \"scatter\", \"x\": [\"16:00\", \"15:00\", \"11:00\", \"13:00\", \"12:00\", \"14:00\", \"17:00\", \"10:00\", \"21:00\", \"19:00\", \"20:00\", \"22:00\", \"09:00\", \"18:00\", \"08:00\", \"23:00\", \"00:00\", \"07:00\", \"01:00\", \"02:00\", \"06:00\", \"03:00\", \"05:00\", \"04:00\"], \"xaxis\": \"x\", \"y\": [\"Search engine traffic\", \"Search engine traffic\", \"Search engine traffic\", \"Search engine traffic\", \"Search engine traffic\", \"Search engine traffic\", \"Search engine traffic\", \"Search engine traffic\", \"Search engine traffic\", \"Search engine traffic\", \"Search engine traffic\", \"Search engine traffic\", \"Search engine traffic\", \"Search engine traffic\", \"Search engine traffic\", \"Search engine traffic\", \"Search engine traffic\", \"Search engine traffic\", \"Search engine traffic\", \"Search engine traffic\", \"Search engine traffic\", \"Search engine traffic\", \"Search engine traffic\", \"Search engine traffic\"], \"yaxis\": \"y\"}, {\"hovertemplate\": \"<b>%{hovertext}</b><br><br>Source=%{y}<br>Time=%{x}<br>Robots=%{marker.size}<extra></extra>\", \"hovertext\": [14.000000001, 14.9999999973, 13.0000000017, 8.9999999994, 9.0000000008, 7.9999999988, 8.000000001, 5.999999999399999, 10.0, 9.0000000012, 11.999999999099998, 7.9999999984, 5.9999999994, 13.0, 8.0000000001, 5.000000000100001, 4.9999999993, 4.0, 3.0, 1.9999999998, 2.9999999997000004, 2.0, 1.9999999998, 2.9999999997000004], \"legendgroup\": \"Direct traffic\", \"marker\": {\"color\": \"#EF553B\", \"size\": [14.000000001, 14.9999999973, 13.0000000017, 8.9999999994, 9.0000000008, 7.9999999988, 8.000000001, 5.999999999399999, 10.0, 9.0000000012, 11.999999999099998, 7.9999999984, 5.9999999994, 13.0, 8.0000000001, 5.000000000100001, 4.9999999993, 4.0, 3.0, 1.9999999998, 2.9999999997000004, 2.0, 1.9999999998, 2.9999999997000004], \"sizemode\": \"area\", \"sizeref\": 0.025600000000800004, \"symbol\": \"circle\"}, \"mode\": \"markers\", \"name\": \"Direct traffic\", \"orientation\": \"v\", \"showlegend\": true, \"type\": \"scatter\", \"x\": [\"14:00\", \"12:00\", \"21:00\", \"18:00\", \"10:00\", \"11:00\", \"16:00\", \"15:00\", \"19:00\", \"17:00\", \"09:00\", \"20:00\", \"22:00\", \"13:00\", \"23:00\", \"08:00\", \"07:00\", \"01:00\", \"05:00\", \"02:00\", \"06:00\", \"00:00\", \"03:00\", \"04:00\"], \"xaxis\": \"x\", \"y\": [\"Direct traffic\", \"Direct traffic\", \"Direct traffic\", \"Direct traffic\", \"Direct traffic\", \"Direct traffic\", \"Direct traffic\", \"Direct traffic\", \"Direct traffic\", \"Direct traffic\", \"Direct traffic\", \"Direct traffic\", \"Direct traffic\", \"Direct traffic\", \"Direct traffic\", \"Direct traffic\", \"Direct traffic\", \"Direct traffic\", \"Direct traffic\", \"Direct traffic\", \"Direct traffic\", \"Direct traffic\", \"Direct traffic\", \"Direct traffic\"], \"yaxis\": \"y\"}, {\"hovertemplate\": \"<b>%{hovertext}</b><br><br>Source=%{y}<br>Time=%{x}<br>Robots=%{marker.size}<extra></extra>\", \"hovertext\": [3.0000000002, 0.9999999996000001, 1.9999999998, 6.0, 2.0, 1.0, 3.0000000002, 1.0000000002999998, 1.9999999998999998, 0.0, 2.0, 2.0, 1.0, 1.0, 0.0, 0.9999999999000001, 0.0, 0.0, 0.0, 1.0, 1.0, 1.0], \"legendgroup\": \"Link traffic\", \"marker\": {\"color\": \"#00cc96\", \"size\": [3.0000000002, 0.9999999996000001, 1.9999999998, 6.0, 2.0, 1.0, 3.0000000002, 1.0000000002999998, 1.9999999998999998, 0.0, 2.0, 2.0, 1.0, 1.0, 0.0, 0.9999999999000001, 0.0, 0.0, 0.0, 1.0, 1.0, 1.0], \"sizemode\": \"area\", \"sizeref\": 0.025600000000800004, \"symbol\": \"circle\"}, \"mode\": \"markers\", \"name\": \"Link traffic\", \"orientation\": \"v\", \"showlegend\": true, \"type\": \"scatter\", \"x\": [\"16:00\", \"15:00\", \"12:00\", \"10:00\", \"17:00\", \"09:00\", \"11:00\", \"13:00\", \"20:00\", \"21:00\", \"14:00\", \"06:00\", \"08:00\", \"18:00\", \"00:00\", \"07:00\", \"01:00\", \"02:00\", \"19:00\", \"22:00\", \"23:00\", \"03:00\"], \"xaxis\": \"x\", \"y\": [\"Link traffic\", \"Link traffic\", \"Link traffic\", \"Link traffic\", \"Link traffic\", \"Link traffic\", \"Link traffic\", \"Link traffic\", \"Link traffic\", \"Link traffic\", \"Link traffic\", \"Link traffic\", \"Link traffic\", \"Link traffic\", \"Link traffic\", \"Link traffic\", \"Link traffic\", \"Link traffic\", \"Link traffic\", \"Link traffic\", \"Link traffic\", \"Link traffic\"], \"yaxis\": \"y\"}, {\"hovertemplate\": \"<b>%{hovertext}</b><br><br>Source=%{y}<br>Time=%{x}<br>Robots=%{marker.size}<extra></extra>\", \"hovertext\": [0.9999999999, 1.0, 1.9999999998999998, 0.0, 3.0, 0.0, 0.0, 0.0, 1.0, 0.9999999999000001, 0.9999999999000001, 0.0, 0.0, 0.0, 0.0, 0.0, 1.0, 0.0, 0.0, 0.0, 0.0, 0.0], \"legendgroup\": \"Social network traffic\", \"marker\": {\"color\": \"#ab63fa\", \"size\": [0.9999999999, 1.0, 1.9999999998999998, 0.0, 3.0, 0.0, 0.0, 0.0, 1.0, 0.9999999999000001, 0.9999999999000001, 0.0, 0.0, 0.0, 0.0, 0.0, 1.0, 0.0, 0.0, 0.0, 0.0, 0.0], \"sizemode\": \"area\", \"sizeref\": 0.025600000000800004, \"symbol\": \"circle\"}, \"mode\": \"markers\", \"name\": \"Social network traffic\", \"orientation\": \"v\", \"showlegend\": true, \"type\": \"scatter\", \"x\": [\"09:00\", \"21:00\", \"13:00\", \"19:00\", \"22:00\", \"18:00\", \"20:00\", \"06:00\", \"15:00\", \"08:00\", \"12:00\", \"14:00\", \"23:00\", \"05:00\", \"07:00\", \"11:00\", \"16:00\", \"17:00\", \"01:00\", \"02:00\", \"04:00\", \"10:00\"], \"xaxis\": \"x\", \"y\": [\"Social network traffic\", \"Social network traffic\", \"Social network traffic\", \"Social network traffic\", \"Social network traffic\", \"Social network traffic\", \"Social network traffic\", \"Social network traffic\", \"Social network traffic\", \"Social network traffic\", \"Social network traffic\", \"Social network traffic\", \"Social network traffic\", \"Social network traffic\", \"Social network traffic\", \"Social network traffic\", \"Social network traffic\", \"Social network traffic\", \"Social network traffic\", \"Social network traffic\", \"Social network traffic\", \"Social network traffic\"], \"yaxis\": \"y\"}, {\"hovertemplate\": \"<b>%{hovertext}</b><br><br>Source=%{y}<br>Time=%{x}<br>Robots=%{marker.size}<extra></extra>\", \"hovertext\": [1.0, 1.0, 0.0, 0.0, 0.0, 0.0, 1.0, 0.0], \"legendgroup\": \"Internal traffic\", \"marker\": {\"color\": \"#FFA15A\", \"size\": [1.0, 1.0, 0.0, 0.0, 0.0, 0.0, 1.0, 0.0], \"sizemode\": \"area\", \"sizeref\": 0.025600000000800004, \"symbol\": \"circle\"}, \"mode\": \"markers\", \"name\": \"Internal traffic\", \"orientation\": \"v\", \"showlegend\": true, \"type\": \"scatter\", \"x\": [\"09:00\", \"12:00\", \"02:00\", \"08:00\", \"11:00\", \"14:00\", \"16:00\", \"17:00\"], \"xaxis\": \"x\", \"y\": [\"Internal traffic\", \"Internal traffic\", \"Internal traffic\", \"Internal traffic\", \"Internal traffic\", \"Internal traffic\", \"Internal traffic\", \"Internal traffic\"], \"yaxis\": \"y\"}, {\"hovertemplate\": \"<b>%{hovertext}</b><br><br>Source=%{y}<br>Time=%{x}<br>Robots=%{marker.size}<extra></extra>\", \"hovertext\": [1.0, 0.0, 0.0, 0.0, 0.0], \"legendgroup\": \"Cached page traffic\", \"marker\": {\"color\": \"#19d3f3\", \"size\": [1.0, 0.0, 0.0, 0.0, 0.0], \"sizemode\": \"area\", \"sizeref\": 0.025600000000800004, \"symbol\": \"circle\"}, \"mode\": \"markers\", \"name\": \"Cached page traffic\", \"orientation\": \"v\", \"showlegend\": true, \"type\": \"scatter\", \"x\": [\"01:00\", \"08:00\", \"11:00\", \"12:00\", \"17:00\"], \"xaxis\": \"x\", \"y\": [\"Cached page traffic\", \"Cached page traffic\", \"Cached page traffic\", \"Cached page traffic\", \"Cached page traffic\"], \"yaxis\": \"y\"}, {\"hovertemplate\": \"<b>%{hovertext}</b><br><br>Source=%{y}<br>Time=%{x}<br>Robots=%{marker.size}<extra></extra>\", \"hovertext\": [0.0, 0.0], \"legendgroup\": \"Recommendation system traffic\", \"marker\": {\"color\": \"#FF6692\", \"size\": [0.0, 0.0], \"sizemode\": \"area\", \"sizeref\": 0.025600000000800004, \"symbol\": \"circle\"}, \"mode\": \"markers\", \"name\": \"Recommendation system traffic\", \"orientation\": \"v\", \"showlegend\": true, \"type\": \"scatter\", \"x\": [\"08:00\", \"14:00\"], \"xaxis\": \"x\", \"y\": [\"Recommendation system traffic\", \"Recommendation system traffic\"], \"yaxis\": \"y\"}],                        {\"legend\": {\"itemsizing\": \"constant\", \"title\": {\"text\": \"Source\"}, \"tracegroupgap\": 0}, \"margin\": {\"t\": 60}, \"template\": {\"data\": {\"bar\": [{\"error_x\": {\"color\": \"#2a3f5f\"}, \"error_y\": {\"color\": \"#2a3f5f\"}, \"marker\": {\"line\": {\"color\": \"#E5ECF6\", \"width\": 0.5}}, \"type\": \"bar\"}], \"barpolar\": [{\"marker\": {\"line\": {\"color\": \"#E5ECF6\", \"width\": 0.5}}, \"type\": \"barpolar\"}], \"carpet\": [{\"aaxis\": {\"endlinecolor\": \"#2a3f5f\", \"gridcolor\": \"white\", \"linecolor\": \"white\", \"minorgridcolor\": \"white\", \"startlinecolor\": \"#2a3f5f\"}, \"baxis\": {\"endlinecolor\": \"#2a3f5f\", \"gridcolor\": \"white\", \"linecolor\": \"white\", \"minorgridcolor\": \"white\", \"startlinecolor\": \"#2a3f5f\"}, \"type\": \"carpet\"}], \"choropleth\": [{\"colorbar\": {\"outlinewidth\": 0, \"ticks\": \"\"}, \"type\": \"choropleth\"}], \"contour\": [{\"colorbar\": {\"outlinewidth\": 0, \"ticks\": \"\"}, \"colorscale\": [[0.0, \"#0d0887\"], [0.1111111111111111, \"#46039f\"], [0.2222222222222222, \"#7201a8\"], [0.3333333333333333, \"#9c179e\"], [0.4444444444444444, \"#bd3786\"], [0.5555555555555556, \"#d8576b\"], [0.6666666666666666, \"#ed7953\"], [0.7777777777777778, \"#fb9f3a\"], [0.8888888888888888, \"#fdca26\"], [1.0, \"#f0f921\"]], \"type\": \"contour\"}], \"contourcarpet\": [{\"colorbar\": {\"outlinewidth\": 0, \"ticks\": \"\"}, \"type\": \"contourcarpet\"}], \"heatmap\": [{\"colorbar\": {\"outlinewidth\": 0, \"ticks\": \"\"}, \"colorscale\": [[0.0, \"#0d0887\"], [0.1111111111111111, \"#46039f\"], [0.2222222222222222, \"#7201a8\"], [0.3333333333333333, \"#9c179e\"], [0.4444444444444444, \"#bd3786\"], [0.5555555555555556, \"#d8576b\"], [0.6666666666666666, \"#ed7953\"], [0.7777777777777778, \"#fb9f3a\"], [0.8888888888888888, \"#fdca26\"], [1.0, \"#f0f921\"]], \"type\": \"heatmap\"}], \"heatmapgl\": [{\"colorbar\": {\"outlinewidth\": 0, \"ticks\": \"\"}, \"colorscale\": [[0.0, \"#0d0887\"], [0.1111111111111111, \"#46039f\"], [0.2222222222222222, \"#7201a8\"], [0.3333333333333333, \"#9c179e\"], [0.4444444444444444, \"#bd3786\"], [0.5555555555555556, \"#d8576b\"], [0.6666666666666666, \"#ed7953\"], [0.7777777777777778, \"#fb9f3a\"], [0.8888888888888888, \"#fdca26\"], [1.0, \"#f0f921\"]], \"type\": \"heatmapgl\"}], \"histogram\": [{\"marker\": {\"colorbar\": {\"outlinewidth\": 0, \"ticks\": \"\"}}, \"type\": \"histogram\"}], \"histogram2d\": [{\"colorbar\": {\"outlinewidth\": 0, \"ticks\": \"\"}, \"colorscale\": [[0.0, \"#0d0887\"], [0.1111111111111111, \"#46039f\"], [0.2222222222222222, \"#7201a8\"], [0.3333333333333333, \"#9c179e\"], [0.4444444444444444, \"#bd3786\"], [0.5555555555555556, \"#d8576b\"], [0.6666666666666666, \"#ed7953\"], [0.7777777777777778, \"#fb9f3a\"], [0.8888888888888888, \"#fdca26\"], [1.0, \"#f0f921\"]], \"type\": \"histogram2d\"}], \"histogram2dcontour\": [{\"colorbar\": {\"outlinewidth\": 0, \"ticks\": \"\"}, \"colorscale\": [[0.0, \"#0d0887\"], [0.1111111111111111, \"#46039f\"], [0.2222222222222222, \"#7201a8\"], [0.3333333333333333, \"#9c179e\"], [0.4444444444444444, \"#bd3786\"], [0.5555555555555556, \"#d8576b\"], [0.6666666666666666, \"#ed7953\"], [0.7777777777777778, \"#fb9f3a\"], [0.8888888888888888, \"#fdca26\"], [1.0, \"#f0f921\"]], \"type\": \"histogram2dcontour\"}], \"mesh3d\": [{\"colorbar\": {\"outlinewidth\": 0, \"ticks\": \"\"}, \"type\": \"mesh3d\"}], \"parcoords\": [{\"line\": {\"colorbar\": {\"outlinewidth\": 0, \"ticks\": \"\"}}, \"type\": \"parcoords\"}], \"pie\": [{\"automargin\": true, \"type\": \"pie\"}], \"scatter\": [{\"marker\": {\"colorbar\": {\"outlinewidth\": 0, \"ticks\": \"\"}}, \"type\": \"scatter\"}], \"scatter3d\": [{\"line\": {\"colorbar\": {\"outlinewidth\": 0, \"ticks\": \"\"}}, \"marker\": {\"colorbar\": {\"outlinewidth\": 0, \"ticks\": \"\"}}, \"type\": \"scatter3d\"}], \"scattercarpet\": [{\"marker\": {\"colorbar\": {\"outlinewidth\": 0, \"ticks\": \"\"}}, \"type\": \"scattercarpet\"}], \"scattergeo\": [{\"marker\": {\"colorbar\": {\"outlinewidth\": 0, \"ticks\": \"\"}}, \"type\": \"scattergeo\"}], \"scattergl\": [{\"marker\": {\"colorbar\": {\"outlinewidth\": 0, \"ticks\": \"\"}}, \"type\": \"scattergl\"}], \"scattermapbox\": [{\"marker\": {\"colorbar\": {\"outlinewidth\": 0, \"ticks\": \"\"}}, \"type\": \"scattermapbox\"}], \"scatterpolar\": [{\"marker\": {\"colorbar\": {\"outlinewidth\": 0, \"ticks\": \"\"}}, \"type\": \"scatterpolar\"}], \"scatterpolargl\": [{\"marker\": {\"colorbar\": {\"outlinewidth\": 0, \"ticks\": \"\"}}, \"type\": \"scatterpolargl\"}], \"scatterternary\": [{\"marker\": {\"colorbar\": {\"outlinewidth\": 0, \"ticks\": \"\"}}, \"type\": \"scatterternary\"}], \"surface\": [{\"colorbar\": {\"outlinewidth\": 0, \"ticks\": \"\"}, \"colorscale\": [[0.0, \"#0d0887\"], [0.1111111111111111, \"#46039f\"], [0.2222222222222222, \"#7201a8\"], [0.3333333333333333, \"#9c179e\"], [0.4444444444444444, \"#bd3786\"], [0.5555555555555556, \"#d8576b\"], [0.6666666666666666, \"#ed7953\"], [0.7777777777777778, \"#fb9f3a\"], [0.8888888888888888, \"#fdca26\"], [1.0, \"#f0f921\"]], \"type\": \"surface\"}], \"table\": [{\"cells\": {\"fill\": {\"color\": \"#EBF0F8\"}, \"line\": {\"color\": \"white\"}}, \"header\": {\"fill\": {\"color\": \"#C8D4E3\"}, \"line\": {\"color\": \"white\"}}, \"type\": \"table\"}]}, \"layout\": {\"annotationdefaults\": {\"arrowcolor\": \"#2a3f5f\", \"arrowhead\": 0, \"arrowwidth\": 1}, \"autotypenumbers\": \"strict\", \"coloraxis\": {\"colorbar\": {\"outlinewidth\": 0, \"ticks\": \"\"}}, \"colorscale\": {\"diverging\": [[0, \"#8e0152\"], [0.1, \"#c51b7d\"], [0.2, \"#de77ae\"], [0.3, \"#f1b6da\"], [0.4, \"#fde0ef\"], [0.5, \"#f7f7f7\"], [0.6, \"#e6f5d0\"], [0.7, \"#b8e186\"], [0.8, \"#7fbc41\"], [0.9, \"#4d9221\"], [1, \"#276419\"]], \"sequential\": [[0.0, \"#0d0887\"], [0.1111111111111111, \"#46039f\"], [0.2222222222222222, \"#7201a8\"], [0.3333333333333333, \"#9c179e\"], [0.4444444444444444, \"#bd3786\"], [0.5555555555555556, \"#d8576b\"], [0.6666666666666666, \"#ed7953\"], [0.7777777777777778, \"#fb9f3a\"], [0.8888888888888888, \"#fdca26\"], [1.0, \"#f0f921\"]], \"sequentialminus\": [[0.0, \"#0d0887\"], [0.1111111111111111, \"#46039f\"], [0.2222222222222222, \"#7201a8\"], [0.3333333333333333, \"#9c179e\"], [0.4444444444444444, \"#bd3786\"], [0.5555555555555556, \"#d8576b\"], [0.6666666666666666, \"#ed7953\"], [0.7777777777777778, \"#fb9f3a\"], [0.8888888888888888, \"#fdca26\"], [1.0, \"#f0f921\"]]}, \"colorway\": [\"#636efa\", \"#EF553B\", \"#00cc96\", \"#ab63fa\", \"#FFA15A\", \"#19d3f3\", \"#FF6692\", \"#B6E880\", \"#FF97FF\", \"#FECB52\"], \"font\": {\"color\": \"#2a3f5f\"}, \"geo\": {\"bgcolor\": \"white\", \"lakecolor\": \"white\", \"landcolor\": \"#E5ECF6\", \"showlakes\": true, \"showland\": true, \"subunitcolor\": \"white\"}, \"hoverlabel\": {\"align\": \"left\"}, \"hovermode\": \"closest\", \"mapbox\": {\"style\": \"light\"}, \"paper_bgcolor\": \"white\", \"plot_bgcolor\": \"#E5ECF6\", \"polar\": {\"angularaxis\": {\"gridcolor\": \"white\", \"linecolor\": \"white\", \"ticks\": \"\"}, \"bgcolor\": \"#E5ECF6\", \"radialaxis\": {\"gridcolor\": \"white\", \"linecolor\": \"white\", \"ticks\": \"\"}}, \"scene\": {\"xaxis\": {\"backgroundcolor\": \"#E5ECF6\", \"gridcolor\": \"white\", \"gridwidth\": 2, \"linecolor\": \"white\", \"showbackground\": true, \"ticks\": \"\", \"zerolinecolor\": \"white\"}, \"yaxis\": {\"backgroundcolor\": \"#E5ECF6\", \"gridcolor\": \"white\", \"gridwidth\": 2, \"linecolor\": \"white\", \"showbackground\": true, \"ticks\": \"\", \"zerolinecolor\": \"white\"}, \"zaxis\": {\"backgroundcolor\": \"#E5ECF6\", \"gridcolor\": \"white\", \"gridwidth\": 2, \"linecolor\": \"white\", \"showbackground\": true, \"ticks\": \"\", \"zerolinecolor\": \"white\"}}, \"shapedefaults\": {\"line\": {\"color\": \"#2a3f5f\"}}, \"ternary\": {\"aaxis\": {\"gridcolor\": \"white\", \"linecolor\": \"white\", \"ticks\": \"\"}, \"baxis\": {\"gridcolor\": \"white\", \"linecolor\": \"white\", \"ticks\": \"\"}, \"bgcolor\": \"#E5ECF6\", \"caxis\": {\"gridcolor\": \"white\", \"linecolor\": \"white\", \"ticks\": \"\"}}, \"title\": {\"x\": 0.05}, \"xaxis\": {\"automargin\": true, \"gridcolor\": \"white\", \"linecolor\": \"white\", \"ticks\": \"\", \"title\": {\"standoff\": 15}, \"zerolinecolor\": \"white\", \"zerolinewidth\": 2}, \"yaxis\": {\"automargin\": true, \"gridcolor\": \"white\", \"linecolor\": \"white\", \"ticks\": \"\", \"title\": {\"standoff\": 15}, \"zerolinecolor\": \"white\", \"zerolinewidth\": 2}}}, \"xaxis\": {\"anchor\": \"y\", \"domain\": [0.0, 1.0], \"title\": {\"text\": \"Time\"}}, \"yaxis\": {\"anchor\": \"x\", \"categoryarray\": [\"Recommendation system traffic\", \"Cached page traffic\", \"Internal traffic\", \"Social network traffic\", \"Link traffic\", \"Direct traffic\", \"Search engine traffic\"], \"categoryorder\": \"array\", \"domain\": [0.0, 1.0], \"title\": {\"text\": \"Source\"}}},                        {\"responsive\": true}                    ).then(function(){\n",
       "                            \n",
       "var gd = document.getElementById('8a51b067-5b0f-4bcb-96a9-f6619a04acba');\n",
       "var x = new MutationObserver(function (mutations, observer) {{\n",
       "        var display = window.getComputedStyle(gd).display;\n",
       "        if (!display || display === 'none') {{\n",
       "            console.log([gd, 'removed!']);\n",
       "            Plotly.purge(gd);\n",
       "            observer.disconnect();\n",
       "        }}\n",
       "}});\n",
       "\n",
       "// Listen for the removal of the full notebook cells\n",
       "var notebookContainer = gd.closest('#notebook-container');\n",
       "if (notebookContainer) {{\n",
       "    x.observe(notebookContainer, {childList: true});\n",
       "}}\n",
       "\n",
       "// Listen for the clearing of the current output cell\n",
       "var outputEl = gd.closest('.output');\n",
       "if (outputEl) {{\n",
       "    x.observe(outputEl, {childList: true});\n",
       "}}\n",
       "\n",
       "                        })                };                });            </script>        </div>"
      ]
     },
     "metadata": {},
     "output_type": "display_data"
    }
   ],
   "source": [
    "# Additionally, let's visualize the number of visits by robots (Robots) at different times of the day (Time),\n",
    "# in terms of the traffic source (Source):\n",
    "fig = px.scatter(metrika_df2, x='Time', y='Source', \n",
    "                size='Robots', hover_name='Robots',\n",
    "                color='Source', size_max=50\n",
    "                )\n",
    "fig.show()"
   ]
  },
  {
   "cell_type": "markdown",
   "metadata": {},
   "source": [
    "### Conclusion 3 (based on visualizations):\n",
    "Based on the results of our visualizations, visits by robots to the website most often come from the following traffic source:\n",
    "- Search engine traffic: 739 visits, which is ~76.82% of all robot visits from all traffic sources or ~22.17% of all robot and human visits only for this particular traffic source (3334 - 100%);\n",
    "- Direct traffic: 177 visits, which is ~18.40% of all robot visits from all traffic sources or ~23.38% of all robot and human visits only for this particular traffic source (757 - 100%);\n",
    "- Link traffic: 31 visits, which is ~3.22% of all visits of robots from all traffic sources or ~24.60% of all visits of robots and humans only for this particular traffic source (126 - 100%)."
   ]
  },
  {
   "cell_type": "code",
   "execution_count": null,
   "metadata": {},
   "outputs": [],
   "source": []
  },
  {
   "cell_type": "code",
   "execution_count": null,
   "metadata": {},
   "outputs": [],
   "source": []
  },
  {
   "cell_type": "code",
   "execution_count": null,
   "metadata": {},
   "outputs": [],
   "source": []
  },
  {
   "cell_type": "code",
   "execution_count": null,
   "metadata": {},
   "outputs": [],
   "source": []
  },
  {
   "cell_type": "code",
   "execution_count": null,
   "metadata": {},
   "outputs": [],
   "source": []
  },
  {
   "cell_type": "code",
   "execution_count": null,
   "metadata": {},
   "outputs": [],
   "source": []
  },
  {
   "cell_type": "code",
   "execution_count": null,
   "metadata": {},
   "outputs": [],
   "source": []
  },
  {
   "cell_type": "code",
   "execution_count": null,
   "metadata": {},
   "outputs": [],
   "source": []
  },
  {
   "cell_type": "code",
   "execution_count": null,
   "metadata": {},
   "outputs": [],
   "source": []
  },
  {
   "cell_type": "code",
   "execution_count": null,
   "metadata": {},
   "outputs": [],
   "source": []
  },
  {
   "cell_type": "code",
   "execution_count": null,
   "metadata": {},
   "outputs": [],
   "source": []
  },
  {
   "cell_type": "code",
   "execution_count": null,
   "metadata": {},
   "outputs": [],
   "source": []
  },
  {
   "cell_type": "code",
   "execution_count": null,
   "metadata": {},
   "outputs": [],
   "source": []
  },
  {
   "cell_type": "code",
   "execution_count": null,
   "metadata": {},
   "outputs": [],
   "source": []
  },
  {
   "cell_type": "code",
   "execution_count": null,
   "metadata": {},
   "outputs": [],
   "source": []
  },
  {
   "cell_type": "code",
   "execution_count": null,
   "metadata": {},
   "outputs": [],
   "source": []
  },
  {
   "cell_type": "code",
   "execution_count": null,
   "metadata": {},
   "outputs": [],
   "source": []
  },
  {
   "cell_type": "code",
   "execution_count": null,
   "metadata": {},
   "outputs": [],
   "source": []
  },
  {
   "cell_type": "code",
   "execution_count": null,
   "metadata": {},
   "outputs": [],
   "source": []
  },
  {
   "cell_type": "code",
   "execution_count": null,
   "metadata": {},
   "outputs": [],
   "source": []
  },
  {
   "cell_type": "code",
   "execution_count": null,
   "metadata": {},
   "outputs": [],
   "source": []
  },
  {
   "cell_type": "code",
   "execution_count": null,
   "metadata": {},
   "outputs": [],
   "source": []
  },
  {
   "cell_type": "code",
   "execution_count": null,
   "metadata": {},
   "outputs": [],
   "source": []
  },
  {
   "cell_type": "code",
   "execution_count": null,
   "metadata": {},
   "outputs": [],
   "source": []
  },
  {
   "cell_type": "code",
   "execution_count": null,
   "metadata": {},
   "outputs": [],
   "source": []
  },
  {
   "cell_type": "code",
   "execution_count": null,
   "metadata": {},
   "outputs": [],
   "source": []
  },
  {
   "cell_type": "code",
   "execution_count": null,
   "metadata": {},
   "outputs": [],
   "source": []
  },
  {
   "cell_type": "code",
   "execution_count": null,
   "metadata": {},
   "outputs": [],
   "source": []
  },
  {
   "cell_type": "code",
   "execution_count": null,
   "metadata": {},
   "outputs": [],
   "source": []
  },
  {
   "cell_type": "code",
   "execution_count": null,
   "metadata": {},
   "outputs": [],
   "source": []
  },
  {
   "cell_type": "code",
   "execution_count": null,
   "metadata": {},
   "outputs": [],
   "source": []
  },
  {
   "cell_type": "code",
   "execution_count": null,
   "metadata": {},
   "outputs": [],
   "source": []
  },
  {
   "cell_type": "code",
   "execution_count": null,
   "metadata": {},
   "outputs": [],
   "source": []
  },
  {
   "cell_type": "code",
   "execution_count": null,
   "metadata": {},
   "outputs": [],
   "source": []
  },
  {
   "cell_type": "code",
   "execution_count": null,
   "metadata": {},
   "outputs": [],
   "source": []
  },
  {
   "cell_type": "code",
   "execution_count": null,
   "metadata": {},
   "outputs": [],
   "source": []
  },
  {
   "cell_type": "code",
   "execution_count": null,
   "metadata": {},
   "outputs": [],
   "source": []
  },
  {
   "cell_type": "code",
   "execution_count": null,
   "metadata": {},
   "outputs": [],
   "source": []
  },
  {
   "cell_type": "code",
   "execution_count": null,
   "metadata": {},
   "outputs": [],
   "source": []
  },
  {
   "cell_type": "code",
   "execution_count": null,
   "metadata": {},
   "outputs": [],
   "source": []
  },
  {
   "cell_type": "code",
   "execution_count": null,
   "metadata": {},
   "outputs": [],
   "source": []
  },
  {
   "cell_type": "code",
   "execution_count": null,
   "metadata": {},
   "outputs": [],
   "source": []
  },
  {
   "cell_type": "code",
   "execution_count": null,
   "metadata": {},
   "outputs": [],
   "source": []
  },
  {
   "cell_type": "code",
   "execution_count": null,
   "metadata": {},
   "outputs": [],
   "source": []
  },
  {
   "cell_type": "code",
   "execution_count": null,
   "metadata": {},
   "outputs": [],
   "source": []
  },
  {
   "cell_type": "code",
   "execution_count": null,
   "metadata": {},
   "outputs": [],
   "source": []
  },
  {
   "cell_type": "code",
   "execution_count": null,
   "metadata": {},
   "outputs": [],
   "source": []
  },
  {
   "cell_type": "code",
   "execution_count": null,
   "metadata": {},
   "outputs": [],
   "source": []
  },
  {
   "cell_type": "code",
   "execution_count": null,
   "metadata": {},
   "outputs": [],
   "source": []
  }
 ],
 "metadata": {
  "kernelspec": {
   "display_name": "Python 3",
   "language": "python",
   "name": "python3"
  },
  "language_info": {
   "codemirror_mode": {
    "name": "ipython",
    "version": 3
   },
   "file_extension": ".py",
   "mimetype": "text/x-python",
   "name": "python",
   "nbconvert_exporter": "python",
   "pygments_lexer": "ipython3",
   "version": "3.8.5"
  }
 },
 "nbformat": 4,
 "nbformat_minor": 4
}
